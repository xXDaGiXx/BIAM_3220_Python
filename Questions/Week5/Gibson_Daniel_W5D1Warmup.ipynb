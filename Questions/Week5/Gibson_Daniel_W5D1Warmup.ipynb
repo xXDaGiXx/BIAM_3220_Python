{
 "cells": [
  {
   "cell_type": "markdown",
   "metadata": {},
   "source": [
    "Create a function to calculate the sum of a sequence of numbers from a lower bound and through an upper bound\n",
    " \n",
    "\n",
    "Specifications: your program should:\n",
    "1. Create a function named, summation\n",
    "2. Prompt the user to enter the lower bound and upper bound of a range of numbers to sum\n",
    "2. Calculate the sum of all numbers between the lower and upper bound \n",
    " The upper and lower bounds are inclusive"
   ]
  },
  {
   "cell_type": "code",
   "execution_count": 2,
   "metadata": {},
   "outputs": [],
   "source": [
    "def summation():\n",
    "    summ = 0\n",
    "    lowB = int(input('What is your lower bound? '))\n",
    "    upperB = int(input('What is your upper bound? '))\n",
    "    return sum(range(lowB,upperB+1))"
   ]
  },
  {
   "cell_type": "code",
   "execution_count": 7,
   "metadata": {},
   "outputs": [
    {
     "name": "stdout",
     "output_type": "stream",
     "text": [
      "What is your lower bound? 1\n",
      "What is your upper bound? 10\n"
     ]
    },
    {
     "data": {
      "text/plain": [
       "55"
      ]
     },
     "execution_count": 7,
     "metadata": {},
     "output_type": "execute_result"
    }
   ],
   "source": [
    "summation()"
   ]
  },
  {
   "cell_type": "markdown",
   "metadata": {},
   "source": [
    "List Append Square Function\n",
    "Write a function named, `square`, that when passed a list of numbers as the parameter will return a list of squares of the integers stored in the original list. \n",
    "For example, your function when passed the list [1,2,3,4] would return the list [1,4,9,16]."
   ]
  },
  {
   "cell_type": "code",
   "execution_count": 9,
   "metadata": {},
   "outputs": [],
   "source": [
    "def square(aList):\n",
    "    for i in aList:\n",
    "        aList[i-1] = pow(i,2)\n",
    "    return aList"
   ]
  },
  {
   "cell_type": "code",
   "execution_count": 11,
   "metadata": {},
   "outputs": [
    {
     "data": {
      "text/plain": [
       "[1, 4, 9, 16]"
      ]
     },
     "execution_count": 11,
     "metadata": {},
     "output_type": "execute_result"
    }
   ],
   "source": [
    "square([1,2,3,4])"
   ]
  },
  {
   "cell_type": "markdown",
   "metadata": {},
   "source": [
    "Task: Create a function to return customer level\n",
    "1. Create a function for returning a customer level based on revenue. The customer levels are:\n",
    "Bronze (<250,000 in revenue)\n",
    "Silver (>=250,000 but < 500,000 in revenue)\n",
    "Gold (>=500,000 but < 750,000 in revenue)\n",
    "Platinum (>=750,000 in revenue)\n",
    " \n",
    "\n",
    "2. Call your function 4 times and pass these values to it to check that your function returns the correct output:\n",
    "200,000\n",
    "300,000\n",
    "600,000\n",
    "1,000,000"
   ]
  },
  {
   "cell_type": "code",
   "execution_count": 13,
   "metadata": {},
   "outputs": [],
   "source": [
    "def custLvl(rev):\n",
    "    if rev < 250000:\n",
    "        return('Bronze')\n",
    "    elif rev >= 250000 and rev < 500000:\n",
    "        return('Silver')\n",
    "    elif rev >= 500000 and rev < 750000:\n",
    "        return('Gold')\n",
    "    else:\n",
    "        return('Platinum')"
   ]
  },
  {
   "cell_type": "code",
   "execution_count": 14,
   "metadata": {},
   "outputs": [
    {
     "name": "stdout",
     "output_type": "stream",
     "text": [
      "Bronze\n",
      "Silver\n",
      "Gold\n",
      "Platinum\n"
     ]
    }
   ],
   "source": [
    "print(custLvl(200000))\n",
    "\n",
    "print(custLvl(300000))\n",
    "\n",
    "print(custLvl(600000))\n",
    "\n",
    "print(custLvl(1000000))"
   ]
  }
 ],
 "metadata": {
  "kernelspec": {
   "display_name": "Python 3",
   "language": "python",
   "name": "python3"
  },
  "language_info": {
   "codemirror_mode": {
    "name": "ipython",
    "version": 3
   },
   "file_extension": ".py",
   "mimetype": "text/x-python",
   "name": "python",
   "nbconvert_exporter": "python",
   "pygments_lexer": "ipython3",
   "version": "3.8.3"
  }
 },
 "nbformat": 4,
 "nbformat_minor": 4
}
