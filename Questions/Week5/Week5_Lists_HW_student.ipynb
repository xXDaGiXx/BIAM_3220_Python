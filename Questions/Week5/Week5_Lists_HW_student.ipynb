{
 "cells": [
  {
   "cell_type": "markdown",
   "metadata": {},
   "source": [
    "# Week 5 Homework\n",
    "## Practice with lists and functions"
   ]
  },
  {
   "cell_type": "markdown",
   "metadata": {},
   "source": [
    "## Problem 5.1\n",
    "### Rewrite our Magic 8 Ball program from the prior lesson using a list to store the possible responses"
   ]
  },
  {
   "cell_type": "code",
   "execution_count": 4,
   "metadata": {},
   "outputs": [],
   "source": [
    "def mBall():\n",
    "    answers = ['It is certain','It is decidely so','Yes','Reply hazy try again',\n",
    "               'Ask again later','Concentrate and ask again','My reply is no','Very Doubtful']\n",
    "    ans = int(input('Pick a number 1-8: '))\n",
    "    return answers[ans-1]\n",
    "    "
   ]
  },
  {
   "cell_type": "code",
   "execution_count": 9,
   "metadata": {},
   "outputs": [
    {
     "name": "stdout",
     "output_type": "stream",
     "text": [
      "Pick a number 1-8: 7\n"
     ]
    },
    {
     "data": {
      "text/plain": [
       "'My reply is no'"
      ]
     },
     "execution_count": 9,
     "metadata": {},
     "output_type": "execute_result"
    }
   ],
   "source": [
    "mBall()"
   ]
  },
  {
   "cell_type": "markdown",
   "metadata": {},
   "source": [
    "## Problem 5.2\n",
    "### Write a function that takes a list value as an argument and does the following:\n",
    "1. Prints list items to the screen with all the items in the list separated by a comma and a space except for the last item\n",
    "2. Insert, *and*, before the last item in the list\n",
    "\n",
    "For example:\n",
    "\n",
    "`list = ['apples','bananas', 'tofu', 'cats']`\n",
    "\n",
    "Your function would take, `list`, as a parameter:\n",
    "\n",
    "`listFunction(list)`\n",
    "\n",
    "And print in the following format:\n",
    "\n",
    "`apples, bananas, tofu, and cats`\n",
    "\n",
    "Your function should be able to take any list with any number of items and print as formated above. "
   ]
  },
  {
   "cell_type": "markdown",
   "metadata": {},
   "source": [
    "### Define your function the next cell"
   ]
  },
  {
   "cell_type": "code",
   "execution_count": 1,
   "metadata": {},
   "outputs": [],
   "source": [
    "def listFunction(aList):\n",
    "    x = 0\n",
    "    for i in aList:\n",
    "        if x < (len(aList)-1):\n",
    "            print(i,end = ', ')\n",
    "            x += 1\n",
    "    print(f'and {aList[len(aList)-1]}')"
   ]
  },
  {
   "cell_type": "markdown",
   "metadata": {},
   "source": [
    "### Call you function in the next and pass the example list"
   ]
  },
  {
   "cell_type": "code",
   "execution_count": 2,
   "metadata": {},
   "outputs": [
    {
     "name": "stdout",
     "output_type": "stream",
     "text": [
      "apples, bananas, tofu, and cats\n"
     ]
    }
   ],
   "source": [
    "listFunction(['apples','bananas', 'tofu', 'cats'])"
   ]
  }
 ],
 "metadata": {
  "kernelspec": {
   "display_name": "Python 3",
   "language": "python",
   "name": "python3"
  },
  "language_info": {
   "codemirror_mode": {
    "name": "ipython",
    "version": 3
   },
   "file_extension": ".py",
   "mimetype": "text/x-python",
   "name": "python",
   "nbconvert_exporter": "python",
   "pygments_lexer": "ipython3",
   "version": "3.8.3"
  }
 },
 "nbformat": 4,
 "nbformat_minor": 2
}
