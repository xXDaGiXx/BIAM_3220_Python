{
 "cells": [
  {
   "cell_type": "markdown",
   "metadata": {},
   "source": [
    "# BAIM 3220: Introduction to Python\n",
    "#### Midterm Review Lab: Python Fundamentals: Variables, Flow Control, Functions, Data Structures\n",
    ">- This lab should help prepare you for the midterm\n",
    ">- The midterm is designed to assess your understanding of Python programming fundamentals and will cover:\n",
    ">>- Variables, Flow Control, Functions, and Data Structures\n",
    ">- In addition to these review exercises another good strategy for midterm preparation is to go back over the markdown notes and quizzes and make sure you can write the code from examples and past quizzes\n",
    ">>- A potentially useful strategy would be to make copies of prior notes and quizzes, then delete all the code in those copied notebooks, then try to rework the problems without looking at your notes.\n",
    ">>- Resist the urge to look back at notes until you have attempted the problems on your own. The less you have to rely on your notes or looking things up online the better your chances of finishing all the problems. You will likely experience a time crunch if you rely on your notes or looking things up too much.  \n",
    "\n",
    "### Some Notes on the Midterm\n",
    ">- Time: you will have 80 minutes to complete the exam AND upload your .ipynb file to Canvas\n",
    ">>- Late submissions will receive a 10% deduction in points up to 5 minutes late\n",
    ">>- You must submit any late notebooks to the quiz comments in Canvas and not through email for it to be accepted. If you do not know how to do this there have been Canvas announcements outlining the steps. \n",
    ">>- Late submissions received after 5 minutes late will not be graded and will be recorded as a 0. This includes if you email the files and do not include them in the Canvas quiz comments. Emailed files will not be accepted. \n",
    "\n",
    "\n",
    "\n",
    "#### Submission: After downloading this .ipynb file from Canvas, resave with the following naming format:\n",
    ">- LastName_FirstName_Midterm.ipynb\n",
    "\n",
    "#### When you are ready to submit your quiz, upload your .ipynb file to Canvas in Midterm "
   ]
  },
  {
   "cell_type": "markdown",
   "metadata": {},
   "source": [
    "# Python basics from week 1/2 \n",
    "Python as a calculator, string concatenation, etc. "
   ]
  },
  {
   "cell_type": "markdown",
   "metadata": {},
   "source": [
    "# Q1: In the next cell, write the Python code that returns the following output\n",
    "\n",
    "python python python python"
   ]
  },
  {
   "cell_type": "code",
   "execution_count": 4,
   "metadata": {},
   "outputs": [
    {
     "name": "stdout",
     "output_type": "stream",
     "text": [
      "python python python python "
     ]
    }
   ],
   "source": [
    "i = 1\n",
    "while i < 5:\n",
    "    print('python',end = ' ')\n",
    "    i+=1"
   ]
  },
  {
   "cell_type": "code",
   "execution_count": 5,
   "metadata": {},
   "outputs": [
    {
     "name": "stdout",
     "output_type": "stream",
     "text": [
      "python python python python "
     ]
    }
   ],
   "source": [
    "for i in range(0,4):\n",
    "    print('python',end = ' ')"
   ]
  },
  {
   "cell_type": "markdown",
   "metadata": {},
   "source": [
    "# Q2: In the next cell, create a variable, `var1`, that has a integer datatype. \n",
    "### Print the variable and the data type"
   ]
  },
  {
   "cell_type": "code",
   "execution_count": 7,
   "metadata": {},
   "outputs": [
    {
     "name": "stdout",
     "output_type": "stream",
     "text": [
      "1 <class 'int'>\n"
     ]
    }
   ],
   "source": [
    "var1 = 1\n",
    "print(var1,type(var1))"
   ]
  },
  {
   "cell_type": "markdown",
   "metadata": {},
   "source": [
    "# Q3: Create a variable, `var2`, that has a Floating-Point datatype. \n",
    "### Print the variable and the data type."
   ]
  },
  {
   "cell_type": "code",
   "execution_count": 9,
   "metadata": {},
   "outputs": [
    {
     "name": "stdout",
     "output_type": "stream",
     "text": [
      "1.1 <class 'float'>\n"
     ]
    }
   ],
   "source": [
    "var2 = 1.1\n",
    "print(var2,type(var2))"
   ]
  },
  {
   "cell_type": "markdown",
   "metadata": {},
   "source": [
    "# Q4: Create a variable, `var3`, that has a string datatype. \n",
    "### Print the variable and the data type"
   ]
  },
  {
   "cell_type": "code",
   "execution_count": 10,
   "metadata": {},
   "outputs": [
    {
     "name": "stdout",
     "output_type": "stream",
     "text": [
      "Hello <class 'str'>\n"
     ]
    }
   ],
   "source": [
    "var3 = 'Hello'\n",
    "print(var3,type(var3))"
   ]
  },
  {
   "cell_type": "markdown",
   "metadata": {},
   "source": [
    "# Q5\n",
    ">- Create a variable called 'radius' equal to half the diameter\n",
    ">- Create a variable called 'area', using the formula for the area of a circle: pi times the radius squared\n",
    ">- Find the area, rounded to 2 decimals given pi, and the diameter\n",
    ">- print the radius and area when the diameter=5"
   ]
  },
  {
   "cell_type": "code",
   "execution_count": 17,
   "metadata": {},
   "outputs": [
    {
     "name": "stdout",
     "output_type": "stream",
     "text": [
      "What is your diameter? 5\n",
      "With a diameter of 5, we have a radius of 2.5, and an area of 19.62\n"
     ]
    }
   ],
   "source": [
    "d = int(input('What is your diameter? '))\n",
    "radius = d / 2\n",
    "pi = 3.14\n",
    "area = round((pi * (radius**2)),2)\n",
    "print(f'With a diameter of {d}, we have a radius of {radius}, and an area of {area}')"
   ]
  },
  {
   "cell_type": "markdown",
   "metadata": {},
   "source": [
    "# Q6: Write the code that would return the following output\n",
    "'FirstNameLastName'"
   ]
  },
  {
   "cell_type": "code",
   "execution_count": 16,
   "metadata": {},
   "outputs": [
    {
     "ename": "SyntaxError",
     "evalue": "'return' outside function (<ipython-input-16-7c5c9f7ab100>, line 1)",
     "output_type": "error",
     "traceback": [
      "\u001b[1;36m  File \u001b[1;32m\"<ipython-input-16-7c5c9f7ab100>\"\u001b[1;36m, line \u001b[1;32m1\u001b[0m\n\u001b[1;33m    return 'FirstNameLastName'\u001b[0m\n\u001b[1;37m    ^\u001b[0m\n\u001b[1;31mSyntaxError\u001b[0m\u001b[1;31m:\u001b[0m 'return' outside function\n"
     ]
    }
   ],
   "source": [
    "return 'FirstNameLastName'"
   ]
  },
  {
   "cell_type": "markdown",
   "metadata": {},
   "source": [
    "# Q7: Create a input statement that asks for your name and stores it in a variable, `myname`\n",
    ">- Print the value stored in `myname` and the number of characters in `myname`"
   ]
  },
  {
   "cell_type": "code",
   "execution_count": 20,
   "metadata": {},
   "outputs": [
    {
     "name": "stdout",
     "output_type": "stream",
     "text": [
      "What is your name? dan\n",
      "dan : 3\n"
     ]
    }
   ],
   "source": [
    "myname = input('What is your name? ')\n",
    "print(myname,':', len(myname))"
   ]
  },
  {
   "cell_type": "markdown",
   "metadata": {},
   "source": [
    "# Q8: Create two variables called name and food with your name and favorite food\n",
    "## Print using f-string formatting \"My name is xxx and my favorite food is a yyy\"\n",
    "#### xxx and yyy should the replaced with the variables you created\n"
   ]
  },
  {
   "cell_type": "code",
   "execution_count": 21,
   "metadata": {},
   "outputs": [
    {
     "name": "stdout",
     "output_type": "stream",
     "text": [
      "What is your name? Dan\n",
      "What is your favorite food? Taco\n",
      "My name is Dan and my favorite food is Taco\n"
     ]
    }
   ],
   "source": [
    "name = input('What is your name? ')\n",
    "food = input('What is your favorite food? ')\n",
    "print(f'My name is {name} and my favorite food is {food}')"
   ]
  },
  {
   "cell_type": "markdown",
   "metadata": {},
   "source": [
    "### From the question above show the type of variable, food"
   ]
  },
  {
   "cell_type": "code",
   "execution_count": 22,
   "metadata": {},
   "outputs": [
    {
     "data": {
      "text/plain": [
       "str"
      ]
     },
     "execution_count": 22,
     "metadata": {},
     "output_type": "execute_result"
    }
   ],
   "source": [
    "type(food)"
   ]
  },
  {
   "cell_type": "markdown",
   "metadata": {},
   "source": [
    "# Q9: Create two variables a=50 and b='51' (b is a string)\n",
    "## Use type conversion to calculate the result of a+b"
   ]
  },
  {
   "cell_type": "code",
   "execution_count": 25,
   "metadata": {},
   "outputs": [
    {
     "name": "stdout",
     "output_type": "stream",
     "text": [
      "101\n"
     ]
    }
   ],
   "source": [
    "a = 50\n",
    "b = '51'\n",
    "\n",
    "print(a+int(b))\n"
   ]
  },
  {
   "cell_type": "markdown",
   "metadata": {},
   "source": [
    "# Q10: Concatenate the two sentences \n",
    "`Q: Is this the Krusty Krab?`\n",
    "\n",
    "`A: No, this is Patrick`\n",
    ">- Save your answer in a variable"
   ]
  },
  {
   "cell_type": "code",
   "execution_count": 27,
   "metadata": {},
   "outputs": [
    {
     "name": "stdout",
     "output_type": "stream",
     "text": [
      "Is this the Krusty Krab? No, this is Patrick\n"
     ]
    }
   ],
   "source": [
    "Q = 'Is this the Krusty Krab?'\n",
    "A = 'No, this is Patrick'\n",
    "QA = Q + ' ' + A\n",
    "print(QA)"
   ]
  },
  {
   "cell_type": "markdown",
   "metadata": {},
   "source": [
    "# Q11: Concatenate the the two sentences\n",
    "\n",
    "`Q: What do you call a fake noodle?`\n",
    "\n",
    "`A: A impasta`\n",
    ">- Save your answer in a variable\n"
   ]
  },
  {
   "cell_type": "code",
   "execution_count": 30,
   "metadata": {},
   "outputs": [
    {
     "name": "stdout",
     "output_type": "stream",
     "text": [
      "Q: What do you call a fake noodle?\n",
      "A: A impasta\n"
     ]
    }
   ],
   "source": [
    "Q = 'Q: What do you call a fake noodle?'\n",
    "A = 'A: A impasta'\n",
    "QA = Q + '\\n' + A\n",
    "print(QA)"
   ]
  },
  {
   "cell_type": "markdown",
   "metadata": {},
   "source": [
    "### Covert your variable from above to all capital letters"
   ]
  },
  {
   "cell_type": "code",
   "execution_count": 32,
   "metadata": {},
   "outputs": [
    {
     "name": "stdout",
     "output_type": "stream",
     "text": [
      "Q: WHAT DO YOU CALL A FAKE NOODLE?\n",
      "A: A IMPASTA\n"
     ]
    }
   ],
   "source": [
    "QA = QA.upper()\n",
    "print(QA)"
   ]
  },
  {
   "cell_type": "markdown",
   "metadata": {},
   "source": [
    "# Q12: Split the sentence \"Real programmers count from 0\" into individual words\n",
    "## Store the list into a variable named, words"
   ]
  },
  {
   "cell_type": "code",
   "execution_count": 38,
   "metadata": {},
   "outputs": [
    {
     "name": "stdout",
     "output_type": "stream",
     "text": [
      "['Real', 'programmers', 'count', 'from', '0']\n"
     ]
    }
   ],
   "source": [
    "sentence = \"Real programmers count from 0\"\n",
    "words = []\n",
    "words = sentence.split(' ')\n",
    "print(words)"
   ]
  },
  {
   "cell_type": "markdown",
   "metadata": {},
   "source": [
    "### Check if 'Python' is in words"
   ]
  },
  {
   "cell_type": "code",
   "execution_count": 37,
   "metadata": {},
   "outputs": [
    {
     "data": {
      "text/plain": [
       "False"
      ]
     },
     "execution_count": 37,
     "metadata": {},
     "output_type": "execute_result"
    }
   ],
   "source": [
    "'Python' in words"
   ]
  },
  {
   "cell_type": "markdown",
   "metadata": {},
   "source": [
    "### Check if 'program' is in words"
   ]
  },
  {
   "cell_type": "code",
   "execution_count": 36,
   "metadata": {},
   "outputs": [
    {
     "data": {
      "text/plain": [
       "False"
      ]
     },
     "execution_count": 36,
     "metadata": {},
     "output_type": "execute_result"
    }
   ],
   "source": [
    "'program' in words"
   ]
  },
  {
   "cell_type": "markdown",
   "metadata": {},
   "source": [
    "### Save the 2nd and 3rd words into a new list named, newL"
   ]
  },
  {
   "cell_type": "code",
   "execution_count": 41,
   "metadata": {},
   "outputs": [
    {
     "name": "stdout",
     "output_type": "stream",
     "text": [
      "['programmers', 'count']\n"
     ]
    }
   ],
   "source": [
    "newL = words[1:3]\n",
    "print(newL)"
   ]
  },
  {
   "cell_type": "markdown",
   "metadata": {},
   "source": [
    "# Q13: Create a tuple with the 5 Disney movies & the years below. Name the tuple, disney.\n",
    ">- Return the data type of the variable, disney\n",
    "1. The Lion King (2019)\n",
    "2. Frozen (2013)\n",
    "3. Moana (2016)\n",
    "4. Coco (2017)\n",
    "5. Mulan (1998)\n"
   ]
  },
  {
   "cell_type": "code",
   "execution_count": 42,
   "metadata": {},
   "outputs": [],
   "source": [
    "disney = ('The Lion King (2019)','Frozen (2013)','Moana (2016)','Coco (2017)','Mulan (1998)')"
   ]
  },
  {
   "cell_type": "code",
   "execution_count": 43,
   "metadata": {},
   "outputs": [
    {
     "data": {
      "text/plain": [
       "['Coco (2017)',\n",
       " 'Frozen (2013)',\n",
       " 'Moana (2016)',\n",
       " 'Mulan (1998)',\n",
       " 'The Lion King (2019)']"
      ]
     },
     "execution_count": 43,
     "metadata": {},
     "output_type": "execute_result"
    }
   ],
   "source": [
    "#Sort the tuple from A-Z\n",
    "sorted(disney)"
   ]
  },
  {
   "cell_type": "code",
   "execution_count": 46,
   "metadata": {},
   "outputs": [
    {
     "name": "stdout",
     "output_type": "stream",
     "text": [
      "Moana (2016)\n"
     ]
    }
   ],
   "source": [
    "#Create a variable with the 3rd element of the tuple\n",
    "third = disney[2]\n",
    "print(third)"
   ]
  },
  {
   "cell_type": "code",
   "execution_count": 47,
   "metadata": {},
   "outputs": [
    {
     "data": {
      "text/plain": [
       "12"
      ]
     },
     "execution_count": 47,
     "metadata": {},
     "output_type": "execute_result"
    }
   ],
   "source": [
    "# How many characters does the variable have?\n",
    "len(third)"
   ]
  },
  {
   "cell_type": "markdown",
   "metadata": {},
   "source": [
    "# Q14: Create a list with all the Pac 12 schools, except ASU\n",
    "University of Arizona,University of California Berkeley,University of California Los Angeles,University of Colorado Boulder\n",
    "University of Oregon, Oregon State University, University of Southern California, Stanford University, University of Utah,\n",
    "University of Washington"
   ]
  },
  {
   "cell_type": "code",
   "execution_count": 51,
   "metadata": {},
   "outputs": [],
   "source": [
    "pac12 = ['University of Arizona','University of California Berkeley','University of California Los Angeles',\n",
    "         'University of Colorado Boulder', 'University of Oregon', 'Oregon State University',\n",
    "         'University of Southern California', 'Stanford University', 'University of Utah', 'University of Washington']"
   ]
  },
  {
   "cell_type": "code",
   "execution_count": 52,
   "metadata": {},
   "outputs": [
    {
     "name": "stdout",
     "output_type": "stream",
     "text": [
      "['University of Arizona', 'University of California Berkeley', 'University of California Los Angeles', 'University of Colorado Boulder', 'University of Oregon', 'Oregon State University', 'University of Southern California', 'Stanford University', 'University of Utah', 'University of Washington']\n",
      "['University of Arizona', 'University of California Berkeley', 'University of California Los Angeles', 'University of Colorado Boulder', 'University of Oregon', 'Oregon State University', 'University of Southern California', 'Stanford University', 'University of Utah', 'University of Washington', 'Arizona State University']\n"
     ]
    }
   ],
   "source": [
    "#Add 'Arizona State University' to the list \n",
    "print(pac12)\n",
    "pac12.append('Arizona State University')\n",
    "print(pac12)"
   ]
  },
  {
   "cell_type": "code",
   "execution_count": 53,
   "metadata": {
    "scrolled": true
   },
   "outputs": [
    {
     "name": "stdout",
     "output_type": "stream",
     "text": [
      "['University of Arizona', 'University of California Berkeley', 'University of California Los Angeles', 'University of Colorado Boulder', 'University of Oregon', 'Oregon State University', 'University of Southern California', 'Stanford University', 'University of Utah', 'University of Washington', 'Arizona State University']\n",
      "['University of Arizona', 'University of California Berkeley', 'University of California Los Angeles', 'University of Colorado Boulder', 'Oregon State University', 'University of Southern California', 'Stanford University', 'University of Utah', 'University of Washington', 'Arizona State University']\n"
     ]
    }
   ],
   "source": [
    "#Delete 'University of Oregon' from the list\n",
    "print(pac12)\n",
    "pac12.remove('University of Oregon')\n",
    "print(pac12)"
   ]
  },
  {
   "cell_type": "code",
   "execution_count": 58,
   "metadata": {
    "scrolled": true
   },
   "outputs": [
    {
     "name": "stdout",
     "output_type": "stream",
     "text": [
      "['University of Washington', 'University of Utah', 'University of Southern California', 'University of Colorado Boulder', 'University of California Los Angeles', 'University of California Berkeley', 'University of Arizona', 'Stanford University', 'Oregon State University', 'Arizona State University']\n"
     ]
    },
    {
     "data": {
      "text/plain": [
       "['University of Washington',\n",
       " 'University of Utah',\n",
       " 'University of Southern California',\n",
       " 'University of Colorado Boulder',\n",
       " 'University of California Los Angeles',\n",
       " 'University of California Berkeley',\n",
       " 'University of Arizona',\n",
       " 'Stanford University',\n",
       " 'Oregon State University',\n",
       " 'Arizona State University']"
      ]
     },
     "execution_count": 58,
     "metadata": {},
     "output_type": "execute_result"
    }
   ],
   "source": [
    "# Sort the list from Z-A\n",
    "print(pac12)\n",
    "# pac12.sort(reverse = 1)\n",
    "sorted(pac12, reverse = 1)"
   ]
  },
  {
   "cell_type": "markdown",
   "metadata": {},
   "source": [
    "# Q15: Create a tuple with all possible class grades: \"A+\", \"A\", \"A-\", \"B+\", \"B\", \"B-\", \"C+\", \"C\", \"C-\", \"D+\", \"D\", \"D-\", \"F\"\n"
   ]
  },
  {
   "cell_type": "code",
   "execution_count": 66,
   "metadata": {},
   "outputs": [
    {
     "name": "stdout",
     "output_type": "stream",
     "text": [
      "('B+', 'B', 'B-')\n"
     ]
    }
   ],
   "source": [
    "# Show a slice of all the B's\n",
    "grade = ( \"A+\", \"A\", \"A-\", \"B+\", \"B\", \"B-\", \"C+\", \"C\", \"C-\", \"D+\", \"D\", \"D-\", \"F\")\n",
    "\n",
    "Bs = grade[3:6]\n",
    "\n",
    "print(Bs)"
   ]
  },
  {
   "cell_type": "markdown",
   "metadata": {},
   "source": [
    "# Q16: Create a dictionary for the professional atheletes named, pa, and their jersey numbers as keys\n",
    ">- 23 LeBron James\n",
    ">- 7 Cristiano Ronaldo\n",
    ">- 15 Megan Rapinoe\n",
    ">- #30 Stephen Curry\n"
   ]
  },
  {
   "cell_type": "code",
   "execution_count": 68,
   "metadata": {},
   "outputs": [],
   "source": [
    "pa = {23:'LeBron James',\n",
    "      7:'Cristiano Ronaldo',\n",
    "      15:'Megan Rapinoe',\n",
    "      30:'Stephen Curry'\n",
    "      }\n"
   ]
  },
  {
   "cell_type": "code",
   "execution_count": 69,
   "metadata": {},
   "outputs": [
    {
     "name": "stdout",
     "output_type": "stream",
     "text": [
      "{23: 'LeBron James', 7: 'Cristiano Ronaldo', 15: 'Megan Rapinoe', 30: 'Stephen Curry'}\n"
     ]
    }
   ],
   "source": [
    "# Create a copy dictionary named, pa2\n",
    "pa2 = pa.copy()\n",
    "print(pa2)"
   ]
  },
  {
   "cell_type": "code",
   "execution_count": 70,
   "metadata": {},
   "outputs": [
    {
     "name": "stdout",
     "output_type": "stream",
     "text": [
      "{23: 'LeBron James', 7: 'Cristiano Ronaldo', 15: 'Megan Rapinoe', 30: 'Stephen Curry'}\n",
      "{23: 'LeBron James', 7: 'Cristiano Ronaldo', 15: 'Megan Rapinoe', 30: 'Stephen Curry', 999: 'McGee'}\n"
     ]
    }
   ],
   "source": [
    "# Add 999 McGee to the pa2\n",
    "print(pa2)\n",
    "pa2[999] = 'McGee'\n",
    "print(pa2)"
   ]
  },
  {
   "cell_type": "code",
   "execution_count": 71,
   "metadata": {},
   "outputs": [
    {
     "name": "stdout",
     "output_type": "stream",
     "text": [
      "Megan Rapinoe\n"
     ]
    }
   ],
   "source": [
    "#Print the element with key 15\n",
    "print(pa2[15])"
   ]
  },
  {
   "cell_type": "markdown",
   "metadata": {},
   "source": [
    "# Q17: Create 3 floating point variables with the values 8.05, 1.55 and 2.4\n",
    ">- Then add the numbers and multiply the result by -2.\n",
    ">>- Round the result to 2 decimals and print the absolute value of the result."
   ]
  },
  {
   "cell_type": "code",
   "execution_count": 72,
   "metadata": {},
   "outputs": [],
   "source": [
    "fpv1 = 8.05\n",
    "fpv2 = 1.55\n",
    "fpv3 = 2.4"
   ]
  },
  {
   "cell_type": "code",
   "execution_count": 75,
   "metadata": {},
   "outputs": [
    {
     "name": "stdout",
     "output_type": "stream",
     "text": [
      "24.0\n"
     ]
    }
   ],
   "source": [
    "result = (fpv1 + fpv2 + fpv3)*-2\n",
    "print(round(abs(result),2))"
   ]
  },
  {
   "cell_type": "markdown",
   "metadata": {},
   "source": [
    "# Q18: Lookup question\n",
    "\n",
    ">- Look up how to subtract dates in Python\n",
    ">- Then determine how many days are between Halloween (10/31) and the New Year (12/31)\n",
    "\n",
    "Hint: The following line of code should start you off\n",
    "<br> `from datetime import date, datetime`"
   ]
  },
  {
   "cell_type": "code",
   "execution_count": 79,
   "metadata": {},
   "outputs": [],
   "source": [
    "from datetime import date, datetime"
   ]
  },
  {
   "cell_type": "code",
   "execution_count": 86,
   "metadata": {},
   "outputs": [
    {
     "name": "stdout",
     "output_type": "stream",
     "text": [
      "61 days, 0:00:00\n"
     ]
    }
   ],
   "source": [
    "# Practice writing code using the modulus operator\n",
    "import datetime\n",
    "Halloween = datetime.datetime(2020, 10, 31)\n",
    "New_Year = datetime.datetime(2020, 12, 31)\n",
    "\n",
    "print(New_Year-Halloween)"
   ]
  },
  {
   "cell_type": "markdown",
   "metadata": {},
   "source": [
    "# Q19: Given the following Python code:\n",
    "<br>python = 90\n",
    "<br>python +7\n",
    "\n",
    "What will be the value of python when the code runs?"
   ]
  },
  {
   "cell_type": "code",
   "execution_count": 87,
   "metadata": {},
   "outputs": [
    {
     "name": "stdout",
     "output_type": "stream",
     "text": [
      "90\n"
     ]
    }
   ],
   "source": [
    "python = 90\n",
    "python + 7\n",
    "print(python)"
   ]
  },
  {
   "cell_type": "markdown",
   "metadata": {},
   "source": [
    "# Q20: Give an example of a invalid variable name"
   ]
  },
  {
   "cell_type": "code",
   "execution_count": null,
   "metadata": {},
   "outputs": [],
   "source": [
    "if"
   ]
  },
  {
   "cell_type": "markdown",
   "metadata": {},
   "source": [
    "#  Control Flow \n",
    "a.       If/elif/else\n",
    "b.       For loops\n",
    "c.       While loops"
   ]
  },
  {
   "cell_type": "markdown",
   "metadata": {},
   "source": [
    "## If, elif, else statements"
   ]
  },
  {
   "cell_type": "markdown",
   "metadata": {},
   "source": [
    "# Q21: Write the Python code using if, elif and a else statement that will ask the user, \"What is the time\"\n",
    " And should return a statement according to the following\n",
    "\n",
    "\n",
    "0- or equal to 10 \"Good Morning sunshine\"\n",
    "<br>10- or equal to 12 \"It's almost lunch time\"\n",
    "<br>12- or equal to 18 \"I hope you have had a good day\"\n",
    "<br>18-or equal to 22 \"It's almost bed time\"\n",
    "<br>22-EOD \"Good night\""
   ]
  },
  {
   "cell_type": "code",
   "execution_count": 97,
   "metadata": {},
   "outputs": [
    {
     "name": "stdout",
     "output_type": "stream",
     "text": [
      "What is the time? 1\n",
      "Good Morning sunshine\n"
     ]
    }
   ],
   "source": [
    "time = int(input('What is the time? '))\n",
    "if time > 0 and time <= 10:\n",
    "    print('Good Morning sunshine')\n",
    "elif time > 10 and time <= 12:\n",
    "    print(\"It's almost lunch time\")\n",
    "elif time > 12 and time <= 18:\n",
    "    print(\"I hope you have had a good day\")\n",
    "elif time > 18 and time <= 22:\n",
    "    print(\"It's almost your bed time\")\n",
    "elif time > 22 and time <= 24:\n",
    "    print(\"Good night\")"
   ]
  },
  {
   "cell_type": "markdown",
   "metadata": {},
   "source": [
    "# Q22: Write a program using if,elif & else that asks the user \"What is your login? :\" \n",
    ">- Based on the input either allows or denies access based on the following list of approved users\n",
    ">- Your program should be case insensitive\n",
    ">- The following line of code should start you off.\n",
    "\n",
    "allowed_users = ['admin','micah', 'kadence','karina','jack','david', 'MO']\n"
   ]
  },
  {
   "cell_type": "code",
   "execution_count": 105,
   "metadata": {},
   "outputs": [
    {
     "name": "stdout",
     "output_type": "stream",
     "text": [
      "What is your login?: jack\n",
      "Access Granted\n"
     ]
    }
   ],
   "source": [
    "allowed_users = ['admin','micah', 'kadence','karina','jack','david', 'MO']\n",
    "\n",
    "name = input(\"What is your login?: \")\n",
    "if name in allowed_users:\n",
    "    print('Access Granted')\n",
    "else:\n",
    "    print('Access Denied')"
   ]
  },
  {
   "cell_type": "markdown",
   "metadata": {},
   "source": [
    "# Q23: Write Python code using if,elif,& else statements  \n",
    "1. Ask the user to input a value less than 1 Million\n",
    "2. Then have the program return how many digits are in that number\n",
    ">- print a nice statement telling the user how many digits"
   ]
  },
  {
   "cell_type": "code",
   "execution_count": 113,
   "metadata": {},
   "outputs": [
    {
     "name": "stdout",
     "output_type": "stream",
     "text": [
      "Enter a value that is less than 1 million: 2378654\n",
      "The number 2378654 is not less than 1 million\n"
     ]
    }
   ],
   "source": [
    "val = input('Enter a value that is less than 1 million: ')\n",
    "\n",
    "if int(val) < 1000000:\n",
    "    print(f'The number {val} has a lengths of {len(val)}')\n",
    "else:\n",
    "    print(f'The number {val} is not less than 1 million')"
   ]
  },
  {
   "cell_type": "markdown",
   "metadata": {},
   "source": [
    "### Write the same program as above without if/elif/else statements"
   ]
  },
  {
   "cell_type": "code",
   "execution_count": null,
   "metadata": {},
   "outputs": [],
   "source": [
    "max = 1000000\n",
    "\n",
    "while True:\n",
    "    val = input('Enter a value that is less than 1 million: ')\n",
    "    "
   ]
  },
  {
   "cell_type": "markdown",
   "metadata": {
    "scrolled": true
   },
   "source": [
    "# Q24: Write Python code that uses if,elif & else statements to ask the users \"How is the weather\"\n",
    ">- If the user inputs \"Good\" or \"Alright\", the function should return \"Glad to hear!\" or \"That's too bad\"\n"
   ]
  },
  {
   "cell_type": "code",
   "execution_count": 116,
   "metadata": {},
   "outputs": [
    {
     "name": "stdout",
     "output_type": "stream",
     "text": [
      "How is the weather? Alright\n",
      "That's too bad\n"
     ]
    }
   ],
   "source": [
    "weather = input('How is the weather? ')\n",
    "\n",
    "if weather == 'Good':\n",
    "    print('Glad to hear!')\n",
    "elif weather == 'Alright':\n",
    "    print(\"That's too bad\")\n",
    "else:\n",
    "    print('Ok')"
   ]
  },
  {
   "cell_type": "markdown",
   "metadata": {},
   "source": [
    "# For loops"
   ]
  },
  {
   "cell_type": "markdown",
   "metadata": {},
   "source": [
    "# Q25: Use a for loop to print all of the planets in the variable planets\n",
    ">-The code below should start you off\n",
    "<br>planets = ['Mercury', 'Venus', 'Earth', 'Mars', 'Jupiter', 'Saturn', 'Uranus', 'Neptune']\n",
    "\n"
   ]
  },
  {
   "cell_type": "code",
   "execution_count": 117,
   "metadata": {},
   "outputs": [
    {
     "name": "stdout",
     "output_type": "stream",
     "text": [
      "Mercury\n",
      "Venus\n",
      "Earth\n",
      "Mars\n",
      "Jupiter\n",
      "Saturn\n",
      "Uranus\n",
      "Neptune\n"
     ]
    }
   ],
   "source": [
    "planets = ['Mercury', 'Venus', 'Earth', 'Mars', 'Jupiter', 'Saturn', 'Uranus', 'Neptune']\n",
    "for i in planets:\n",
    "    print(i)"
   ]
  },
  {
   "cell_type": "markdown",
   "metadata": {},
   "source": [
    "# Q26: Create a program that prints \"Go Buffs, beat USC!\" 3 times. \n",
    "\n",
    "### Specifications:\n",
    "\n",
    "#1) You must utilize a loop for this program.\n",
    "\n",
    "#2) The first line printed should be: \"Go Buffs, beat USC!\"\n",
    "\n",
    "#3) On a new line,  print a note that will output the loop iteration at all iterations.\n",
    "#Use Python's f-strings formatting when printing out your loop iteration note.\n",
    "#In your iteration note, the iteration number must be printed using the current value of the variable you define in your code. (i.e., you cannot just manually enter the iteration numbers and receive full credit) \n",
    "\n"
   ]
  },
  {
   "cell_type": "code",
   "execution_count": 119,
   "metadata": {},
   "outputs": [
    {
     "name": "stdout",
     "output_type": "stream",
     "text": [
      "Go Buffs, beat USC!\n",
      "\tIteration 1\n",
      "Go Buffs, beat USC!\n",
      "\tIteration 2\n",
      "Go Buffs, beat USC!\n",
      "\tIteration 3\n"
     ]
    }
   ],
   "source": [
    "for i in range(3):\n",
    "    print(\"Go Buffs, beat USC!\")\n",
    "    print(f'\\tIteration {i+1}')"
   ]
  },
  {
   "cell_type": "markdown",
   "metadata": {},
   "source": [
    "# Q27: Create a for loop to print all the uppercase letters in the sentence, s, to uncover the secret message.  "
   ]
  },
  {
   "cell_type": "code",
   "execution_count": 120,
   "metadata": {},
   "outputs": [],
   "source": [
    "# s is defined in this cell\n",
    "\n",
    "s = '''in the loveliest town of all, where the Houses were white and \n",
    "high and the elms trees wEre green and higher than the houses, where \n",
    "the front yards were wide and pLeasant and the back yards were bushy\n",
    "and worth finding out about, where the streets sLoped down to the \n",
    "stream and the stream flowed quietly under the bridge, where the \n",
    "lawns ended in orchards and the orchards ended in fields and the fields \n",
    "ended in pastures and the pastures climbed the hill and disappeared over \n",
    "the top toward the wonderful wide sky, in this loveliest of all towns \n",
    "tuart stOpped to get a drink of sarsaparilla.'''"
   ]
  },
  {
   "cell_type": "code",
   "execution_count": 122,
   "metadata": {},
   "outputs": [
    {
     "name": "stdout",
     "output_type": "stream",
     "text": [
      "H\n",
      "E\n",
      "L\n",
      "L\n",
      "O\n"
     ]
    }
   ],
   "source": [
    "for i in s:\n",
    "    if i.isupper():\n",
    "        print(i)"
   ]
  },
  {
   "cell_type": "markdown",
   "metadata": {},
   "source": [
    "# Q28: Use the string variable, `zen`, defined in the next cell to answer the following questions"
   ]
  },
  {
   "cell_type": "code",
   "execution_count": 123,
   "metadata": {
    "scrolled": true
   },
   "outputs": [],
   "source": [
    "# zen is defined in this cell\n",
    "\n",
    "zen = (\"Beautiful is better than ugly.\\\n",
    "Explicit is better than implicit.\\\n",
    "Simple is better than complex.\\\n",
    "Complex is better than complicated.\\\n",
    "Flat is better than nested.\\\n",
    "Sparse is better than dense.\\\n",
    "Readability counts.\\\n",
    "Special cases aren't special enough to break the rules.\\\n",
    "Although practicality beats purity.\\\n",
    "Errors should never pass silently.\\\n",
    "Unless explicitly silenced.\\\n",
    "In the face of ambiguity, refuse the temptation to guess.\\\n",
    "There should be one-- and preferably only one --obvious way to do it.\\\n",
    "Although that way may not be obvious at first unless you're Dutch.\\\n",
    "Now is better than never.\\\n",
    "Although never is often better than *right* now.\\\n",
    "If the implementation is hard to explain, it's a bad idea.\\\n",
    "If the implementation is easy to explain, it may be a good idea.\\\n",
    "Namespaces are one honking great idea -- let's do more of those.\")"
   ]
  },
  {
   "cell_type": "markdown",
   "metadata": {},
   "source": [
    "### Split up all the sentences from zen. "
   ]
  },
  {
   "cell_type": "code",
   "execution_count": 160,
   "metadata": {},
   "outputs": [
    {
     "name": "stdout",
     "output_type": "stream",
     "text": [
      "['Beautiful is better than ugly', 'Explicit is better than implicit', 'Simple is better than complex', 'Complex is better than complicated', 'Flat is better than nested', 'Sparse is better than dense', 'Readability counts', \"Special cases aren't special enough to break the rules\", 'Although practicality beats purity', 'Errors should never pass silently', 'Unless explicitly silenced', 'In the face of ambiguity, refuse the temptation to guess', 'There should be one-- and preferably only one --obvious way to do it', \"Although that way may not be obvious at first unless you're Dutch\", 'Now is better than never', 'Although never is often better than *right* now', \"If the implementation is hard to explain, it's a bad idea\", 'If the implementation is easy to explain, it may be a good idea', \"Namespaces are one honking great idea -- let's do more of those\", '']\n"
     ]
    }
   ],
   "source": [
    "x = zen.split(\".\")\n",
    "print(x)"
   ]
  },
  {
   "cell_type": "markdown",
   "metadata": {
    "scrolled": true
   },
   "source": [
    "### Print all the sentences that have 'than' in them from the split of `zen`"
   ]
  },
  {
   "cell_type": "code",
   "execution_count": 166,
   "metadata": {},
   "outputs": [
    {
     "name": "stdout",
     "output_type": "stream",
     "text": [
      "Beautiful is better than ugly\n",
      "Explicit is better than implicit\n",
      "Simple is better than complex\n",
      "Complex is better than complicated\n",
      "Flat is better than nested\n",
      "Sparse is better than dense\n",
      "Now is better than never\n",
      "Although never is often better than *right* now\n"
     ]
    }
   ],
   "source": [
    "for i in x:\n",
    "    if 'than' in i:\n",
    "        print(i)"
   ]
  },
  {
   "cell_type": "markdown",
   "metadata": {
    "scrolled": true
   },
   "source": [
    "# Q29: Print all the consonants in the variable: `sen` = 'Bats always turn left when leaving a cave'"
   ]
  },
  {
   "cell_type": "code",
   "execution_count": 186,
   "metadata": {},
   "outputs": [
    {
     "name": "stdout",
     "output_type": "stream",
     "text": [
      "B\n",
      "t\n",
      "s\n",
      "l\n",
      "w\n",
      "s\n",
      "t\n",
      "r\n",
      "n\n",
      "l\n",
      "f\n",
      "t\n",
      "w\n",
      "h\n",
      "n\n",
      "l\n",
      "v\n",
      "n\n",
      "g\n",
      "c\n",
      "v\n"
     ]
    }
   ],
   "source": [
    "sen = 'Bats always turn left when leaving a cave'\n",
    "con = ['B', 'C', 'D', 'F', 'G', 'H', 'J', 'K', 'L', 'M', 'N', 'P', 'Q', 'R', 'S', 'T', 'V', 'W', 'X', 'Z',\n",
    "      'b', 'c', 'd', 'f', 'g', 'h', 'j', 'k', 'l', 'm', 'n', 'p', 'q', 'r', 's', 't', 'v', 'w', 'x', 'z']\n",
    "for i in sen:\n",
    "    if i in con:\n",
    "        print(i)"
   ]
  },
  {
   "cell_type": "markdown",
   "metadata": {},
   "source": [
    "# Q30: Find all the numbers between 0 and 1000 that are divisible by 7 but not 3\n",
    "\n",
    ">- Store the numbers in a list\n"
   ]
  },
  {
   "cell_type": "code",
   "execution_count": 191,
   "metadata": {},
   "outputs": [
    {
     "name": "stdout",
     "output_type": "stream",
     "text": [
      "[7, 14, 28, 35, 49, 56, 70, 77, 91, 98, 112, 119, 133, 140, 154, 161, 175, 182, 196, 203, 217, 224, 238, 245, 259, 266, 280, 287, 301, 308, 322, 329, 343, 350, 364, 371, 385, 392, 406, 413, 427, 434, 448, 455, 469, 476, 490, 497, 511, 518, 532, 539, 553, 560, 574, 581, 595, 602, 616, 623, 637, 644, 658, 665, 679, 686, 700, 707, 721, 728, 742, 749, 763, 770, 784, 791, 805, 812, 826, 833, 847, 854, 868, 875, 889, 896, 910, 917, 931, 938, 952, 959, 973, 980, 994]\n"
     ]
    }
   ],
   "source": [
    "aList = []\n",
    "for i in range(0,1001):\n",
    "    if i % 7 == 0 and i % 3 != 0: \n",
    "        aList.append(i)\n",
    "\n",
    "print(aList)"
   ]
  },
  {
   "cell_type": "markdown",
   "metadata": {},
   "source": [
    "# Q31: The following list contains lists of movies that include the title, customer, age, and spend in this order"
   ]
  },
  {
   "cell_type": "code",
   "execution_count": 192,
   "metadata": {},
   "outputs": [],
   "source": [
    "# Movies list\n",
    "\n",
    "movies = [\n",
    "    ['12 Angry Men', 'Kadence', 25, 4],\n",
    "    ['12 Angry Men', 'Micah', 19, 3],\n",
    "    ['14 Angry Men', 'Hans', 25, 4],\n",
    "    ['The Dark Knight', 'Kadence', 25, 3],\n",
    "    ['The Dark Knight', 'Micah', 19, 5],\n",
    "    ['The Godfather', 'Kadence', 25, 4],\n",
    "    ['The Godfather', 'Thomas', 35, 5],\n",
    "    ['The Godfather', 'Howard', 40, 2],\n",
    "    ['The Green Knight', 'Sue', 35, 2],\n",
    "    ['The Shawshank Redemption', 'Kadence', 25, 5],\n",
    "    ['The Shawshank Redemption', 'Thomas', 35, 4],\n",
    "    ['The Shawshank Redemption', 'Sue', 35, 5]\n",
    "]"
   ]
  },
  {
   "cell_type": "markdown",
   "metadata": {},
   "source": [
    "## Create a new dictionary with the total money spend for each movie"
   ]
  },
  {
   "cell_type": "code",
   "execution_count": 276,
   "metadata": {},
   "outputs": [
    {
     "name": "stdout",
     "output_type": "stream",
     "text": [
      "{'12 Angry Men': 7, '14 Angry Men': 4, 'The Dark Knight': 8, 'The Godfather': 11, 'The Green Knight': 2, 'The Shawshank Redemption': 14}\n"
     ]
    }
   ],
   "source": [
    "newMovie = {}\n",
    "y = 0 \n",
    "for i in movies:\n",
    "    if i[0] not in newMovie:\n",
    "        newMovie[i[0]] = movies[y][-1]\n",
    "        y+=1\n",
    "    else:\n",
    "        y+=1\n",
    "        newMovie[i[0]] = newMovie[i[0]] + movies[y-1][-1]\n",
    "        \n",
    "print(newMovie)"
   ]
  },
  {
   "cell_type": "code",
   "execution_count": 278,
   "metadata": {},
   "outputs": [
    {
     "name": "stdout",
     "output_type": "stream",
     "text": [
      "{'12 Angry Men': 7, '14 Angry Men': 4, 'The Dark Knight': 8, 'The Godfather': 11, 'The Green Knight': 2, 'The Shawshank Redemption': 14}\n"
     ]
    }
   ],
   "source": [
    "newdict = {}\n",
    "for item in movies:\n",
    "    if item[0] in newdict.keys():\n",
    "        newdict[item[0]] += item[-1]\n",
    "    else:\n",
    "        key = item[0]\n",
    "        newdict[key] = item[-1]\n",
    "print(newdict)"
   ]
  },
  {
   "cell_type": "markdown",
   "metadata": {},
   "source": [
    "## Using a for loop, create a dictionary with the customers as keys and a list of each of their spending amounts as values"
   ]
  },
  {
   "cell_type": "code",
   "execution_count": 351,
   "metadata": {},
   "outputs": [
    {
     "name": "stdout",
     "output_type": "stream",
     "text": [
      "{'Kadence': [4, 3, 4, 5], 'Micah': [3, 5], 'Hans': [4], 'Thomas': [5, 4], 'Howard': [2], 'Sue': [2, 5]}\n"
     ]
    }
   ],
   "source": [
    "custDict1 = {}\n",
    "\n",
    "for i in movies:\n",
    "    if not i[1] in custDict1.keys():\n",
    "        custDict1[i[1]] = [i[-1]]\n",
    "    else:\n",
    "        custDict1[i[1]].append(i[-1])\n",
    "print(custDict1)"
   ]
  },
  {
   "cell_type": "markdown",
   "metadata": {},
   "source": [
    "## Now create a dictionary that shows the customers as keys and their total spending as values\n",
    ">- store the total spending in a list for use in the next problem"
   ]
  },
  {
   "cell_type": "code",
   "execution_count": 345,
   "metadata": {},
   "outputs": [
    {
     "name": "stdout",
     "output_type": "stream",
     "text": [
      "{'Kadence': 16, 'Micah': 8, 'Hans': 4, 'Thomas': 9, 'Howard': 2, 'Sue': 7}\n"
     ]
    }
   ],
   "source": [
    "custDict = {}\n",
    "for i in movies:\n",
    "    for keys in movies:\n",
    "        custDict.setdefault(keys[1],0)\n",
    "    if i[1] in custDict.keys():\n",
    "        custDict[i[1]] += i[-1]\n",
    "\n",
    "print(custDict)"
   ]
  },
  {
   "cell_type": "markdown",
   "metadata": {},
   "source": [
    "## Add a \"customer status\" element to the list of the dictionary above\n",
    ">- 'Deep Pockets' if he/she spend >= 10\n",
    ">- 'Regular Joe/Jane' if he/she spend >=5 and <10\n",
    ">- 'Miser' if he/she spend < 5\n"
   ]
  },
  {
   "cell_type": "code",
   "execution_count": null,
   "metadata": {},
   "outputs": [],
   "source": []
  },
  {
   "cell_type": "markdown",
   "metadata": {},
   "source": [
    "# Functions"
   ]
  },
  {
   "cell_type": "markdown",
   "metadata": {},
   "source": [
    "# Q32: Create a function, `least_diff`, that accepts 3 numbers, a, b & c as parameters \n",
    ">- The function should take the absolute value of a-b\n",
    ">- The function should take the absolute value of b-c\n",
    ">- The function should take the absolute value of a-c\n",
    ">- The function should return the minimum difference of the 3 calculations\n"
   ]
  },
  {
   "cell_type": "code",
   "execution_count": 360,
   "metadata": {},
   "outputs": [],
   "source": [
    "def least_diff(a,b,c):\n",
    "    print(min(abs(a-b), abs(b-c),abs(a-c)))"
   ]
  },
  {
   "cell_type": "code",
   "execution_count": 361,
   "metadata": {},
   "outputs": [
    {
     "name": "stdout",
     "output_type": "stream",
     "text": [
      "13\n"
     ]
    }
   ],
   "source": [
    "least_diff(110,2,15)"
   ]
  },
  {
   "cell_type": "markdown",
   "metadata": {},
   "source": [
    "### Use the 3 numbers, 1, 10 & 100 in your least_diff function to print the the least difference. "
   ]
  },
  {
   "cell_type": "code",
   "execution_count": 362,
   "metadata": {},
   "outputs": [
    {
     "name": "stdout",
     "output_type": "stream",
     "text": [
      "9\n"
     ]
    }
   ],
   "source": [
    "least_diff(1,10,100)"
   ]
  },
  {
   "cell_type": "markdown",
   "metadata": {
    "scrolled": true
   },
   "source": [
    "# Q33: Bday song function\n",
    "### Create a function that uses separate print statements to output the Happy Birthday Song to a person's name passed to the function"
   ]
  },
  {
   "cell_type": "code",
   "execution_count": 363,
   "metadata": {},
   "outputs": [],
   "source": [
    "def  birthday(name):\n",
    "    print(f'Happy Birthday to You,')\n",
    "    print(f'Happy Birthday to You,')\n",
    "    print(f'Happy Birthday Dear {name},')\n",
    "    print(f'Happy Birthday to You.')"
   ]
  },
  {
   "cell_type": "markdown",
   "metadata": {},
   "source": [
    "### Call your bday function in the next cell and pass your name to it"
   ]
  },
  {
   "cell_type": "code",
   "execution_count": 364,
   "metadata": {},
   "outputs": [
    {
     "name": "stdout",
     "output_type": "stream",
     "text": [
      "Happy Birthday to You,\n",
      "Happy Birthday to You,\n",
      "Happy Birthday Dear Daniel,\n",
      "Happy Birthday to You.\n"
     ]
    }
   ],
   "source": [
    "birthday('Daniel')"
   ]
  },
  {
   "cell_type": "markdown",
   "metadata": {},
   "source": [
    "# Q34: ATM Example function\n",
    "1. Create a function that uses while loops to ask a user to enter their username and pin for an ATM withdrawal. Your function should have these requirements \n",
    ">- The username can only include letters. If a user inters anything else prompt them how to correct their error then ask them for their username again\n",
    ">- Once a valid username is entered ask the user to enter a pin that only includes numbers. If the user enters an invalid pin prompt them what they did wrong and ask them to enter their pin again. \n",
    ">>- Do not ask them for their username again if they enter a wrong pin\n",
    ">- If the user inputs correct data the function should print \"Thanks, here is your cashola!\" Granted\"\n",
    "Note: In this function all answers should be right answers if they include the correct specifications for username and pin\n",
    "\n"
   ]
  },
  {
   "cell_type": "code",
   "execution_count": 66,
   "metadata": {},
   "outputs": [],
   "source": [
    "def atm():\n",
    "    while True:\n",
    "        name = input('What is your username: ')\n",
    "        if name.isalpha() == False:\n",
    "            print('Please enter a username that does not contain any numbers.')\n",
    "        else:\n",
    "            break\n",
    "    while True:      \n",
    "        pin = input('What is your PIN: ')\n",
    "        if pin.isnumeric() == False:\n",
    "            print('Please enter a PIN that only contains numbers.')\n",
    "        else:\n",
    "            break\n",
    "    print(\"Thank, here is your cashola\")"
   ]
  },
  {
   "cell_type": "code",
   "execution_count": 67,
   "metadata": {},
   "outputs": [
    {
     "name": "stdout",
     "output_type": "stream",
     "text": [
      "What is your username: asdnasd123123\n",
      "Please enter a username that does not contain any numbers.\n",
      "What is your username: 1234123\n",
      "Please enter a username that does not contain any numbers.\n",
      "What is your username: 12312\n",
      "Please enter a username that does not contain any numbers.\n",
      "What is your username: dsads1243\n",
      "Please enter a username that does not contain any numbers.\n",
      "What is your username: dab\n",
      "What is your PIN: e12\n",
      "Please enter a PIN that only contains numbers.\n",
      "What is your PIN: e2e2\n",
      "Please enter a PIN that only contains numbers.\n",
      "What is your PIN: 2123\n",
      "Thank, here is your cashola\n"
     ]
    }
   ],
   "source": [
    "atm()"
   ]
  },
  {
   "cell_type": "code",
   "execution_count": null,
   "metadata": {},
   "outputs": [],
   "source": []
  },
  {
   "cell_type": "markdown",
   "metadata": {},
   "source": [
    "# Data Structures"
   ]
  },
  {
   "cell_type": "markdown",
   "metadata": {},
   "source": [
    "# Q35: The following list contains the medal standings for the Olympics. The items are continent, country, population, gold, silver, bronze\n",
    "### Create a dictionary with the total number of gold medals per continent"
   ]
  },
  {
   "cell_type": "code",
   "execution_count": 68,
   "metadata": {},
   "outputs": [],
   "source": [
    "medals = [\n",
    "            ['North America','United States', 1339180127, 5, 1, 2],\n",
    "            ['North America','Canada', 36624199, 4, 5, 4],\n",
    "            ['Europe','Norway', 5305383, 6, 7, 4],\n",
    "            ['Europe', 'Germany', 82114224, 9, 2, 4 ],\n",
    "            ['Europe','Netherlands', 17035938, 5, 5, 2 ],\n",
    "            ['Europe', 'Sweden', 9910701 , 3, 2, 0]\n",
    "          ]"
   ]
  },
  {
   "cell_type": "code",
   "execution_count": 78,
   "metadata": {},
   "outputs": [
    {
     "name": "stdout",
     "output_type": "stream",
     "text": [
      "{'North America': 9, 'Europe': 23}\n"
     ]
    }
   ],
   "source": [
    "goldDict = {}\n",
    "\n",
    "for i in medals:\n",
    "    if i[0] not in goldDict.keys():\n",
    "        goldDict[i[0]] = i[-3]\n",
    "    else:\n",
    "        goldDict[i[0]] += i[-3]\n",
    "print(goldDict)"
   ]
  },
  {
   "cell_type": "markdown",
   "metadata": {},
   "source": [
    "# Q36: Using `medals` defined above \n",
    "### Create a dictionary with the country name, the total number of medals per country and the total number of medals per capita"
   ]
  },
  {
   "cell_type": "code",
   "execution_count": 95,
   "metadata": {},
   "outputs": [
    {
     "name": "stdout",
     "output_type": "stream",
     "text": [
      "{'United States': [8, 6.000000001493451], 'Canada': [13, 9.000000109217405], 'Norway': [17, 13.000000753951223], 'Germany': [15, 11.000000048712632], 'Netherlands': [12, 10.000000117398878], 'Sweden': [5, 5.0]}\n"
     ]
    }
   ],
   "source": [
    "countDict = {}\n",
    "\n",
    "for i in medals:\n",
    "    if i[1] not in countDict.keys():\n",
    "        medList = [i[3]+i[4]+i[5]]\n",
    "        perCap = i[3]+i[4]+i[5]/i[2]\n",
    "        medList.append(perCap)\n",
    "#         countDict[i[0]] = i[3] + i[4] + i[5]\n",
    "        countDict[i[1]] = medList\n",
    "#     else:\n",
    "#         countDict[i[1]]\n",
    "print(countDict)"
   ]
  },
  {
   "cell_type": "markdown",
   "metadata": {},
   "source": [
    "## Create a list to store the total points by country. \n",
    ">- Assign 5 points to each gold medal\n",
    ">- 3 points to each silver metal\n",
    ">- 1 point for bronze metals\n"
   ]
  },
  {
   "cell_type": "code",
   "execution_count": 100,
   "metadata": {},
   "outputs": [
    {
     "name": "stdout",
     "output_type": "stream",
     "text": [
      "[['United States', 30], ['Canada', 39], ['Norway', 55], ['Germany', 55], ['Netherlands', 42], ['Sweden', 21]]\n"
     ]
    }
   ],
   "source": [
    "scoreList = []\n",
    "\n",
    "for i in medals:\n",
    "    if i[1] not in scoreList:\n",
    "        scoreList.append([i[1],(i[3]*5) + (i[4]*3) + (i[5]*1)])\n",
    "print(scoreList)"
   ]
  },
  {
   "cell_type": "markdown",
   "metadata": {},
   "source": [
    "# Q37: The following list contains lists that include: studentName, age, Course, test, points in that order"
   ]
  },
  {
   "cell_type": "code",
   "execution_count": 101,
   "metadata": {},
   "outputs": [],
   "source": [
    "students = [\n",
    "    [\"Kadence Waggoner\", 21, \"BAIM3220\", \"quiz1\", 85],\n",
    "    [\"Kadence Waggoner\", 21, \"BAIM3220\", \"quiz2\", 75],\n",
    "    [\"Micah McGee\", 35, \"BAIM3220\", \"quiz1\", 75],\n",
    "    [\"Micah McGee\", 35, \"BAIM3220\", \"final exam\", 95],\n",
    "    [\"Kadence Waggoner\", 21, \"BAIM3220\", \"final exam\", 75],\n",
    "    [\"Jane Doe\", 20, \"BAIM3220\", \"final exam\", 85],\n",
    "    [\"Jane Doe\", 20, \"BAIM3220\", \"quiz2\", 100],\n",
    "    [\"Micah McGee\", 35, \"BAIM3220\", \"quiz2\", 99],\n",
    "    [\"Jane Doe\", 20, \"BAIM3220\", \"quiz1\", 75]\n",
    "]"
   ]
  },
  {
   "cell_type": "markdown",
   "metadata": {},
   "source": [
    "### Use the students list from the prior cell to create a dictionary with the students name and the current grade as percentage. \n",
    ">- The 2 Quizzes weigh 25% each and the final exam weighs 50% of the students grade. \n",
    ">- All points are out of 100."
   ]
  },
  {
   "cell_type": "code",
   "execution_count": 118,
   "metadata": {},
   "outputs": [
    {
     "name": "stdout",
     "output_type": "stream",
     "text": [
      "{'Kadence Waggoner': 77.5, 'Micah McGee': 91.0, 'Jane Doe': 86.25}\n"
     ]
    }
   ],
   "source": [
    "grades = {}\n",
    "\n",
    "for i in students:\n",
    "    if i[0] not in grades.keys():\n",
    "        if i[-2] == \"quiz1\":\n",
    "            grades[i[0]] = (i[-1]*.25)\n",
    "        elif i[-2] == \"quiz2\":\n",
    "            grades[i[0]] = (i[-1]*.25)\n",
    "        elif i[-2] == \"final exam\":\n",
    "            grades[i[0]] = (i[-1]*.50)\n",
    "    else:\n",
    "        if i[-2] == \"quiz1\":\n",
    "            grades[i[0]] += (i[-1]*.25)\n",
    "        elif i[-2] == \"quiz2\":\n",
    "            grades[i[0]] += (i[-1]*.25)\n",
    "        elif i[-2] == \"final exam\":\n",
    "            grades[i[0]] += (i[-1]*.50)\n",
    "print(grades)"
   ]
  },
  {
   "cell_type": "markdown",
   "metadata": {},
   "source": [
    "# Q38: Use a for loop to determine the average age of the students from Q37"
   ]
  },
  {
   "cell_type": "code",
   "execution_count": 138,
   "metadata": {},
   "outputs": [
    {
     "name": "stdout",
     "output_type": "stream",
     "text": [
      "The average student age is: 25.33\n"
     ]
    }
   ],
   "source": [
    "totStudents = 0\n",
    "totAge = 0\n",
    "names = []\n",
    "for i in students:\n",
    "    if i[0] not in names:\n",
    "        names.append(i[0])\n",
    "        totAge += i[1]\n",
    "        totStudents += 1\n",
    "\n",
    "print(f'The average student age is: {round(totAge/totStudents,2)}')"
   ]
  },
  {
   "cell_type": "code",
   "execution_count": null,
   "metadata": {},
   "outputs": [],
   "source": []
  },
  {
   "cell_type": "markdown",
   "metadata": {},
   "source": [
    "# Q39: Use the following generic dictionary, `example` to practice working with dictionaries"
   ]
  },
  {
   "cell_type": "code",
   "execution_count": 139,
   "metadata": {},
   "outputs": [],
   "source": [
    "example = {'row1key': ['row1 first list element', 'row1 second list element', 1111],\n",
    "        'row2key': ['row2 first list element', 'row2 second list element', 2222],\n",
    "        'row3key': ['row3 first list element', 'row3 second list element', 3333],\n",
    "        'row4key': ['row4 first list element', 'row4 second list element', 4444],\n",
    "        'row5key': ['row5 first list element', 'row5 second list element', 5555],\n",
    "        }"
   ]
  },
  {
   "cell_type": "markdown",
   "metadata": {},
   "source": [
    "### Use a loop to add all the integer values in the dictionary"
   ]
  },
  {
   "cell_type": "code",
   "execution_count": 142,
   "metadata": {},
   "outputs": [
    {
     "name": "stdout",
     "output_type": "stream",
     "text": [
      "16665\n"
     ]
    }
   ],
   "source": [
    "tot = 0\n",
    "for v in example.values():\n",
    "    tot += v[-1]\n",
    "print(tot)"
   ]
  },
  {
   "cell_type": "markdown",
   "metadata": {},
   "source": [
    "### Write the code to show all the keys from the example dictionary"
   ]
  },
  {
   "cell_type": "code",
   "execution_count": 143,
   "metadata": {},
   "outputs": [
    {
     "name": "stdout",
     "output_type": "stream",
     "text": [
      "row1key\n",
      "row2key\n",
      "row3key\n",
      "row4key\n",
      "row5key\n"
     ]
    }
   ],
   "source": [
    "for k in example.keys():\n",
    "    print(k)"
   ]
  },
  {
   "cell_type": "markdown",
   "metadata": {},
   "source": [
    "### Write the code to show all the values from the example dictionary"
   ]
  },
  {
   "cell_type": "code",
   "execution_count": 144,
   "metadata": {},
   "outputs": [
    {
     "name": "stdout",
     "output_type": "stream",
     "text": [
      "['row1 first list element', 'row1 second list element', 1111]\n",
      "['row2 first list element', 'row2 second list element', 2222]\n",
      "['row3 first list element', 'row3 second list element', 3333]\n",
      "['row4 first list element', 'row4 second list element', 4444]\n",
      "['row5 first list element', 'row5 second list element', 5555]\n"
     ]
    }
   ],
   "source": [
    "for v in example.values():\n",
    "    print(v)"
   ]
  },
  {
   "cell_type": "markdown",
   "metadata": {},
   "source": [
    "### Write the code to show all the key:value pairs from the example dictionary"
   ]
  },
  {
   "cell_type": "code",
   "execution_count": 147,
   "metadata": {},
   "outputs": [
    {
     "name": "stdout",
     "output_type": "stream",
     "text": [
      "{'row1key': ['row1 first list element', 'row1 second list element', 1111], 'row2key': ['row2 first list element', 'row2 second list element', 2222], 'row3key': ['row3 first list element', 'row3 second list element', 3333], 'row4key': ['row4 first list element', 'row4 second list element', 4444], 'row5key': ['row5 first list element', 'row5 second list element', 5555]}\n"
     ]
    }
   ],
   "source": [
    "print(example)"
   ]
  },
  {
   "cell_type": "markdown",
   "metadata": {},
   "source": [
    "### Calculate the average for the integer values in the example dictionary"
   ]
  },
  {
   "cell_type": "code",
   "execution_count": 148,
   "metadata": {},
   "outputs": [
    {
     "name": "stdout",
     "output_type": "stream",
     "text": [
      "3333.0\n"
     ]
    }
   ],
   "source": [
    "tot = 0\n",
    "count = 0\n",
    "for v in example.values():\n",
    "    tot += v[-1]\n",
    "    count += 1\n",
    "print(tot/count)"
   ]
  },
  {
   "cell_type": "markdown",
   "metadata": {},
   "source": [
    "### Create a list of all the integer values in the example dictionary."
   ]
  },
  {
   "cell_type": "code",
   "execution_count": 149,
   "metadata": {},
   "outputs": [
    {
     "name": "stdout",
     "output_type": "stream",
     "text": [
      "[1111, 2222, 3333, 4444, 5555]\n"
     ]
    }
   ],
   "source": [
    "valList = []\n",
    "for v in example.values():\n",
    "    valList.append(v[-1])\n",
    "print(valList)"
   ]
  },
  {
   "cell_type": "markdown",
   "metadata": {},
   "source": [
    "#### Sum the values in the list you just defined"
   ]
  },
  {
   "cell_type": "code",
   "execution_count": 150,
   "metadata": {},
   "outputs": [
    {
     "data": {
      "text/plain": [
       "16665"
      ]
     },
     "execution_count": 150,
     "metadata": {},
     "output_type": "execute_result"
    }
   ],
   "source": [
    "sum(valList)"
   ]
  },
  {
   "cell_type": "markdown",
   "metadata": {},
   "source": [
    "#### Show how many values are in the list you defined above"
   ]
  },
  {
   "cell_type": "code",
   "execution_count": 155,
   "metadata": {},
   "outputs": [
    {
     "data": {
      "text/plain": [
       "5"
      ]
     },
     "execution_count": 155,
     "metadata": {},
     "output_type": "execute_result"
    }
   ],
   "source": [
    "len(valList)"
   ]
  },
  {
   "cell_type": "markdown",
   "metadata": {},
   "source": [
    "### Create a dictionary with numbers 1-5 as keys and the integers from the example dictionary as values\n",
    "\n",
    ">- First, do this using the integer list you defined in the last problem\n",
    ">- Then, do this by using the original dictionary"
   ]
  },
  {
   "cell_type": "markdown",
   "metadata": {},
   "source": [
    "#### First, create the dictionary using the list you defined above"
   ]
  },
  {
   "cell_type": "code",
   "execution_count": 159,
   "metadata": {},
   "outputs": [
    {
     "name": "stdout",
     "output_type": "stream",
     "text": [
      "{1: 1111, 2: 2222, 3: 3333, 4: 4444, 5: 5555}\n"
     ]
    }
   ],
   "source": [
    "valDict = {}\n",
    "x = 1\n",
    "for i in valList:\n",
    "    valDict[x] = i\n",
    "    x+=1\n",
    "print(valDict)"
   ]
  },
  {
   "cell_type": "markdown",
   "metadata": {},
   "source": [
    "#### Now, build the same dictionary but do this by using the original `example` dictionary"
   ]
  },
  {
   "cell_type": "code",
   "execution_count": 163,
   "metadata": {},
   "outputs": [
    {
     "name": "stdout",
     "output_type": "stream",
     "text": [
      "{1: 1111, 2: 2222, 3: 3333, 4: 4444, 5: 5555}\n"
     ]
    }
   ],
   "source": [
    "valDict2 = {}\n",
    "x = 1\n",
    "for k,v in example.items():\n",
    "    valDict2[x] = v[-1]\n",
    "    x+=1\n",
    "print(valDict2)"
   ]
  }
 ],
 "metadata": {
  "kernelspec": {
   "display_name": "Python 3",
   "language": "python",
   "name": "python3"
  },
  "language_info": {
   "codemirror_mode": {
    "name": "ipython",
    "version": 3
   },
   "file_extension": ".py",
   "mimetype": "text/x-python",
   "name": "python",
   "nbconvert_exporter": "python",
   "pygments_lexer": "ipython3",
   "version": "3.8.3"
  },
  "latex_envs": {
   "LaTeX_envs_menu_present": true,
   "autoclose": false,
   "autocomplete": true,
   "bibliofile": "biblio.bib",
   "cite_by": "apalike",
   "current_citInitial": 1,
   "eqLabelWithNumbers": true,
   "eqNumInitial": 1,
   "hotkeys": {
    "equation": "Ctrl-E",
    "itemize": "Ctrl-I"
   },
   "labels_anchors": false,
   "latex_user_defs": false,
   "report_style_numbering": false,
   "user_envs_cfg": false
  }
 },
 "nbformat": 4,
 "nbformat_minor": 2
}
