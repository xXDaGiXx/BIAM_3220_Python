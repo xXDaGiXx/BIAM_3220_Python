{
 "cells": [
  {
   "cell_type": "markdown",
   "metadata": {},
   "source": [
    "# BAIM 3220: Introduction to Python\n",
    "#### Midterm: Python Fundamentals: Variables, Flow Control, Functions, Data Structures\n",
    ">- This exam is designed to assess your understanding of Python programming fundamentals\n",
    ">- Time: you will have 80 minutes to complete the exam AND upload your .ipynb file to Canvas\n",
    ">>- Late submissions will receive a 10% deduction in points up to 5 minutes late\n",
    ">>- Late submissions received after 5 minutes late will not be graded and will be recorded as a 0.\n",
    ">>- You must submit any late notebooks to the Canvas quiz comment section and NOT an email. Email submissions will not be graded\n",
    "\n",
    "#### Submission: After downloading this .ipynb file from Canvas, resave with the following naming format:\n",
    ">- LastName_FirstName_Midterm.ipynb\n",
    "\n",
    "#### When you are ready to submit your quiz, upload your .ipynb file to Canvas in Midterm "
   ]
  },
  {
   "cell_type": "markdown",
   "metadata": {},
   "source": [
    "# Q1 (3 points) Variable Assignment with Input\n",
    "## In the next cell write code that will ask a user for their name and store the result in a variable called, `name`"
   ]
  },
  {
   "cell_type": "code",
   "execution_count": 1,
   "metadata": {},
   "outputs": [
    {
     "name": "stdout",
     "output_type": "stream",
     "text": [
      "What is your namme?: Daniel\n"
     ]
    }
   ],
   "source": [
    "name = input('What is your namme?: ')"
   ]
  },
  {
   "cell_type": "markdown",
   "metadata": {},
   "source": [
    "# Q2 (3 points) String Length\n",
    "## In the next cell write the code to return the length of the, `name`, variable assigned in Q1"
   ]
  },
  {
   "cell_type": "code",
   "execution_count": 3,
   "metadata": {},
   "outputs": [
    {
     "data": {
      "text/plain": [
       "6"
      ]
     },
     "execution_count": 3,
     "metadata": {},
     "output_type": "execute_result"
    }
   ],
   "source": [
    "len(name)"
   ]
  },
  {
   "cell_type": "markdown",
   "metadata": {},
   "source": [
    "# Q3 (3 points) String Methods\n",
    "## In the next cell write the code to convert, `name`, variable assigned in Q1 to all capital letters"
   ]
  },
  {
   "cell_type": "code",
   "execution_count": 4,
   "metadata": {},
   "outputs": [
    {
     "data": {
      "text/plain": [
       "'DANIEL'"
      ]
     },
     "execution_count": 4,
     "metadata": {},
     "output_type": "execute_result"
    }
   ],
   "source": [
    "name.upper()"
   ]
  },
  {
   "cell_type": "markdown",
   "metadata": {},
   "source": [
    "# Q4 (3 points) String Methods\n",
    "## In the next cell write the code to check whether, `name`, variable assigned in Q1 only includes capitals for the first word in every word followed by lower case."
   ]
  },
  {
   "cell_type": "code",
   "execution_count": 5,
   "metadata": {},
   "outputs": [
    {
     "data": {
      "text/plain": [
       "True"
      ]
     },
     "execution_count": 5,
     "metadata": {},
     "output_type": "execute_result"
    }
   ],
   "source": [
    "name.istitle()"
   ]
  },
  {
   "cell_type": "markdown",
   "metadata": {},
   "source": [
    "# Q5 (3 points) Variable Assignment\n",
    "## In the next cell, type the value of the variable `revenue` after the following code is executed. Run your cell so your response shows in the output.\n",
    "\n",
    "revenue = 1000\n",
    "\n",
    "revenue + 10"
   ]
  },
  {
   "cell_type": "code",
   "execution_count": 306,
   "metadata": {},
   "outputs": [
    {
     "data": {
      "text/plain": [
       "1000"
      ]
     },
     "execution_count": 306,
     "metadata": {},
     "output_type": "execute_result"
    }
   ],
   "source": [
    "#Type the value of revenue on the next line\n",
    "\n",
    "1000"
   ]
  },
  {
   "cell_type": "markdown",
   "metadata": {},
   "source": [
    "# Q6 (3 points) \n",
    "## In the next cell write and execute the Python code to show the remainder when 23 is divided by 3"
   ]
  },
  {
   "cell_type": "code",
   "execution_count": 7,
   "metadata": {},
   "outputs": [
    {
     "data": {
      "text/plain": [
       "2"
      ]
     },
     "execution_count": 7,
     "metadata": {},
     "output_type": "execute_result"
    }
   ],
   "source": [
    "23 % 3"
   ]
  },
  {
   "cell_type": "markdown",
   "metadata": {},
   "source": [
    "# Q7 (3 points) \n",
    "## Correct the control flow given in the next cell so that correct responses will be printed for printing grades based on percentage\n",
    ">- For example, as currently written if grade = 90 the code would currently print 'You got a D' which is certainly not what you want if you earn a 90 in a course. \n",
    ">- Note: don't change any of the values given for grades just the control flow"
   ]
  },
  {
   "cell_type": "markdown",
   "metadata": {},
   "source": [
    "### Don't do anything to the next cell - it just shows you the incorrect control flow"
   ]
  },
  {
   "cell_type": "raw",
   "metadata": {},
   "source": [
    "grade = 90\n",
    "\n",
    "if grade >93:\n",
    "\n",
    "      print('You got an A')\n",
    "\n",
    "elif grade >65:\n",
    "\n",
    "      print('You got a D')\n",
    "\n",
    "elif grade >75:\n",
    "\n",
    "     print('You got a C')\n",
    "\n",
    "elif grade > 85:\n",
    "\n",
    "     print('You got a B')\n",
    "\n",
    "else:\n",
    "\n",
    "     print('You got an F')"
   ]
  },
  {
   "cell_type": "markdown",
   "metadata": {},
   "source": [
    "### Correct the code in the next cell and then run then cell"
   ]
  },
  {
   "cell_type": "code",
   "execution_count": 20,
   "metadata": {},
   "outputs": [
    {
     "name": "stdout",
     "output_type": "stream",
     "text": [
      "You got a B\n"
     ]
    }
   ],
   "source": [
    "grade = 90\n",
    "if grade >93:\n",
    "      print('You got an A')\n",
    "elif grade > 85:\n",
    "     print('You got a B')\n",
    "elif grade >75:\n",
    "     print('You got a C')\n",
    "elif grade >65:\n",
    "      print('You got a D')\n",
    "else:\n",
    "     print('You got an F')"
   ]
  },
  {
   "cell_type": "markdown",
   "metadata": {},
   "source": [
    "# Q8 (18 points) Area of Sphere\n",
    "## In the next cell define a function, `spArea`, to calculate and print the area of a sphere\n",
    "### Specifications:\n",
    ">- Assume pi=3.14\n",
    ">- Your function should only have one parameter, `diameter`, passed to it\n",
    ">- You must create your own function here, do not use a module\n",
    ">- If you forgot how to calculate the area of a sphere, look it up (Google it). \n",
    ">- Print a statement describing the area of the sphere \n",
    ">>- For example, if passed 100 as the parameter, your function should print a statement: \"The area of your sphere is: 31400 units squared\""
   ]
  },
  {
   "cell_type": "code",
   "execution_count": 24,
   "metadata": {},
   "outputs": [],
   "source": [
    "def spArea(diameter):\n",
    "    pi = 3.14\n",
    "    r = diameter / 2\n",
    "    a = 4*pi*(r**2)\n",
    "    print(f'The area of your sphere is: {a} units squared')"
   ]
  },
  {
   "cell_type": "markdown",
   "metadata": {},
   "source": [
    "### In the next cell pass 100 to your `spArea` function and show the result. "
   ]
  },
  {
   "cell_type": "code",
   "execution_count": 25,
   "metadata": {},
   "outputs": [
    {
     "name": "stdout",
     "output_type": "stream",
     "text": [
      "The area of your sphere is: 31400.0 units squared\n"
     ]
    }
   ],
   "source": [
    "spArea(100)"
   ]
  },
  {
   "cell_type": "markdown",
   "metadata": {},
   "source": [
    "# Q9 (18 points) Shipping Level Function Control Flow\n",
    "## In the next cell create a function `shipping` that will return the price of shipping based on the following criteria:\n",
    "1. The function must accept two parameters, `country` and `weight`.\n",
    "2. Each possible output line should display \"The shipping cost is \\$X\"\n",
    ">>- For example, if the country is 'US' and the weight is less than 25 pounds the output would be \"The shipping cost is $50\"\n",
    "\n",
    "### The criteria for each country is defined below:\n",
    ">- Country='US'\n",
    ">>- \\$50: Less than 25 pounds\n",
    ">>- \\$75: 25 pounds up to but less than 100 pounds\n",
    ">>- \\$150: 100 pounds up to but Less than 150 pounds\n",
    "\n",
    ">- Country='CAN'\n",
    ">>- Free: Less than 50 pounds\n",
    ">>- \\$100: More than or equal to 50 pounds"
   ]
  },
  {
   "cell_type": "markdown",
   "metadata": {},
   "source": [
    "#### In the next cell write your function but do not call it."
   ]
  },
  {
   "cell_type": "code",
   "execution_count": 26,
   "metadata": {},
   "outputs": [],
   "source": [
    "def shipping(country,weight):\n",
    "    if country == 'US':\n",
    "        if weight < 25:\n",
    "            print('The shipping cost is $50')\n",
    "        elif weight >= 25 and weight < 100:\n",
    "            print('The shipping cost is $75')\n",
    "        elif weight >= 100 and weight < 150:\n",
    "            print('The shipping cost is $150')\n",
    "        else:\n",
    "            print('The shipping weight is to heavy.')\n",
    "    elif country == 'CAN':\n",
    "        if weight < 50:\n",
    "            print('The shipping cost is free')\n",
    "        elif weight >= 50:\n",
    "            print('The shipping cost is $100')\n",
    "        else:\n",
    "            print('The shipping weight is to heavy.')\n",
    "    else:\n",
    "        print('Please enter a valid country')"
   ]
  },
  {
   "cell_type": "markdown",
   "metadata": {},
   "source": [
    "#### In the next cell, call the `shipping` function, pass \"US\" and $99 and show the results"
   ]
  },
  {
   "cell_type": "code",
   "execution_count": 32,
   "metadata": {},
   "outputs": [
    {
     "name": "stdout",
     "output_type": "stream",
     "text": [
      "The shipping cost is $75\n"
     ]
    }
   ],
   "source": [
    "shipping('US',99)"
   ]
  },
  {
   "cell_type": "markdown",
   "metadata": {},
   "source": [
    "# Q10 (18 points) Number List \n",
    "## In the next cell, write the Python code that will:\n",
    ">- Find the numbers divisible by both 3 and 5 between 0 and 100\n",
    ">- Store the numbers in a list\n",
    ">- Show the list of numbers"
   ]
  },
  {
   "cell_type": "code",
   "execution_count": 35,
   "metadata": {},
   "outputs": [
    {
     "name": "stdout",
     "output_type": "stream",
     "text": [
      "[0, 15, 30, 45, 60, 75, 90]\n"
     ]
    }
   ],
   "source": [
    "numList = []\n",
    "for i in range(0,101):\n",
    "    if i % 3 == 0 and i % 5 == 0:\n",
    "        numList.append(i)\n",
    "print(numList)"
   ]
  },
  {
   "cell_type": "markdown",
   "metadata": {},
   "source": [
    "# Q11 (24 points): List Search and Index Print\n",
    ">- In the next cell write the control flow to check whether `target` is in `aList` as defined below\n",
    ">>- `aList = [34,60,67,45,1005,100,25,26]`\n",
    ">>- `target = 25`\n",
    ">- Print the index position of the `target` if it is found in `aList`\n",
    ">>- The print statement should be: \"The target of {value of target} was found at index posistion, {index}\" \n",
    ">>>- Where {value of target} and {index} should be the actual values for target and the index when printed\n",
    ">- If `target` is not in the list print \"Target not found\""
   ]
  },
  {
   "cell_type": "code",
   "execution_count": 52,
   "metadata": {},
   "outputs": [
    {
     "name": "stdout",
     "output_type": "stream",
     "text": [
      "The target of 25 was found at index position, 6\n"
     ]
    }
   ],
   "source": [
    "# The next two lines will start your code with the assignment of aList and target\n",
    "aList = [34,60,67,45,1005,100,25,26]\n",
    "target = 25\n",
    "\n",
    "if target in aList:\n",
    "    index = aList.index(target)\n",
    "    print(f'The target of {target} was found at index position, {index}')\n",
    "else:\n",
    "    print('Target not found')"
   ]
  },
  {
   "cell_type": "markdown",
   "metadata": {},
   "source": [
    "# Q12 (24 Points) List Append Cube Function\n",
    ">- Write a function named, `cube`, that when passed a list of numbers as the parameter will return a list of cubes of the integers stored in the original list. \n",
    ">- For example, your function when passed the list [1,2,3,4] would return the list [1,8,27,64]."
   ]
  },
  {
   "cell_type": "code",
   "execution_count": 58,
   "metadata": {},
   "outputs": [],
   "source": [
    "def cube(aList):\n",
    "    cubeList = []\n",
    "    for i in aList:\n",
    "        cubeList.append(i**3)\n",
    "    print(cubeList)"
   ]
  },
  {
   "cell_type": "markdown",
   "metadata": {},
   "source": [
    "#### In the next cell, pass the list `[1,2,3,4]` to your `cube` function and show the output. "
   ]
  },
  {
   "cell_type": "code",
   "execution_count": 59,
   "metadata": {
    "scrolled": true
   },
   "outputs": [
    {
     "name": "stdout",
     "output_type": "stream",
     "text": [
      "[1, 8, 27, 64]\n"
     ]
    }
   ],
   "source": [
    "cube([1,2,3,4])"
   ]
  },
  {
   "cell_type": "markdown",
   "metadata": {},
   "source": [
    "# Q13 (24 points) Average Function\n",
    ">- Write a function named, `average`, that when passed a list value as the parameter will return the average of the integers stored in the list.\n",
    ">- Do not use any modules in your function - write your own function from scratch\n",
    ">- For example, your function would return `4.0` when passed the list: [1,3,5,7]"
   ]
  },
  {
   "cell_type": "markdown",
   "metadata": {},
   "source": [
    "### Define the function in the next cell but don't pass a list yet"
   ]
  },
  {
   "cell_type": "code",
   "execution_count": 62,
   "metadata": {},
   "outputs": [],
   "source": [
    "def average(aList):\n",
    "    tot = 0\n",
    "    count = 0\n",
    "    for i in aList:\n",
    "        tot += i\n",
    "        count += 1\n",
    "    return tot/count"
   ]
  },
  {
   "cell_type": "markdown",
   "metadata": {},
   "source": [
    "#### In the next cell pass the list, `[100, 90, 75, 70]` to your your `average` function and show the result"
   ]
  },
  {
   "cell_type": "code",
   "execution_count": 65,
   "metadata": {
    "scrolled": true
   },
   "outputs": [
    {
     "data": {
      "text/plain": [
       "83.75"
      ]
     },
     "execution_count": 65,
     "metadata": {},
     "output_type": "execute_result"
    }
   ],
   "source": [
    "average([100,90,75,70])"
   ]
  },
  {
   "cell_type": "markdown",
   "metadata": {},
   "source": [
    "# Q14 (24 points, graded with code rubric) Summation Function \n",
    ">- Create a function named, `summation` that will return the sum of the numbers in a given range of integers\n",
    ">- Your function should work for any two numbers passed as parameters as long as the first number is less than or equal to the second number \n",
    ">>- For example, summation(1,4) would return 10 if passed 1 for the lower number and 4 for the upper number\n",
    ">>>- Note: The math behind this particular example to help show what this function does is: 1+2+3+4 = 10\n"
   ]
  },
  {
   "cell_type": "code",
   "execution_count": 141,
   "metadata": {},
   "outputs": [],
   "source": [
    "def summation(a,b):\n",
    "    sum = 0\n",
    "    for i in range(a,b+1):\n",
    "        sum = sum + a\n",
    "        a+=1\n",
    "    print(sum)"
   ]
  },
  {
   "cell_type": "markdown",
   "metadata": {},
   "source": [
    "### In the next cell, call `summation`, pass the numbers 1 and 10 to it, and return the results. "
   ]
  },
  {
   "cell_type": "code",
   "execution_count": 142,
   "metadata": {},
   "outputs": [
    {
     "name": "stdout",
     "output_type": "stream",
     "text": [
      "55\n"
     ]
    }
   ],
   "source": [
    "summation(1,10)"
   ]
  },
  {
   "cell_type": "markdown",
   "metadata": {},
   "source": [
    "# Q15 (30 points): Gender Average Salary\n",
    "## The list, `employees`, defined in the next cell contains employee data. \n",
    ">- The nested lists within employees show department, employee number, last name, first name, gender, salary in that order.\n",
    ">- Use a for loop to calculate the average salary of males and females rounded to two decimal places.\n",
    "\n",
    "#### Print a statement that summarize the results in a format similar to: \n",
    "\n",
    ">- The average salary for females is: \\$55000.35\n",
    ">- The average salary for males is: \\$50000.45\n",
    "\n",
    ">- Make sure to run the next cell so `employees` is defined in subsequent cells"
   ]
  },
  {
   "cell_type": "code",
   "execution_count": 143,
   "metadata": {},
   "outputs": [],
   "source": [
    "employees = [\n",
    "    ['Production', 10003, 'Bamford', 'Parto', 'M', 43311],\n",
    "    ['Production', 10004, 'Koblick', 'Chirstian', 'M',74057],\n",
    "    ['Human Resources', 10005, 'Maliniak', 'Kyoichi', 'M', 94692],\n",
    "    ['Human Resources', 10013, 'Terkki', 'Eberhardt', 'M', 68901],\n",
    "    ['Marketing', 10017, 'Bouloucos', 'Cristinel', 'F', 99651],\n",
    "    ['Sales', 10018, 'Peha', 'Kazuhide', 'F', 84672],\n",
    "    ['Sales', 10020, 'Warwick', 'Mayuko', 'M', 47017],\n",
    "    ['Production', 10024, 'Pettey', 'Suzette', 'F', 96646]\n",
    "]"
   ]
  },
  {
   "cell_type": "code",
   "execution_count": 316,
   "metadata": {},
   "outputs": [],
   "source": [
    "totM = 0\n",
    "totF = 0\n",
    "cM = 0\n",
    "cF = 0\n",
    "for i in employees:\n",
    "    if i[-2] == 'M':\n",
    "        totM += i[-1]\n",
    "        cM += 1\n",
    "    elif i[-2] == 'F':\n",
    "        totF += i[-1]\n",
    "        cF += 1\n",
    "avgM = round(totM/cM,2)\n",
    "avgF = round(totF/cF,2)"
   ]
  },
  {
   "cell_type": "markdown",
   "metadata": {
    "variables": {
     "avgF": "93656.33",
     "avgM": "65595.6"
    }
   },
   "source": [
    ">-  the average salary for females is: \\${{avgF}}\n",
    ">-  The average salary for males is: \\${{avgM}}"
   ]
  },
  {
   "cell_type": "markdown",
   "metadata": {},
   "source": [
    "# Q16 (30 points) Median \n",
    ">- A common metric in descriptive analytics/statistics is the median. Roughly speaking, the median is the number that is greater than half the numbers and less than half the numbers in a list of numbers.\n",
    ">- More precisely Median is defined below:\n",
    ">>- If the number of values is odd, the median is the middle number in a *sorted list* of numbers\n",
    ">>- If the number of values is even, the median is the average of the two middle numbers.\n",
    ">>- For example, 3 is the median of the list of values, [1,3,3,5,7] because it is the middle number in a odd list of sorted values\n",
    ">>- Also, 3 is the median of the list of values, [1,2,4,4] because 3 is the average of the two middle numbers in a list of sorted values\n",
    "\n",
    "### In the next cell, create a function that when passed a list of integers will calculate the median in that list. \n",
    ">- Remember, the median relates to a *sorted list* of values so make sure your function accounts for this if a user passes an unsorted list to the function\n",
    ">- Do not use a module to answer this question. Define your own median function. "
   ]
  },
  {
   "cell_type": "code",
   "execution_count": 208,
   "metadata": {},
   "outputs": [],
   "source": [
    "def median(aList):\n",
    "    aList.sort()\n",
    "    if len(aList) % 2 == 0:\n",
    "        evLen = int((len(aList)/2))\n",
    "        a = aList[evLen-1]\n",
    "        b = aList[evLen]\n",
    "        avg = round((a+b)/2,2)\n",
    "        print(f'The median value of the even list is: {avg}')\n",
    "    else:\n",
    "        print(f'The median value of the odd list is: {aList[int(len(aList)/2)]}')"
   ]
  },
  {
   "cell_type": "markdown",
   "metadata": {},
   "source": [
    "### In the next cell pass the list, `[90, 100, 80, 50, 50, 60, 100]` to your median function and show the result"
   ]
  },
  {
   "cell_type": "code",
   "execution_count": 210,
   "metadata": {},
   "outputs": [
    {
     "name": "stdout",
     "output_type": "stream",
     "text": [
      "The median value of the odd list is: 80\n"
     ]
    }
   ],
   "source": [
    "median([90, 100, 80, 50, 50, 60, 100])"
   ]
  },
  {
   "cell_type": "markdown",
   "metadata": {},
   "source": [
    "# Q17 (30 points) Food\n",
    "### The dictionary in the next cell stores information about various foods.\n",
    ">>- The keys are unique numbers and values are lists\n",
    ">>- The nested lists store: `menu item, food type, calories, and price respectively`\n",
    "### Write the python code to answer the following question: \n",
    ">>- Q: What is the average price for each food type?\n",
    "\n",
    "### Specifications\n",
    "1. Store the average prices in a dictionary showing the food type as a key and the average price for that food type as the value\n",
    "2. You must use loops to get the calculations and create the new dictionary\n",
    "3. Show your final dictionary with food types and and average prices"
   ]
  },
  {
   "cell_type": "markdown",
   "metadata": {},
   "source": [
    "#### Run the next cell to define `food`"
   ]
  },
  {
   "cell_type": "code",
   "execution_count": 211,
   "metadata": {},
   "outputs": [],
   "source": [
    "food = {\n",
    "    1: ['Pasta Primavera', 'Italian', 1000,  8.50],\n",
    "    2: ['Pizza Margarita', 'Italian', 1200, 7.50],\n",
    "    3: ['Hamburger', 'American', 1100,  5.50],\n",
    "    4: ['Milkshake', 'American', 700, 3.00],\n",
    "    5: ['Bruscetta', 'Italian', 500, 6.00],\n",
    "    6: ['Sauerkraut', 'German', 300,  4.00 ],\n",
    "    7: ['Sausage', 'German' , 500, 7.00],\n",
    "    8: ['Apfelstrudel', 'German', 750, 4.50],\n",
    "    9: ['Sauerbraten', 'German', 950, 10.00],\n",
    "}"
   ]
  },
  {
   "cell_type": "markdown",
   "metadata": {},
   "source": [
    "#### Write your code to create your average price dictionary in the next cell"
   ]
  },
  {
   "cell_type": "code",
   "execution_count": 324,
   "metadata": {},
   "outputs": [
    {
     "name": "stdout",
     "output_type": "stream",
     "text": [
      "{'Italian': 22.0, 'American': 8.5, 'German': 25.5}\n"
     ]
    }
   ],
   "source": [
    "avgPrice = {}\n",
    "aList = []\n",
    "count = 0\n",
    "for k,v in food.items():\n",
    "    if v[1] not in avgPrice.keys():\n",
    "        avgPrice[v[1]] = v[-1]\n",
    "        aList.append(v[1])\n",
    "    else:\n",
    "        avgPrice[v[1]] += v[-1]\n",
    "        aList.append(v[1])\n",
    "# for x in aList:\n",
    "#     if x == aList[0]:\n",
    "#         num = aList.count(x)\n",
    "#         avgPrice[x] = avgPrice[x]/num\n",
    "#         x != aList[0]\n",
    "#         num = 0\n",
    "# #         break\n",
    "#     else:\n",
    "#         num = 0\n",
    "# #         continue\n",
    "print(avgPrice)"
   ]
  },
  {
   "cell_type": "code",
   "execution_count": null,
   "metadata": {},
   "outputs": [],
   "source": []
  },
  {
   "cell_type": "markdown",
   "metadata": {},
   "source": [
    "#### Show your average price dictionary in the output of the next cell"
   ]
  },
  {
   "cell_type": "code",
   "execution_count": 315,
   "metadata": {},
   "outputs": [
    {
     "data": {
      "text/plain": [
       "{'Italian': 7.333333333333333, 'American': 8.5, 'German': 25.5}"
      ]
     },
     "execution_count": 315,
     "metadata": {},
     "output_type": "execute_result"
    }
   ],
   "source": [
    "avgPrice"
   ]
  }
 ],
 "metadata": {
  "kernelspec": {
   "display_name": "Python 3",
   "language": "python",
   "name": "python3"
  },
  "language_info": {
   "codemirror_mode": {
    "name": "ipython",
    "version": 3
   },
   "file_extension": ".py",
   "mimetype": "text/x-python",
   "name": "python",
   "nbconvert_exporter": "python",
   "pygments_lexer": "ipython3",
   "version": "3.8.3"
  },
  "latex_envs": {
   "LaTeX_envs_menu_present": true,
   "autoclose": false,
   "autocomplete": true,
   "bibliofile": "biblio.bib",
   "cite_by": "apalike",
   "current_citInitial": 1,
   "eqLabelWithNumbers": true,
   "eqNumInitial": 1,
   "hotkeys": {
    "equation": "Ctrl-E",
    "itemize": "Ctrl-I"
   },
   "labels_anchors": false,
   "latex_user_defs": false,
   "report_style_numbering": false,
   "user_envs_cfg": false
  }
 },
 "nbformat": 4,
 "nbformat_minor": 2
}
