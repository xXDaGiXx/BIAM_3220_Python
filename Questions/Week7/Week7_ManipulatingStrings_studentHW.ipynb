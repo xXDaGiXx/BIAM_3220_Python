{
 "cells": [
  {
   "cell_type": "markdown",
   "metadata": {},
   "source": [
    "# Week 7\n",
    "## In-class Activity/Homework\n",
    "### Learning Objectives\n",
    "1. Practice working with dictionaries\n",
    "2. Practice working with strings and string methods"
   ]
  },
  {
   "cell_type": "markdown",
   "metadata": {},
   "source": [
    "# Problem 1\n",
    ">- Write a function, `palindrome` that will check to see if a word is a palindrome\n",
    ">- Print out the word passed to `palindrome` in normal and reverse order to show the results\n",
    ">- Print out a statements telling the user if their word is a palindrome or not "
   ]
  },
  {
   "cell_type": "markdown",
   "metadata": {},
   "source": [
    "### Write your function in the next cell but do not call it yet"
   ]
  },
  {
   "cell_type": "code",
   "execution_count": 17,
   "metadata": {},
   "outputs": [],
   "source": [
    "def palindrome(aString):\n",
    "    newString = aString[::-1]\n",
    "    print(f'Normal String: {aString}')\n",
    "    print(f'Reverse String: {newString}')\n",
    "    if newString == aString:\n",
    "        print('Your word is a palindrome')\n",
    "    else:\n",
    "        print('Your word is not a palindrome')"
   ]
  },
  {
   "cell_type": "markdown",
   "metadata": {},
   "source": [
    "### Call your function in the next cell and pass the following values to it\n",
    ">- tattarrattat, madam, racecar, dog, boy"
   ]
  },
  {
   "cell_type": "code",
   "execution_count": 20,
   "metadata": {},
   "outputs": [
    {
     "name": "stdout",
     "output_type": "stream",
     "text": [
      "Normal String: tattarrattat\n",
      "Reverse String: tattarrattat\n",
      "Your word is a palindrome\n",
      "Normal String: madam\n",
      "Reverse String: madam\n",
      "Your word is a palindrome\n",
      "Normal String: racecar\n",
      "Reverse String: racecar\n",
      "Your word is a palindrome\n",
      "Normal String: dog\n",
      "Reverse String: god\n",
      "Your word is not a palindrome\n",
      "Normal String: boy\n",
      "Reverse String: yob\n",
      "Your word is not a palindrome\n"
     ]
    }
   ],
   "source": [
    "palindrome('tattarrattat')\n",
    "palindrome('madam')\n",
    "palindrome('racecar')\n",
    "palindrome('dog')\n",
    "palindrome('boy')"
   ]
  },
  {
   "cell_type": "markdown",
   "metadata": {},
   "source": [
    "# Problem 2\n",
    ">- Improve the table function we worked on in the `ManipulatingStrings` type-along to be able to have any values for majors or salaries and the printed table will adjust column widths accordingly to print a nice table.\n",
    ">- One way to do this is to remove the `leftWidth` and `rigthWidth` parameters in the function parameters and then create a way to count the characters for the keys and values in any dictionary passed to your function.\n",
    ">- After you find a way to count the characters then you need to find the maximum length of all the keys and values so that you can pass that value into the string formatting methods (rjust(), ljust(), etc) "
   ]
  },
  {
   "cell_type": "code",
   "execution_count": 21,
   "metadata": {},
   "outputs": [
    {
     "name": "stdout",
     "output_type": "stream",
     "text": [
      "Major.........Salary\n",
      "Marketing......50000\n",
      "Accounting.....55000\n",
      "Analytics......57000\n",
      "Management.....60000\n"
     ]
    }
   ],
   "source": [
    "listTest1 = {'Marketing':50000,'Accounting':55000, 'Analytics':57000,'Management': 60000}\n",
    "\n",
    "print('Major'.ljust(10,'.') + 'Salary'.rjust(10, '.'))\n",
    "\n",
    "for key, value in listTest1.items():\n",
    "    \n",
    "    print(key.ljust(10,'.') + str(value).rjust(10,'.'))"
   ]
  },
  {
   "cell_type": "code",
   "execution_count": 27,
   "metadata": {},
   "outputs": [
    {
     "name": "stdout",
     "output_type": "stream",
     "text": [
      "['Marketing', 'Accounting', 'Analytics', 'Management'] ['50000', '55000', '57000', '60000']\n",
      "10\n",
      "[9, 10, 9, 10] [5, 5, 5, 5]\n"
     ]
    }
   ],
   "source": [
    "keys = []\n",
    "values = []\n",
    "\n",
    "for key, value in listTest1.items():\n",
    "    keys.append(key)\n",
    "    values.append(str(value))\n",
    "\n",
    "print(keys, values)\n",
    "\n",
    "keyLen = []\n",
    "valueLen = []\n",
    "\n",
    "for key, value in listTest1.items():\n",
    "    keyLen.append(len(key))\n",
    "    valueLen.append(len(str(value)))\n",
    "\n",
    "print(keyLen, valueLen)"
   ]
  },
  {
   "cell_type": "code",
   "execution_count": 1,
   "metadata": {},
   "outputs": [],
   "source": [
    "def printSalary(itemsDict):\n",
    "\n",
    "    leftWidth = max(len(k) for k in itemsDict)\n",
    "    rightWidth = len(str(max(itemsDict.values())))\n",
    "   \n",
    "    print('Major'.ljust(leftWidth, ),'Salary'.rjust((rightWidth*2)+1, ))\n",
    "    print('-' * (leftWidth + ((rightWidth*2)+2)))\n",
    "          \n",
    "    for key, value in itemsDict.items():\n",
    "        print(key.ljust(leftWidth+rightWidth+2,'.') + str(value).rjust(rightWidth,'.'))"
   ]
  },
  {
   "cell_type": "markdown",
   "metadata": {},
   "source": [
    "### Test your function with a couple of different dictionaries listed below\n",
    ">- Make sure your printed table adjusts based on the different keys and values"
   ]
  },
  {
   "cell_type": "code",
   "execution_count": 2,
   "metadata": {},
   "outputs": [],
   "source": [
    "listTest1 = {'Marketing':50000,'Accounting':55000, 'Analytics':57000,'Management': 60000}\n",
    "listTest2 = {'Marketing':50000,'Accounting':55000, 'Analytics':57000,'Management': 60000, 'Anthropology': 45000}\n",
    "listTest3 = {'Marketing':50000,'Accounting':55000, 'Analytics':57000,'Management': 60000, \n",
    "             'Anthropology': 45000,\n",
    "             'A really long major name': 50000000}\n",
    "listTest4 = {'Marketing':50000,'Accounting':55000, 'Analytics':57000,'Management': 60000, \n",
    "             'Anthropology': 45000,\n",
    "             'A really long major name': 50000000, 'Computer Science': 100000000, 'MCDB': 15003500}"
   ]
  },
  {
   "cell_type": "code",
   "execution_count": 3,
   "metadata": {},
   "outputs": [
    {
     "name": "stdout",
     "output_type": "stream",
     "text": [
      "Major           Salary\n",
      "----------------------\n",
      "Marketing........50000\n",
      "Accounting.......55000\n",
      "Analytics........57000\n",
      "Management.......60000\n"
     ]
    }
   ],
   "source": [
    "printSalary(listTest1)"
   ]
  },
  {
   "cell_type": "code",
   "execution_count": 4,
   "metadata": {},
   "outputs": [
    {
     "name": "stdout",
     "output_type": "stream",
     "text": [
      "Major             Salary\n",
      "------------------------\n",
      "Marketing..........50000\n",
      "Accounting.........55000\n",
      "Analytics..........57000\n",
      "Management.........60000\n",
      "Anthropology.......45000\n"
     ]
    }
   ],
   "source": [
    "printSalary(listTest2)"
   ]
  },
  {
   "cell_type": "code",
   "execution_count": 5,
   "metadata": {},
   "outputs": [
    {
     "name": "stdout",
     "output_type": "stream",
     "text": [
      "Major                               Salary\n",
      "------------------------------------------\n",
      "Marketing............................50000\n",
      "Accounting...........................55000\n",
      "Analytics............................57000\n",
      "Management...........................60000\n",
      "Anthropology.........................45000\n",
      "A really long major name..........50000000\n"
     ]
    }
   ],
   "source": [
    "printSalary(listTest3)"
   ]
  },
  {
   "cell_type": "code",
   "execution_count": 6,
   "metadata": {},
   "outputs": [
    {
     "name": "stdout",
     "output_type": "stream",
     "text": [
      "Major                                 Salary\n",
      "--------------------------------------------\n",
      "Marketing..............................50000\n",
      "Accounting.............................55000\n",
      "Analytics..............................57000\n",
      "Management.............................60000\n",
      "Anthropology...........................45000\n",
      "A really long major name............50000000\n",
      "Computer Science...................100000000\n",
      "MCDB................................15003500\n"
     ]
    }
   ],
   "source": [
    "printSalary(listTest4)"
   ]
  }
 ],
 "metadata": {
  "kernelspec": {
   "display_name": "Python 3",
   "language": "python",
   "name": "python3"
  },
  "language_info": {
   "codemirror_mode": {
    "name": "ipython",
    "version": 3
   },
   "file_extension": ".py",
   "mimetype": "text/x-python",
   "name": "python",
   "nbconvert_exporter": "python",
   "pygments_lexer": "ipython3",
   "version": "3.8.3"
  }
 },
 "nbformat": 4,
 "nbformat_minor": 2
}
