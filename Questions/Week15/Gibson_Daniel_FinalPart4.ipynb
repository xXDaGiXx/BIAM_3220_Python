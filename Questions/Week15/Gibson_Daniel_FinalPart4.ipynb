{
 "cells": [
  {
   "cell_type": "markdown",
   "metadata": {},
   "source": [
    "# BAIM 3220: Introduction to Python\n",
    "## Final Exam Part 4: `pandas` and `visualization`\n",
    "\n",
    "## After downloading this .ipynb file from Canvas, resave with the following naming format:\n",
    ">- LastName_FirstName_FinalPart4.ipynb\n",
    "\n",
    "## When you are ready to submit your quiz, upload your .ipynb file to Canvas in Final Exam"
   ]
  },
  {
   "cell_type": "markdown",
   "metadata": {},
   "source": [
    "# Final Part 4 DataFrame and Series Setup\n",
    "## Import Modules Necessary to Read Data from Yahoo Finance and Work with pandas"
   ]
  },
  {
   "cell_type": "code",
   "execution_count": 1,
   "metadata": {},
   "outputs": [],
   "source": [
    "import pandas as pd\n",
    "import datetime as dt\n",
    "import pandas_datareader as pdr"
   ]
  },
  {
   "cell_type": "markdown",
   "metadata": {},
   "source": [
    "## Import additional modules we covered in class that allow us to plot graphs\n",
    ">- The charts shown on Canvas were generated using `matplotlib` "
   ]
  },
  {
   "cell_type": "code",
   "execution_count": 2,
   "metadata": {},
   "outputs": [],
   "source": [
    "%matplotlib inline\n",
    "\n",
    "import matplotlib.pyplot as plt\n",
    "\n",
    "import seaborn as sns\n",
    "\n",
    "from matplotlib import style\n",
    "\n",
    "import matplotlib as mpl\n",
    "\n",
    "import plotly.express as px"
   ]
  },
  {
   "cell_type": "markdown",
   "metadata": {},
   "source": [
    "## Set up variables to define start and end dates for stock analysis\n",
    ">- We will look at stock prices over the past 10 years\n",
    ">- Start date: 2010-12-01\n",
    ">- End date: 2020-12-01"
   ]
  },
  {
   "cell_type": "code",
   "execution_count": 4,
   "metadata": {},
   "outputs": [],
   "source": [
    "start = dt.datetime(2010,12,1)\n",
    "\n",
    "end = dt.datetime(2020,12,1)"
   ]
  },
  {
   "cell_type": "markdown",
   "metadata": {},
   "source": [
    "## Create a DateFrame and/or multiple DataFrames for the following symbols\n",
    "### Use pandas_datareader and yahoo finance to pull data for:\n",
    ">- VTI, this is an ETF for the total us stock market\n",
    ">- BND, an ETF for the total US bond market\n",
    ">- VEU, an ETF for the total world stock market minus the US\n",
    ">- BNDX, an ETF for the total world bond market minus the US\n",
    ">- VNQ, a real estate ETF\n",
    ">- VDE, an energy sector ETF\n",
    ">- JETS, an airline sector ETF\n",
    "\n",
    "#### Note: Having a mixture of these ETFs (especially the first 4 on the list) could be a good way to build a diversified portfolio"
   ]
  },
  {
   "cell_type": "code",
   "execution_count": null,
   "metadata": {},
   "outputs": [],
   "source": []
  },
  {
   "cell_type": "code",
   "execution_count": null,
   "metadata": {},
   "outputs": [],
   "source": []
  },
  {
   "cell_type": "code",
   "execution_count": null,
   "metadata": {},
   "outputs": [],
   "source": []
  },
  {
   "cell_type": "code",
   "execution_count": null,
   "metadata": {
    "scrolled": true
   },
   "outputs": [],
   "source": []
  },
  {
   "cell_type": "markdown",
   "metadata": {},
   "source": [
    "## Create Series for Each of the ETFs to store only the `Adj Close` Price\n",
    ">- This will help you plot graphs individually or with ETFs on the same chart"
   ]
  },
  {
   "cell_type": "code",
   "execution_count": 10,
   "metadata": {},
   "outputs": [
    {
     "data": {
      "text/html": [
       "<div>\n",
       "<style scoped>\n",
       "    .dataframe tbody tr th:only-of-type {\n",
       "        vertical-align: middle;\n",
       "    }\n",
       "\n",
       "    .dataframe tbody tr th {\n",
       "        vertical-align: top;\n",
       "    }\n",
       "\n",
       "    .dataframe thead th {\n",
       "        text-align: right;\n",
       "    }\n",
       "</style>\n",
       "<table border=\"1\" class=\"dataframe\">\n",
       "  <thead>\n",
       "    <tr style=\"text-align: right;\">\n",
       "      <th>Symbols</th>\n",
       "      <th>VTI</th>\n",
       "      <th>BND</th>\n",
       "      <th>VEU</th>\n",
       "      <th>BNDX</th>\n",
       "      <th>VNQ</th>\n",
       "      <th>VDE</th>\n",
       "      <th>JETS</th>\n",
       "    </tr>\n",
       "    <tr>\n",
       "      <th>Date</th>\n",
       "      <th></th>\n",
       "      <th></th>\n",
       "      <th></th>\n",
       "      <th></th>\n",
       "      <th></th>\n",
       "      <th></th>\n",
       "      <th></th>\n",
       "    </tr>\n",
       "  </thead>\n",
       "  <tbody>\n",
       "    <tr>\n",
       "      <th>2020-11-24</th>\n",
       "      <td>187.589996</td>\n",
       "      <td>88.077438</td>\n",
       "      <td>56.680000</td>\n",
       "      <td>58.395061</td>\n",
       "      <td>85.220001</td>\n",
       "      <td>54.529999</td>\n",
       "      <td>22.559999</td>\n",
       "    </tr>\n",
       "    <tr>\n",
       "      <th>2020-11-25</th>\n",
       "      <td>187.520004</td>\n",
       "      <td>88.037498</td>\n",
       "      <td>56.500000</td>\n",
       "      <td>58.405056</td>\n",
       "      <td>85.269997</td>\n",
       "      <td>53.349998</td>\n",
       "      <td>22.639999</td>\n",
       "    </tr>\n",
       "    <tr>\n",
       "      <th>2020-11-27</th>\n",
       "      <td>188.179993</td>\n",
       "      <td>88.227196</td>\n",
       "      <td>56.930000</td>\n",
       "      <td>58.504978</td>\n",
       "      <td>84.889999</td>\n",
       "      <td>52.740002</td>\n",
       "      <td>22.639999</td>\n",
       "    </tr>\n",
       "    <tr>\n",
       "      <th>2020-11-30</th>\n",
       "      <td>186.699997</td>\n",
       "      <td>88.347000</td>\n",
       "      <td>55.639999</td>\n",
       "      <td>58.475002</td>\n",
       "      <td>84.000000</td>\n",
       "      <td>49.820000</td>\n",
       "      <td>22.030001</td>\n",
       "    </tr>\n",
       "    <tr>\n",
       "      <th>2020-12-01</th>\n",
       "      <td>189.070007</td>\n",
       "      <td>88.080002</td>\n",
       "      <td>56.860001</td>\n",
       "      <td>58.279999</td>\n",
       "      <td>85.080002</td>\n",
       "      <td>50.110001</td>\n",
       "      <td>22.410000</td>\n",
       "    </tr>\n",
       "  </tbody>\n",
       "</table>\n",
       "</div>"
      ],
      "text/plain": [
       "Symbols            VTI        BND        VEU       BNDX        VNQ        VDE  \\\n",
       "Date                                                                            \n",
       "2020-11-24  187.589996  88.077438  56.680000  58.395061  85.220001  54.529999   \n",
       "2020-11-25  187.520004  88.037498  56.500000  58.405056  85.269997  53.349998   \n",
       "2020-11-27  188.179993  88.227196  56.930000  58.504978  84.889999  52.740002   \n",
       "2020-11-30  186.699997  88.347000  55.639999  58.475002  84.000000  49.820000   \n",
       "2020-12-01  189.070007  88.080002  56.860001  58.279999  85.080002  50.110001   \n",
       "\n",
       "Symbols          JETS  \n",
       "Date                   \n",
       "2020-11-24  22.559999  \n",
       "2020-11-25  22.639999  \n",
       "2020-11-27  22.639999  \n",
       "2020-11-30  22.030001  \n",
       "2020-12-01  22.410000  "
      ]
     },
     "execution_count": 10,
     "metadata": {},
     "output_type": "execute_result"
    }
   ],
   "source": [
    "etfClose = pdr.DataReader(['VTI','BND','VEU','BNDX','VNQ','VDE','JETS'],\n",
    "                    'yahoo',\n",
    "                    start = start,\n",
    "                    end = end)['Adj Close']\n",
    "etfClose.tail()"
   ]
  },
  {
   "cell_type": "markdown",
   "metadata": {},
   "source": [
    "# Create Series to Store Daily Returns for Each of the ETFs\n",
    ">- Create a series that will store daily returns for each ETF\n",
    ">- Again, this should help you plot returns if/when asked to do so"
   ]
  },
  {
   "cell_type": "code",
   "execution_count": 18,
   "metadata": {},
   "outputs": [
    {
     "data": {
      "text/html": [
       "<div>\n",
       "<style scoped>\n",
       "    .dataframe tbody tr th:only-of-type {\n",
       "        vertical-align: middle;\n",
       "    }\n",
       "\n",
       "    .dataframe tbody tr th {\n",
       "        vertical-align: top;\n",
       "    }\n",
       "\n",
       "    .dataframe thead th {\n",
       "        text-align: right;\n",
       "    }\n",
       "</style>\n",
       "<table border=\"1\" class=\"dataframe\">\n",
       "  <thead>\n",
       "    <tr style=\"text-align: right;\">\n",
       "      <th>Symbols</th>\n",
       "      <th>VTI</th>\n",
       "      <th>BND</th>\n",
       "      <th>VEU</th>\n",
       "      <th>BNDX</th>\n",
       "      <th>VNQ</th>\n",
       "      <th>VDE</th>\n",
       "      <th>JETS</th>\n",
       "    </tr>\n",
       "    <tr>\n",
       "      <th>Date</th>\n",
       "      <th></th>\n",
       "      <th></th>\n",
       "      <th></th>\n",
       "      <th></th>\n",
       "      <th></th>\n",
       "      <th></th>\n",
       "      <th></th>\n",
       "    </tr>\n",
       "  </thead>\n",
       "  <tbody>\n",
       "    <tr>\n",
       "      <th>2020-11-24</th>\n",
       "      <td>187.589996</td>\n",
       "      <td>88.077438</td>\n",
       "      <td>56.680000</td>\n",
       "      <td>58.395061</td>\n",
       "      <td>85.220001</td>\n",
       "      <td>54.529999</td>\n",
       "      <td>22.559999</td>\n",
       "    </tr>\n",
       "    <tr>\n",
       "      <th>2020-11-25</th>\n",
       "      <td>187.520004</td>\n",
       "      <td>88.037498</td>\n",
       "      <td>56.500000</td>\n",
       "      <td>58.405056</td>\n",
       "      <td>85.269997</td>\n",
       "      <td>53.349998</td>\n",
       "      <td>22.639999</td>\n",
       "    </tr>\n",
       "    <tr>\n",
       "      <th>2020-11-27</th>\n",
       "      <td>188.179993</td>\n",
       "      <td>88.227196</td>\n",
       "      <td>56.930000</td>\n",
       "      <td>58.504978</td>\n",
       "      <td>84.889999</td>\n",
       "      <td>52.740002</td>\n",
       "      <td>22.639999</td>\n",
       "    </tr>\n",
       "    <tr>\n",
       "      <th>2020-11-30</th>\n",
       "      <td>186.699997</td>\n",
       "      <td>88.347000</td>\n",
       "      <td>55.639999</td>\n",
       "      <td>58.475002</td>\n",
       "      <td>84.000000</td>\n",
       "      <td>49.820000</td>\n",
       "      <td>22.030001</td>\n",
       "    </tr>\n",
       "    <tr>\n",
       "      <th>2020-12-01</th>\n",
       "      <td>189.070007</td>\n",
       "      <td>88.080002</td>\n",
       "      <td>56.860001</td>\n",
       "      <td>58.279999</td>\n",
       "      <td>85.080002</td>\n",
       "      <td>50.110001</td>\n",
       "      <td>22.410000</td>\n",
       "    </tr>\n",
       "  </tbody>\n",
       "</table>\n",
       "</div>"
      ],
      "text/plain": [
       "Symbols            VTI        BND        VEU       BNDX        VNQ        VDE  \\\n",
       "Date                                                                            \n",
       "2020-11-24  187.589996  88.077438  56.680000  58.395061  85.220001  54.529999   \n",
       "2020-11-25  187.520004  88.037498  56.500000  58.405056  85.269997  53.349998   \n",
       "2020-11-27  188.179993  88.227196  56.930000  58.504978  84.889999  52.740002   \n",
       "2020-11-30  186.699997  88.347000  55.639999  58.475002  84.000000  49.820000   \n",
       "2020-12-01  189.070007  88.080002  56.860001  58.279999  85.080002  50.110001   \n",
       "\n",
       "Symbols          JETS  \n",
       "Date                   \n",
       "2020-11-24  22.559999  \n",
       "2020-11-25  22.639999  \n",
       "2020-11-27  22.639999  \n",
       "2020-11-30  22.030001  \n",
       "2020-12-01  22.410000  "
      ]
     },
     "execution_count": 18,
     "metadata": {},
     "output_type": "execute_result"
    }
   ],
   "source": [
    "etfRet = pdr.DataReader(['VTI','BND','VEU','BNDX','VNQ','VDE','JETS'],\n",
    "                    'yahoo',\n",
    "                    start = start,\n",
    "                    end = end)['Adj Close']\n",
    "etfRet.tail()"
   ]
  },
  {
   "cell_type": "code",
   "execution_count": 20,
   "metadata": {},
   "outputs": [],
   "source": [
    "dayRet = (etfRet/etfRet.shift(1))-1"
   ]
  },
  {
   "cell_type": "markdown",
   "metadata": {},
   "source": [
    "# Data Visualization"
   ]
  },
  {
   "cell_type": "markdown",
   "metadata": {},
   "source": [
    "## Create a line plot showing the adjusted closing price for the ETFs you are asked about on Canvas\n",
    ">- Note: the questions on Canvas produce random questions for each student so use the space below to show your work for your particular question\n",
    "### Specifications\n",
    ">- Use `ggplot` for the style\n",
    ">- Use a `dark_background`\n",
    ">- Make the figure size have a width of 15 and height of 5\n",
    ">- Adjust the line width to be 1.5\n",
    ">- Change the line color to white\n",
    ">- Show an appropriate label for the ETF\n",
    ">- Show the legend on the chart\n",
    ">- Show a title on the chart that reads: \"Daily Adjusted Close\" "
   ]
  },
  {
   "cell_type": "markdown",
   "metadata": {},
   "source": [
    "#### Create your chart in the next cell "
   ]
  },
  {
   "cell_type": "code",
   "execution_count": 37,
   "metadata": {
    "scrolled": true
   },
   "outputs": [
    {
     "data": {
      "image/png": "[encoded data removed]",
      "text/plain": [
       "<Figure size 1080x360 with 1 Axes>"
      ]
     },
     "metadata": {},
     "output_type": "display_data"
    }
   ],
   "source": [
    "style.use('ggplot')\n",
    "plt.style.use(['dark_background'])\n",
    "mpl.rc('figure',figsize=(15,5))\n",
    "etfClose['VTI'].plot(label='Adj Close',color='w',linewidth=1.5)\n",
    "plt.title('Daily Adjust Close')\n",
    "plt.legend()\n",
    "plt.show()"
   ]
  },
  {
   "cell_type": "markdown",
   "metadata": {},
   "source": [
    "# Show your code to create BoxPlots of returns in the next cell\n",
    ">- Refer to Canvas for the ETF to analyze\n",
    ">- Use `ggplot` as the style\n",
    ">- Create a figure size of 20 width and 10 height\n",
    ">- Show a label for 'Returns'\n",
    ">- Create horizontal boxplots"
   ]
  },
  {
   "cell_type": "code",
   "execution_count": 33,
   "metadata": {},
   "outputs": [
    {
     "data": {
      "image/png": "[encoded data removed]",
      "text/plain": [
       "<Figure size 1440x720 with 1 Axes>"
      ]
     },
     "metadata": {},
     "output_type": "display_data"
    }
   ],
   "source": [
    "style.use('ggplot')\n",
    "mpl.rc('figure',figsize=(20,10))\n",
    "mpl.rc('lines',linewidth=2)\n",
    "dayRet['VNQ'].plot(kind='box', showmeans=True, vert=False, label='Returns')\n",
    "plt.show()"
   ]
  }
 ],
 "metadata": {
  "kernelspec": {
   "display_name": "Python 3",
   "language": "python",
   "name": "python3"
  },
  "language_info": {
   "codemirror_mode": {
    "name": "ipython",
    "version": 3
   },
   "file_extension": ".py",
   "mimetype": "text/x-python",
   "name": "python",
   "nbconvert_exporter": "python",
   "pygments_lexer": "ipython3",
   "version": "3.8.3"
  }
 },
 "nbformat": 4,
 "nbformat_minor": 2
}
