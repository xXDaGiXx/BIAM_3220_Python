{
 "cells": [
  {
   "cell_type": "markdown",
   "metadata": {},
   "source": [
    "# Week 6 \n",
    "## In-Class Activity Workbook\n",
    "\n",
    "## Learning Objectives \n",
    "### In this notebook you will learn and practice:\n",
    "<br>Section 1: <a id='Section 1'></a>[Section 1: Dictionary Fundamentals](#Section-1)\n",
    "<br>Section 2: <a id='Section 2'></a>[Section 2: Working with Dictionaries](#Section-2)\n",
    "<br>Section 3: <a id='Section 3'></a>[Section 3: Basic Analytics with Dictionaries](#Section-3)\n",
    "<br>Section 4: <a id='Section 4'></a>[Section 4: Building and Sorting Dictionaries](#Section-4)"
   ]
  },
  {
   "cell_type": "markdown",
   "metadata": {},
   "source": [
    "# Section 1\n",
    "## Dictionary Fundamentals"
   ]
  },
  {
   "cell_type": "markdown",
   "metadata": {},
   "source": [
    "### Problem 1.1 \n",
    "1. Declare a dictionary, `empty` as an empty dictionary\n",
    "2. Declare a dictionary, `person` with a key of `\"name\"` and a value of `\"John Smith\"`\n",
    "3. Declare a dictionary, `customer` with keys of `\"name\"` and `\"age\"` and values of `\"Morty\"` and `26` respectively\n",
    "4. Print out all of these dictionaries"
   ]
  },
  {
   "cell_type": "code",
   "execution_count": 31,
   "metadata": {},
   "outputs": [
    {
     "name": "stdout",
     "output_type": "stream",
     "text": [
      "{}\n",
      "{'name': 'John Smith'}\n",
      "{'name': 'Morty', 'age': 26}\n"
     ]
    }
   ],
   "source": [
    "empty = {}\n",
    "person = {'name':'John Smith'}\n",
    "customer = {'name':'Morty','age':26}\n",
    "\n",
    "print(empty)\n",
    "print(person)\n",
    "print(customer)"
   ]
  },
  {
   "cell_type": "markdown",
   "metadata": {},
   "source": [
    "### Problem 1.2\n",
    "1. In the `person` dictionary, show the value for the `\"name\"` key \n",
    "2. In the `customer` dictionary, show the value for the `\"age\"` key"
   ]
  },
  {
   "cell_type": "code",
   "execution_count": 32,
   "metadata": {},
   "outputs": [
    {
     "name": "stdout",
     "output_type": "stream",
     "text": [
      "John Smith\n",
      "26\n"
     ]
    }
   ],
   "source": [
    "print(person['name'])\n",
    "\n",
    "print(customer['age'])"
   ]
  },
  {
   "cell_type": "markdown",
   "metadata": {},
   "source": [
    "### Problem 1.3\n",
    "1. Use the `get()` method and repeat problem `1.2`"
   ]
  },
  {
   "cell_type": "code",
   "execution_count": 33,
   "metadata": {},
   "outputs": [
    {
     "name": "stdout",
     "output_type": "stream",
     "text": [
      "John Smith\n"
     ]
    },
    {
     "data": {
      "text/plain": [
       "26"
      ]
     },
     "execution_count": 33,
     "metadata": {},
     "output_type": "execute_result"
    }
   ],
   "source": [
    "print(person.get('name'))\n",
    "\n",
    "customer.get('age')"
   ]
  },
  {
   "cell_type": "markdown",
   "metadata": {},
   "source": [
    "### Problem 1.4\n",
    "1. Try to grab an `'age'` key from the `person` dictionary (don't go back and add it just run this as is)\n",
    ">- In the first cell, try and grab `age` using bracket syntax\n",
    ">- In the second cell, try and grab `age` using the `get()` method\n",
    ">- Note the differences in what is returned using both of these approaches\n",
    "\n",
    "2. Add an option to the `get()` method approach that prints \"age is not a key in this dictionary\""
   ]
  },
  {
   "cell_type": "code",
   "execution_count": 34,
   "metadata": {},
   "outputs": [
    {
     "ename": "KeyError",
     "evalue": "'age'",
     "output_type": "error",
     "traceback": [
      "\u001b[1;31m---------------------------------------------------------------------------\u001b[0m",
      "\u001b[1;31mKeyError\u001b[0m                                  Traceback (most recent call last)",
      "\u001b[1;32m<ipython-input-34-8c85c2e17bf8>\u001b[0m in \u001b[0;36m<module>\u001b[1;34m\u001b[0m\n\u001b[1;32m----> 1\u001b[1;33m \u001b[0mperson\u001b[0m\u001b[1;33m[\u001b[0m\u001b[1;34m'age'\u001b[0m\u001b[1;33m]\u001b[0m\u001b[1;33m\u001b[0m\u001b[1;33m\u001b[0m\u001b[0m\n\u001b[0m",
      "\u001b[1;31mKeyError\u001b[0m: 'age'"
     ]
    }
   ],
   "source": [
    "person['age']\n",
    "\n",
    "# Key does not exist in this dictionary"
   ]
  },
  {
   "cell_type": "code",
   "execution_count": 37,
   "metadata": {},
   "outputs": [
    {
     "data": {
      "text/plain": [
       "'age is not a key in this dictionary'"
      ]
     },
     "execution_count": 37,
     "metadata": {},
     "output_type": "execute_result"
    }
   ],
   "source": [
    "person.get('age')"
   ]
  },
  {
   "cell_type": "code",
   "execution_count": 36,
   "metadata": {},
   "outputs": [
    {
     "data": {
      "text/plain": [
       "'age is not a key in this dictionary'"
      ]
     },
     "execution_count": 36,
     "metadata": {},
     "output_type": "execute_result"
    }
   ],
   "source": [
    "person.setdefault('age','age is not a key in this dictionary')"
   ]
  },
  {
   "cell_type": "markdown",
   "metadata": {},
   "source": [
    "### Problem 1.5\n",
    "#### A list embedded within a dictionary\n",
    "1. Create a dictionary, `sports` with the following data:\n",
    ">- `key = \"sports\", value = [\"baseball\",\"football\",\"hockey\",\"soccer\"]`\n",
    "2. Grab the first item in the list\n",
    "3. Grab a slice that has the second to last and the last items in the list"
   ]
  },
  {
   "cell_type": "code",
   "execution_count": 42,
   "metadata": {},
   "outputs": [],
   "source": [
    "sports = {'sports':[\"baseball\",\"football\",\"hockey\",\"soccer\"]}"
   ]
  },
  {
   "cell_type": "code",
   "execution_count": 45,
   "metadata": {},
   "outputs": [
    {
     "data": {
      "text/plain": [
       "'baseball'"
      ]
     },
     "execution_count": 45,
     "metadata": {},
     "output_type": "execute_result"
    }
   ],
   "source": [
    "sports['sports'][0]"
   ]
  },
  {
   "cell_type": "code",
   "execution_count": 50,
   "metadata": {},
   "outputs": [
    {
     "data": {
      "text/plain": [
       "['hockey', 'soccer']"
      ]
     },
     "execution_count": 50,
     "metadata": {},
     "output_type": "execute_result"
    }
   ],
   "source": [
    "sports['sports'][2:4]"
   ]
  },
  {
   "cell_type": "markdown",
   "metadata": {},
   "source": [
    "### Problem 1.6\n",
    "#### A dictionary embedded within a list\n",
    "1. Create a list, `names` with the following values:\n",
    ">- `\"John\", \"Dennis\", {\"name\":\"Kirsten\"}`\n",
    "2. Grab the string \"Kirsten\" "
   ]
  },
  {
   "cell_type": "code",
   "execution_count": 55,
   "metadata": {},
   "outputs": [],
   "source": [
    "names = ['John','Dennis',{'name':'Kirsten'}]"
   ]
  },
  {
   "cell_type": "code",
   "execution_count": 63,
   "metadata": {},
   "outputs": [
    {
     "data": {
      "text/plain": [
       "'Kirsten'"
      ]
     },
     "execution_count": 63,
     "metadata": {},
     "output_type": "execute_result"
    }
   ],
   "source": [
    "names[2]['name']"
   ]
  },
  {
   "cell_type": "markdown",
   "metadata": {},
   "source": [
    "### Problem 1.7\n",
    "#### Dictionaries embedded within dictionaries\n",
    "1. Create a dictionary, `redsx`, with the following data:\n",
    ">- `key \"team\", value \"Boston Red Sox\"`\n",
    ">- `key \"wins\", value {\"2018\": 108, \"2017\" : 93}`\n",
    "\n",
    "2. Print out the dictionary for wins\n",
    "3. Print out the wins in 2018 only"
   ]
  },
  {
   "cell_type": "code",
   "execution_count": 65,
   "metadata": {},
   "outputs": [],
   "source": [
    "redsx = {'team':'Boston Red Sox',\n",
    "        'wins':{\"2018\": 108, \"2017\" : 93}}"
   ]
  },
  {
   "cell_type": "code",
   "execution_count": 67,
   "metadata": {},
   "outputs": [
    {
     "name": "stdout",
     "output_type": "stream",
     "text": [
      "{'2018': 108, '2017': 93}\n"
     ]
    }
   ],
   "source": [
    "print(redsx['wins'])"
   ]
  },
  {
   "cell_type": "code",
   "execution_count": 69,
   "metadata": {},
   "outputs": [
    {
     "name": "stdout",
     "output_type": "stream",
     "text": [
      "108\n"
     ]
    }
   ],
   "source": [
    "print(redsx['wins']['2018'])"
   ]
  },
  {
   "cell_type": "markdown",
   "metadata": {},
   "source": [
    "# Section 2\n",
    "## Working with Dictionaries"
   ]
  },
  {
   "cell_type": "markdown",
   "metadata": {},
   "source": [
    "### Problem 2.1\n",
    "1. Create a dictionary, `car` with the following data:\n",
    ">- key \"year\", value 2018"
   ]
  },
  {
   "cell_type": "code",
   "execution_count": 70,
   "metadata": {},
   "outputs": [],
   "source": [
    "car = {'year':2018}"
   ]
  },
  {
   "cell_type": "markdown",
   "metadata": {},
   "source": [
    "2. Add a new key value pair to `car` of \"color\" = \"Blue\"\n",
    ">- Print `car` before and after the change"
   ]
  },
  {
   "cell_type": "code",
   "execution_count": 71,
   "metadata": {},
   "outputs": [
    {
     "name": "stdout",
     "output_type": "stream",
     "text": [
      "{'year': 2018}\n",
      "{'year': 2018, 'color': 'Blue'}\n"
     ]
    }
   ],
   "source": [
    "print(car)\n",
    "\n",
    "car['color'] = 'Blue'\n",
    "\n",
    "print(car)"
   ]
  },
  {
   "cell_type": "markdown",
   "metadata": {},
   "source": [
    "### Problem 2.2\n",
    "1. Update the \"color\" key to have a value of \"Red\"\n",
    ">- Print `car` before and after the change"
   ]
  },
  {
   "cell_type": "code",
   "execution_count": 75,
   "metadata": {},
   "outputs": [
    {
     "name": "stdout",
     "output_type": "stream",
     "text": [
      "{'year': 2018}\n",
      "{'year': 2018, 'color': 'Red'}\n"
     ]
    }
   ],
   "source": [
    "print(car)\n",
    "\n",
    "car['color'] = 'Red'\n",
    "\n",
    "print(car)"
   ]
  },
  {
   "cell_type": "markdown",
   "metadata": {},
   "source": [
    "### Problem 2.3\n",
    "1. Delete the key/value pair of \"year\":2018 from `car`\n",
    ">- Print `car` before and after the change"
   ]
  },
  {
   "cell_type": "code",
   "execution_count": 76,
   "metadata": {},
   "outputs": [
    {
     "name": "stdout",
     "output_type": "stream",
     "text": [
      "{'year': 2018, 'color': 'Red'}\n",
      "{'color': 'Red'}\n"
     ]
    }
   ],
   "source": [
    "print(car)\n",
    "\n",
    "del car['year']\n",
    "\n",
    "print(car)"
   ]
  },
  {
   "cell_type": "markdown",
   "metadata": {},
   "source": [
    "### Problem 2.4\n",
    "1. Create a new dictionary, `person`, that has the following data:\n",
    ">- key \"name\", value \"John\"\n",
    ">- key \"age\", value 26"
   ]
  },
  {
   "cell_type": "code",
   "execution_count": 77,
   "metadata": {},
   "outputs": [],
   "source": [
    "person = {'name':'John',\n",
    "         'age':26}"
   ]
  },
  {
   "cell_type": "markdown",
   "metadata": {},
   "source": [
    "2. Loop through the keys in `person` and print them out"
   ]
  },
  {
   "cell_type": "code",
   "execution_count": 78,
   "metadata": {},
   "outputs": [
    {
     "name": "stdout",
     "output_type": "stream",
     "text": [
      "name\n",
      "age\n"
     ]
    }
   ],
   "source": [
    "for keys in person.keys():\n",
    "    print(keys)"
   ]
  },
  {
   "cell_type": "markdown",
   "metadata": {},
   "source": [
    "3. Loop through the values in `person` and print them out"
   ]
  },
  {
   "cell_type": "code",
   "execution_count": 79,
   "metadata": {},
   "outputs": [
    {
     "name": "stdout",
     "output_type": "stream",
     "text": [
      "John\n",
      "26\n"
     ]
    }
   ],
   "source": [
    "for values in person.values():\n",
    "    print(values)"
   ]
  },
  {
   "cell_type": "markdown",
   "metadata": {},
   "source": [
    "4. Loop through `person` and print out the key:value pairs\n",
    ">- Use f-string formatting to nicely print out the pairs"
   ]
  },
  {
   "cell_type": "code",
   "execution_count": 80,
   "metadata": {},
   "outputs": [
    {
     "name": "stdout",
     "output_type": "stream",
     "text": [
      "Key: name,  Value: John\n",
      "Key: age,  Value: 26\n"
     ]
    }
   ],
   "source": [
    "for keys, values in person.items():\n",
    "    print(f'Key: {keys},  Value: {values}')"
   ]
  },
  {
   "cell_type": "markdown",
   "metadata": {},
   "source": [
    "### Problem 2.5\n",
    "#### Nesting dictionaries"
   ]
  },
  {
   "cell_type": "markdown",
   "metadata": {},
   "source": [
    "1. Create three customer dictionaries for three different customers with the following key:value pairs:\n",
    ">- cust1 = \"name\":\"Emil\", \"age\": 23, \"totalspend\" = 1200\n",
    ">- cust2 = \"name\":\"Tobias\", \"age\": 45, \"totalspend\" = 2500\n",
    ">- cust3 = \"name\": \"Linus\", \"age\": 33, \"totalspend\" = 850"
   ]
  },
  {
   "cell_type": "code",
   "execution_count": 4,
   "metadata": {},
   "outputs": [],
   "source": [
    "cust1 = {\"name\":\"Emil\", \"age\": 23, \"totalspend\" : 1200}\n",
    "cust2 = {\"name\":\"Tobias\", \"age\": 45, \"totalspend\" : 2500}\n",
    "cust3 = {\"name\": \"Linus\", \"age\": 33, \"totalspend\" : 850}"
   ]
  },
  {
   "cell_type": "markdown",
   "metadata": {},
   "source": [
    "2. Create a `customers` dictionary with the three `cust_` dictionaries nested within `customers`\n",
    ">- Note: your keys can be the same name as your individual dictionaries"
   ]
  },
  {
   "cell_type": "code",
   "execution_count": 5,
   "metadata": {
    "scrolled": true
   },
   "outputs": [],
   "source": [
    "customers = {'cust1':cust1,'cust2':cust2,'cust3':cust3}"
   ]
  },
  {
   "cell_type": "markdown",
   "metadata": {},
   "source": [
    "3. Grab the `totalspend` value from `cust2` from the `customers` dictionary"
   ]
  },
  {
   "cell_type": "code",
   "execution_count": 7,
   "metadata": {},
   "outputs": [
    {
     "data": {
      "text/plain": [
       "2500"
      ]
     },
     "execution_count": 7,
     "metadata": {},
     "output_type": "execute_result"
    }
   ],
   "source": [
    "customers['cust2']['totalspend']"
   ]
  },
  {
   "cell_type": "markdown",
   "metadata": {},
   "source": [
    "4. Loop through `customers` and print out all the ages"
   ]
  },
  {
   "cell_type": "code",
   "execution_count": 6,
   "metadata": {},
   "outputs": [
    {
     "name": "stdout",
     "output_type": "stream",
     "text": [
      "23\n",
      "45\n",
      "33\n"
     ]
    }
   ],
   "source": [
    "for (keys,values) in customers.items():\n",
    "    print(values['age'])"
   ]
  },
  {
   "cell_type": "markdown",
   "metadata": {},
   "source": [
    "<a id='Top Page'></a>[Back to Top](#Week-5)"
   ]
  },
  {
   "cell_type": "markdown",
   "metadata": {},
   "source": [
    "# Section 3\n",
    "## Basic Analytics with Dictionaries\n",
    ">- Use the `customers` dictionaries defined in problem 2.5 to answer the following questions"
   ]
  },
  {
   "cell_type": "markdown",
   "metadata": {},
   "source": [
    "### Problem 3.1\n",
    "1. What is the average age of our customers?\n",
    ">- Round to two decimal places"
   ]
  },
  {
   "cell_type": "code",
   "execution_count": 8,
   "metadata": {},
   "outputs": [
    {
     "name": "stdout",
     "output_type": "stream",
     "text": [
      "33.67\n"
     ]
    }
   ],
   "source": [
    "sum = 0\n",
    "i = 0\n",
    "for (keys,values) in customers.items():\n",
    "    sum += values['age']\n",
    "    i+=1\n",
    "    if i == len(customers):\n",
    "        print(round(sum/i,2)) "
   ]
  },
  {
   "cell_type": "markdown",
   "metadata": {},
   "source": [
    "### Problem 3.2\n",
    "1. What is the average total spending for our customers?\n",
    ">- Round to two decimal places\n",
    ">- Use f-string formatting to print a one-sentence summary statement with the total number of customers, total spend, and average spend."
   ]
  },
  {
   "cell_type": "code",
   "execution_count": 10,
   "metadata": {},
   "outputs": [
    {
     "name": "stdout",
     "output_type": "stream",
     "text": [
      "The total number of customers was: 3,\n",
      "total spend was: $4550,\n",
      "and the average spend was: $1516.67\n"
     ]
    }
   ],
   "source": [
    "sum = 0\n",
    "i = 0\n",
    "totCust = 0\n",
    "for (keys,values) in customers.items():\n",
    "    sum+=values['totalspend']\n",
    "    i+=1\n",
    "    totCust = len(customers)\n",
    "    if i ==len(customers):\n",
    "        print(f'The total number of customers was: {len(customers)},\\ntotal spend was: ${sum},\\nand the average spend was: ${round(sum/i,2)}')\n",
    "    "
   ]
  },
  {
   "cell_type": "markdown",
   "metadata": {},
   "source": [
    "#### Try using markdown cells to show a summary of the customer spending\n",
    ">- Note: refer to the `Dictionaries_Type-Along_student.ipynb` file to learn how to set up notebooks for printing variable values within a markdown cell"
   ]
  },
  {
   "cell_type": "markdown",
   "metadata": {},
   "source": [
    "### Using markdown to print results\n",
    "- Try printing your results from the prior problem here using markdown"
   ]
  },
  {
   "cell_type": "markdown",
   "metadata": {
    "variables": {
     "round(sum/i,2)": "1516.67",
     "sum": "4550",
     "totCust": "3"
    }
   },
   "source": [
    "Hi boss, here is a summary of our customers: \n",
    ">-  {{totCust}} total customers\n",
    ">-  \\${{sum}} total spend of customers\n",
    ">-  \\${{round(sum/i,2)}} average spend of customers"
   ]
  },
  {
   "cell_type": "markdown",
   "metadata": {},
   "source": [
    "# Section 4\n",
    "##  Building and Sorting Dictionaries"
   ]
  },
  {
   "cell_type": "markdown",
   "metadata": {},
   "source": [
    "### Problem 4.1 \n",
    "1. Create a dictionary, `sales`, with 10 keys numbered from 1-10\n",
    ">- Set the default value for each key value to 0 (zero)\n",
    ">- Then set the value for each key to be a random number based on:\n",
    ">>- For odd number keys a random number from from 1-1000\n",
    ">>- For even number keys a random number from 5000-15000\n",
    ">- This random value will represent the sales values in dollars"
   ]
  },
  {
   "cell_type": "code",
   "execution_count": 2,
   "metadata": {},
   "outputs": [
    {
     "data": {
      "text/plain": [
       "{1: 333,\n",
       " 2: 13075,\n",
       " 3: 348,\n",
       " 4: 6798,\n",
       " 5: 197,\n",
       " 6: 7821,\n",
       " 7: 991,\n",
       " 8: 13024,\n",
       " 9: 744,\n",
       " 10: 6776}"
      ]
     },
     "execution_count": 2,
     "metadata": {},
     "output_type": "execute_result"
    }
   ],
   "source": [
    "import random\n",
    "\n",
    "sales = {}\n",
    "\n",
    "for key in range(1,11):\n",
    "    sales.setdefault(key,0)\n",
    "    if key % 2 == 0:\n",
    "        x = random.randint(5000,15000)\n",
    "        sales[key] = x\n",
    "    else:\n",
    "        y = random.randint(1,1000)\n",
    "        sales[key] = y\n",
    "        \n",
    "sales"
   ]
  },
  {
   "cell_type": "markdown",
   "metadata": {},
   "source": [
    "### Problem 4.2 \n",
    "1. Show the random sales values sorted in descending order  "
   ]
  },
  {
   "cell_type": "code",
   "execution_count": 83,
   "metadata": {},
   "outputs": [
    {
     "data": {
      "text/plain": [
       "[(6, 14964),\n",
       " (2, 14041),\n",
       " (10, 13824),\n",
       " (8, 10636),\n",
       " (4, 9164),\n",
       " (5, 356),\n",
       " (9, 146),\n",
       " (1, 143),\n",
       " (3, 135),\n",
       " (7, 59)]"
      ]
     },
     "execution_count": 83,
     "metadata": {},
     "output_type": "execute_result"
    }
   ],
   "source": [
    "sorted(sales.items(), key = lambda x : x[1], reverse = 1)"
   ]
  },
  {
   "cell_type": "code",
   "execution_count": 107,
   "metadata": {},
   "outputs": [
    {
     "name": "stdout",
     "output_type": "stream",
     "text": [
      "[14964, 14041, 13824, 10636, 9164, 356, 146, 143, 135, 59] "
     ]
    }
   ],
   "source": [
    "salesList = []\n",
    "for v in sales.values():\n",
    "#     print(v)\n",
    "    salesList.append(v)\n",
    "\n",
    "salesList.sort(reverse = 1)\n",
    "print(salesList)"
   ]
  },
  {
   "cell_type": "markdown",
   "metadata": {},
   "source": [
    "### Problem 4.3\n",
    "1. Show the maximum sales value using the `max()` function"
   ]
  },
  {
   "cell_type": "code",
   "execution_count": 38,
   "metadata": {},
   "outputs": [
    {
     "data": {
      "text/plain": [
       "14964"
      ]
     },
     "execution_count": 38,
     "metadata": {},
     "output_type": "execute_result"
    }
   ],
   "source": [
    "max(sales.values())"
   ]
  },
  {
   "cell_type": "markdown",
   "metadata": {},
   "source": [
    "2. Show the minimum sales values using the `min()` function"
   ]
  },
  {
   "cell_type": "code",
   "execution_count": 39,
   "metadata": {},
   "outputs": [
    {
     "data": {
      "text/plain": [
       "59"
      ]
     },
     "execution_count": 39,
     "metadata": {},
     "output_type": "execute_result"
    }
   ],
   "source": [
    "min(sales.values())"
   ]
  },
  {
   "cell_type": "markdown",
   "metadata": {},
   "source": [
    "3. Show the total sales values using the `sum()` function"
   ]
  },
  {
   "cell_type": "code",
   "execution_count": 3,
   "metadata": {},
   "outputs": [
    {
     "data": {
      "text/plain": [
       "50107"
      ]
     },
     "execution_count": 3,
     "metadata": {},
     "output_type": "execute_result"
    }
   ],
   "source": [
    "sum(sales.values())"
   ]
  },
  {
   "cell_type": "code",
   "execution_count": 5,
   "metadata": {},
   "outputs": [
    {
     "name": "stdout",
     "output_type": "stream",
     "text": [
      "50107\n"
     ]
    }
   ],
   "source": [
    "saleTot = 0\n",
    "\n",
    "for i in range(1,11):\n",
    "#     print(sales[i])\n",
    "    saleTot += sales[i]\n",
    "print(saleTot)"
   ]
  },
  {
   "cell_type": "markdown",
   "metadata": {},
   "source": [
    "4. Show the range of sales values"
   ]
  },
  {
   "cell_type": "code",
   "execution_count": 11,
   "metadata": {},
   "outputs": [
    {
     "name": "stdout",
     "output_type": "stream",
     "text": [
      "197\n",
      "333\n",
      "348\n",
      "744\n",
      "991\n",
      "6776\n",
      "6798\n",
      "7821\n",
      "13024\n",
      "13075\n"
     ]
    }
   ],
   "source": [
    "sortOrd = sorted(sales.items(), key = lambda x: x[1], reverse = 0)\n",
    "\n",
    "for i in sortOrd:\n",
    "    print(i[1])"
   ]
  },
  {
   "cell_type": "markdown",
   "metadata": {},
   "source": [
    "5. Show the average across all sales values\n",
    ">- Round to two decimal places"
   ]
  },
  {
   "cell_type": "code",
   "execution_count": 17,
   "metadata": {},
   "outputs": [
    {
     "data": {
      "text/plain": [
       "5010.7"
      ]
     },
     "execution_count": 17,
     "metadata": {},
     "output_type": "execute_result"
    }
   ],
   "source": [
    "round((sum(sales.values())/len(sales)),2)"
   ]
  },
  {
   "cell_type": "markdown",
   "metadata": {},
   "source": [
    "<a id='Top Page'></a>[Back to Top](#Week-6)"
   ]
  }
 ],
 "metadata": {
  "kernelspec": {
   "display_name": "Python 3",
   "language": "python",
   "name": "python3"
  },
  "language_info": {
   "codemirror_mode": {
    "name": "ipython",
    "version": 3
   },
   "file_extension": ".py",
   "mimetype": "text/x-python",
   "name": "python",
   "nbconvert_exporter": "python",
   "pygments_lexer": "ipython3",
   "version": "3.8.3"
  }
 },
 "nbformat": 4,
 "nbformat_minor": 2
}
