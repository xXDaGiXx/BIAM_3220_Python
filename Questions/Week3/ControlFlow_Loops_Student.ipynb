{
 "cells": [
  {
   "cell_type": "markdown",
   "metadata": {},
   "source": [
    "# Python Flow Control: `for`, `while` loops\n",
    "***\n",
    "## Learning Objectives\n",
    "In this lesson you will: \n",
    "\n",
    "        1. Learn the fundamentals of the `for` loop\n",
    "        2. Learn the fundamentals of the `while` loop\n",
    "        3. Learn the fundamentals of creating a list variable\n",
    "        4. Write Python code to make decisions using the `for` and `while` loop\n",
    "               \n",
    "## Modules covered in this lesson: \n",
    ">- `random` (only in text, not in the ipynb)\n",
    "\n",
    "## Functions covered in this lesson:\n",
    ">- `range()`\n",
    ">-  `append()`\n",
    "\n",
    "## Links to topics and functions:\n",
    ">- <a id='ForLoops'></a>[for loops](#for-loops)\n",
    ">- <a id='WhileLoops'></a>[while loops](#while-loops)\n",
    ">- <a id='append'></a>[append() Function](#Break-Statement)\n",
    ">- <a id='HW'></a> [Homework](#Homework)\n",
    "\n",
    "#### References: Sweigart(2020, pp. 43-58)\n",
    "\n",
    "#### Great tool for testing code and seeing how things are working: http://pythontutor.com/visualize.html#mode=display"
   ]
  },
  {
   "cell_type": "markdown",
   "metadata": {
    "slideshow": {
     "slide_type": "slide"
    }
   },
   "source": [
    "# `for` loops\n",
    "\n",
    ">- We have learned about using `if`, `elif`, and `else` to make decisions\n",
    ">- Loops allow us to do repetitive tasks very quickly\n",
    ">- `for` loops are ususually used to execute a block of code a specified number of times \n",
    ">- To specifiy the number of times to execute a block of code in a `for` loop we use the `range()` function\n",
    "\n",
    "`for` loops include the following:\n",
    "\n",
    "1. The *for* keyword, \n",
    "2. A variable name\n",
    "3. The *in* keyword\n",
    "4. A call to the `range()` function with up to three integers passed to it\n",
    "    >- Note: we don't always use the range() function in loops\n",
    "    >- Loops can be used with a list, tuple, dictionary, a set, or a string\n",
    "    >- Your text focuses on using the range() function but we will also introduce a list variable. \n",
    "5. A colon\n",
    "6. The *for clause* which is the indented block of code following starting on the next line\n",
    "\n",
    "Let's work through some examples to get familiar with a `for` loop."
   ]
  },
  {
   "cell_type": "markdown",
   "metadata": {},
   "source": [
    "## `for` loops with the range() function"
   ]
  },
  {
   "cell_type": "markdown",
   "metadata": {},
   "source": [
    "#### Task: create a program that prints \"GO BUFFS!\" 5 times\n",
    "##### Note: We will also print the loop iteration and the value of a variable, i, at each iteration\n",
    ">- Printing the variable values for each iteration helps us see how the loop is operating\n",
    ">- We will also use the Python Tutor to help us see how loops are working"
   ]
  },
  {
   "cell_type": "code",
   "execution_count": null,
   "metadata": {
    "slideshow": {
     "slide_type": "slide"
    }
   },
   "outputs": [],
   "source": [
    "for i in range(5):\n",
    "    print('GO BUFFS!')\n",
    "    print(f'\\tNote: This is loop iteration, i = {i}')"
   ]
  },
  {
   "cell_type": "markdown",
   "metadata": {},
   "source": [
    "#### Task: print the numbers from 0 to 5 using a loop"
   ]
  },
  {
   "cell_type": "code",
   "execution_count": null,
   "metadata": {},
   "outputs": [],
   "source": [
    "for i in range(6):\n",
    "    print(i, end = \" \")"
   ]
  },
  {
   "cell_type": "markdown",
   "metadata": {},
   "source": [
    "## More `for` loop notes\n",
    ">- Loops that count through a range of numbers are called `count-controlled loops`\n",
    ">- The general syntax for this type of loop is:\n",
    "\n",
    "`for variable in range(an integer expression):`\n",
    "\n",
    "    statement_1\n",
    "    .\n",
    "    .\n",
    "    .\n",
    "    statement_n"
   ]
  },
  {
   "cell_type": "markdown",
   "metadata": {},
   "source": [
    "### Notes on the range() function\n",
    ">- Definition: the `range()` function returns a sequence of numbers, starting from 0 by default, and increments by 1 (by default), and ends at a specified number\n",
    ">- Syntax: range(start, stop, step)\n",
    ">>- start = the number (inclusive) to start the range. This is an optional parameter that defaults to 0. \n",
    ">>- stop = the number (exclusive) to stop the range. This is a required parameter. \n",
    ">>- step = the number specifying how to increment values in the range. Default is 1. "
   ]
  },
  {
   "cell_type": "markdown",
   "metadata": {},
   "source": [
    "### More examples using the range() function"
   ]
  },
  {
   "cell_type": "code",
   "execution_count": null,
   "metadata": {},
   "outputs": [],
   "source": [
    "'''\n",
    "Task: assign a variable, x, the values in the range starting at 3\n",
    "and going up to, but excluding 6\n",
    "'''\n",
    "\n",
    "x = range(3,6)\n",
    "\n",
    "for num in x:\n",
    "    print(num)"
   ]
  },
  {
   "cell_type": "markdown",
   "metadata": {},
   "source": [
    "#### Task: Assign a variable, x, the values in the range where the numbers start at 3 and go up to, but exclude 20, and count by 2"
   ]
  },
  {
   "cell_type": "code",
   "execution_count": null,
   "metadata": {},
   "outputs": [],
   "source": [
    "for x in range(3,20,2):\n",
    "    print(x)"
   ]
  },
  {
   "cell_type": "markdown",
   "metadata": {},
   "source": [
    "#### Another example setting a variable to `range(6)` and looping through the range"
   ]
  },
  {
   "cell_type": "code",
   "execution_count": null,
   "metadata": {},
   "outputs": [],
   "source": [
    "x = range(6)\n",
    "\n",
    "for num in x:\n",
    "    print(num)"
   ]
  },
  {
   "cell_type": "markdown",
   "metadata": {},
   "source": [
    "#### Task: create a program that counts down from 10 to 0 using a for loop "
   ]
  },
  {
   "cell_type": "code",
   "execution_count": null,
   "metadata": {},
   "outputs": [],
   "source": [
    "for x in range(10,-1,-1):\n",
    "    print(x)"
   ]
  },
  {
   "cell_type": "markdown",
   "metadata": {},
   "source": [
    "## for Loops using a list variable\n",
    ">- A list is a collection which is ordered and changeable. \n",
    ">- In Python, lists are written with square,[], brackets\n",
    ">- We will learn more about lists but this is enough to work with them in loops for now"
   ]
  },
  {
   "cell_type": "code",
   "execution_count": null,
   "metadata": {},
   "outputs": [],
   "source": [
    "fruit = ['apple', 'banana', 'cherry']\n",
    "\n",
    "for i in fruit:\n",
    "    \n",
    "    print(i)"
   ]
  },
  {
   "cell_type": "code",
   "execution_count": null,
   "metadata": {},
   "outputs": [],
   "source": [
    "fruit = ['apple', 'banana', 'cherry']\n",
    "\n",
    "for i in fruit:\n",
    "    if i == 'banana':\n",
    "        print(i)"
   ]
  },
  {
   "cell_type": "code",
   "execution_count": null,
   "metadata": {},
   "outputs": [],
   "source": [
    "fruit = ['apple', 'banana', 'cherry']\n",
    "\n",
    "for i in fruit:\n",
    "    print(i)\n",
    "    if i == 'banana':\n",
    "        break\n",
    "    print(i)"
   ]
  },
  {
   "cell_type": "code",
   "execution_count": null,
   "metadata": {},
   "outputs": [],
   "source": [
    "fruit = ['apple', 'banana', 'cherry']\n",
    "\n",
    "for i in fruit:\n",
    "    if i == 'banana':\n",
    "        break\n",
    "    print(i)"
   ]
  },
  {
   "cell_type": "markdown",
   "metadata": {},
   "source": [
    "### Break Statement\n",
    ">- The break statement can stop a loop before it has looped through all the items\n",
    ">- If the execution reaches a break statement, it exits the loop's clause\n",
    ">- Note the different output given in the prior two examples based on where we placed if clause and break statement\n",
    ">>- Run those two examples through the python tutor visualization tool to see how each is being processed\n",
    ">- Break statements can be very useful in `while` loops to prevent infinite loops"
   ]
  },
  {
   "cell_type": "code",
   "execution_count": null,
   "metadata": {},
   "outputs": [],
   "source": [
    "# We can build a list using a for statment and the append() function\n",
    "# First, we initializing a list object, listBuild, and assign it an empty list\n",
    "\n",
    "listBuild = []\n",
    "\n",
    "for i in range(0,6):\n",
    "    \n",
    "    print(f'Adding {i} to the list')\n",
    "    \n",
    "    listBuild.append(i)\n",
    "    \n",
    "    print(f'\\tNow the list contains {listBuild}')"
   ]
  },
  {
   "cell_type": "markdown",
   "metadata": {},
   "source": [
    "## Some more notes on the  `listBuild` code above\n",
    "1. On line `8` we are inserting a print() statement to help us keep track of the loop\n",
    "2. On line `10`, we introduced the `append()` method\n",
    ">- The append method adds values to a list.\n",
    ">>- Code Lingo: we are \"calling the append() method on the list object, listBuild, and passing the loop variable's value at each iteration to the append() method\" which is the value that gets added to the list.\n",
    ">- We haven't covered methods/functions yet but we will introduce these throughout various lessons.\n",
    "3. On line `12`, we insert another print() statement to show us how `listBuild` gets built by this loop\n",
    "4. On line `14`, we are calling our `listBuild` object to show the current value"
   ]
  },
  {
   "cell_type": "markdown",
   "metadata": {},
   "source": [
    "#### Task: write a program that will:\n",
    "1. Sum the numbers from 0-10, \n",
    "2. Store the result/answer in a variable named, total.\n",
    "3. Print out each iteration of the loop showing: \n",
    "     \n",
    "     a. The current value of the loop variable, `num`, defined in the `for` statement\n",
    "     \n",
    "     b. The running total stored in the variable, `total`\n",
    "     \n",
    "4. Print \"This is the end of the loop\" when the variable, `num`, reaches the last number in the range \n",
    "5. Print the final answer of the sum of the numbers from 0-10 (including 10). "
   ]
  },
  {
   "cell_type": "code",
   "execution_count": null,
   "metadata": {},
   "outputs": [],
   "source": [
    "total = 0\n",
    "\n",
    "for num in range(0,11):\n",
    "    \n",
    "    print(f'Now, num = {num}')\n",
    "    \n",
    "    #Total = total + num\n",
    "    total += num\n",
    "    \n",
    "    print(f'\\tRunning total = {total}')\n",
    "    \n",
    "    if num == 10:\n",
    "        \n",
    "        print('This is the end of the loop')\n",
    "        \n",
    "print(f'The sum of sumber between 0-10 is, {total}')"
   ]
  },
  {
   "cell_type": "markdown",
   "metadata": {},
   "source": [
    "# `while` loops\n",
    ">- `while` loops allows us to perform conditional iteration\n",
    ">>- That is, the process will continue to repeat as long as the condition remains true\n",
    ">>- `while` loops are also known as entry controlled loops (vs. count controlled `for` loops)\n",
    "\n",
    ">- The general syntax for a `while` loop is:\n",
    "\n",
    ">>- while condition:\n",
    "        sequence of statements\n",
    "    \n",
    "`while` loops include the following:\n",
    "\n",
    "1. The *while* keyword, \n",
    "2. A condition/expression that evaluates to True or False \n",
    "3. A colon\n",
    "4. The *while clause* which is the indented block of code starting on the next line\n",
    "\n",
    "Some more notes on `while` loops:\n",
    ">- `while` loops are similar to an `if` statement but instead of doing the evaluation once, they jump back to the start and test again\n",
    ">- A `while` loop will run until the condition evaluates to False\n",
    ">- Infinite loops are loops that never evaluate to False. Here's some tips on how to avoid an infinite loop:\n",
    ">>- If you can do the loop with a `for` loop, use the `for` loop\n",
    ">>- Review your `while` statement and make sure that the Boolean test will eventually be False\n",
    ">>- When in doubt, print out your test variable at the top and bottom of the `while` loop to see what's going on\n",
    ">>>- Also use the python tutor visualization tool to see how your `while` loop is working: http://pythontutor.com/visualize.html#mode=edit\n",
    "\n",
    "\n",
    "\n",
    "Let's work through some examples to get familiar with a `while` loop.\n",
    "\n",
    "<a id='top'></a>[TopPage](#Teaching-Notes)\n",
    "    "
   ]
  },
  {
   "cell_type": "markdown",
   "metadata": {},
   "source": [
    "## The annoying `while` loop\n",
    "### Task: create a program to ask a user for their name and if their name does not match 'your name' keep asking them until they input the correct response."
   ]
  },
  {
   "cell_type": "code",
   "execution_count": null,
   "metadata": {},
   "outputs": [],
   "source": []
  },
  {
   "cell_type": "markdown",
   "metadata": {},
   "source": [
    "#### Rewriting the previous `while` loop but with print() statements to see what is going on"
   ]
  },
  {
   "cell_type": "code",
   "execution_count": null,
   "metadata": {},
   "outputs": [],
   "source": [
    "          "
   ]
  },
  {
   "cell_type": "markdown",
   "metadata": {},
   "source": [
    "## If you see `In [*]` when running code in jupyter notebooks\n",
    ">- This means the kernal is running\n",
    ">- A `kernal` is a program that runs and examines our code\n",
    ">>- We set the `kernal` to whatever language we are working in (e.g., Python, SQL, R)\n",
    ">>- Seeing `In [*]` for more than a few seconds means the `kernal` is working pretty hard to run our code\n",
    ">- When working with loops it is likely that you will see the `In [*]` at some point\n",
    ">>- If you see this for long periods of time it is usually best to `Restart & Clear All Output`\n",
    ">>- Click on `Kernal` on the jupyter banner then click `Restart & Clear All Output`"
   ]
  },
  {
   "cell_type": "markdown",
   "metadata": {},
   "source": [
    "#### Another while loop that checks for a user name and password\n",
    "Task: \n",
    "1. Ask a user for their name\n",
    "2. Check to see if the name is 'Joe' \n",
    "3. If name is not 'Joe', ask the user again for their name\n",
    "4. If name is 'Joe', ask user for their password\n",
    "5. If password is 'swordfish' print 'Access Granted'\n",
    "6. If password is NOT 'swordfish' make the user start over\n"
   ]
  },
  {
   "cell_type": "code",
   "execution_count": 12,
   "metadata": {},
   "outputs": [
    {
     "name": "stdout",
     "output_type": "stream",
     "text": [
      "What is your name: dan\n",
      "What is your name: Ja\n",
      "What is your name: Joe\n",
      "What is your password: swordfish\n",
      "Access Granted\n"
     ]
    }
   ],
   "source": [
    "while True:\n",
    "    name = input('What is your name: ')\n",
    "    if name == 'Joe':\n",
    "        pw = input('What is your password: ')\n",
    "        if pw == 'swordfish':\n",
    "            print('Access Granted')\n",
    "            break"
   ]
  },
  {
   "cell_type": "markdown",
   "metadata": {},
   "source": [
    "#### Building a list with a while loop\n"
   ]
  },
  {
   "cell_type": "code",
   "execution_count": 25,
   "metadata": {},
   "outputs": [
    {
     "name": "stdout",
     "output_type": "stream",
     "text": [
      "[0, 1, 2, 3, 4, 5, 6, 7, 8, 9, 10, 11, 12, 13, 14, 15, 16, 17, 18, 19, 20]\n"
     ]
    }
   ],
   "source": [
    "aList = []\n",
    "i = 0\n",
    "while i < 21:\n",
    "    aList.append(i)\n",
    "    i += 1\n",
    "    \n",
    "print(aList)"
   ]
  },
  {
   "cell_type": "markdown",
   "metadata": {},
   "source": [
    "# Some Final Notes on loops\n",
    ">- From a practical standpoint, `for` loops are usually better in terms of readability and precision. \n",
    ">- Based on experience and from talking to programmers, the most common loop in practice is the `for` loop\n",
    ">- In general, here are some notes on when to use one loop over the other:\n",
    ">>- Use `for` loops when you know the number of iterations (loops) you need\n",
    ">>- Use `while` when you don't know the number of iterations (loops) you need\n",
    ">>>- The word of caution here is that you want to make sure your loop will stop at some point\n",
    ">>- If you ever create a loop that never stops here are some ways to stop it:\n",
    ">>>- In jupyter notebooks, click Kernel --> 'Restart & Clear All Output'\n",
    ">>>- Other programs will use `Ctrl+C` \n",
    ">>>- If everything is locked up, restart your computer"
   ]
  },
  {
   "cell_type": "markdown",
   "metadata": {},
   "source": [
    "# Homework"
   ]
  },
  {
   "cell_type": "markdown",
   "metadata": {},
   "source": [
    "1.  using a `for` loop, write a program that will print the even numbers from 0 to 20"
   ]
  },
  {
   "cell_type": "code",
   "execution_count": null,
   "metadata": {},
   "outputs": [],
   "source": [
    "for num in range(21):\n",
    "    if num % 2 != 0:\n",
    "        continue\n",
    "    print(num)"
   ]
  },
  {
   "cell_type": "code",
   "execution_count": null,
   "metadata": {},
   "outputs": [],
   "source": [
    "for num in range(0,21,2):\n",
    "    print(num)"
   ]
  },
  {
   "cell_type": "markdown",
   "metadata": {},
   "source": [
    "2.  using a `while` loop, write a program that will print the even numbers from 0 to 20"
   ]
  },
  {
   "cell_type": "code",
   "execution_count": 4,
   "metadata": {},
   "outputs": [
    {
     "name": "stdout",
     "output_type": "stream",
     "text": [
      "0\n",
      "2\n",
      "4\n",
      "6\n",
      "8\n",
      "10\n",
      "12\n",
      "14\n",
      "16\n",
      "18\n",
      "20\n"
     ]
    }
   ],
   "source": [
    "i = 0\n",
    "while i <= 20:\n",
    "    if i % 2 == 0:\n",
    "        print(i)\n",
    "        i+=1\n",
    "    else:\n",
    "        i+=1"
   ]
  },
  {
   "cell_type": "markdown",
   "metadata": {},
   "source": [
    "3. Follow the directions below to write a program that will:\n",
    ">- create a list variable, fruits, and initilize it with these values\n",
    ">>- 'apples', 'oranges', 'pears'\n",
    ">- add new fruits to the fruits variable from another variable list called, newFruit\n",
    ">>- The new fruits added to the produce department are: kiwi, grapes, apricots\n",
    ">- print all the fruits now in the fruits variable\n",
    "\n"
   ]
  },
  {
   "cell_type": "code",
   "execution_count": 8,
   "metadata": {},
   "outputs": [
    {
     "name": "stdout",
     "output_type": "stream",
     "text": [
      "['apples', 'oranges', 'pears']\n",
      "['apples', 'oranges', 'pears', 'kiwi', 'grapes', 'apricots']\n"
     ]
    }
   ],
   "source": [
    "fruits = ['apples','oranges','pears']\n",
    "newFruit = ['kiwi','grapes','apricots']\n",
    "print(fruits)\n",
    "print(fruits+newFruit)"
   ]
  },
  {
   "cell_type": "markdown",
   "metadata": {},
   "source": [
    "<a id='top'></a>[TopPage](#Teaching-Notes)"
   ]
  }
 ],
 "metadata": {
  "kernelspec": {
   "display_name": "Python 3",
   "language": "python",
   "name": "python3"
  },
  "language_info": {
   "codemirror_mode": {
    "name": "ipython",
    "version": 3
   },
   "file_extension": ".py",
   "mimetype": "text/x-python",
   "name": "python",
   "nbconvert_exporter": "python",
   "pygments_lexer": "ipython3",
   "version": "3.8.3"
  }
 },
 "nbformat": 4,
 "nbformat_minor": 4
}
