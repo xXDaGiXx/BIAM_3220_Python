{
 "cells": [
  {
   "cell_type": "markdown",
   "metadata": {},
   "source": [
    "# Python Basics - Student Notes\n",
    "***\n",
    "## Learning Objectives\n",
    ">- In this lesson, we will learn:\n",
    "        1. How to use jupyter notebooks to enter expressions in Python\n",
    "        2. Use Python to perform math operations \n",
    "        3. Work with common data types (integers, floating-point, strings, etc)\n",
    "        4. Store values in variables\n",
    "        5. Basic functions (print(), len(), input(), etc)\n",
    "        6. Write your first Python program! \n",
    "        \n",
    "## Modules covered in this lesson: \n",
    ">- none\n",
    "\n",
    "## Links to topics and functions:\n",
    ">- `Entering Expressions` <a id='Entering Expressions'></a>\n",
    "[Basic Python Functions](#Entering-Expressions)\n",
    ">- `Math Operators` <a id='MathOps'></a>\n",
    "[Math Ops](#Math-Operators-in-Python)\n",
    ">- `Common Data Types` <a id='DataTypes'></a> [Data Types](#Common-Data-Types)\n",
    "\n",
    ">- `print()` <a id='print()'></a>\n",
    "[print() Function](#Basic-Python-Functions) \n",
    ">- `input()` <a id='input()'></a>\n",
    "[input() Function](#Basic-Python-Functions)\n",
    ">- `len()` <a id='len()'></a>[len() Function](#Basic-Python-Functions)\n",
    ">- `str()` <a id='str()'></a>\n",
    "[str() Function](#Basic-Python-Functions)\n",
    ">- `int()` <a id='int()'></a>\n",
    "[int() Function](#Basic-Python-Functions)\n",
    ">- `float()` <a id='float()'></a>\n",
    "[float() Function](#Basic-Python-Functions)\n",
    "\n",
    "\n",
    "### Path to main python folder: C:\\\\Users\\\\mimc2537\\OneDrive - UCB-O365\\python\\week1\n",
    "#### References: Sweigart(2015, pp. 13-28)"
   ]
  },
  {
   "cell_type": "markdown",
   "metadata": {},
   "source": [
    "###### Navigating Jupyter Basics \n",
    "1. Green highlighted cell: this means you are in edit mode\n",
    "    - Edit mode is where you will enter text or code\n",
    "    - In edit mode you enter text similar to a normal text editor\n",
    "2. Grey highlighted cell means you are in command mode: \n",
    "    - Allows you to edit the notebook as a whole\n",
    "    - Add/delete cells (type `a` to insert cell above, `b` insert cell below)\n",
    "    - Change cell to `code` cell by typing `y`\n",
    "    - Change cell to `markdown` cell by typing `m`\n",
    "    - Typing `dd` will in command mode will delete a cell\n",
    "3. Running Code\n",
    "    - `ctrl + enter` will run the code and keep you in the current cell\n",
    "    - `alt + enter` will run the code and take you to a new cell"
   ]
  },
  {
   "cell_type": "markdown",
   "metadata": {},
   "source": [
    "### Exercise: Navigating Jupyter\n",
    "- Add a cell above this one\n",
    "- Add a cell below this one\n",
    "- Change the cell above this one to a markdown cell\n",
    "- Change the cell below this one to a code cell\n",
    "- Delete the cells "
   ]
  },
  {
   "cell_type": "markdown",
   "metadata": {},
   "source": [
    "# Entering Expressions"
   ]
  },
  {
   "cell_type": "code",
   "execution_count": 1,
   "metadata": {},
   "outputs": [
    {
     "data": {
      "text/plain": [
       "4"
      ]
     },
     "execution_count": 1,
     "metadata": {},
     "output_type": "execute_result"
    }
   ],
   "source": [
    "#We can use python as a calculator, enter the followingL\n",
    "\n",
    "2+2"
   ]
  },
  {
   "cell_type": "code",
   "execution_count": null,
   "metadata": {},
   "outputs": [],
   "source": []
  },
  {
   "cell_type": "code",
   "execution_count": null,
   "metadata": {},
   "outputs": [],
   "source": []
  },
  {
   "cell_type": "markdown",
   "metadata": {},
   "source": [
    "#### Note: In python `2+2` is called an *expression* which consist of *values* and *operators*.\n",
    "\n",
    "Q: What are the values in the previous expression?\n",
    "\n",
    "Q: What was the operator in the previous expression?"
   ]
  },
  {
   "cell_type": "markdown",
   "metadata": {},
   "source": [
    "# Math Operators in Python\n",
    "### Python follows the standard mathmatical order of operations\n",
    "The table below lists the math operators in the order of opertations:\n",
    "\n",
    "\n",
    "|Operator | Operation     | Example | Evaluates to...|\n",
    "|:-------:|:---------:    |:-------:|:--------------:|\n",
    "|**       |Exponent       |2 ** 3   |8               |\n",
    "|*        |Multiplication |3 * 5    |15              |\n",
    "|/        |Division       |22 / 8   |2.75            |\n",
    "|//       |Integer Divsion|22 // 8  |2               |\n",
    "|%        |Modulus        |22 % 8   |6               |\n",
    "|-        |Subtraction    |5 - 2    |3               |\n",
    "|+        |Addition       |2 + 2    |4               |\n",
    "\n",
    "Lets work through some examples and get a refresher on our mathemtical order of operations. "
   ]
  },
  {
   "cell_type": "code",
   "execution_count": 3,
   "metadata": {},
   "outputs": [
    {
     "data": {
      "text/plain": [
       "20"
      ]
     },
     "execution_count": 3,
     "metadata": {},
     "output_type": "execute_result"
    }
   ],
   "source": [
    "2 + 3 * 6"
   ]
  },
  {
   "cell_type": "code",
   "execution_count": 4,
   "metadata": {},
   "outputs": [
    {
     "data": {
      "text/plain": [
       "30"
      ]
     },
     "execution_count": 4,
     "metadata": {},
     "output_type": "execute_result"
    }
   ],
   "source": [
    "(2 + 3) * 6"
   ]
  },
  {
   "cell_type": "code",
   "execution_count": 5,
   "metadata": {},
   "outputs": [
    {
     "data": {
      "text/plain": [
       "264724"
      ]
     },
     "execution_count": 5,
     "metadata": {},
     "output_type": "execute_result"
    }
   ],
   "source": [
    "458 * 578"
   ]
  },
  {
   "cell_type": "code",
   "execution_count": 6,
   "metadata": {},
   "outputs": [
    {
     "data": {
      "text/plain": [
       "256"
      ]
     },
     "execution_count": 6,
     "metadata": {},
     "output_type": "execute_result"
    }
   ],
   "source": [
    "2 ** 8"
   ]
  },
  {
   "cell_type": "code",
   "execution_count": 7,
   "metadata": {},
   "outputs": [
    {
     "data": {
      "text/plain": [
       "3.2857142857142856"
      ]
     },
     "execution_count": 7,
     "metadata": {},
     "output_type": "execute_result"
    }
   ],
   "source": [
    "23 / 7"
   ]
  },
  {
   "cell_type": "code",
   "execution_count": 8,
   "metadata": {},
   "outputs": [
    {
     "data": {
      "text/plain": [
       "3"
      ]
     },
     "execution_count": 8,
     "metadata": {},
     "output_type": "execute_result"
    }
   ],
   "source": [
    "23 // 7"
   ]
  },
  {
   "cell_type": "code",
   "execution_count": 9,
   "metadata": {},
   "outputs": [
    {
     "data": {
      "text/plain": [
       "2"
      ]
     },
     "execution_count": 9,
     "metadata": {},
     "output_type": "execute_result"
    }
   ],
   "source": [
    " 23 % 7\n",
    "\n",
    "    \n",
    "#Q: What does the modulus operator return?\n",
    "#A: int remander "
   ]
  },
  {
   "cell_type": "code",
   "execution_count": 10,
   "metadata": {},
   "outputs": [
    {
     "data": {
      "text/plain": [
       "16.0"
      ]
     },
     "execution_count": 10,
     "metadata": {},
     "output_type": "execute_result"
    }
   ],
   "source": [
    "(5 - 1) * ((7 + 1) / (3 - 1))"
   ]
  },
  {
   "cell_type": "markdown",
   "metadata": {},
   "source": [
    "#### On your own: do the step by step math in the previous expression showing the correct order of operations"
   ]
  },
  {
   "cell_type": "markdown",
   "metadata": {},
   "source": [
    "# Common Data Types\n",
    "\n",
    ">- Integer\n",
    ">- Floating-Point\n",
    ">- String\n",
    "\n",
    "Definition: a *data type* is a category for values, and every value belongs to exactly one data type. \n",
    "\n",
    "Definition: The *integer* (or *int*) data type indicates values that are whole numbers (e.g., 1, 5, -20, -10, etc)\n",
    "\n",
    "Definition: The *Floating-point* data type indicates numbers that have a decimal point (e.g., 15.2, 20.1, -10.0, etc)\n",
    "\n",
    "Definition: The *string* data type indicates text values (e.g., 'Hello', 'World', 'Hello world', etc)\n",
    ">- Note: Always surround string data with single quote (') charecters\n",
    "\n"
   ]
  },
  {
   "cell_type": "markdown",
   "metadata": {},
   "source": [
    "## Exercises:  \n",
    "1. Create new cells below this one and complete the following. \n",
    " - Add two integers together. Note the data type returned\n",
    " - Add two floating points together. Note the data type returned. \n",
    " - Add an integer and a floating point together. Note the data type returned. "
   ]
  },
  {
   "cell_type": "code",
   "execution_count": 11,
   "metadata": {},
   "outputs": [
    {
     "data": {
      "text/plain": [
       "4"
      ]
     },
     "execution_count": 11,
     "metadata": {},
     "output_type": "execute_result"
    }
   ],
   "source": [
    "2 + 2\n",
    "\n",
    "#A: Data type returned: int"
   ]
  },
  {
   "cell_type": "code",
   "execution_count": 12,
   "metadata": {},
   "outputs": [
    {
     "data": {
      "text/plain": [
       "79.559"
      ]
     },
     "execution_count": 12,
     "metadata": {},
     "output_type": "execute_result"
    }
   ],
   "source": [
    "12.435 + 67.124\n",
    "\n",
    "#A: Data type returned : floating point"
   ]
  },
  {
   "cell_type": "code",
   "execution_count": 13,
   "metadata": {},
   "outputs": [
    {
     "data": {
      "text/plain": [
       "16.234"
      ]
     },
     "execution_count": 13,
     "metadata": {},
     "output_type": "execute_result"
    }
   ],
   "source": [
    "5 + 11.234\n",
    "\n",
    "#A: Data type returned: Floating point"
   ]
  },
  {
   "cell_type": "markdown",
   "metadata": {},
   "source": [
    "## String Concatenation and Replication\n",
    ">- While the `+` operator adds two numbers, when used on strings it joins the strings as the *string concatenation* operator. \n",
    ">- The `*` operator multiplies two numbers, but when used on strings it becomes the *string replication* operator. "
   ]
  },
  {
   "cell_type": "code",
   "execution_count": 15,
   "metadata": {},
   "outputs": [
    {
     "data": {
      "text/plain": [
       "'Firstname Lastname'"
      ]
     },
     "execution_count": 15,
     "metadata": {},
     "output_type": "execute_result"
    }
   ],
   "source": [
    "'Firstname' + ' Lastname'"
   ]
  },
  {
   "cell_type": "code",
   "execution_count": 16,
   "metadata": {},
   "outputs": [
    {
     "data": {
      "text/plain": [
       "'FirstnameFirstnameFirstnameFirstnameFirstname'"
      ]
     },
     "execution_count": 16,
     "metadata": {},
     "output_type": "execute_result"
    }
   ],
   "source": [
    "'Firstname' * 5"
   ]
  },
  {
   "cell_type": "code",
   "execution_count": 17,
   "metadata": {},
   "outputs": [
    {
     "data": {
      "text/plain": [
       "'--------------------'"
      ]
     },
     "execution_count": 17,
     "metadata": {},
     "output_type": "execute_result"
    }
   ],
   "source": [
    "'-' * 20"
   ]
  },
  {
   "cell_type": "markdown",
   "metadata": {},
   "source": [
    "# Storing Values in Variables\n",
    "\n",
    "Definition: a *variable* is used to store a single value in the computer's memory\n",
    "\n",
    "Definition: an *assignment statement* is a variable name, an `=` sign, and the value to be stored.  \n",
    "\n",
    "Variable Name Rules\n",
    "1. Variable names can only be one word.\n",
    "2. Variable names can use only letter, numbers, and the underscore `_` charecter.\n",
    "3. Variable names cannot begin with a number.\n",
    "\n",
    "Note1: variable names are case-sensitive. For example, firstName is different than FirstName is different than Firstname.\n",
    "\n",
    "Note2: a good variable name describes the data it contains. "
   ]
  },
  {
   "cell_type": "code",
   "execution_count": 19,
   "metadata": {},
   "outputs": [
    {
     "data": {
      "text/plain": [
       "40"
      ]
     },
     "execution_count": 19,
     "metadata": {},
     "output_type": "execute_result"
    }
   ],
   "source": [
    "var1 = 40    #Here, var1 is the variable assigned with the = the value of 40.\n",
    "var1"
   ]
  },
  {
   "cell_type": "markdown",
   "metadata": {},
   "source": [
    "Note: once you asign a variable a value, you can use the variable name in other expressions with other variables and values. "
   ]
  },
  {
   "cell_type": "code",
   "execution_count": 20,
   "metadata": {},
   "outputs": [
    {
     "data": {
      "text/plain": [
       "80"
      ]
     },
     "execution_count": 20,
     "metadata": {},
     "output_type": "execute_result"
    }
   ],
   "source": [
    "var1 * 2"
   ]
  },
  {
   "cell_type": "code",
   "execution_count": 22,
   "metadata": {},
   "outputs": [],
   "source": [
    "var2 = 2"
   ]
  },
  {
   "cell_type": "code",
   "execution_count": 23,
   "metadata": {},
   "outputs": [
    {
     "data": {
      "text/plain": [
       "80"
      ]
     },
     "execution_count": 23,
     "metadata": {},
     "output_type": "execute_result"
    }
   ],
   "source": [
    "var1 * var2"
   ]
  },
  {
   "cell_type": "code",
   "execution_count": 25,
   "metadata": {},
   "outputs": [
    {
     "data": {
      "text/plain": [
       "20"
      ]
     },
     "execution_count": 25,
     "metadata": {},
     "output_type": "execute_result"
    }
   ],
   "source": [
    "var1 = 20    #Note we are overwriting the value originally stored in var1. Any future use of var1 will now have this value\n",
    "var1"
   ]
  },
  {
   "cell_type": "code",
   "execution_count": 26,
   "metadata": {},
   "outputs": [
    {
     "data": {
      "text/plain": [
       "22"
      ]
     },
     "execution_count": 26,
     "metadata": {},
     "output_type": "execute_result"
    }
   ],
   "source": [
    "var1 + var2"
   ]
  },
  {
   "cell_type": "code",
   "execution_count": 28,
   "metadata": {},
   "outputs": [],
   "source": [
    "var2 = 'spam'\n",
    "#Q: What will happen on the next line if we enter var1 * var2?\n",
    "#Q: What will happen on the next line if we enter var2 + 2?"
   ]
  },
  {
   "cell_type": "code",
   "execution_count": 29,
   "metadata": {},
   "outputs": [
    {
     "data": {
      "text/plain": [
       "'spamspamspamspamspamspamspamspamspamspamspamspamspamspamspamspamspamspamspamspam'"
      ]
     },
     "execution_count": 29,
     "metadata": {},
     "output_type": "execute_result"
    }
   ],
   "source": [
    "var1 * var2"
   ]
  },
  {
   "cell_type": "code",
   "execution_count": 31,
   "metadata": {},
   "outputs": [
    {
     "data": {
      "text/plain": [
       "'spam2'"
      ]
     },
     "execution_count": 31,
     "metadata": {},
     "output_type": "execute_result"
    }
   ],
   "source": [
    "var2 + '2'"
   ]
  },
  {
   "cell_type": "markdown",
   "metadata": {},
   "source": [
    "# Basic Python Functions\n",
    "\n",
    ">- print(), Displays the string value inside the parentheses on the screen. \n",
    ">- input(), Waits for the user to type something on the keyboard and press enter\n",
    ">- len(), Evaluates the number of characters in a string or variable containing a string\n",
    ">- str(), converts a data  type to a string\n",
    ">- int(), this function can convert a number stored as a string to an integer. It also can take a floating point number and round down to the nearest integer value. \n",
    ">- float(), this can convert an integer value to a floating\n",
    ">- type(), this function let's us see what data type something is\n",
    "\n",
    "Let's work through some basic uses of these functions. \n"
   ]
  },
  {
   "cell_type": "code",
   "execution_count": 32,
   "metadata": {},
   "outputs": [
    {
     "name": "stdout",
     "output_type": "stream",
     "text": [
      "Hello Worlds OHYAH\n"
     ]
    }
   ],
   "source": [
    "print('Hello Worlds OHYAH')"
   ]
  },
  {
   "cell_type": "code",
   "execution_count": 33,
   "metadata": {},
   "outputs": [
    {
     "name": "stdout",
     "output_type": "stream",
     "text": [
      "What is you name:\n"
     ]
    }
   ],
   "source": [
    "print('What is you name:')"
   ]
  },
  {
   "cell_type": "code",
   "execution_count": 34,
   "metadata": {},
   "outputs": [
    {
     "name": "stdout",
     "output_type": "stream",
     "text": [
      "Daniel\n"
     ]
    }
   ],
   "source": [
    "myName = input() #Note: When you run this you shoulkd get a box to enter your name"
   ]
  },
  {
   "cell_type": "code",
   "execution_count": 35,
   "metadata": {},
   "outputs": [
    {
     "data": {
      "text/plain": [
       "'Daniel'"
      ]
     },
     "execution_count": 35,
     "metadata": {},
     "output_type": "execute_result"
    }
   ],
   "source": [
    "myName"
   ]
  },
  {
   "cell_type": "markdown",
   "metadata": {},
   "source": [
    "Q: What value should the variable myName now have? "
   ]
  },
  {
   "cell_type": "code",
   "execution_count": 36,
   "metadata": {},
   "outputs": [
    {
     "name": "stdout",
     "output_type": "stream",
     "text": [
      "It is nice to meet you, Daniel\n"
     ]
    }
   ],
   "source": [
    "print('It is nice to meet you, ' + myName)"
   ]
  },
  {
   "cell_type": "code",
   "execution_count": 43,
   "metadata": {},
   "outputs": [
    {
     "data": {
      "text/plain": [
       "6"
      ]
     },
     "execution_count": 43,
     "metadata": {},
     "output_type": "execute_result"
    }
   ],
   "source": [
    "len(myName)\n",
    "#This is returning the actual value 6"
   ]
  },
  {
   "cell_type": "code",
   "execution_count": 41,
   "metadata": {},
   "outputs": [
    {
     "name": "stdout",
     "output_type": "stream",
     "text": [
      "6\n"
     ]
    }
   ],
   "source": [
    "print(len(myName))\n",
    "#This is not acutally returning anything, just displaying info from a string\n",
    "#PRINT DOES NOT RETURN A VALUE"
   ]
  },
  {
   "cell_type": "markdown",
   "metadata": {},
   "source": [
    "Q: What is the difference between the values of the prior two statements? (`len(myName)` vs. `print(len(myName)`)? \n",
    "\n",
    "Hint: run some operations on each one of those statements and see what you get. "
   ]
  },
  {
   "cell_type": "code",
   "execution_count": 44,
   "metadata": {},
   "outputs": [
    {
     "name": "stdout",
     "output_type": "stream",
     "text": [
      "6\n"
     ]
    },
    {
     "ename": "TypeError",
     "evalue": "unsupported operand type(s) for *: 'NoneType' and 'int'",
     "output_type": "error",
     "traceback": [
      "\u001b[1;31m---------------------------------------------------------------------------\u001b[0m",
      "\u001b[1;31mTypeError\u001b[0m                                 Traceback (most recent call last)",
      "\u001b[1;32m<ipython-input-44-8c526a410813>\u001b[0m in \u001b[0;36m<module>\u001b[1;34m\u001b[0m\n\u001b[1;32m----> 1\u001b[1;33m \u001b[0mprint\u001b[0m\u001b[1;33m(\u001b[0m\u001b[0mlen\u001b[0m\u001b[1;33m(\u001b[0m\u001b[0mmyName\u001b[0m\u001b[1;33m)\u001b[0m\u001b[1;33m)\u001b[0m \u001b[1;33m*\u001b[0m \u001b[1;36m2\u001b[0m\u001b[1;33m\u001b[0m\u001b[1;33m\u001b[0m\u001b[0m\n\u001b[0m",
      "\u001b[1;31mTypeError\u001b[0m: unsupported operand type(s) for *: 'NoneType' and 'int'"
     ]
    }
   ],
   "source": [
    "print(len(myName)) * 2"
   ]
  },
  {
   "cell_type": "code",
   "execution_count": 45,
   "metadata": {},
   "outputs": [
    {
     "data": {
      "text/plain": [
       "12"
      ]
     },
     "execution_count": 45,
     "metadata": {},
     "output_type": "execute_result"
    }
   ],
   "source": [
    "len(myName) * 2\n",
    "#LENGTH FUNCTION DOES RETURN VALUE / INT"
   ]
  },
  {
   "cell_type": "code",
   "execution_count": 46,
   "metadata": {},
   "outputs": [
    {
     "data": {
      "text/plain": [
       "'62'"
      ]
     },
     "execution_count": 46,
     "metadata": {},
     "output_type": "execute_result"
    }
   ],
   "source": [
    "str(len(myName)) + str(2)"
   ]
  },
  {
   "cell_type": "code",
   "execution_count": 49,
   "metadata": {},
   "outputs": [
    {
     "name": "stdout",
     "output_type": "stream",
     "text": [
      "I am 21 years old.\n"
     ]
    }
   ],
   "source": [
    "print('I am ' + '21' + ' years old.')"
   ]
  },
  {
   "cell_type": "markdown",
   "metadata": {},
   "source": [
    "Q: Why do we get an error from the code in the previous cell?\n",
    "\n",
    "Q: How can we fix the error? "
   ]
  },
  {
   "cell_type": "code",
   "execution_count": 51,
   "metadata": {},
   "outputs": [
    {
     "name": "stdout",
     "output_type": "stream",
     "text": [
      "I am 21 years old.\n"
     ]
    }
   ],
   "source": [
    "print('I am ' + str(21) + ' years old.')"
   ]
  },
  {
   "cell_type": "code",
   "execution_count": null,
   "metadata": {},
   "outputs": [],
   "source": []
  },
  {
   "cell_type": "markdown",
   "metadata": {},
   "source": [
    "Q: What all is going on in the prior code? Write out what you think Python is doing step by step. I've outlined at least 6 steps but if you have more feel free to add to this. \n",
    "\n",
    "1. \n",
    "2. \n",
    "3. \n",
    "4. \n",
    "5. \n",
    "6. \n",
    "\n",
    "Now, let's go through some other functions. \n",
    "\n",
    "For each of the following examples, note what happens to the values that you pass into the functions. "
   ]
  },
  {
   "cell_type": "code",
   "execution_count": 52,
   "metadata": {},
   "outputs": [
    {
     "data": {
      "text/plain": [
       "'0'"
      ]
     },
     "execution_count": 52,
     "metadata": {},
     "output_type": "execute_result"
    }
   ],
   "source": [
    "str(0)"
   ]
  },
  {
   "cell_type": "code",
   "execution_count": 53,
   "metadata": {},
   "outputs": [
    {
     "data": {
      "text/plain": [
       "'-7.32'"
      ]
     },
     "execution_count": 53,
     "metadata": {},
     "output_type": "execute_result"
    }
   ],
   "source": [
    "str(-7.32)"
   ]
  },
  {
   "cell_type": "code",
   "execution_count": 54,
   "metadata": {},
   "outputs": [
    {
     "data": {
      "text/plain": [
       "42"
      ]
     },
     "execution_count": 54,
     "metadata": {},
     "output_type": "execute_result"
    }
   ],
   "source": [
    "int('42')"
   ]
  },
  {
   "cell_type": "code",
   "execution_count": 55,
   "metadata": {},
   "outputs": [
    {
     "data": {
      "text/plain": [
       "-23"
      ]
     },
     "execution_count": 55,
     "metadata": {},
     "output_type": "execute_result"
    }
   ],
   "source": [
    "int('-23')"
   ]
  },
  {
   "cell_type": "code",
   "execution_count": 56,
   "metadata": {},
   "outputs": [
    {
     "data": {
      "text/plain": [
       "1"
      ]
     },
     "execution_count": 56,
     "metadata": {},
     "output_type": "execute_result"
    }
   ],
   "source": [
    "int(1.23)"
   ]
  },
  {
   "cell_type": "code",
   "execution_count": 57,
   "metadata": {},
   "outputs": [
    {
     "data": {
      "text/plain": [
       "3.14"
      ]
     },
     "execution_count": 57,
     "metadata": {},
     "output_type": "execute_result"
    }
   ],
   "source": [
    "float('3.14')"
   ]
  },
  {
   "cell_type": "code",
   "execution_count": 58,
   "metadata": {},
   "outputs": [
    {
     "data": {
      "text/plain": [
       "12.0"
      ]
     },
     "execution_count": 58,
     "metadata": {},
     "output_type": "execute_result"
    }
   ],
   "source": [
    "float(12)"
   ]
  },
  {
   "cell_type": "code",
   "execution_count": null,
   "metadata": {},
   "outputs": [],
   "source": []
  },
  {
   "cell_type": "markdown",
   "metadata": {},
   "source": [
    "What if we are working away and we lose track of what data type we are working with? \n",
    "\n",
    "This is where the type() function comes in handy. "
   ]
  },
  {
   "cell_type": "code",
   "execution_count": 59,
   "metadata": {},
   "outputs": [],
   "source": [
    "var1 = 223"
   ]
  },
  {
   "cell_type": "code",
   "execution_count": 60,
   "metadata": {},
   "outputs": [
    {
     "data": {
      "text/plain": [
       "223.0"
      ]
     },
     "execution_count": 60,
     "metadata": {},
     "output_type": "execute_result"
    }
   ],
   "source": [
    "float(var1)"
   ]
  },
  {
   "cell_type": "code",
   "execution_count": 61,
   "metadata": {},
   "outputs": [
    {
     "data": {
      "text/plain": [
       "'223'"
      ]
     },
     "execution_count": 61,
     "metadata": {},
     "output_type": "execute_result"
    }
   ],
   "source": [
    "str(var1)"
   ]
  },
  {
   "cell_type": "code",
   "execution_count": 62,
   "metadata": {},
   "outputs": [
    {
     "data": {
      "text/plain": [
       "int"
      ]
     },
     "execution_count": 62,
     "metadata": {},
     "output_type": "execute_result"
    }
   ],
   "source": [
    "type(var1)"
   ]
  },
  {
   "cell_type": "code",
   "execution_count": null,
   "metadata": {},
   "outputs": [],
   "source": [
    "#A: We never reassigned var1 to a float or str, just applied a function to var1"
   ]
  },
  {
   "cell_type": "markdown",
   "metadata": {},
   "source": [
    "Q: Why is `var1` still showing up as `int` data type? \n",
    "\n"
   ]
  },
  {
   "cell_type": "code",
   "execution_count": 63,
   "metadata": {},
   "outputs": [],
   "source": [
    "var1 = float(var1)"
   ]
  },
  {
   "cell_type": "code",
   "execution_count": 64,
   "metadata": {},
   "outputs": [
    {
     "data": {
      "text/plain": [
       "float"
      ]
     },
     "execution_count": 64,
     "metadata": {},
     "output_type": "execute_result"
    }
   ],
   "source": [
    "type(var1)"
   ]
  },
  {
   "cell_type": "code",
   "execution_count": 65,
   "metadata": {},
   "outputs": [],
   "source": [
    "var1 = str(var1)"
   ]
  },
  {
   "cell_type": "code",
   "execution_count": 66,
   "metadata": {},
   "outputs": [
    {
     "data": {
      "text/plain": [
       "str"
      ]
     },
     "execution_count": 66,
     "metadata": {},
     "output_type": "execute_result"
    }
   ],
   "source": [
    "type(var1)"
   ]
  }
 ],
 "metadata": {
  "kernelspec": {
   "display_name": "Python 3",
   "language": "python",
   "name": "python3"
  },
  "language_info": {
   "codemirror_mode": {
    "name": "ipython",
    "version": 3
   },
   "file_extension": ".py",
   "mimetype": "text/x-python",
   "name": "python",
   "nbconvert_exporter": "python",
   "pygments_lexer": "ipython3",
   "version": "3.8.3"
  }
 },
 "nbformat": 4,
 "nbformat_minor": 2
}
