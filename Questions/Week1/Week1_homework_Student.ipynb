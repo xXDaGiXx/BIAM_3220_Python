{
 "cells": [
  {
   "cell_type": "markdown",
   "metadata": {},
   "source": [
    "# Week 1: Homework\n",
    "## Writing Python Program to Calculate Your Final Grade in the Class\n",
    "\n",
    "### Directions\n",
    "1. Start a new Jupyter notebook with the following naming template:\n",
    ">- FirstName_LastName_w1d2_Homework\n",
    "2. In the first cell, check what directory you are working in. Make sure you are saving in a week1 folder.\n",
    ">- There are several ways to do this but try looking up the `os` module\n",
    "3. Write a program that will ask for your input for the following grades and print a final course grade:\n",
    ">- Homework Grade (user input as an integer from 0-100)\n",
    ">- Quiz Grade (user input as an integer from 0-100)\n",
    ">- Midterm Grade (user input as an integer from 0-100)\n",
    ">- Final Grade (user input as an integer from 0-100)\n",
    "4. Create a course grade variable defined by the weights given in the syllabus. \n",
    "5. Run the cell after entering the code. Change the numbers to get different estimates of your course grade. \n",
    "6. For each line in the code, write a comment using `#` explaining what Python is doing.\n",
    "7. If a student has a 100 for homework, 85 for quiz, 80 for Midterm, and 88 for final, what is their final course grade? \n",
    ">- Note: refer to your syllabus for proper weighting of each of the grade items in your program.\n",
    "8. Save your jupyter notebook and upload to Canvas. \n"
   ]
  },
  {
   "cell_type": "code",
   "execution_count": null,
   "metadata": {},
   "outputs": [],
   "source": []
  },
  {
   "cell_type": "markdown",
   "metadata": {},
   "source": [
    "### Write the code for the final grade calculator in the next cell"
   ]
  },
  {
   "cell_type": "code",
   "execution_count": null,
   "metadata": {},
   "outputs": [],
   "source": [
    "print('Enter your grades in below:')\n",
    "hg = 0\n",
    "while(True):\n",
    "    hg = int(input('Homework Grade (0-100): '))\n",
    "    if hg not in range(0,101):\n",
    "            print('Please enter a valid integer')\n",
    "    else:\n",
    "            break;\n",
    "\n",
    "qg = 0\n",
    "while(True):\n",
    "    qg = int(input('Quiz Grade (0-100): '))\n",
    "    if qg not in range(0,101):\n",
    "            print('Please enter a valid integer')\n",
    "    else:\n",
    "            break;\n",
    "            \n",
    "mg = 0\n",
    "while(True):\n",
    "    mg = int(input('Midterm Grade (0-100): '))\n",
    "    if mg not in range(0,101):\n",
    "            print('Please enter a valid integer')\n",
    "    else:\n",
    "            break;\n",
    "\n",
    "fg = 0\n",
    "while(True):\n",
    "    fg = int(input('Final Grade (0-100): '))\n",
    "    if fg not in range(0,101):\n",
    "            print('Please enter a valid integer')\n",
    "    else:\n",
    "            break;\n",
    "\n",
    "cg = ((hg * .05) + (qg * .40) + (mg * .25) + (fg * .30))\n",
    "print('Your cumulative grade for the semester is: ' + str(cg))\n"
   ]
  }
 ],
 "metadata": {
  "kernelspec": {
   "display_name": "Python 3",
   "language": "python",
   "name": "python3"
  },
  "language_info": {
   "codemirror_mode": {
    "name": "ipython",
    "version": 3
   },
   "file_extension": ".py",
   "mimetype": "text/x-python",
   "name": "python",
   "nbconvert_exporter": "python",
   "pygments_lexer": "ipython3",
   "version": "3.8.3"
  }
 },
 "nbformat": 4,
 "nbformat_minor": 2
}
