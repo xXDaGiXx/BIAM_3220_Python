{
 "cells": [
  {
   "cell_type": "markdown",
   "metadata": {},
   "source": [
    "# Week 3 Homework and/or In-Class Activity\n",
    "\n",
    "## Learning Objectives \n",
    "### In this notebook you will learn about and practice:\n",
    "1. Section 1: User input and conditional statements\n",
    "<a id='Section 1'></a>[Section 1: User input and conditional statements](#Section-1)\n",
    "3. Section 2: `if` statements\n",
    "<a id='Section 2'></a>[Section 2: if statements](#Section-2)\n",
    "4. Section 3: `elif` statements\n",
    "<a id='Section 3'></a>[Section 3: elif statements](#Section-3)\n",
    "5. Section 4: `else` statements\n",
    "<a id='Section 4'></a>[Section 4: else statements](#Section-4)\n",
    " \n",
    "\n",
    "<a id='Top Page'></a>[Back to Top](#Week-3-Homework-and/or-In-Class-Activity)"
   ]
  },
  {
   "cell_type": "markdown",
   "metadata": {},
   "source": [
    "# Section 1\n",
    "## User input and conditional statements"
   ]
  },
  {
   "cell_type": "markdown",
   "metadata": {},
   "source": [
    "### In the next cell, do the following:\n",
    "1. Create markdown cell\n",
    "2. Create a level 1 header with the text \"Week 3\" as the header text\n",
    "3. Create a level 2 header with the text \"Practicing user input and conditional statements\"\n",
    "4. Create a level 3 header with your name as the text\n",
    "5. Run the cell"
   ]
  },
  {
   "cell_type": "markdown",
   "metadata": {},
   "source": [
    "# Week 3\n",
    "## Practicing user input and conditonal statements\n",
    "### Daniel Gibson"
   ]
  },
  {
   "cell_type": "markdown",
   "metadata": {},
   "source": [
    "### In the next cell, do the following:\n",
    "1. Create a comment in a code cell with the text \"accepting and outputting\" user input as the comment\n",
    "2. Print out the result from a user inputted value to the question: \"What is your name?\" "
   ]
  },
  {
   "cell_type": "code",
   "execution_count": 4,
   "metadata": {},
   "outputs": [
    {
     "name": "stdout",
     "output_type": "stream",
     "text": [
      "What is your name? Dan\n"
     ]
    },
    {
     "data": {
      "text/plain": [
       "'Dan'"
      ]
     },
     "execution_count": 4,
     "metadata": {},
     "output_type": "execute_result"
    }
   ],
   "source": [
    "#Accepting and outputting\n",
    "input('What is your name? ')"
   ]
  },
  {
   "cell_type": "markdown",
   "metadata": {},
   "source": [
    "### In the next cell, do the following:\n",
    "1. Create a comment in the code cell with the text: \"saving what the user inputs\"\n",
    "2. Create a variable, `ans`, and assign it the value of whatever a user inputs when prompted \"What is your name?\"\n",
    "3. Use f-string formatting to print out a statement that injects the user inputted value\n",
    ">- When printed the general statement should read: \"Hello {variable}!\" where variable is the value a user inputs"
   ]
  },
  {
   "cell_type": "code",
   "execution_count": 3,
   "metadata": {},
   "outputs": [
    {
     "name": "stdout",
     "output_type": "stream",
     "text": [
      "What is your name? Daniel\n",
      "Hello Daniel!\n"
     ]
    }
   ],
   "source": [
    "#Saving what the user inputs\n",
    "ans = input('What is your name? ')\n",
    "print(f'Hello {ans}!')"
   ]
  },
  {
   "cell_type": "markdown",
   "metadata": {},
   "source": [
    "### In the next cell, do the following:\n",
    "1. Write a comment:  \"how to check the data type of a variable\"\n",
    "2. Create a variable, `num` and assign it the value of 5 (an integer)\n",
    "3. On the next line, print out the data type of `num` using a Python function"
   ]
  },
  {
   "cell_type": "code",
   "execution_count": 5,
   "metadata": {},
   "outputs": [
    {
     "data": {
      "text/plain": [
       "int"
      ]
     },
     "execution_count": 5,
     "metadata": {},
     "output_type": "execute_result"
    }
   ],
   "source": [
    "#How to check the data type of a variable\n",
    "num = 5\n",
    "type(num)"
   ]
  },
  {
   "cell_type": "markdown",
   "metadata": {},
   "source": [
    "### In the next cell:\n",
    "1. Create a comment: \"converting a variable from one data type to another\"\n",
    "2. Create a variable, `num` and assign it the value of \"9\" (a string)\n",
    "3. Print out the current data type of `num`\n",
    "4. On the next line, re-declare `num` so that it stores the original value as an integer\n",
    ">- Use a data type conversion function to do this by passing `num` to the data type conversion function\n",
    "5. Print out the data type of `num` now"
   ]
  },
  {
   "cell_type": "code",
   "execution_count": 8,
   "metadata": {
    "scrolled": true
   },
   "outputs": [
    {
     "data": {
      "text/plain": [
       "int"
      ]
     },
     "execution_count": 8,
     "metadata": {},
     "output_type": "execute_result"
    }
   ],
   "source": [
    "#converting a variable from one data type to another\n",
    "num = \"9\"\n",
    "type(num)\n",
    "num = int(num)\n",
    "type(num)"
   ]
  },
  {
   "cell_type": "markdown",
   "metadata": {},
   "source": [
    "### In the next cell:\n",
    "1. Create a comment: \"working with user input to perform calculations\"\n",
    "2. Define a variable, `ans`, that stores the value from a user when prompted: \"Type a number to add to 100: \"\n",
    "3. Print out the data type of `ans` at this point in the program\n",
    "4. Define a variable, `result`, that is the sum of 100 and whatever the user enters in step 2\n",
    "5. Use f-string formatting to print out the complete equation with the current values stored in your variables\n",
    ">- `100 + {ans} = {result}`"
   ]
  },
  {
   "cell_type": "code",
   "execution_count": 10,
   "metadata": {},
   "outputs": [
    {
     "name": "stdout",
     "output_type": "stream",
     "text": [
      "Type a number to add to 100: 20\n"
     ]
    },
    {
     "ename": "TypeError",
     "evalue": "unsupported operand type(s) for +: 'int' and 'str'",
     "output_type": "error",
     "traceback": [
      "\u001b[1;31m---------------------------------------------------------------------------\u001b[0m",
      "\u001b[1;31mTypeError\u001b[0m                                 Traceback (most recent call last)",
      "\u001b[1;32m<ipython-input-10-2dcf8af45227>\u001b[0m in \u001b[0;36m<module>\u001b[1;34m\u001b[0m\n\u001b[0;32m      1\u001b[0m \u001b[0mans\u001b[0m \u001b[1;33m=\u001b[0m \u001b[0minput\u001b[0m\u001b[1;33m(\u001b[0m\u001b[1;34m'Type a number to add to 100: '\u001b[0m\u001b[1;33m)\u001b[0m\u001b[1;33m\u001b[0m\u001b[1;33m\u001b[0m\u001b[0m\n\u001b[0;32m      2\u001b[0m \u001b[0mtype\u001b[0m\u001b[1;33m(\u001b[0m\u001b[0mans\u001b[0m\u001b[1;33m)\u001b[0m\u001b[1;33m\u001b[0m\u001b[1;33m\u001b[0m\u001b[0m\n\u001b[1;32m----> 3\u001b[1;33m \u001b[0mresult\u001b[0m \u001b[1;33m=\u001b[0m \u001b[1;36m100\u001b[0m \u001b[1;33m+\u001b[0m \u001b[0mans\u001b[0m\u001b[1;33m\u001b[0m\u001b[1;33m\u001b[0m\u001b[0m\n\u001b[0m\u001b[0;32m      4\u001b[0m \u001b[0mprint\u001b[0m\u001b[1;33m(\u001b[0m\u001b[1;34mf'100 + {ans} = {result}'\u001b[0m\u001b[1;33m)\u001b[0m\u001b[1;33m\u001b[0m\u001b[1;33m\u001b[0m\u001b[0m\n",
      "\u001b[1;31mTypeError\u001b[0m: unsupported operand type(s) for +: 'int' and 'str'"
     ]
    }
   ],
   "source": [
    "ans = input('Type a number to add to 100: ')\n",
    "type(ans)\n",
    "result = 100 + ans\n",
    "print(f'100 + {ans} = {result}')"
   ]
  },
  {
   "cell_type": "markdown",
   "metadata": {},
   "source": [
    "### In the next cell:\n",
    "1. Create a comment: \"handling errors\"\n",
    ">- A common way to handles errors in python is with the `try:` and `except:` clauses\n",
    ">- We will cover exception handling more later in the course but as an introduction:\n",
    ">>- In the `try:` clause we enter the code we want to run\n",
    ">>- In the `except:` clause we enter code to handle errors that may occur in our try clause\n",
    "2. Under `try:` in the next cell create a block of code that is identical to your prior code which asks a user for a number to add to 100 \n",
    "3. Under `except:` create a block of code that prints \"You did not enter a valid number\"\n",
    "4. Run your code cell several times and enter various inputs to see what your code returns\n",
    ">- Enter in several numbers and see that your code returns what you expect\n",
    ">- Enter in some string values for numbers such as \"two\", \"twenty\", etc and see what your code returns"
   ]
  },
  {
   "cell_type": "code",
   "execution_count": 49,
   "metadata": {},
   "outputs": [
    {
     "name": "stdout",
     "output_type": "stream",
     "text": [
      "Type a number to add to 100: two\n",
      "You did not enter a valid number\n"
     ]
    }
   ],
   "source": [
    "# Handling errors using try: and except:\n",
    "try:\n",
    "    ans = input('Type a number to add to 100: ')\n",
    "    type(ans)\n",
    "    result = 100 + ans\n",
    "    print(f'100 + {ans} = {result}')\n",
    "\n",
    "except:\n",
    "    print('You did not enter a valid number')\n",
    "    "
   ]
  },
  {
   "cell_type": "markdown",
   "metadata": {},
   "source": [
    "### Section 1 More Practice\n",
    "\n",
    "1. Try converting a string of \"True\" to a boolean data type. Output the type to make sure it converted.\n",
    "2. Create two input statements, and ask the user to enter two numbers. Print the sum of these numbers.\n",
    "3. Ask a user to input the year, make, model, and color of their car. Print the information in a nicely formatted statement such as \"2015 Grey Ford 150\"\n"
   ]
  },
  {
   "cell_type": "code",
   "execution_count": 51,
   "metadata": {},
   "outputs": [
    {
     "data": {
      "text/plain": [
       "bool"
      ]
     },
     "execution_count": 51,
     "metadata": {},
     "output_type": "execute_result"
    }
   ],
   "source": [
    "string = 'True'\n",
    "type(string)\n",
    "string = bool(string)\n",
    "type(string)"
   ]
  },
  {
   "cell_type": "code",
   "execution_count": 58,
   "metadata": {},
   "outputs": [
    {
     "name": "stdout",
     "output_type": "stream",
     "text": [
      "Enter the first number: 14\n",
      "Enter the second number: 53\n",
      "The sum of 14 and 53 = 67\n"
     ]
    }
   ],
   "source": [
    "num1 = int(input('Enter the first number: '))\n",
    "num2 = int(input('Enter the second number: '))\n",
    "sum = num1 + num2\n",
    "print(f'The sum of {num1} and {num2} = {sum}')"
   ]
  },
  {
   "cell_type": "code",
   "execution_count": 60,
   "metadata": {},
   "outputs": [
    {
     "name": "stdout",
     "output_type": "stream",
     "text": [
      "What is your car model year: 2015\n",
      "What is your car make: Ford\n",
      "What is your car model: F150\n",
      "What is your car color: Grey\n",
      "2015 Grey Ford F150\n"
     ]
    }
   ],
   "source": [
    "year = input('What is your car model year: ')\n",
    "make = input('What is your car make: ')\n",
    "model = input('What is your car model: ')\n",
    "color = input('What is your car color: ')\n",
    "print(f'{year} {color} {make} {model}')"
   ]
  },
  {
   "cell_type": "markdown",
   "metadata": {},
   "source": [
    "# Section 2\n",
    "## `if` statements"
   ]
  },
  {
   "cell_type": "markdown",
   "metadata": {},
   "source": [
    "### In the next cell, do the following:\n",
    "1. Create a variable, `ans`, and assign it the value of a user inputted integer for the prompt \"What is 5 + 5?\"\n",
    "2. Create an conditional statement using `if` that checks whether the person entered the integer 10 or not\n",
    ">- If the user enters 10 then print to the screen: \"You got it right!\"\n",
    "3. Try various correct and incorrect answers and note what it is returned"
   ]
  },
  {
   "cell_type": "code",
   "execution_count": 67,
   "metadata": {},
   "outputs": [
    {
     "name": "stdout",
     "output_type": "stream",
     "text": [
      "What is 5 + 5? 10\n",
      "You got it right!\n"
     ]
    }
   ],
   "source": [
    "ans = int(input(\"What is 5 + 5? \"))\n",
    "if ans == 10:\n",
    "    print('You got it right!')\n",
    "else:\n",
    "    print('You got it wrong.')"
   ]
  },
  {
   "cell_type": "markdown",
   "metadata": {},
   "source": [
    "### In the next cell, do the following:\n",
    "1. Create 3 variables (x, y, z) all on the first line and assign them the values 5, 10, and 5 in order that they are listed\n",
    "2. Create logic that will test whether x < y and x == z\n",
    "3. If the value is true for your logical statement, print a statement that says \"Both statements were true\""
   ]
  },
  {
   "cell_type": "code",
   "execution_count": 18,
   "metadata": {},
   "outputs": [
    {
     "name": "stdout",
     "output_type": "stream",
     "text": [
      "Both statements were true\n"
     ]
    }
   ],
   "source": [
    "x, y, z = 5, 10 ,5\n",
    "if x < y and x == z:\n",
    "    print('Both statements were true')"
   ]
  },
  {
   "cell_type": "markdown",
   "metadata": {},
   "source": [
    "### In the next cell:\n",
    "1. Create 3 variables (x, y, z) all on the first line and assign them the values 5, 10, and 5 in order that they are listed\n",
    "2. Create logic that will test whether x < y or x does not equal z\n",
    "3. If the value is true for your logical statement, print a statement that says \"At least one statement was true\""
   ]
  },
  {
   "cell_type": "code",
   "execution_count": 24,
   "metadata": {},
   "outputs": [
    {
     "name": "stdout",
     "output_type": "stream",
     "text": [
      "Atleast one statment was true\n"
     ]
    }
   ],
   "source": [
    "x, y, z = 5, 10 ,5\n",
    "if x < y or x != z:\n",
    "    print('Atleast one statment was true')"
   ]
  },
  {
   "cell_type": "markdown",
   "metadata": {},
   "source": [
    "### In the next cell:\n",
    "1. Create a variable, `word`,  and assign it the value \"Baseball\"\n",
    "2. Create logic that will check to see if 'b' is in the variable `word`\n",
    "3. If 'b' is found in `word` then use f string formatting to print a statement \"{variable} contains the character b\""
   ]
  },
  {
   "cell_type": "code",
   "execution_count": 29,
   "metadata": {},
   "outputs": [
    {
     "name": "stdout",
     "output_type": "stream",
     "text": [
      "Baseball contains the character b\n"
     ]
    }
   ],
   "source": [
    "word = 'Baseball'\n",
    "\n",
    "if 'b' in word:\n",
    "    print(f\"{word} contains the character b\")"
   ]
  },
  {
   "cell_type": "markdown",
   "metadata": {},
   "source": [
    "### In the next cell:\n",
    "1. Create a variable, `word`,  and assign it the value \"Baseball\"\n",
    "2. Create logic that will check to see if 'x' is not in the variable `word`\n",
    "3. If 'x' is not found in `word` then use f string formatting to print a statement \"{variable} does not contain the character x\""
   ]
  },
  {
   "cell_type": "code",
   "execution_count": 73,
   "metadata": {},
   "outputs": [],
   "source": [
    "word = 'Baseball'\n",
    "\n",
    "if 'x' in word:\n",
    "    print(f'{word} does not contain the character x')"
   ]
  },
  {
   "cell_type": "markdown",
   "metadata": {},
   "source": [
    "### Section 2 Extra Practice with the `if` statement\n",
    "1. Create program that asks a user for input and check to see if what they wrote includes \"es\"\n",
    ">- If a word does include \"es\" print out a statement to the user telling them that their word contains \"es\"\n",
    "2. Create a program that asks a user for input and checks to see if what they wrote has \"ing\" at the end\n",
    ">- If the statement ends with \"ing\" print out a statement to the user telling them that their statement ends with \"ing\"\n",
    "3. Create a program to ask a user to input two words and write a conditional statement to check if both words are the same\n",
    ">- Make the program case insensitive so that capitals do not matter\n",
    ">- Print something to the screen letting the user know if their words matched or not\n",
    "4. Create a program to ask a user to input a number. Then print out the square of that number if the number is less than 10. \n",
    ">- Print out a nicely formatted (use f-strings) statement telling the user \"When you square {number entered} you get {number squared}"
   ]
  },
  {
   "cell_type": "code",
   "execution_count": 71,
   "metadata": {},
   "outputs": [
    {
     "name": "stdout",
     "output_type": "stream",
     "text": [
      "What is your name: Danies\n",
      "Danies does contain the string es\n"
     ]
    }
   ],
   "source": [
    "name = input('What is your name: ')\n",
    "if 'es' in name:\n",
    "    print(f'{name} does contain the string es')\n",
    "else:\n",
    "    print(f'{name} does not contain the string es')"
   ]
  },
  {
   "cell_type": "code",
   "execution_count": 87,
   "metadata": {},
   "outputs": [
    {
     "name": "stdout",
     "output_type": "stream",
     "text": [
      "Enter a string: Daning\n",
      "Daning contains ing.\n"
     ]
    }
   ],
   "source": [
    "string = input('Enter a string: ')\n",
    "length = len(string)\n",
    "if 'ing' in string[length - 3 : length]:\n",
    "    print(f'{string} contains ing.')\n",
    "else:\n",
    "    print(f'{string} does not contain ing.')"
   ]
  },
  {
   "cell_type": "code",
   "execution_count": 91,
   "metadata": {},
   "outputs": [
    {
     "name": "stdout",
     "output_type": "stream",
     "text": [
      "Enter your first word: Dan\n",
      "Enter your second word: daN\n",
      "DAN = DAN\n"
     ]
    }
   ],
   "source": [
    "word1 = input('Enter your first word: ').upper()\n",
    "word2 = input('Enter your second word: ').upper()\n",
    "\n",
    "if word1 == word2:\n",
    "    print(f'{word1} = {word2}')\n",
    "else:\n",
    "    print(f'{word1} != {word2}')"
   ]
  },
  {
   "cell_type": "code",
   "execution_count": 94,
   "metadata": {},
   "outputs": [
    {
     "name": "stdout",
     "output_type": "stream",
     "text": [
      "Enter a number less then 10: 10\n",
      "10 is not less than 10\n"
     ]
    }
   ],
   "source": [
    "num = int(input('Enter a number less then 10: '))\n",
    "if num < 10:\n",
    "    ans = num ** 2\n",
    "    print(f'When you square {num}, you get {ans}')\n",
    "else:\n",
    "    print(f'{num} is not less than 10')"
   ]
  },
  {
   "cell_type": "markdown",
   "metadata": {},
   "source": [
    "<a id='Top Page'></a>[Back to Top](#Week-3-Homework-and/or-In-Class-Activity)"
   ]
  },
  {
   "cell_type": "markdown",
   "metadata": {},
   "source": [
    "# Section 3\n",
    "`elif` statements"
   ]
  },
  {
   "cell_type": "markdown",
   "metadata": {},
   "source": [
    "### In the next cell:\n",
    "1. Create two variables, `x` and `y`, and assign them the values 5 and 10 in order\n",
    "2. Create conditional logic that will print \"x is greater\" if x > y or will print \"x is less\" if x < y. "
   ]
  },
  {
   "cell_type": "code",
   "execution_count": 32,
   "metadata": {},
   "outputs": [
    {
     "name": "stdout",
     "output_type": "stream",
     "text": [
      "x is less\n"
     ]
    }
   ],
   "source": [
    "x, y = 5, 10\n",
    "if x > y:\n",
    "    print('x is greater')\n",
    "elif x < y:\n",
    "    print('x is less')"
   ]
  },
  {
   "cell_type": "markdown",
   "metadata": {},
   "source": [
    "### In the next three cells:\n",
    "1. Run the first cell and note what is printed out\n",
    "2. Run the second cell and note what is printed out\n",
    "3. Explain the difference in the two programs and why the output is different"
   ]
  },
  {
   "cell_type": "code",
   "execution_count": null,
   "metadata": {},
   "outputs": [],
   "source": []
  },
  {
   "cell_type": "code",
   "execution_count": null,
   "metadata": {},
   "outputs": [],
   "source": []
  },
  {
   "cell_type": "markdown",
   "metadata": {},
   "source": [
    "#### Why do we see different things printed out in the prior to cells? Explain your answer here using bullet points or numbering"
   ]
  },
  {
   "cell_type": "markdown",
   "metadata": {},
   "source": [
    "### Section 3 Extra Practice with `if` and `elif`\n",
    "1. Create a program to ask a user to input a number and compare their number to 100.\n",
    ">- Print statements to the user to tell them if their number is higher, lower, or equal to 100\n",
    "2. Correct any/all errors in the following code:\n",
    "\n",
    "`x, y = 5, 10\n",
    "if x > y:\n",
    "      print(\"greater\")\n",
    "try x < y:\n",
    "      print(\"lower\")`"
   ]
  },
  {
   "cell_type": "code",
   "execution_count": 35,
   "metadata": {},
   "outputs": [
    {
     "name": "stdout",
     "output_type": "stream",
     "text": [
      "Enter a number: 80\n",
      "80 is less than 100\n"
     ]
    }
   ],
   "source": [
    "num = int(input('Enter a number: '))\n",
    "if num < 100:\n",
    "    print(f'{num} is less than 100')\n",
    "elif num == 100:\n",
    "    print(f'{num} is equal to 100')\n",
    "elif num > 100:\n",
    "    print(f'{num} is greater than 100')"
   ]
  },
  {
   "cell_type": "code",
   "execution_count": null,
   "metadata": {},
   "outputs": [],
   "source": []
  },
  {
   "cell_type": "markdown",
   "metadata": {},
   "source": [
    "<a id='Top Page'></a>[Back to Top](#Week-3-Homework-and/or-In-Class-Activity)"
   ]
  },
  {
   "cell_type": "markdown",
   "metadata": {},
   "source": [
    "# Section 4\n",
    ">- `else` statements\n"
   ]
  },
  {
   "cell_type": "markdown",
   "metadata": {},
   "source": [
    "### In the next cell:\n",
    "1. Create a variable, `name`, and assign it the value \"John\"\n",
    "2. Create flow control that will check:\n",
    ">- First to see if `name` equals \"Jacob\" and if so print \"Hello Jacob!\"\n",
    ">- Create the default statement using an else statement that will print any name entered using f-string formatting in the statement \"Hello {name}!\" "
   ]
  },
  {
   "cell_type": "code",
   "execution_count": 36,
   "metadata": {},
   "outputs": [
    {
     "name": "stdout",
     "output_type": "stream",
     "text": [
      "Hello John\n"
     ]
    }
   ],
   "source": [
    "name = \"John\"\n",
    "\n",
    "if name == 'Jacob':\n",
    "    print('Hello Jacob!')\n",
    "else:\n",
    "    print(f'Hello {name}')"
   ]
  },
  {
   "cell_type": "markdown",
   "metadata": {},
   "source": [
    "### In the next cell:\n",
    "1. Create a variable, `name`, and assign it a user entered value\n",
    "2. Create flow control that will check in order:\n",
    ">- If the first letter in `name` is \"A\" print out \"The name starts with A, {name}\"\n",
    ">- If the first letter starts with \"B\" print out \"The name starts with B, {name}\"\n",
    ">- If the first letter starts with \"J\" print out \"The name starts with J, {name}\"\n",
    ">- Cover all other possibilities in your last statement\n",
    ">>- Make sure to print out the string value of the first letter using f-string formatting\n",
    ">>>- 'Your name starts with {first letter of entered name}, {name}'\n",
    ">- Make sure that if a user enters a lower case first letter your program will capitalize it when checking conditions"
   ]
  },
  {
   "cell_type": "code",
   "execution_count": 45,
   "metadata": {},
   "outputs": [
    {
     "name": "stdout",
     "output_type": "stream",
     "text": [
      "Your name starts with W, What is your name? \n"
     ]
    }
   ],
   "source": [
    "name = ('What is your name? ')\n",
    "\n",
    "if name[0] == 'A':\n",
    "    print(f'The name starts with A, {name}')\n",
    "elif name[0] == 'B':\n",
    "    print(f'The name starts with B, {name}')\n",
    "elif name[0] == 'J':\n",
    "    print(f'The name starts with J, {name}')\n",
    "else:\n",
    "    print(f'Your name starts with {name[0]}, {name}')\n"
   ]
  },
  {
   "cell_type": "markdown",
   "metadata": {},
   "source": [
    "### Section 4 Extra Practice\n",
    "1. Fix any and all errors in the following code so it outputs \"Hello John\"\n",
    "\n",
    "`name = \"John\"\n",
    "if name == \"Jack\":\n",
    "    print(\"Hello Jack\")\n",
    "elif:\n",
    "    print(\"Hello John\")`"
   ]
  },
  {
   "cell_type": "code",
   "execution_count": 96,
   "metadata": {},
   "outputs": [
    {
     "name": "stdout",
     "output_type": "stream",
     "text": [
      "Hello John\n"
     ]
    }
   ],
   "source": [
    "name = \"John\"\n",
    "if name == \"Jack\":\n",
    "    print(\"Hello Jack\")\n",
    "else:\n",
    "    print(\"Hello John\")"
   ]
  },
  {
   "cell_type": "markdown",
   "metadata": {},
   "source": [
    "<a id='Top Page'></a>[Back to Top](#Week-3-Homework-and/or-In-Class-Activity)"
   ]
  }
 ],
 "metadata": {
  "kernelspec": {
   "display_name": "Python 3",
   "language": "python",
   "name": "python3"
  },
  "language_info": {
   "codemirror_mode": {
    "name": "ipython",
    "version": 3
   },
   "file_extension": ".py",
   "mimetype": "text/x-python",
   "name": "python",
   "nbconvert_exporter": "python",
   "pygments_lexer": "ipython3",
   "version": "3.8.3"
  }
 },
 "nbformat": 4,
 "nbformat_minor": 2
}
