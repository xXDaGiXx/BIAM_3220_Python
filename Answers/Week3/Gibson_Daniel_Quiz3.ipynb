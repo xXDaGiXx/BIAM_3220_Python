{
 "cells": [
  {
   "cell_type": "markdown",
   "metadata": {
    "azdata_cell_guid": "cf747cea-5bbe-49e4-ab54-cc41dedd44c9"
   },
   "source": [
    "# BAIM 3220: Introduction to Python\n",
    "## Quiz #3: Control Flow: if, elif, else & Loops\n",
    "## After downloading this .ipynb file from Canvas, resave with the following naming format:\n",
    ">- LastName_FirstName_Quiz3.ipynb\n",
    "\n",
    "## When you are ready to submit your quiz, upload your .ipynb file to the Quiz#3 dropbox on Canvas (the last question on the Canvas quiz)\n",
    ">- Note: You need to complete the M/C,T/F, fill in the blank questions on the Canvas quiz AND upload this file before the quiz time is up\n",
    ">- Don't forget your timer is running in Canvas while you are working in this notebook!"
   ]
  },
  {
   "cell_type": "markdown",
   "metadata": {
    "azdata_cell_guid": "d3502c92-2fb2-4502-a29c-4511c5c75007"
   },
   "source": [
    "# Question 1 (3 Points)\n",
    "## Write the Python code that will do the following:\n",
    "### Specifications\n",
    "1. Assign a variable, `age`, the integer value that a user inputs when given the prompt, \"What is your age? \"\n",
    "2. Check to see if the user inputted value for age is less than or equal to 25\n",
    ">- If the age entered is 25 or less, print to the screen the text: \"You are pretty young!\"\n",
    ">- If the age entered is not 25 or less, print to the screen: \"You are getting old!\""
   ]
  },
  {
   "cell_type": "code",
   "execution_count": 6,
   "metadata": {
    "azdata_cell_guid": "f80f6f70-0442-4cbe-a11c-319729637eeb"
   },
   "outputs": [
    {
     "name": "stdout",
     "output_type": "stream",
     "text": [
      "What is your age? 26\n",
      "You are getting old!\n"
     ]
    }
   ],
   "source": [
    "age = int(input('What is your age? '))\n",
    "if age <= 25:\n",
    "    print('You are pretty young!')\n",
    "else:\n",
    "    print('You are getting old!')"
   ]
  },
  {
   "cell_type": "markdown",
   "metadata": {
    "azdata_cell_guid": "d72eee27-4bee-4c8e-b97a-f27ab7edde07"
   },
   "source": [
    "# Question 2 (3 Points)\n",
    "## Correct the control flow given in the next cell so that correct responses will be printed for printing grades based on percentage\n",
    ">- For example, as currently written if grade = 90 the code would currently print 'You got a D' which is certainly not what you want if you earn a 90 in a course. \n",
    ">- Note: don't change any of the values given for grades (e.g., 93,65,75,85) just the control flow\n",
    ">>- this isn't meant to be the actual grades for the course just an example\n",
    ">- After you correct the control flow run the cell and show the output when grade = 90"
   ]
  },
  {
   "cell_type": "markdown",
   "metadata": {
    "azdata_cell_guid": "d58c6e8f-65ca-4c12-ba24-1910f1a5a0f1"
   },
   "source": [
    "grade = 90\n",
    "\n",
    "if grade >93:\n",
    "\n",
    "      print('You got an A')\n",
    "\n",
    "elif grade >65:\n",
    "\n",
    "      print('You got a D')\n",
    "\n",
    "elif grade >75:\n",
    "\n",
    "     print('You got a C')\n",
    "\n",
    "elif grade > 85:\n",
    "\n",
    "     print('You got a B')\n",
    "\n",
    "else:\n",
    "\n",
    "     print('You got an F')"
   ]
  },
  {
   "cell_type": "markdown",
   "metadata": {
    "azdata_cell_guid": "14cec54c-5c43-4dd2-a7c1-01cfa348a2be"
   },
   "source": [
    "### Correct the code in the next cell\n",
    ">- Run the cell below once corrected and show the results"
   ]
  },
  {
   "cell_type": "code",
   "execution_count": 13,
   "metadata": {
    "azdata_cell_guid": "e213d0f5-9640-4062-a241-ef8c928fd336"
   },
   "outputs": [
    {
     "name": "stdout",
     "output_type": "stream",
     "text": [
      "You got a B\n"
     ]
    }
   ],
   "source": [
    "grade = 90\n",
    "\n",
    "if grade >93:\n",
    "    print('You got an A')\n",
    "\n",
    "elif grade > 85:\n",
    "    print('You got a B')\n",
    "\n",
    "elif grade >75:\n",
    "    print('You got a C')\n",
    "\n",
    "elif grade >65:\n",
    "    print('You got a D')\n",
    "\n",
    "else:\n",
    "    print('You got an F')"
   ]
  },
  {
   "cell_type": "markdown",
   "metadata": {
    "azdata_cell_guid": "97b4d0f2-b173-4182-adc4-dabf8a2902f6"
   },
   "source": [
    "# Question 3 (3 points)\n",
    "## Create a program that prints \"Go Buffs, beat UCLA!\" 3 times. \n",
    "### Specifications:\n",
    "1. You must utilize a loop for this program.\n",
    "2. The first line printed should be: \"Go Buffs, beat UCLA!\"\n",
    "3. On a new line tabbed over one time,  print a note that will output the loop iteration at all iterations.\n",
    "4. Use Python's f-strings formatting when printing out your loop iteration note.\n",
    ">- In your iteration note, the iteration number must be printed using the current iteration value based on the loop variable. (i.e., you cannot manually enter the iteration numbers and receive full credit) "
   ]
  },
  {
   "cell_type": "code",
   "execution_count": 7,
   "metadata": {
    "azdata_cell_guid": "0c5de16a-fac3-45ed-bc3d-7504dc5de801"
   },
   "outputs": [
    {
     "name": "stdout",
     "output_type": "stream",
     "text": [
      "Go Buffs, beat UCLA!\n",
      "\tNote: This is loop iteration 1\n",
      "Go Buffs, beat UCLA!\n",
      "\tNote: This is loop iteration 2\n",
      "Go Buffs, beat UCLA!\n",
      "\tNote: This is loop iteration 3\n"
     ]
    }
   ],
   "source": [
    "for i in range(1,4):\n",
    "    print('Go Buffs, beat UCLA!')\n",
    "    print(f'\\tNote: This is loop iteration {i}')"
   ]
  },
  {
   "cell_type": "markdown",
   "metadata": {
    "azdata_cell_guid": "143aedfc-2535-49fc-b519-e2d6c4a6727c"
   },
   "source": [
    "# Question 4 (3 points)\n",
    "## Print the numbers from 0 to 10\n",
    "### Specifications:\n",
    "1. You must use a `for` loop\n",
    "2. When the loop has completed display the string, \"The loop has completed\"\n",
    "3. Run the cell and show the output"
   ]
  },
  {
   "cell_type": "code",
   "execution_count": 17,
   "metadata": {
    "azdata_cell_guid": "06865a58-d6f6-4424-a3f1-762fce012516"
   },
   "outputs": [
    {
     "name": "stdout",
     "output_type": "stream",
     "text": [
      "0\n",
      "1\n",
      "2\n",
      "3\n",
      "4\n",
      "5\n",
      "6\n",
      "7\n",
      "8\n",
      "9\n",
      "10\n",
      "The loop has completed\n"
     ]
    }
   ],
   "source": [
    "for i in range(11):\n",
    "    print(i)\n",
    "    if i == 10:\n",
    "        print('The loop has completed')"
   ]
  },
  {
   "cell_type": "markdown",
   "metadata": {
    "azdata_cell_guid": "14d19cff-7a99-404f-81b0-8c31467b9790"
   },
   "source": [
    "# Question 5 (6 Points)\n",
    "## Print the numbers from 75 to 12 (inclusive) counting down from 3\n",
    "### Specifications: \n",
    "1. You must use a loop to answer this question\n",
    "2. Print the output horizontally"
   ]
  },
  {
   "cell_type": "code",
   "execution_count": 22,
   "metadata": {
    "azdata_cell_guid": "a2596d11-741e-4035-9685-70e360ee065a"
   },
   "outputs": [
    {
     "name": "stdout",
     "output_type": "stream",
     "text": [
      "75 72 69 66 63 60 57 54 51 48 45 42 39 36 33 30 27 24 21 18 15 12 "
     ]
    }
   ],
   "source": [
    "for i in range(75,11,-3):\n",
    "    print(i, end = \" \")"
   ]
  },
  {
   "cell_type": "markdown",
   "metadata": {
    "azdata_cell_guid": "8c84fc75-d94d-4941-b1d2-e953d181717a"
   },
   "source": [
    "# Question 6 (9 Points)\n",
    "## Write a `while` loop that will return the following output using the variable, `count`.\n",
    "### Specifications:\n",
    "1. You must use a `while` loop for this question\n",
    "2. Your output should look like what is shown in the next code cell."
   ]
  },
  {
   "cell_type": "code",
   "execution_count": 24,
   "metadata": {
    "scrolled": true
   },
   "outputs": [],
   "source": [
    "# Your output should look like the following:\n",
    "'''\n",
    "The count is: 1\n",
    "The count is: 2\n",
    "The count is: 3\n",
    "The count is: 4\n",
    "The count is: 5\n",
    "The count is: 6\n",
    "The count is: 7\n",
    "The count is: 8\n",
    "The count is: 9\n",
    "Good bye!\n",
    "'''"
   ]
  },
  {
   "cell_type": "code",
   "execution_count": 38,
   "metadata": {},
   "outputs": [
    {
     "name": "stdout",
     "output_type": "stream",
     "text": [
      "The count is: 1\n",
      "The count is: 2\n",
      "The count is: 3\n",
      "The count is: 4\n",
      "The count is: 5\n",
      "The count is: 6\n",
      "The count is: 7\n",
      "The count is: 8\n",
      "The count is: 9\n",
      "Good bye!\n"
     ]
    }
   ],
   "source": [
    "count = 1\n",
    "while count <= 9:\n",
    "    print(f'The count is: {count}')\n",
    "    if count == 9:\n",
    "        print('Good bye!')\n",
    "        break\n",
    "    count += 1"
   ]
  },
  {
   "cell_type": "markdown",
   "metadata": {
    "azdata_cell_guid": "6c6276d8-28b2-4bce-9697-7d861d6b8bfc"
   },
   "source": [
    "# Question 7 (12 Points)\n",
    "## Create a `while` loop that checks for a user name and password and never stops asking until the correct password is entered.   \n",
    "### Specifications: \n",
    "1. Ask a user for their name and store the value in a variable labeled, `name`. \n",
    "2. Print a statement that says:  \"Hi,  {userName}, what is the password?\"\n",
    ">- Note: the print statement should use the value inputted by a user not the literal {userName} given above\n",
    "3. Prompt a user to input a password variable named, `password`. \n",
    "4. If the password matches the value, 'codingrulz', print 'Access Granted!' and exit the loop\n",
    "5. If the password does not match, 'codingrulz', print 'Access Denied' and restart the code. \n",
    "6. Finally, on the last line of output, print. \"Have a good rest of your week, {userName}, see you Monday!\""
   ]
  },
  {
   "cell_type": "code",
   "execution_count": 4,
   "metadata": {},
   "outputs": [
    {
     "name": "stdout",
     "output_type": "stream",
     "text": [
      "What is your user name: dan\n",
      "Hi, dan, what is the password? a\n",
      "Access Denied!\n",
      "Hi, dan, what is the password? df\n",
      "Access Denied!\n",
      "Hi, dan, what is the password? as\n",
      "Access Denied!\n",
      "Hi, dan, what is the password? ds\n",
      "Access Denied!\n",
      "Hi, dan, what is the password? codingrulz\n",
      "Access Granted!\n",
      "Have a good rest of your week, dan, see you Monday!\n"
     ]
    }
   ],
   "source": [
    "pass_check = True\n",
    "name = input(\"What is your user name: \")\n",
    "while pass_check:\n",
    "    password = input(f'Hi, {name}, what is the password? ')\n",
    "    if password == 'codingrulz':\n",
    "        print('Access Granted!')\n",
    "        pass_cheack = False\n",
    "        break\n",
    "    else:\n",
    "        print('Access Denied!')\n",
    "print(f'Have a good rest of your week, {name}, see you Monday!')"
   ]
  }
 ],
 "metadata": {
  "kernelspec": {
   "display_name": "Python 3",
   "language": "python",
   "name": "python3"
  },
  "language_info": {
   "codemirror_mode": {
    "name": "ipython",
    "version": 3
   },
   "file_extension": ".py",
   "mimetype": "text/x-python",
   "name": "python",
   "nbconvert_exporter": "python",
   "pygments_lexer": "ipython3",
   "version": "3.8.3"
  }
 },
 "nbformat": 4,
 "nbformat_minor": 2
}
