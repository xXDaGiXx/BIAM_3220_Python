{
 "cells": [
  {
   "cell_type": "markdown",
   "metadata": {},
   "source": [
    "# Week 13 Warm-Up\n",
    "## Analyzing the 4-year BLS Data\n",
    ">- Here we will be analyzing the combined cleaned BLS data that you created from Quiz 9 called, `bls4yr`\n",
    ">- If you haven't exported your cleaned file you can do that with the following code:  `bls4yr.to_excel('bls4yr.xlsx',index=False)`"
   ]
  },
  {
   "cell_type": "code",
   "execution_count": 13,
   "metadata": {},
   "outputs": [],
   "source": [
    "import pandas as pd, os, matplotlib.pyplot as plt"
   ]
  },
  {
   "cell_type": "code",
   "execution_count": 8,
   "metadata": {},
   "outputs": [
    {
     "name": "stdout",
     "output_type": "stream",
     "text": [
      " Volume in drive C has no label.\n",
      " Volume Serial Number is 2C8F-B3AE\n",
      "\n",
      " Directory of C:\\Users\\Cupcake\\Google Drive\\School\\Senior Year 2020-2021\\Fall 2020\\BAIM 3220\\Python\\Week13\n",
      "\n",
      "11/17/2020  08:29 AM    <DIR>          .\n",
      "11/17/2020  08:29 AM    <DIR>          ..\n",
      "11/17/2020  08:09 AM    <DIR>          .ipynb_checkpoints\n",
      "11/17/2020  08:05 AM             6,159 Week 13 Exercises - Data Visualization - student.ipynb\n",
      "11/17/2020  08:29 AM            12,335 Week13_WarmUp_EDA_bls4yr_student.ipynb\n",
      "               2 File(s)         18,494 bytes\n",
      "               3 Dir(s)  26,049,105,920 bytes free\n"
     ]
    }
   ],
   "source": [
    "ls"
   ]
  },
  {
   "cell_type": "code",
   "execution_count": 11,
   "metadata": {},
   "outputs": [
    {
     "data": {
      "text/plain": [
       "'C:\\\\Users\\\\Cupcake\\\\Google Drive\\\\School\\\\Senior Year 2020-2021\\\\Fall 2020\\\\BAIM 3220\\\\Python\\\\Week13'"
      ]
     },
     "execution_count": 11,
     "metadata": {},
     "output_type": "execute_result"
    }
   ],
   "source": [
    "os.getcwd()"
   ]
  },
  {
   "cell_type": "markdown",
   "metadata": {},
   "source": [
    "### Q1. Create a DataFrame named `bls_amean`\n",
    ">- This will be a subset of the `bls4yr` DataFrame you created in Quiz 9\n",
    ">- Include these fields from `bls4yr`\n",
    ">>- year, occ_title, a_mean\n",
    ">- Only include the records for \"major\" from the `group` field\n",
    ">>- You should have 88 total records in this new dataframe (There are 22 major groups, 4 years of data, so 88 total records)"
   ]
  },
  {
   "cell_type": "code",
   "execution_count": 15,
   "metadata": {},
   "outputs": [],
   "source": [
    "bls = pd.read_excel(r'C:\\Users\\Cupcake\\Google Drive\\School\\Senior Year 2020-2021\\Fall 2020\\BAIM 3220\\Python\\Week12\\bls4yr.xlsx')\n",
    "bls_amean = bls[['year','occ_title','a_mean']].loc[bls['group']=='major']"
   ]
  },
  {
   "cell_type": "code",
   "execution_count": 16,
   "metadata": {},
   "outputs": [
    {
     "data": {
      "text/html": [
       "<div>\n",
       "<style scoped>\n",
       "    .dataframe tbody tr th:only-of-type {\n",
       "        vertical-align: middle;\n",
       "    }\n",
       "\n",
       "    .dataframe tbody tr th {\n",
       "        vertical-align: top;\n",
       "    }\n",
       "\n",
       "    .dataframe thead th {\n",
       "        text-align: right;\n",
       "    }\n",
       "</style>\n",
       "<table border=\"1\" class=\"dataframe\">\n",
       "  <thead>\n",
       "    <tr style=\"text-align: right;\">\n",
       "      <th></th>\n",
       "      <th>year</th>\n",
       "      <th>occ_title</th>\n",
       "      <th>a_mean</th>\n",
       "    </tr>\n",
       "  </thead>\n",
       "  <tbody>\n",
       "    <tr>\n",
       "      <th>1</th>\n",
       "      <td>2008</td>\n",
       "      <td>MANAGEMENT OCCUPATIONS</td>\n",
       "      <td>100310.0</td>\n",
       "    </tr>\n",
       "    <tr>\n",
       "      <th>36</th>\n",
       "      <td>2008</td>\n",
       "      <td>BUSINESS AND FINANCIAL OPERATIONS OCCUPATIONS</td>\n",
       "      <td>64720.0</td>\n",
       "    </tr>\n",
       "    <tr>\n",
       "      <th>67</th>\n",
       "      <td>2008</td>\n",
       "      <td>COMPUTER AND MATHEMATICAL OCCUPATIONS</td>\n",
       "      <td>74500.0</td>\n",
       "    </tr>\n",
       "    <tr>\n",
       "      <th>84</th>\n",
       "      <td>2008</td>\n",
       "      <td>ARCHITECTURE AND ENGINEERING OCCUPATIONS</td>\n",
       "      <td>71430.0</td>\n",
       "    </tr>\n",
       "    <tr>\n",
       "      <th>120</th>\n",
       "      <td>2008</td>\n",
       "      <td>LIFE, PHYSICAL, AND SOCIAL SCIENCE OCCUPATIONS</td>\n",
       "      <td>64280.0</td>\n",
       "    </tr>\n",
       "  </tbody>\n",
       "</table>\n",
       "</div>"
      ],
      "text/plain": [
       "     year                                       occ_title    a_mean\n",
       "1    2008                          MANAGEMENT OCCUPATIONS  100310.0\n",
       "36   2008   BUSINESS AND FINANCIAL OPERATIONS OCCUPATIONS   64720.0\n",
       "67   2008           COMPUTER AND MATHEMATICAL OCCUPATIONS   74500.0\n",
       "84   2008        ARCHITECTURE AND ENGINEERING OCCUPATIONS   71430.0\n",
       "120  2008  LIFE, PHYSICAL, AND SOCIAL SCIENCE OCCUPATIONS   64280.0"
      ]
     },
     "execution_count": 16,
     "metadata": {},
     "output_type": "execute_result"
    }
   ],
   "source": [
    "bls_amean.head()"
   ]
  },
  {
   "cell_type": "code",
   "execution_count": 17,
   "metadata": {},
   "outputs": [
    {
     "data": {
      "text/plain": [
       "(88, 3)"
      ]
     },
     "execution_count": 17,
     "metadata": {},
     "output_type": "execute_result"
    }
   ],
   "source": [
    "bls_amean.shape"
   ]
  },
  {
   "cell_type": "markdown",
   "metadata": {},
   "source": [
    "### Q2: What is the overall average `a_mean` (annual average salary) over the 4 years of data?\n",
    ">- Round to two decimals"
   ]
  },
  {
   "cell_type": "code",
   "execution_count": 20,
   "metadata": {},
   "outputs": [
    {
     "data": {
      "text/plain": [
       "49256.02"
      ]
     },
     "execution_count": 20,
     "metadata": {},
     "output_type": "execute_result"
    }
   ],
   "source": [
    "round(bls_amean['a_mean'].mean(),2)"
   ]
  },
  {
   "cell_type": "markdown",
   "metadata": {},
   "source": [
    "### Q3. What is the average annual salary for each major occupational title (occ_title)?\n",
    ">- Show the number of observations (count) used in the average calculation as well as the mean\n",
    ">- Sort the results in descending order\n",
    ">>- What occupational title had the highest average salary?"
   ]
  },
  {
   "cell_type": "code",
   "execution_count": 77,
   "metadata": {
    "scrolled": true
   },
   "outputs": [
    {
     "data": {
      "text/html": [
       "<div>\n",
       "<style scoped>\n",
       "    .dataframe tbody tr th:only-of-type {\n",
       "        vertical-align: middle;\n",
       "    }\n",
       "\n",
       "    .dataframe tbody tr th {\n",
       "        vertical-align: top;\n",
       "    }\n",
       "\n",
       "    .dataframe thead th {\n",
       "        text-align: right;\n",
       "    }\n",
       "</style>\n",
       "<table border=\"1\" class=\"dataframe\">\n",
       "  <thead>\n",
       "    <tr style=\"text-align: right;\">\n",
       "      <th></th>\n",
       "      <th>occ_title</th>\n",
       "      <th>a_mean</th>\n",
       "    </tr>\n",
       "    <tr>\n",
       "      <th>occ_title</th>\n",
       "      <th></th>\n",
       "      <th></th>\n",
       "    </tr>\n",
       "  </thead>\n",
       "  <tbody>\n",
       "    <tr>\n",
       "      <th>MANAGEMENT OCCUPATIONS</th>\n",
       "      <td>4</td>\n",
       "      <td>104015.0</td>\n",
       "    </tr>\n",
       "    <tr>\n",
       "      <th>LEGAL OCCUPATIONS</th>\n",
       "      <td>4</td>\n",
       "      <td>95852.5</td>\n",
       "    </tr>\n",
       "    <tr>\n",
       "      <th>COMPUTER AND MATHEMATICAL OCCUPATIONS</th>\n",
       "      <td>4</td>\n",
       "      <td>76687.5</td>\n",
       "    </tr>\n",
       "    <tr>\n",
       "      <th>ARCHITECTURE AND ENGINEERING OCCUPATIONS</th>\n",
       "      <td>4</td>\n",
       "      <td>74422.5</td>\n",
       "    </tr>\n",
       "    <tr>\n",
       "      <th>HEALTHCARE PRACTITIONERS AND TECHNICAL OCCUPATIONS</th>\n",
       "      <td>4</td>\n",
       "      <td>70397.5</td>\n",
       "    </tr>\n",
       "    <tr>\n",
       "      <th>BUSINESS AND FINANCIAL OPERATIONS OCCUPATIONS</th>\n",
       "      <td>4</td>\n",
       "      <td>66762.5</td>\n",
       "    </tr>\n",
       "    <tr>\n",
       "      <th>LIFE, PHYSICAL, AND SOCIAL SCIENCE OCCUPATIONS</th>\n",
       "      <td>4</td>\n",
       "      <td>65950.0</td>\n",
       "    </tr>\n",
       "    <tr>\n",
       "      <th>ARTS, DESIGN, ENTERTAINMENT, SPORTS, AND MEDIA OCCUPATIONS</th>\n",
       "      <td>4</td>\n",
       "      <td>52132.5</td>\n",
       "    </tr>\n",
       "    <tr>\n",
       "      <th>EDUCATION, TRAINING, AND LIBRARY OCCUPATIONS</th>\n",
       "      <td>4</td>\n",
       "      <td>49825.0</td>\n",
       "    </tr>\n",
       "    <tr>\n",
       "      <th>CONSTRUCTION AND EXTRACTION OCCUPATIONS</th>\n",
       "      <td>4</td>\n",
       "      <td>43550.0</td>\n",
       "    </tr>\n",
       "    <tr>\n",
       "      <th>COMMUNITY AND SOCIAL SERVICE OCCUPATIONS</th>\n",
       "      <td>4</td>\n",
       "      <td>42887.5</td>\n",
       "    </tr>\n",
       "    <tr>\n",
       "      <th>INSTALLATION, MAINTENANCE, AND REPAIR OCCUPATIONS</th>\n",
       "      <td>4</td>\n",
       "      <td>42410.0</td>\n",
       "    </tr>\n",
       "    <tr>\n",
       "      <th>PROTECTIVE SERVICE OCCUPATIONS</th>\n",
       "      <td>4</td>\n",
       "      <td>41790.0</td>\n",
       "    </tr>\n",
       "    <tr>\n",
       "      <th>SALES AND RELATED OCCUPATIONS</th>\n",
       "      <td>4</td>\n",
       "      <td>36602.5</td>\n",
       "    </tr>\n",
       "    <tr>\n",
       "      <th>PRODUCTION OCCUPATIONS</th>\n",
       "      <td>4</td>\n",
       "      <td>33400.0</td>\n",
       "    </tr>\n",
       "    <tr>\n",
       "      <th>OFFICE AND ADMINISTRATIVE SUPPORT OCCUPATIONS</th>\n",
       "      <td>4</td>\n",
       "      <td>33200.0</td>\n",
       "    </tr>\n",
       "    <tr>\n",
       "      <th>TRANSPORTATION AND MATERIAL MOVING OCCUPATIONS</th>\n",
       "      <td>4</td>\n",
       "      <td>32372.5</td>\n",
       "    </tr>\n",
       "    <tr>\n",
       "      <th>HEALTHCARE SUPPORT OCCUPATIONS</th>\n",
       "      <td>4</td>\n",
       "      <td>26835.0</td>\n",
       "    </tr>\n",
       "    <tr>\n",
       "      <th>BUILDING AND GROUNDS CLEANING AND MAINTENANCE OCCUPATIONS</th>\n",
       "      <td>4</td>\n",
       "      <td>25050.0</td>\n",
       "    </tr>\n",
       "    <tr>\n",
       "      <th>PERSONAL CARE AND SERVICE OCCUPATIONS</th>\n",
       "      <td>4</td>\n",
       "      <td>24502.5</td>\n",
       "    </tr>\n",
       "    <tr>\n",
       "      <th>FARMING, FISHING, AND FORESTRY OCCUPATIONS</th>\n",
       "      <td>4</td>\n",
       "      <td>24045.0</td>\n",
       "    </tr>\n",
       "    <tr>\n",
       "      <th>FOOD PREPARATION AND SERVING RELATED OCCUPATIONS</th>\n",
       "      <td>4</td>\n",
       "      <td>20942.5</td>\n",
       "    </tr>\n",
       "  </tbody>\n",
       "</table>\n",
       "</div>"
      ],
      "text/plain": [
       "                                                    occ_title    a_mean\n",
       "occ_title                                                              \n",
       "MANAGEMENT OCCUPATIONS                                      4  104015.0\n",
       "LEGAL OCCUPATIONS                                           4   95852.5\n",
       "COMPUTER AND MATHEMATICAL OCCUPATIONS                       4   76687.5\n",
       "ARCHITECTURE AND ENGINEERING OCCUPATIONS                    4   74422.5\n",
       "HEALTHCARE PRACTITIONERS AND TECHNICAL OCCUPATIONS          4   70397.5\n",
       "BUSINESS AND FINANCIAL OPERATIONS OCCUPATIONS               4   66762.5\n",
       "LIFE, PHYSICAL, AND SOCIAL SCIENCE OCCUPATIONS              4   65950.0\n",
       "ARTS, DESIGN, ENTERTAINMENT, SPORTS, AND MEDIA ...          4   52132.5\n",
       "EDUCATION, TRAINING, AND LIBRARY OCCUPATIONS                4   49825.0\n",
       "CONSTRUCTION AND EXTRACTION OCCUPATIONS                     4   43550.0\n",
       "COMMUNITY AND SOCIAL SERVICE OCCUPATIONS                    4   42887.5\n",
       "INSTALLATION, MAINTENANCE, AND REPAIR OCCUPATIONS           4   42410.0\n",
       "PROTECTIVE SERVICE OCCUPATIONS                              4   41790.0\n",
       "SALES AND RELATED OCCUPATIONS                               4   36602.5\n",
       "PRODUCTION OCCUPATIONS                                      4   33400.0\n",
       "OFFICE AND ADMINISTRATIVE SUPPORT OCCUPATIONS               4   33200.0\n",
       "TRANSPORTATION AND MATERIAL MOVING OCCUPATIONS              4   32372.5\n",
       "HEALTHCARE SUPPORT OCCUPATIONS                              4   26835.0\n",
       "BUILDING AND GROUNDS CLEANING AND MAINTENANCE O...          4   25050.0\n",
       "PERSONAL CARE AND SERVICE OCCUPATIONS                       4   24502.5\n",
       "FARMING, FISHING, AND FORESTRY OCCUPATIONS                  4   24045.0\n",
       "FOOD PREPARATION AND SERVING RELATED OCCUPATIONS            4   20942.5"
      ]
     },
     "execution_count": 77,
     "metadata": {},
     "output_type": "execute_result"
    }
   ],
   "source": [
    "# bls_amean.groupby(['year','occ_title']).agg({'occ_title':['count'],\n",
    "#                                             'a_mean':['mean']}).sort_values(by = 'mean',ascending=False)\n",
    "\n",
    "\n",
    "# bls_amean.groupby(['year','occ_title']).a_mean.agg('mean').sort_values(ascending=False)\n",
    "\n",
    "\n",
    "\n",
    "bls_amean.groupby('occ_title').agg({'occ_title':'count',\n",
    "                                          'a_mean':'mean'}).sort_values(by = 'a_mean',ascending=False)"
   ]
  },
  {
   "cell_type": "markdown",
   "metadata": {},
   "source": [
    "### Q4. Try to plot the annual average salary (`a_mean`) across the 4 years of data \n",
    ">- In this case you want to plot the average salary across all occupations for each year (i.e., one data point per year representing the overall average salary for that year) \n",
    ">- We will go over plotting today in class but give this a try on your own first\n"
   ]
  },
  {
   "cell_type": "code",
   "execution_count": 78,
   "metadata": {},
   "outputs": [],
   "source": [
    "import matplotlib.pyplot as plt"
   ]
  },
  {
   "cell_type": "code",
   "execution_count": 83,
   "metadata": {},
   "outputs": [
    {
     "data": {
      "image/png": "[encoded data removed]",
      "text/plain": [
       "<Figure size 1152x648 with 1 Axes>"
      ]
     },
     "metadata": {
      "needs_background": "light"
     },
     "output_type": "display_data"
    }
   ],
   "source": [
    "# We have 4 yeaars of data so we can define this as the x-axis\n",
    "x = ['2008','2009','2010','2011']\n",
    "\n",
    "# Then define the y-data as the average oper year\n",
    "y = bls_amean.groupby('year').a_mean.mean()\n",
    "\n",
    "\n",
    "plt.figure(figsize=(16,9))\n",
    "plt.title('Average Salary Over Time')\n",
    "plt.xlabel('Year')\n",
    "plt.ylabel('Average Annual Salary')\n",
    "plt.plot(x,y)\n",
    "plt.show()"
   ]
  },
  {
   "cell_type": "markdown",
   "metadata": {},
   "source": [
    "### Q5. If you got the plot by year, try to plot by year and occ_title\n",
    ">- This will show the annual salaries over time for each major occ_title"
   ]
  },
  {
   "cell_type": "code",
   "execution_count": 116,
   "metadata": {
    "scrolled": true
   },
   "outputs": [
    {
     "data": {
      "text/html": [
       "<div>\n",
       "<style scoped>\n",
       "    .dataframe tbody tr th:only-of-type {\n",
       "        vertical-align: middle;\n",
       "    }\n",
       "\n",
       "    .dataframe tbody tr th {\n",
       "        vertical-align: top;\n",
       "    }\n",
       "\n",
       "    .dataframe thead th {\n",
       "        text-align: right;\n",
       "    }\n",
       "</style>\n",
       "<table border=\"1\" class=\"dataframe\">\n",
       "  <thead>\n",
       "    <tr style=\"text-align: right;\">\n",
       "      <th>occ_title</th>\n",
       "      <th>ARCHITECTURE AND ENGINEERING OCCUPATIONS</th>\n",
       "      <th>ARTS, DESIGN, ENTERTAINMENT, SPORTS, AND MEDIA OCCUPATIONS</th>\n",
       "      <th>BUILDING AND GROUNDS CLEANING AND MAINTENANCE OCCUPATIONS</th>\n",
       "      <th>BUSINESS AND FINANCIAL OPERATIONS OCCUPATIONS</th>\n",
       "      <th>COMMUNITY AND SOCIAL SERVICE OCCUPATIONS</th>\n",
       "    </tr>\n",
       "    <tr>\n",
       "      <th>year</th>\n",
       "      <th></th>\n",
       "      <th></th>\n",
       "      <th></th>\n",
       "      <th></th>\n",
       "      <th></th>\n",
       "    </tr>\n",
       "  </thead>\n",
       "  <tbody>\n",
       "    <tr>\n",
       "      <th>2008</th>\n",
       "      <td>71430.0</td>\n",
       "      <td>50670.0</td>\n",
       "      <td>24370.0</td>\n",
       "      <td>64720.0</td>\n",
       "      <td>41790.0</td>\n",
       "    </tr>\n",
       "    <tr>\n",
       "      <th>2009</th>\n",
       "      <td>73590.0</td>\n",
       "      <td>51720.0</td>\n",
       "      <td>24970.0</td>\n",
       "      <td>65900.0</td>\n",
       "      <td>42750.0</td>\n",
       "    </tr>\n",
       "    <tr>\n",
       "      <th>2010</th>\n",
       "      <td>75550.0</td>\n",
       "      <td>52290.0</td>\n",
       "      <td>25300.0</td>\n",
       "      <td>67690.0</td>\n",
       "      <td>43180.0</td>\n",
       "    </tr>\n",
       "    <tr>\n",
       "      <th>2011</th>\n",
       "      <td>77120.0</td>\n",
       "      <td>53850.0</td>\n",
       "      <td>25560.0</td>\n",
       "      <td>68740.0</td>\n",
       "      <td>43830.0</td>\n",
       "    </tr>\n",
       "  </tbody>\n",
       "</table>\n",
       "</div>"
      ],
      "text/plain": [
       "occ_title  ARCHITECTURE AND ENGINEERING OCCUPATIONS  \\\n",
       "year                                                  \n",
       "2008                                        71430.0   \n",
       "2009                                        73590.0   \n",
       "2010                                        75550.0   \n",
       "2011                                        77120.0   \n",
       "\n",
       "occ_title  ARTS, DESIGN, ENTERTAINMENT, SPORTS, AND MEDIA OCCUPATIONS  \\\n",
       "year                                                                    \n",
       "2008                                                 50670.0            \n",
       "2009                                                 51720.0            \n",
       "2010                                                 52290.0            \n",
       "2011                                                 53850.0            \n",
       "\n",
       "occ_title  BUILDING AND GROUNDS CLEANING AND MAINTENANCE OCCUPATIONS  \\\n",
       "year                                                                   \n",
       "2008                                                 24370.0           \n",
       "2009                                                 24970.0           \n",
       "2010                                                 25300.0           \n",
       "2011                                                 25560.0           \n",
       "\n",
       "occ_title  BUSINESS AND FINANCIAL OPERATIONS OCCUPATIONS  \\\n",
       "year                                                       \n",
       "2008                                             64720.0   \n",
       "2009                                             65900.0   \n",
       "2010                                             67690.0   \n",
       "2011                                             68740.0   \n",
       "\n",
       "occ_title  COMMUNITY AND SOCIAL SERVICE OCCUPATIONS  \n",
       "year                                                 \n",
       "2008                                        41790.0  \n",
       "2009                                        42750.0  \n",
       "2010                                        43180.0  \n",
       "2011                                        43830.0  "
      ]
     },
     "execution_count": 116,
     "metadata": {},
     "output_type": "execute_result"
    }
   ],
   "source": [
    "# bls_amean['occ_title'].nunique()\n",
    "x = ['2008','2009','2010','2011']\n",
    "y = bls_amean.groupby(['year','occ_title']).max()['a_mean'].unstack().iloc[:,:5]\n",
    "\n",
    "# Unstack pivots the second field the group by to columns\n",
    "# This will allow us to create plots for each occ_title\n",
    "# Were sticking with iloc to include only a few title\n",
    "\n",
    "y"
   ]
  },
  {
   "cell_type": "code",
   "execution_count": 117,
   "metadata": {},
   "outputs": [
    {
     "data": {
      "text/plain": [
       "Index(['ARCHITECTU', 'ARTS, DESI', 'BUILDING A', 'BUSINESS A', 'COMMUNITY '], dtype='object', name='occ_title')"
      ]
     },
     "execution_count": 117,
     "metadata": {},
     "output_type": "execute_result"
    }
   ],
   "source": [
    "y.columns.str[0:10]\n",
    "#condesing titles to 10 characters"
   ]
  },
  {
   "cell_type": "code",
   "execution_count": 119,
   "metadata": {},
   "outputs": [
    {
     "data": {
      "image/png": "[encoded data removed]",
      "text/plain": [
       "<Figure size 1080x576 with 1 Axes>"
      ]
     },
     "metadata": {
      "needs_background": "light"
     },
     "output_type": "display_data"
    }
   ],
   "source": [
    "plt.figure(figsize=(15,8))\n",
    "plt.plot(x,y)\n",
    "plt.legend(y.columns.str[0:15])\n",
    "plt.show()"
   ]
  }
 ],
 "metadata": {
  "kernelspec": {
   "display_name": "Python 3",
   "language": "python",
   "name": "python3"
  },
  "language_info": {
   "codemirror_mode": {
    "name": "ipython",
    "version": 3
   },
   "file_extension": ".py",
   "mimetype": "text/x-python",
   "name": "python",
   "nbconvert_exporter": "python",
   "pygments_lexer": "ipython3",
   "version": "3.8.3"
  }
 },
 "nbformat": 4,
 "nbformat_minor": 2
}
