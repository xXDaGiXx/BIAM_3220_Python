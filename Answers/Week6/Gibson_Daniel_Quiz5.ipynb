{
 "cells": [
  {
   "cell_type": "markdown",
   "metadata": {
    "azdata_cell_guid": "321fbf52-838c-4cae-9922-bcff34ee4882"
   },
   "source": [
    "# BAIM 3220: Introduction to Python\n",
    "## Quiz #5: Functions, lists, and dictionaries\n",
    "## After downloading this .ipynb file from Canvas, resave with the following naming format:\n",
    ">- LastName_FirstName_Quiz5.ipynb\n",
    "\n",
    "\n",
    "## When you are ready to submit your quiz, upload your .ipynb file to the Quiz#5 dropbox on Canvas\n",
    ">- Note: You need to complete the M/C,T/F, fill in the blank questions on the Canvas quiz AND upload this file before the quiz time is up"
   ]
  },
  {
   "cell_type": "markdown",
   "metadata": {
    "azdata_cell_guid": "121583af-4668-4889-b74c-86f4d006dbf8"
   },
   "source": [
    "# Q1 (3 points)\n",
    "### In the next cell define a function, `cirArea`, to calculate and print the area of a circle\n",
    "#### Specifications:\n",
    ">- Assume pi=3.14\n",
    ">- Your function should only have one parameter, diameter, passed to it\n",
    ">- If you forgot how to calculate the area of a circle, look it up (Google it).\n",
    ">- Print a statement describing the area of the circle\n",
    ">>- For example, if passed 100 as the parameter, your function should print a statement: \"The area of your circle is: 7850 units squared\""
   ]
  },
  {
   "cell_type": "markdown",
   "metadata": {},
   "source": [
    "### Define your function in the next cell but do not call it yet"
   ]
  },
  {
   "cell_type": "code",
   "execution_count": 3,
   "metadata": {
    "azdata_cell_guid": "a7ba164b-0092-4921-af40-99ab31b13937"
   },
   "outputs": [],
   "source": [
    "def cirArea(diameter):\n",
    "    area = 3.14 * ((diameter/2)**2)\n",
    "    print(f'The area of your circle is: {area} units squared')"
   ]
  },
  {
   "cell_type": "markdown",
   "metadata": {},
   "source": [
    "### Call `cirArea` in the next cell, pass the number 20 to it, and show the output"
   ]
  },
  {
   "cell_type": "code",
   "execution_count": 80,
   "metadata": {},
   "outputs": [
    {
     "name": "stdout",
     "output_type": "stream",
     "text": [
      "The area of your circle is: 314.0 units squared\n"
     ]
    }
   ],
   "source": [
    "cirArea(20)"
   ]
  },
  {
   "cell_type": "markdown",
   "metadata": {
    "azdata_cell_guid": "121583af-4668-4889-b74c-86f4d006dbf8"
   },
   "source": [
    "# Q2 (6 points)\n",
    "### In the next cell define a function, `numCheck`, that will check whether a number is in a given range\n",
    "#### Specifications:\n",
    ">- Your function should take three parameters\n",
    ">>- 1. A number to be checked\n",
    ">>- 2. A low for the range\n",
    ">>- 3. A high number for the range\n",
    ">- Print two statements to the user based on if the number is within the range or not\n",
    ">>- 1. If in the range print: '{num} is in the range between {low} and {high}\n",
    ">>- 2. If not in the range print: '{num} is outside the range between {low} and {high}'\n",
    ">>>- Where {num}, {low}, and {high} are the actual numbers passed to your function"
   ]
  },
  {
   "cell_type": "markdown",
   "metadata": {},
   "source": [
    "#### Define your function in the next cell but do not call it yet"
   ]
  },
  {
   "cell_type": "code",
   "execution_count": 6,
   "metadata": {},
   "outputs": [],
   "source": [
    "def numCheck(low,high,num):\n",
    "    if num >= low and num <= high:\n",
    "        print(f'{num} is in the range between {low} and {high}')\n",
    "    else:\n",
    "        print(f'{num} is outside the range between {low} and {high}')"
   ]
  },
  {
   "cell_type": "markdown",
   "metadata": {},
   "source": [
    "#### Call `numCheck` in the next cell, pass the following values to it, and run the cell to show the results\n",
    ">- number to check, 5\n",
    ">- low number of range, 3\n",
    ">- high number of range, 100"
   ]
  },
  {
   "cell_type": "code",
   "execution_count": 81,
   "metadata": {},
   "outputs": [
    {
     "name": "stdout",
     "output_type": "stream",
     "text": [
      "5 is in the range between 3 and 100\n"
     ]
    }
   ],
   "source": [
    "numCheck(3,100,5)"
   ]
  },
  {
   "cell_type": "markdown",
   "metadata": {},
   "source": [
    "#### Call `numCheck` in the next cell, pass the following values to it, and run the cell to show the results\n",
    "\n",
    ">- number to check, 5\n",
    ">- low number of range, 10\n",
    ">- high number of range, 100"
   ]
  },
  {
   "cell_type": "code",
   "execution_count": 82,
   "metadata": {},
   "outputs": [
    {
     "name": "stdout",
     "output_type": "stream",
     "text": [
      "5 is outside the range between 10 and 100\n"
     ]
    }
   ],
   "source": [
    "numCheck(10,100,5)"
   ]
  },
  {
   "cell_type": "markdown",
   "metadata": {
    "azdata_cell_guid": "470d3874-cd93-4d41-97ea-e3734c95aa33"
   },
   "source": [
    "# Q3 (12 points) \n",
    "## Factorial of a number\n",
    "### In the next cell define a function, `fact`, to calculate and print the factorial of a number\n",
    ">- If you don't remember what a factorial is, look it up\n",
    "### Specifications:\n",
    ">- Your function should have only one parameter\n",
    ">- You must use a `for` loop\n",
    ">- For example, if passed 7 as the parameter, your function should print a statement: \"The factorial of 7 is 5040\""
   ]
  },
  {
   "cell_type": "markdown",
   "metadata": {},
   "source": [
    "### Define your function in the next cell but do not call it yet"
   ]
  },
  {
   "cell_type": "code",
   "execution_count": 83,
   "metadata": {
    "azdata_cell_guid": "547a13d0-1306-41ff-b712-9b08b9dda1f0"
   },
   "outputs": [],
   "source": [
    "def fact(num):\n",
    "    tot = 1\n",
    "    for i in range(1,num+1):\n",
    "        tot =+ tot*i\n",
    "    print(f'The factorial of {num} is {tot}')"
   ]
  },
  {
   "cell_type": "markdown",
   "metadata": {},
   "source": [
    "### Call your function in the next cell and pass `10` to it"
   ]
  },
  {
   "cell_type": "code",
   "execution_count": 85,
   "metadata": {},
   "outputs": [
    {
     "name": "stdout",
     "output_type": "stream",
     "text": [
      "The factorial of 10 is 3628800\n"
     ]
    }
   ],
   "source": [
    "fact(10)"
   ]
  },
  {
   "cell_type": "markdown",
   "metadata": {
    "azdata_cell_guid": "29622bf8-b77d-4825-a4c3-d4cf6a6fce52"
   },
   "source": [
    "# Q4 (12 points)\n",
    "## Unique item list\n",
    "### Write a function, `unique_list` that takes a list as a parameter and returns a new list with unique elements of the first list.\n",
    "\n",
    "For example, your function could take the list, `[1,1,1,1,2,2,3,3,3,3,4,5]`\n",
    "and return the list, `[1,2,3,4,5]`\n"
   ]
  },
  {
   "cell_type": "markdown",
   "metadata": {},
   "source": [
    "### Define your function in the next cell but do not call it yet"
   ]
  },
  {
   "cell_type": "code",
   "execution_count": 86,
   "metadata": {
    "azdata_cell_guid": "0eb1b6a8-ada5-412b-a4ba-21914bf949d7"
   },
   "outputs": [],
   "source": [
    "def unique_list(aList):\n",
    "    newList = []\n",
    "    for i in aList:\n",
    "        if i not in newList:\n",
    "            newList.append(i)\n",
    "    return newList"
   ]
  },
  {
   "cell_type": "markdown",
   "metadata": {},
   "source": [
    "#### Call `unique_list` in the next cell and pass the example list (with duplicate numbers) given above to it"
   ]
  },
  {
   "cell_type": "code",
   "execution_count": 88,
   "metadata": {},
   "outputs": [
    {
     "data": {
      "text/plain": [
       "[1, 2, 3, 4, 5]"
      ]
     },
     "execution_count": 88,
     "metadata": {},
     "output_type": "execute_result"
    }
   ],
   "source": [
    "unique_list([1,1,1,1,2,2,3,3,3,3,4,5])"
   ]
  },
  {
   "cell_type": "code",
   "execution_count": 89,
   "metadata": {},
   "outputs": [
    {
     "data": {
      "text/plain": [
       "[1, 2, 5, 6, 10, 11, 120, 131]"
      ]
     },
     "execution_count": 89,
     "metadata": {},
     "output_type": "execute_result"
    }
   ],
   "source": [
    "unique_list([1,1,1,2,2,5,5,5,6,6,10,10,11,120,120,131])"
   ]
  },
  {
   "cell_type": "markdown",
   "metadata": {},
   "source": [
    "# Q5 (18 points)\n",
    "## Working with lists\n",
    "### The next subset of questions refer to the list defined below:\n",
    "\n",
    ">- `aList = ['one','two','three',4,5]`\n",
    ">- Don't forget to define this list in the next cell"
   ]
  },
  {
   "cell_type": "code",
   "execution_count": 90,
   "metadata": {},
   "outputs": [],
   "source": [
    "aList = ['one','two','three',4,5]"
   ]
  },
  {
   "cell_type": "markdown",
   "metadata": {},
   "source": [
    "#### 5a. In the next cell, grab 'three' from `aList` (3 points)"
   ]
  },
  {
   "cell_type": "code",
   "execution_count": 91,
   "metadata": {},
   "outputs": [
    {
     "data": {
      "text/plain": [
       "'three'"
      ]
     },
     "execution_count": 91,
     "metadata": {},
     "output_type": "execute_result"
    }
   ],
   "source": [
    "aList[2]"
   ]
  },
  {
   "cell_type": "markdown",
   "metadata": {},
   "source": [
    "#### 5b. In the next cell, return a sub list of the second through the last item in `aList` (3 points)"
   ]
  },
  {
   "cell_type": "code",
   "execution_count": 92,
   "metadata": {},
   "outputs": [
    {
     "data": {
      "text/plain": [
       "['two', 'three', 4, 5]"
      ]
     },
     "execution_count": 92,
     "metadata": {},
     "output_type": "execute_result"
    }
   ],
   "source": [
    "aList[1:5]"
   ]
  },
  {
   "cell_type": "markdown",
   "metadata": {},
   "source": [
    "#### 5c. In the next cell, return the first two letters of the second item in `aList` (3 points)"
   ]
  },
  {
   "cell_type": "code",
   "execution_count": 93,
   "metadata": {},
   "outputs": [
    {
     "data": {
      "text/plain": [
       "'tw'"
      ]
     },
     "execution_count": 93,
     "metadata": {},
     "output_type": "execute_result"
    }
   ],
   "source": [
    "aList[1][0:2]"
   ]
  },
  {
   "cell_type": "markdown",
   "metadata": {},
   "source": [
    "#### 5d. In the next cell, add the string, 'Python', to the end of `aList` (3 points)\n",
    ">- Print `aList` before and after your change"
   ]
  },
  {
   "cell_type": "code",
   "execution_count": 94,
   "metadata": {},
   "outputs": [
    {
     "name": "stdout",
     "output_type": "stream",
     "text": [
      "['one', 'two', 'three', 4, 5]\n",
      "['one', 'two', 'three', 4, 5, 'Python']\n"
     ]
    }
   ],
   "source": [
    "print(aList)\n",
    "aList.append('Python')\n",
    "print(aList)"
   ]
  },
  {
   "cell_type": "markdown",
   "metadata": {},
   "source": [
    "#### 5e. In the next cell, add the number, 1000, to the third item in `aList` (3 points)\n",
    ">- Print the list before and after the change"
   ]
  },
  {
   "cell_type": "code",
   "execution_count": 95,
   "metadata": {},
   "outputs": [
    {
     "name": "stdout",
     "output_type": "stream",
     "text": [
      "['one', 'two', 'three', 4, 5, 'Python']\n",
      "['one', 'two', 'three1000', 4, 5, 'Python']\n"
     ]
    }
   ],
   "source": [
    "print(aList)\n",
    "aList[2] = aList[2] + '1000'\n",
    "print(aList)"
   ]
  },
  {
   "cell_type": "markdown",
   "metadata": {},
   "source": [
    "#### 5f. In the next cell, reassign `'one'` to be the numerical value, `1` (3 points)\n",
    ">- Print the list before and after the change"
   ]
  },
  {
   "cell_type": "code",
   "execution_count": 96,
   "metadata": {},
   "outputs": [
    {
     "name": "stdout",
     "output_type": "stream",
     "text": [
      "['one', 'two', 'three1000', 4, 5, 'Python']\n",
      "[1, 'two', 'three1000', 4, 5, 'Python']\n"
     ]
    }
   ],
   "source": [
    "print(aList)\n",
    "aList[0] = 1\n",
    "print(aList)"
   ]
  },
  {
   "cell_type": "markdown",
   "metadata": {},
   "source": [
    "# Q6 (12 points)\n",
    "## Working with Dictionaries\n",
    "### The next subset of questions refer to the dictionary defined below:\n",
    "\n",
    ">- `d = {'k1':[{'nest_key':['this is deep',['hello']]}]}`\n",
    ">- Don't forget to define this dictionary in the next cell"
   ]
  },
  {
   "cell_type": "code",
   "execution_count": 97,
   "metadata": {},
   "outputs": [],
   "source": [
    "d = {'k1':[{'nest_key':['this is deep',['hello']]}]}"
   ]
  },
  {
   "cell_type": "markdown",
   "metadata": {},
   "source": [
    "#### 6a. In the next cell, grab the value that is mapped to the key, `k1` (3 points)"
   ]
  },
  {
   "cell_type": "code",
   "execution_count": 98,
   "metadata": {},
   "outputs": [
    {
     "data": {
      "text/plain": [
       "[{'nest_key': ['this is deep', ['hello']]}]"
      ]
     },
     "execution_count": 98,
     "metadata": {},
     "output_type": "execute_result"
    }
   ],
   "source": [
    "d['k1']"
   ]
  },
  {
   "cell_type": "markdown",
   "metadata": {},
   "source": [
    "#### 6b. In the next cell, grab the string, `'this is deep'` (3 points)"
   ]
  },
  {
   "cell_type": "code",
   "execution_count": 99,
   "metadata": {},
   "outputs": [
    {
     "data": {
      "text/plain": [
       "'this is deep'"
      ]
     },
     "execution_count": 99,
     "metadata": {},
     "output_type": "execute_result"
    }
   ],
   "source": [
    "d['k1'][0]['nest_key'][0]"
   ]
  },
  {
   "cell_type": "markdown",
   "metadata": {},
   "source": [
    "#### 6c. In the next cell, grab the string, `'hello'` (3 points)"
   ]
  },
  {
   "cell_type": "code",
   "execution_count": 100,
   "metadata": {
    "scrolled": true
   },
   "outputs": [
    {
     "data": {
      "text/plain": [
       "'hello'"
      ]
     },
     "execution_count": 100,
     "metadata": {},
     "output_type": "execute_result"
    }
   ],
   "source": [
    "d['k1'][0]['nest_key'][1][0]"
   ]
  },
  {
   "cell_type": "markdown",
   "metadata": {},
   "source": [
    "#### 6d. In the next cell, grab the first three letters of `'hello'` (3 points)"
   ]
  },
  {
   "cell_type": "code",
   "execution_count": 101,
   "metadata": {},
   "outputs": [
    {
     "data": {
      "text/plain": [
       "'hel'"
      ]
     },
     "execution_count": 101,
     "metadata": {},
     "output_type": "execute_result"
    }
   ],
   "source": [
    "d['k1'][0]['nest_key'][1][0][0:3]"
   ]
  }
 ],
 "metadata": {
  "kernelspec": {
   "display_name": "Python 3",
   "language": "python",
   "name": "python3"
  },
  "language_info": {
   "codemirror_mode": {
    "name": "ipython",
    "version": 3
   },
   "file_extension": ".py",
   "mimetype": "text/x-python",
   "name": "python",
   "nbconvert_exporter": "python",
   "pygments_lexer": "ipython3",
   "version": "3.8.3"
  }
 },
 "nbformat": 4,
 "nbformat_minor": 2
}
