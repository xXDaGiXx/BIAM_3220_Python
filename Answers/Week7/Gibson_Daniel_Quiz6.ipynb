{
 "cells": [
  {
   "cell_type": "markdown",
   "metadata": {
    "colab_type": "text",
    "id": "D284KRZiCpmN"
   },
   "source": [
    "# BAIM 3220: Introduction to Python\n",
    "## Quiz #6: Data Structures and String Manipulation\n",
    "## After downloading this .ipynb file from Canvas, resave with the following naming format:\n",
    ">- LastName_FirstName_Quiz6.ipynb\n",
    "\n",
    "\n",
    "## When you are ready to submit your quiz, upload your .ipynb file to the Quiz#6 dropbox on Canvas"
   ]
  },
  {
   "cell_type": "markdown",
   "metadata": {
    "colab_type": "text",
    "id": "hlsENAAMCpmx"
   },
   "source": [
    "# Q1 (21 points)\n",
    "## Function to create a list and format user entered strings\n",
    "## In the next cell define a function, `listform` that meets the following specifications:\n",
    "### Specifications:\n",
    ">-  The function must display text that tells the user \"This is a program to create a list\"\n",
    ">-  You must use a `while` loop in your code\n",
    ">-   Store the values in a list variable called, `aList`\n",
    ">-  Prompt the user to enter values for their list and tell them how to exit the program when they are done\n",
    ">>-   Exit the program if the user hits `enter` without typing any characters\n",
    ">-   Print the users final list formatted as indicted below:\n",
    "      >>- When printed to the screen the user should see their list items formatted like the following: \n",
    "      >>- `Red, Orange, Yellow`\n",
    "      >>>- Note the items should print with the first letter capitalized even if the user enters all lower case"
   ]
  },
  {
   "cell_type": "markdown",
   "metadata": {},
   "source": [
    "### Define your function in the next cell but do not call it yet"
   ]
  },
  {
   "cell_type": "code",
   "execution_count": 134,
   "metadata": {
    "colab": {},
    "colab_type": "code",
    "id": "XXuePvSyCpm2"
   },
   "outputs": [],
   "source": [
    "def listForm():\n",
    "    aList = []\n",
    "    i = 0\n",
    "    while True:\n",
    "        val = input('Add a value to the list, then hit (enter) to exit: ')\n",
    "        if val == '':\n",
    "            print('Thank you! Come again.')\n",
    "            break\n",
    "        else:\n",
    "            aList.append(val.title())\n",
    "            i += 1\n",
    "    x = 0\n",
    "    for i in aList:\n",
    "        if x < (len(aList)-1):\n",
    "            print(i,end = ', ')\n",
    "            x += 1\n",
    "    print(f'and {aList[len(aList)-1]}')"
   ]
  },
  {
   "cell_type": "markdown",
   "metadata": {},
   "source": [
    "### Call `listform()` in the next cell and enter the following strings as user inputs\n",
    ">- Note: enter the following strings:\n",
    ">>- apple, BANANA, oRange, onioN"
   ]
  },
  {
   "cell_type": "code",
   "execution_count": 135,
   "metadata": {
    "colab": {
     "base_uri": "https://localhost:8080/",
     "height": 119
    },
    "colab_type": "code",
    "id": "YERVu3OgG_YJ",
    "outputId": "6efc85cd-4a91-41c5-a61a-f23f38a21c95"
   },
   "outputs": [
    {
     "name": "stdout",
     "output_type": "stream",
     "text": [
      "Add a value to the list, then hit (enter) to exit: apple\n",
      "Add a value to the list, then hit (enter) to exit: BANANA\n",
      "Add a value to the list, then hit (enter) to exit: oRange\n",
      "Add a value to the list, then hit (enter) to exit: onioN\n",
      "Add a value to the list, then hit (enter) to exit: \n",
      "Thank you! Come again.\n",
      "Apple, Banana, Orange, and Onion\n"
     ]
    }
   ],
   "source": [
    "listForm()"
   ]
  },
  {
   "cell_type": "markdown",
   "metadata": {
    "colab_type": "text",
    "id": "CyYaq0xDUnq_"
   },
   "source": [
    "# Q2 (15 points)\n",
    "## The seven dwarfs lists\n",
    "### Use the following list to answer questions Q2a-Q2e"
   ]
  },
  {
   "cell_type": "code",
   "execution_count": 137,
   "metadata": {
    "colab": {},
    "colab_type": "code",
    "id": "1osFJ7IdUn_i"
   },
   "outputs": [],
   "source": [
    "dwarfs = ['Happy', 'Sleepy', 'Doc', 'Bashful', 'Sneezy', 'Grumpy', 'Dopey']"
   ]
  },
  {
   "cell_type": "markdown",
   "metadata": {
    "colab_type": "text",
    "id": "rMiabVGvU-2-"
   },
   "source": [
    "## Q2a (3 points)\n",
    "### In the next cell, change 'Dopey' to 'Scrappy' and print the list before and after the change"
   ]
  },
  {
   "cell_type": "code",
   "execution_count": 138,
   "metadata": {
    "colab": {
     "base_uri": "https://localhost:8080/",
     "height": 34
    },
    "colab_type": "code",
    "id": "-jgEBwr_VB4d",
    "outputId": "6a17c463-293b-41f5-d659-df1a2920733e"
   },
   "outputs": [
    {
     "name": "stdout",
     "output_type": "stream",
     "text": [
      "['Happy', 'Sleepy', 'Doc', 'Bashful', 'Sneezy', 'Grumpy', 'Dopey']\n",
      "['Happy', 'Sleepy', 'Doc', 'Bashful', 'Sneezy', 'Grumpy', 'Scrappy']\n"
     ]
    }
   ],
   "source": [
    "print(dwarfs)\n",
    "\n",
    "dwarfs[-1] = 'Scrappy'\n",
    "\n",
    "print(dwarfs)"
   ]
  },
  {
   "cell_type": "markdown",
   "metadata": {
    "colab_type": "text",
    "id": "YDLyko91VGg_"
   },
   "source": [
    "##  Q2b (3 points)\n",
    "### In the next cell, make a copy of the dwarfs list named, `dwarfs2`, and print its value. "
   ]
  },
  {
   "cell_type": "code",
   "execution_count": 139,
   "metadata": {
    "colab": {
     "base_uri": "https://localhost:8080/",
     "height": 34
    },
    "colab_type": "code",
    "id": "bem0qu8-VICp",
    "outputId": "ae831a42-bf8f-4545-fcd4-4cb91f894d28"
   },
   "outputs": [
    {
     "name": "stdout",
     "output_type": "stream",
     "text": [
      "['Happy', 'Sleepy', 'Doc', 'Bashful', 'Sneezy', 'Grumpy', 'Scrappy']\n"
     ]
    }
   ],
   "source": [
    "dwarfs2 = dwarfs.copy()\n",
    "\n",
    "print(dwarfs2)"
   ]
  },
  {
   "cell_type": "markdown",
   "metadata": {
    "colab_type": "text",
    "id": "8TCMWNK2VVmp"
   },
   "source": [
    "## Q2c (3 points)\n",
    "### In the next cell, sort the `dwarfs2` list in descending order and print the list before and after the sort. "
   ]
  },
  {
   "cell_type": "code",
   "execution_count": 140,
   "metadata": {
    "colab": {
     "base_uri": "https://localhost:8080/",
     "height": 34
    },
    "colab_type": "code",
    "id": "POgF8-AFVLkR",
    "outputId": "32e235ce-63c9-449c-a5ce-256fd473576b"
   },
   "outputs": [
    {
     "name": "stdout",
     "output_type": "stream",
     "text": [
      "['Happy', 'Sleepy', 'Doc', 'Bashful', 'Sneezy', 'Grumpy', 'Scrappy']\n",
      "['Sneezy', 'Sleepy', 'Scrappy', 'Happy', 'Grumpy', 'Doc', 'Bashful']\n"
     ]
    }
   ],
   "source": [
    "print(dwarfs2)\n",
    "\n",
    "dwarfs2.sort(reverse = 1)\n",
    "\n",
    "print(dwarfs2)"
   ]
  },
  {
   "cell_type": "markdown",
   "metadata": {
    "colab_type": "text",
    "id": "bSInlnJHVMIo"
   },
   "source": [
    "## Q2d (3 points)\n",
    "### In the next cell, add a new dwarf, 'Hungry', to `dwarfs2` and print the list before and after the change. "
   ]
  },
  {
   "cell_type": "code",
   "execution_count": 141,
   "metadata": {
    "colab": {
     "base_uri": "https://localhost:8080/",
     "height": 34
    },
    "colab_type": "code",
    "id": "Ye1OEUQxVcXC",
    "outputId": "279ebd0a-6762-4e19-b253-64c3eff9a54d"
   },
   "outputs": [
    {
     "name": "stdout",
     "output_type": "stream",
     "text": [
      "['Sneezy', 'Sleepy', 'Scrappy', 'Happy', 'Grumpy', 'Doc', 'Bashful']\n",
      "['Sneezy', 'Sleepy', 'Scrappy', 'Happy', 'Grumpy', 'Doc', 'Bashful', 'Hungry']\n"
     ]
    }
   ],
   "source": [
    "print(dwarfs2)\n",
    "\n",
    "dwarfs2.append('Hungry')\n",
    "\n",
    "print(dwarfs2)"
   ]
  },
  {
   "cell_type": "markdown",
   "metadata": {
    "colab_type": "text",
    "id": "p_7Y3aqEVfGv"
   },
   "source": [
    "## Q2e (3 points)\n",
    "### Insert a new dwarf, 'Booboo', as the second item in the list `dwarfs2` and print the list before and after the insert"
   ]
  },
  {
   "cell_type": "code",
   "execution_count": 142,
   "metadata": {
    "colab": {
     "base_uri": "https://localhost:8080/",
     "height": 34
    },
    "colab_type": "code",
    "id": "vwmB-SPyVeaL",
    "outputId": "d1e2b72b-ac5e-428e-e044-2ffa61e20b92"
   },
   "outputs": [
    {
     "name": "stdout",
     "output_type": "stream",
     "text": [
      "['Sneezy', 'Sleepy', 'Scrappy', 'Happy', 'Grumpy', 'Doc', 'Bashful', 'Hungry']\n",
      "['Sneezy', 'Booboo', 'Sleepy', 'Scrappy', 'Happy', 'Grumpy', 'Doc', 'Bashful', 'Hungry']\n"
     ]
    }
   ],
   "source": [
    "print(dwarfs2)\n",
    "\n",
    "dwarfs2.insert(1, 'Booboo')\n",
    "\n",
    "print(dwarfs2)"
   ]
  },
  {
   "cell_type": "markdown",
   "metadata": {
    "colab_type": "text",
    "id": "rXoqu2XbX4DD"
   },
   "source": [
    "# Q3 (39 points)\n",
    "## Count the number of occurrences for each letter in a given string, `karl`\n",
    "### Specifications\n",
    ">- You must use the given string, `karl`, defined in the next cell\n",
    ">- Store the results in a dictionary named, `char` with letters as keys and the counts as values\n",
    ">- Count all letters (lowercase and uppercase) the same\n",
    ">>- For example, if the string has lower case 't' and upper case 'T' those should be counted as the same letter\n",
    ">- Print the keys and values in a vertical format by importing a module discussed in class notes\n",
    ">- Do not count anything other than letter"
   ]
  },
  {
   "cell_type": "markdown",
   "metadata": {},
   "source": [
    "### Run the next cell to assign `karl` the string value given"
   ]
  },
  {
   "cell_type": "code",
   "execution_count": 1,
   "metadata": {
    "colab": {},
    "colab_type": "code",
    "id": "QLs1wI4OFXAe"
   },
   "outputs": [],
   "source": [
    "karl =  '''\n",
    "I did have that inklIng In The back of my mind thouGh that my fondness\n",
    "for The University of Colorado and getting a chance to BE In this position would \n",
    "be a dream and it came true\n",
    "'''"
   ]
  },
  {
   "cell_type": "markdown",
   "metadata": {
    "colab_type": "text",
    "id": "QQLtdxBK00to"
   },
   "source": [
    "### Q3a (12 points): Write your code to count the number of occurrences of each letter in the next cell\n",
    ">- Reminder: Do not count any other characters other than letters\n",
    ">- Store the letters and counts of letters in a dictionary named, `count`\n",
    ">- A letter should be counted the same whether it is upper or lower case"
   ]
  },
  {
   "cell_type": "code",
   "execution_count": 2,
   "metadata": {
    "scrolled": true
   },
   "outputs": [
    {
     "data": {
      "text/plain": [
       "{'i': 14,\n",
       " 'd': 9,\n",
       " 'h': 9,\n",
       " 'a': 12,\n",
       " 'v': 2,\n",
       " 'e': 12,\n",
       " 't': 15,\n",
       " 'n': 13,\n",
       " 'k': 2,\n",
       " 'l': 3,\n",
       " 'g': 4,\n",
       " 'b': 3,\n",
       " 'c': 5,\n",
       " 'o': 12,\n",
       " 'f': 4,\n",
       " 'm': 5,\n",
       " 'y': 3,\n",
       " 'u': 4,\n",
       " 's': 5,\n",
       " 'r': 5,\n",
       " 'p': 1,\n",
       " 'w': 1}"
      ]
     },
     "execution_count": 2,
     "metadata": {},
     "output_type": "execute_result"
    }
   ],
   "source": [
    "count = {}\n",
    "\n",
    "for char in karl.replace('\\n','').replace(' ','').lower():\n",
    "    \n",
    "    count.setdefault(char,0)\n",
    "    \n",
    "    count[char] = count[char] + 1\n",
    "    \n",
    "count"
   ]
  },
  {
   "cell_type": "markdown",
   "metadata": {},
   "source": [
    "### Q3b (3 points) In the next cell, `char` in a vertical format\n",
    ">- Use a module discussed in class notes to do this"
   ]
  },
  {
   "cell_type": "code",
   "execution_count": 145,
   "metadata": {},
   "outputs": [
    {
     "data": {
      "text/html": [
       "<div>\n",
       "<style scoped>\n",
       "    .dataframe tbody tr th:only-of-type {\n",
       "        vertical-align: middle;\n",
       "    }\n",
       "\n",
       "    .dataframe tbody tr th {\n",
       "        vertical-align: top;\n",
       "    }\n",
       "\n",
       "    .dataframe thead th {\n",
       "        text-align: right;\n",
       "    }\n",
       "</style>\n",
       "<table border=\"1\" class=\"dataframe\">\n",
       "  <thead>\n",
       "    <tr style=\"text-align: right;\">\n",
       "      <th></th>\n",
       "      <th>0</th>\n",
       "    </tr>\n",
       "  </thead>\n",
       "  <tbody>\n",
       "    <tr>\n",
       "      <th>i</th>\n",
       "      <td>14</td>\n",
       "    </tr>\n",
       "    <tr>\n",
       "      <th>d</th>\n",
       "      <td>9</td>\n",
       "    </tr>\n",
       "    <tr>\n",
       "      <th>h</th>\n",
       "      <td>9</td>\n",
       "    </tr>\n",
       "    <tr>\n",
       "      <th>a</th>\n",
       "      <td>12</td>\n",
       "    </tr>\n",
       "    <tr>\n",
       "      <th>v</th>\n",
       "      <td>2</td>\n",
       "    </tr>\n",
       "    <tr>\n",
       "      <th>e</th>\n",
       "      <td>12</td>\n",
       "    </tr>\n",
       "    <tr>\n",
       "      <th>t</th>\n",
       "      <td>15</td>\n",
       "    </tr>\n",
       "    <tr>\n",
       "      <th>n</th>\n",
       "      <td>13</td>\n",
       "    </tr>\n",
       "    <tr>\n",
       "      <th>k</th>\n",
       "      <td>2</td>\n",
       "    </tr>\n",
       "    <tr>\n",
       "      <th>l</th>\n",
       "      <td>3</td>\n",
       "    </tr>\n",
       "    <tr>\n",
       "      <th>g</th>\n",
       "      <td>4</td>\n",
       "    </tr>\n",
       "    <tr>\n",
       "      <th>b</th>\n",
       "      <td>3</td>\n",
       "    </tr>\n",
       "    <tr>\n",
       "      <th>c</th>\n",
       "      <td>5</td>\n",
       "    </tr>\n",
       "    <tr>\n",
       "      <th>o</th>\n",
       "      <td>12</td>\n",
       "    </tr>\n",
       "    <tr>\n",
       "      <th>f</th>\n",
       "      <td>4</td>\n",
       "    </tr>\n",
       "    <tr>\n",
       "      <th>m</th>\n",
       "      <td>5</td>\n",
       "    </tr>\n",
       "    <tr>\n",
       "      <th>y</th>\n",
       "      <td>3</td>\n",
       "    </tr>\n",
       "    <tr>\n",
       "      <th>u</th>\n",
       "      <td>4</td>\n",
       "    </tr>\n",
       "    <tr>\n",
       "      <th>s</th>\n",
       "      <td>5</td>\n",
       "    </tr>\n",
       "    <tr>\n",
       "      <th>r</th>\n",
       "      <td>5</td>\n",
       "    </tr>\n",
       "    <tr>\n",
       "      <th>p</th>\n",
       "      <td>1</td>\n",
       "    </tr>\n",
       "    <tr>\n",
       "      <th>w</th>\n",
       "      <td>1</td>\n",
       "    </tr>\n",
       "  </tbody>\n",
       "</table>\n",
       "</div>"
      ],
      "text/plain": [
       "    0\n",
       "i  14\n",
       "d   9\n",
       "h   9\n",
       "a  12\n",
       "v   2\n",
       "e  12\n",
       "t  15\n",
       "n  13\n",
       "k   2\n",
       "l   3\n",
       "g   4\n",
       "b   3\n",
       "c   5\n",
       "o  12\n",
       "f   4\n",
       "m   5\n",
       "y   3\n",
       "u   4\n",
       "s   5\n",
       "r   5\n",
       "p   1\n",
       "w   1"
      ]
     },
     "execution_count": 145,
     "metadata": {},
     "output_type": "execute_result"
    }
   ],
   "source": [
    "import pandas as pd\n",
    "pd.DataFrame(count.values(), index = count.keys())"
   ]
  },
  {
   "cell_type": "markdown",
   "metadata": {
    "colab_type": "text",
    "id": "fsRgpzaTG7FD"
   },
   "source": [
    "### Q3c (6 points): Sort the values in the dictionary you defined in the previous problem in descending order\n",
    ">- Assign the sorted object as a variable named, `sortcount`\n",
    ">- Then print `sortcount`"
   ]
  },
  {
   "cell_type": "markdown",
   "metadata": {},
   "source": [
    "#### Define and print `sortcount` in the next cell"
   ]
  },
  {
   "cell_type": "code",
   "execution_count": 146,
   "metadata": {},
   "outputs": [
    {
     "name": "stdout",
     "output_type": "stream",
     "text": [
      "[('t', 15), ('i', 14), ('n', 13), ('a', 12), ('e', 12), ('o', 12), ('d', 9), ('h', 9), ('c', 5), ('m', 5), ('s', 5), ('r', 5), ('g', 4), ('f', 4), ('u', 4), ('l', 3), ('b', 3), ('y', 3), ('v', 2), ('k', 2), ('p', 1), ('w', 1)]\n"
     ]
    }
   ],
   "source": [
    "sortcount = sorted(count.items(), key = lambda x : x[1], reverse = 1)\n",
    "\n",
    "print(sortcount)"
   ]
  },
  {
   "cell_type": "markdown",
   "metadata": {},
   "source": [
    "### Q3d (3 points): Show the data type of `sortcount` in the next cell"
   ]
  },
  {
   "cell_type": "code",
   "execution_count": 147,
   "metadata": {},
   "outputs": [
    {
     "data": {
      "text/plain": [
       "list"
      ]
     },
     "execution_count": 147,
     "metadata": {},
     "output_type": "execute_result"
    }
   ],
   "source": [
    "type(sortcount)"
   ]
  },
  {
   "cell_type": "markdown",
   "metadata": {},
   "source": [
    "### Q3e (3 points) Show the letter with the most occurrences in the next cell\n",
    ">- Show the letter and its count\n",
    ">- You must use appropriate python code and show the output (do not manually type the values)"
   ]
  },
  {
   "cell_type": "code",
   "execution_count": 148,
   "metadata": {},
   "outputs": [
    {
     "name": "stdout",
     "output_type": "stream",
     "text": [
      "t : 15\n"
     ]
    }
   ],
   "source": [
    "print(max(sortcount, key = lambda x : x[1])[0],':',max(sortcount, key = lambda x : x[1])[1])"
   ]
  },
  {
   "cell_type": "markdown",
   "metadata": {},
   "source": [
    "### Q3f (12 points) Write python code to calculate and print the average number of letter occurrences\n",
    ">- Your print statement should look like the following with appropriate numbers printed in place of the general variables shown in curly braces {}\n",
    ">>- In the string, karl, there were:\n",
    "        - Unique Letters: {uniqueLetters}\n",
    "        - Total Letters: {total letters}\n",
    "        - Average Number of letter occurrences: {avgCount}\n",
    "\n",
    "Note: Use f-string formatting and not markdown to print this statement      "
   ]
  },
  {
   "cell_type": "code",
   "execution_count": 149,
   "metadata": {},
   "outputs": [
    {
     "name": "stdout",
     "output_type": "stream",
     "text": [
      "Unique Letters: 22\n",
      "Total Letters: 143\n",
      "Average Number of letter occurrences: 6.5\n"
     ]
    }
   ],
   "source": [
    "uniqueLetters = len(count)\n",
    "totalLetters = sum(count.values())\n",
    "avgCount = round((sum(count.values())/len(count)),2)\n",
    "\n",
    "print(f'Unique Letters: {uniqueLetters}')\n",
    "print(f'Total Letters: {totalLetters}')\n",
    "print(f'Average Number of letter occurrences: {avgCount}')"
   ]
  }
 ],
 "metadata": {
  "colab": {
   "collapsed_sections": [],
   "name": "Quiz6_Draft_Wanswers.ipynb",
   "provenance": []
  },
  "kernelspec": {
   "display_name": "Python 3",
   "language": "python",
   "name": "python3"
  },
  "language_info": {
   "codemirror_mode": {
    "name": "ipython",
    "version": 3
   },
   "file_extension": ".py",
   "mimetype": "text/x-python",
   "name": "python",
   "nbconvert_exporter": "python",
   "pygments_lexer": "ipython3",
   "version": "3.8.3"
  },
  "latex_envs": {
   "LaTeX_envs_menu_present": true,
   "autoclose": false,
   "autocomplete": true,
   "bibliofile": "biblio.bib",
   "cite_by": "apalike",
   "current_citInitial": 1,
   "eqLabelWithNumbers": true,
   "eqNumInitial": 1,
   "hotkeys": {
    "equation": "Ctrl-E",
    "itemize": "Ctrl-I"
   },
   "labels_anchors": false,
   "latex_user_defs": false,
   "report_style_numbering": false,
   "user_envs_cfg": false
  }
 },
 "nbformat": 4,
 "nbformat_minor": 1
}
