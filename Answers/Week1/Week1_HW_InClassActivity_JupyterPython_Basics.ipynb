{
 "cells": [
  {
   "cell_type": "markdown",
   "metadata": {},
   "source": [
    "# Week 1 Homework and/or In-Class Activity\n",
    "## Working with jupyter notebooks and Python fundamentals"
   ]
  },
  {
   "cell_type": "markdown",
   "metadata": {},
   "source": [
    "### In the next cell, do the following:\n",
    "1. Create markdown cell\n",
    "2. Create a level 1 header with the text \"Week 1\" as the header text\n",
    "3. Create a level 2 header with the text \"Learning Jupyter Notebooks and Basic Python\"\n",
    "4. Create a level 3 header with your name as the text\n",
    "5. Run the cell"
   ]
  },
  {
   "cell_type": "markdown",
   "metadata": {},
   "source": [
    "# Week 1\n",
    "## Learning Jupyter Notebooks and Basic Python\n",
    "### Daniel Gibson"
   ]
  },
  {
   "cell_type": "markdown",
   "metadata": {},
   "source": [
    "### In the next cell, do the following:\n",
    "1. Create a comment in a code cell with the text \"this is python\" as the comment\n",
    "2. Write the python code to print the statement \"Hello, buddy!\" "
   ]
  },
  {
   "cell_type": "code",
   "execution_count": 1,
   "metadata": {},
   "outputs": [
    {
     "name": "stdout",
     "output_type": "stream",
     "text": [
      "Hello, buddy!\n"
     ]
    }
   ],
   "source": [
    "#This is pythong\n",
    "print('Hello, buddy!')"
   ]
  },
  {
   "cell_type": "markdown",
   "metadata": {},
   "source": [
    "### In the next cell, do the following:\n",
    "1. Make sure you can see line numbers in the left margin of the cell\n",
    ">- There are several ways you can do this but I'll leave it to you to find one\n",
    "2. Write a comment on line 1 that has the text \"Learning some Python fundamentals\"\n",
    "3. On line 2, write the code to print the string \"Hello\" on line\n",
    "4. On line 4, start a multi-line comment then include the following text on lines 5-7\n",
    ">- Line 5 text: this is the first line of a multi-line paragraph\n",
    ">- Line 6 text: this is the second line of a multi-line paragraph\n",
    ">- Line 7 text: this is the third line of a multi-line paragraph\n",
    "5. On line 8, close the multi-line quote\n",
    "6. Run the cell"
   ]
  },
  {
   "cell_type": "code",
   "execution_count": 2,
   "metadata": {},
   "outputs": [
    {
     "name": "stdout",
     "output_type": "stream",
     "text": [
      "Hello\n"
     ]
    },
    {
     "data": {
      "text/plain": [
       "'\\nThis is the first line of a multi-line paragraph\\nThis is the second line of a multi-line paragraph\\nThis is the third line of a multi-line paragraph\\n'"
      ]
     },
     "execution_count": 2,
     "metadata": {},
     "output_type": "execute_result"
    }
   ],
   "source": [
    "#Learning some Python fundamentals\n",
    "print('Hello')\n",
    "\n",
    "\"\"\"\n",
    "This is the first line of a multi-line paragraph\n",
    "This is the second line of a multi-line paragraph\n",
    "This is the third line of a multi-line paragraph\n",
    "\"\"\""
   ]
  },
  {
   "cell_type": "markdown",
   "metadata": {},
   "source": [
    "### In the next cell, do the following:\n",
    "1. Print the following to the screen\n",
    ">- A blank character\n",
    ">- The text: There's a snake in my boot!"
   ]
  },
  {
   "cell_type": "code",
   "execution_count": 3,
   "metadata": {},
   "outputs": [
    {
     "name": "stdout",
     "output_type": "stream",
     "text": [
      " \n",
      "There's a snake in my boot\n"
     ]
    }
   ],
   "source": [
    "print(' ')\n",
    "print(\"There's a snake in my boot\")"
   ]
  },
  {
   "cell_type": "markdown",
   "metadata": {},
   "source": [
    "### In the next cell, do the following:\n",
    "1. Create a variable, `firstName`, and assign it the value \"John\""
   ]
  },
  {
   "cell_type": "code",
   "execution_count": 5,
   "metadata": {},
   "outputs": [],
   "source": [
    "firstName = \"John\""
   ]
  },
  {
   "cell_type": "markdown",
   "metadata": {},
   "source": [
    "### In the next cell, do the following:\n",
    "1. On line 1, create a variable, `Sport`, and assign it the value \"baseball\"\n",
    "2. On line 2, call the `print()` function and pass the variable `Sport` to it\n",
    "3. On line 3, call the `print()` function and pass the variable `sport` to it"
   ]
  },
  {
   "cell_type": "code",
   "execution_count": 6,
   "metadata": {},
   "outputs": [
    {
     "name": "stdout",
     "output_type": "stream",
     "text": [
      "baseball\n"
     ]
    },
    {
     "ename": "NameError",
     "evalue": "name 'sport' is not defined",
     "output_type": "error",
     "traceback": [
      "\u001b[1;31m---------------------------------------------------------------------------\u001b[0m",
      "\u001b[1;31mNameError\u001b[0m                                 Traceback (most recent call last)",
      "\u001b[1;32m<ipython-input-6-0e0c19a4ae49>\u001b[0m in \u001b[0;36m<module>\u001b[1;34m\u001b[0m\n\u001b[0;32m      1\u001b[0m \u001b[0mSport\u001b[0m \u001b[1;33m=\u001b[0m \u001b[1;34m'baseball'\u001b[0m\u001b[1;33m\u001b[0m\u001b[1;33m\u001b[0m\u001b[0m\n\u001b[0;32m      2\u001b[0m \u001b[0mprint\u001b[0m\u001b[1;33m(\u001b[0m\u001b[0mSport\u001b[0m\u001b[1;33m)\u001b[0m\u001b[1;33m\u001b[0m\u001b[1;33m\u001b[0m\u001b[0m\n\u001b[1;32m----> 3\u001b[1;33m \u001b[0mprint\u001b[0m\u001b[1;33m(\u001b[0m\u001b[0msport\u001b[0m\u001b[1;33m)\u001b[0m\u001b[1;33m\u001b[0m\u001b[1;33m\u001b[0m\u001b[0m\n\u001b[0m",
      "\u001b[1;31mNameError\u001b[0m: name 'sport' is not defined"
     ]
    }
   ],
   "source": [
    "Sport = 'baseball'\n",
    "print(Sport)\n",
    "print(sport)"
   ]
  },
  {
   "cell_type": "markdown",
   "metadata": {},
   "source": [
    "##### Type the error code you received from the previous code cell in this markdown cell, use a bullet point\n",
    "* NameError: name 'sport' is not defined"
   ]
  },
  {
   "cell_type": "markdown",
   "metadata": {},
   "source": [
    "### In the next cell:\n",
    "1. On line 1, define a variable, `num1`, and assign it the integer value 5\n",
    "2. On line 2, define a variable, `num2`, and assign it the float value of 8.4\n",
    "3. On line 3, print `num1` and `num2` in the same print function"
   ]
  },
  {
   "cell_type": "code",
   "execution_count": 8,
   "metadata": {},
   "outputs": [
    {
     "name": "stdout",
     "output_type": "stream",
     "text": [
      "5 ,  8.4\n"
     ]
    }
   ],
   "source": [
    "num1 = 5\n",
    "num2 = 8.4\n",
    "print(num1, ', ', num2)"
   ]
  },
  {
   "cell_type": "markdown",
   "metadata": {},
   "source": [
    "### In the next cell:\n",
    "1. On line 1 type a comment with the text: \"Storing strings into variables\"\n",
    "2. On line 2, create a variable, `name` and assign it the value \"John Smith\"\n",
    "3. On line 3, cretae a variable, `favNum` and assign it the value '9'\n",
    "4. Print `name` and `favNum` using the same call to the print function"
   ]
  },
  {
   "cell_type": "code",
   "execution_count": 11,
   "metadata": {},
   "outputs": [
    {
     "name": "stdout",
     "output_type": "stream",
     "text": [
      "John Smith favorite number is  9\n"
     ]
    }
   ],
   "source": [
    "#Storing strings into variables\n",
    "name = 'John Smith'\n",
    "favNum = 9\n",
    "print(name, 'favorite number is ',favNum)"
   ]
  },
  {
   "cell_type": "markdown",
   "metadata": {},
   "source": [
    "### In the next cell:\n",
    "1. On line 1, create a variable, `result`, that is assigned the sum of `num1` and `num2` using variable names\n",
    "2. Print `result`"
   ]
  },
  {
   "cell_type": "code",
   "execution_count": 18,
   "metadata": {},
   "outputs": [
    {
     "name": "stdout",
     "output_type": "stream",
     "text": [
      "13.4\n"
     ]
    }
   ],
   "source": [
    "result = num1 + num2\n",
    "print(result)"
   ]
  },
  {
   "cell_type": "markdown",
   "metadata": {},
   "source": [
    "### In the next cell:\n",
    "1. Type, result += 1\n",
    "2. Print `result`\n",
    "3. Type, result \\*= num1\n",
    "4. Print `result`"
   ]
  },
  {
   "cell_type": "code",
   "execution_count": 19,
   "metadata": {},
   "outputs": [
    {
     "name": "stdout",
     "output_type": "stream",
     "text": [
      "13.4\n",
      "14.4\n",
      "72.0\n"
     ]
    }
   ],
   "source": [
    "print(result)\n",
    "result += 1 #Code is taking result, and adding 1\n",
    "print(result)\n",
    "result *= num1 #taking new result and times by num1 (5)\n",
    "print(result)"
   ]
  },
  {
   "cell_type": "markdown",
   "metadata": {},
   "source": [
    "##### Now, go back to the prior code cell and write a comment on each line explaining what the code was doing\n",
    ">- What is the current value of result?"
   ]
  },
  {
   "cell_type": "code",
   "execution_count": null,
   "metadata": {},
   "outputs": [],
   "source": [
    "72"
   ]
  },
  {
   "cell_type": "markdown",
   "metadata": {},
   "source": [
    "### In the next cell:\n",
    "1. Define a variable, `name`, and assign it the string value \"John\"\n",
    "2. Print `name`\n",
    "3. Assign the variable, `name` the string value \"Sam\"\n",
    "4. Print `name`"
   ]
  },
  {
   "cell_type": "code",
   "execution_count": 20,
   "metadata": {},
   "outputs": [
    {
     "name": "stdout",
     "output_type": "stream",
     "text": [
      "John\n",
      "Sam\n"
     ]
    }
   ],
   "source": [
    "name = 'John'\n",
    "print(name)\n",
    "name = 'Sam'\n",
    "print(name)"
   ]
  },
  {
   "cell_type": "markdown",
   "metadata": {},
   "source": [
    "##### What is the current value of the `name` variable?\n",
    ">- In the next cell write a multi-line comment explaining your answer. "
   ]
  },
  {
   "cell_type": "code",
   "execution_count": 3,
   "metadata": {},
   "outputs": [],
   "source": [
    "\"\"\"\n",
    "The current value of name is \"sam\", as it was set to that\n",
    "\"\"\""
   ]
  }
 ],
 "metadata": {
  "kernelspec": {
   "display_name": "Python 3",
   "language": "python",
   "name": "python3"
  },
  "language_info": {
   "codemirror_mode": {
    "name": "ipython",
    "version": 3
   },
   "file_extension": ".py",
   "mimetype": "text/x-python",
   "name": "python",
   "nbconvert_exporter": "python",
   "pygments_lexer": "ipython3",
   "version": "3.8.3"
  }
 },
 "nbformat": 4,
 "nbformat_minor": 2
}
