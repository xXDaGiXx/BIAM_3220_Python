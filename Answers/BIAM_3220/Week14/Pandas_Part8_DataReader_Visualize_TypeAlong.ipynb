{
 "cells": [
  {
   "cell_type": "markdown",
   "metadata": {},
   "source": [
    "# `pandas` Part 8: Using `pandas` to Collect and Analyze Web Data\n",
    "### Part(a): Reading, Storing, and Cleaning Financial Web Data\n",
    "### Part(b): Visualizing Data\n",
    "\n",
    "# Learning Objectives\n",
    "\n",
    "## After completing this lesson you will be able to:\n",
    "1. Install a convenient web data collection tool `pandas_datareader`\n",
    "2. Apply pandas to a \"real world\" problem/exercise related to stock analysis\n",
    "3. Scrape/extract data from the web and store in a pandas DataFrame\n",
    "4. Perform descriptive analytics on stock data\n",
    "5. Calculate common stock metrics such returns and moving average\n",
    "6. Visualize data \n",
    " \n",
    "## Modules needed for this lesson \n",
    ">- pandas\n",
    ">- datetime\n",
    ">- pandas_datareader, see notes for installation\n",
    ">- matplotlib\n",
    "\n",
    "\n",
    "## Files Needed and/or Data Sources:\n",
    ">- We will use `pandas_datareader` to extract data from YahooFinance\n",
    "\n",
    "\n",
    "## Initial references for this lesson (more given throughout lesson):\n",
    ">- Lesson Tutorial: https://towardsdatascience.com/in-12-minutes-stocks-analysis-with-pandas-and-scikit-learn-a8d8a7b50ee7\n",
    ">- Pandas Data Reader: https://pandas-datareader.readthedocs.io/en/latest/\n",
    ">- Datetime module: https://docs.python.org/3/library/datetime.html\n",
    ">>- Also see: https://www.w3schools.com/python/python_datetime.asp\n",
    ">- Matplotlib: https://matplotlib.org/tutorials/index.html"
   ]
  },
  {
   "cell_type": "markdown",
   "metadata": {},
   "source": [
    "# Pandas Part 8(a): Reading, Storing and Cleaning Financial Data"
   ]
  },
  {
   "cell_type": "markdown",
   "metadata": {},
   "source": [
    "## Install the `pandas-datareader` module\n",
    "### Several ways to install the pandas datareader module\n",
    "1. `pip install pandas-datareader`\n",
    ">- Mac users would do this in new terminal window\n",
    ">- Windows users would do this in PowerShell\n",
    "2. `conda install pandas-datareader`\n",
    ">- Do conda install if on pc through anaconda powershell\n",
    ">- Open Anaconda PowerShell prompt and type the above comands\n",
    "3. You can also install within a notebook code cell as shown below\n",
    "\n",
    "#### Note: for all of these options restart jupyter notebooks and/or Anaconda for the changes to take place"
   ]
  },
  {
   "cell_type": "markdown",
   "metadata": {},
   "source": [
    "##### One way to install the pandas-datareader module is from within jupyter"
   ]
  },
  {
   "cell_type": "code",
   "execution_count": null,
   "metadata": {},
   "outputs": [],
   "source": [
    "# conda install pandas-datareader"
   ]
  },
  {
   "cell_type": "markdown",
   "metadata": {},
   "source": [
    "## Import Necessary Modules"
   ]
  },
  {
   "cell_type": "markdown",
   "metadata": {},
   "source": [
    "### These are our fundamental modules for working with pandas and reading data from the web"
   ]
  },
  {
   "cell_type": "code",
   "execution_count": 2,
   "metadata": {},
   "outputs": [],
   "source": [
    "import pandas as pd, datetime as dt, pandas_datareader as pdr"
   ]
  },
  {
   "cell_type": "markdown",
   "metadata": {},
   "source": [
    "### The following are needed for the data visualization component of this lesson\n",
    ">- We will be using a popular python data visualization module name, `matplotlib` \n",
    ">- Below is a link for various tutorials on `matplotlib`. A lot of cool stuff here! \n",
    ">>- https://matplotlib.org/tutorials/index.html"
   ]
  },
  {
   "cell_type": "code",
   "execution_count": 3,
   "metadata": {},
   "outputs": [],
   "source": [
    "# The first statement on line 3 allows us to see our graphs in the notebook output\n",
    "\n",
    "%matplotlib inline\n",
    "\n",
    "import matplotlib.pyplot as plt\n",
    "\n",
    "from matplotlib import style #Style lets us customize our charts\n",
    "\n",
    "import matplotlib as mpl"
   ]
  },
  {
   "cell_type": "markdown",
   "metadata": {},
   "source": [
    "## Set up variables to define our start and end dates for stock analysis\n",
    ">- We will look at stock prices over the past 10 years"
   ]
  },
  {
   "cell_type": "code",
   "execution_count": 4,
   "metadata": {},
   "outputs": [],
   "source": [
    "start = dt.datetime(2010,1,1)\n",
    "\n",
    "end = dt.datetime(2020,12,31)"
   ]
  },
  {
   "cell_type": "markdown",
   "metadata": {},
   "source": [
    "## Create a DataFrame by Reading Data from YahooFinance\n",
    ">- To see other data sources check out the following link:\n",
    "https://github.com/wilsonfreitas/awesome-quant#data-sources\n",
    ">- Initially, we will look at all the data but then we will turn our focus to the `Closing Price`\n",
    ">- The first example pulls stock data for Apple with the ticker symbol of `aapl` but any stock including ETFs and Index funds can but used"
   ]
  },
  {
   "cell_type": "code",
   "execution_count": 5,
   "metadata": {},
   "outputs": [],
   "source": [
    "apple = round(pdr.DataReader('aapl','yahoo',start,end),2)"
   ]
  },
  {
   "cell_type": "code",
   "execution_count": 6,
   "metadata": {},
   "outputs": [
    {
     "data": {
      "text/html": [
       "<div>\n",
       "<style scoped>\n",
       "    .dataframe tbody tr th:only-of-type {\n",
       "        vertical-align: middle;\n",
       "    }\n",
       "\n",
       "    .dataframe tbody tr th {\n",
       "        vertical-align: top;\n",
       "    }\n",
       "\n",
       "    .dataframe thead th {\n",
       "        text-align: right;\n",
       "    }\n",
       "</style>\n",
       "<table border=\"1\" class=\"dataframe\">\n",
       "  <thead>\n",
       "    <tr style=\"text-align: right;\">\n",
       "      <th></th>\n",
       "      <th>High</th>\n",
       "      <th>Low</th>\n",
       "      <th>Open</th>\n",
       "      <th>Close</th>\n",
       "      <th>Volume</th>\n",
       "      <th>Adj Close</th>\n",
       "    </tr>\n",
       "    <tr>\n",
       "      <th>Date</th>\n",
       "      <th></th>\n",
       "      <th></th>\n",
       "      <th></th>\n",
       "      <th></th>\n",
       "      <th></th>\n",
       "      <th></th>\n",
       "    </tr>\n",
       "  </thead>\n",
       "  <tbody>\n",
       "    <tr>\n",
       "      <th>2010-01-04</th>\n",
       "      <td>7.66</td>\n",
       "      <td>7.59</td>\n",
       "      <td>7.62</td>\n",
       "      <td>7.64</td>\n",
       "      <td>493729600.0</td>\n",
       "      <td>6.54</td>\n",
       "    </tr>\n",
       "    <tr>\n",
       "      <th>2010-01-05</th>\n",
       "      <td>7.70</td>\n",
       "      <td>7.62</td>\n",
       "      <td>7.66</td>\n",
       "      <td>7.66</td>\n",
       "      <td>601904800.0</td>\n",
       "      <td>6.55</td>\n",
       "    </tr>\n",
       "    <tr>\n",
       "      <th>2010-01-06</th>\n",
       "      <td>7.69</td>\n",
       "      <td>7.53</td>\n",
       "      <td>7.66</td>\n",
       "      <td>7.53</td>\n",
       "      <td>552160000.0</td>\n",
       "      <td>6.45</td>\n",
       "    </tr>\n",
       "    <tr>\n",
       "      <th>2010-01-07</th>\n",
       "      <td>7.57</td>\n",
       "      <td>7.47</td>\n",
       "      <td>7.56</td>\n",
       "      <td>7.52</td>\n",
       "      <td>477131200.0</td>\n",
       "      <td>6.44</td>\n",
       "    </tr>\n",
       "    <tr>\n",
       "      <th>2010-01-08</th>\n",
       "      <td>7.57</td>\n",
       "      <td>7.47</td>\n",
       "      <td>7.51</td>\n",
       "      <td>7.57</td>\n",
       "      <td>447610800.0</td>\n",
       "      <td>6.48</td>\n",
       "    </tr>\n",
       "  </tbody>\n",
       "</table>\n",
       "</div>"
      ],
      "text/plain": [
       "            High   Low  Open  Close       Volume  Adj Close\n",
       "Date                                                       \n",
       "2010-01-04  7.66  7.59  7.62   7.64  493729600.0       6.54\n",
       "2010-01-05  7.70  7.62  7.66   7.66  601904800.0       6.55\n",
       "2010-01-06  7.69  7.53  7.66   7.53  552160000.0       6.45\n",
       "2010-01-07  7.57  7.47  7.56   7.52  477131200.0       6.44\n",
       "2010-01-08  7.57  7.47  7.51   7.57  447610800.0       6.48"
      ]
     },
     "execution_count": 6,
     "metadata": {},
     "output_type": "execute_result"
    }
   ],
   "source": [
    "apple.head()"
   ]
  },
  {
   "cell_type": "code",
   "execution_count": 7,
   "metadata": {},
   "outputs": [
    {
     "data": {
      "text/html": [
       "<div>\n",
       "<style scoped>\n",
       "    .dataframe tbody tr th:only-of-type {\n",
       "        vertical-align: middle;\n",
       "    }\n",
       "\n",
       "    .dataframe tbody tr th {\n",
       "        vertical-align: top;\n",
       "    }\n",
       "\n",
       "    .dataframe thead th {\n",
       "        text-align: right;\n",
       "    }\n",
       "</style>\n",
       "<table border=\"1\" class=\"dataframe\">\n",
       "  <thead>\n",
       "    <tr style=\"text-align: right;\">\n",
       "      <th></th>\n",
       "      <th>High</th>\n",
       "      <th>Low</th>\n",
       "      <th>Open</th>\n",
       "      <th>Close</th>\n",
       "      <th>Volume</th>\n",
       "      <th>Adj Close</th>\n",
       "    </tr>\n",
       "    <tr>\n",
       "      <th>Date</th>\n",
       "      <th></th>\n",
       "      <th></th>\n",
       "      <th></th>\n",
       "      <th></th>\n",
       "      <th></th>\n",
       "      <th></th>\n",
       "    </tr>\n",
       "  </thead>\n",
       "  <tbody>\n",
       "    <tr>\n",
       "      <th>2020-12-07</th>\n",
       "      <td>124.57</td>\n",
       "      <td>122.25</td>\n",
       "      <td>122.31</td>\n",
       "      <td>123.75</td>\n",
       "      <td>86712000.0</td>\n",
       "      <td>123.75</td>\n",
       "    </tr>\n",
       "    <tr>\n",
       "      <th>2020-12-08</th>\n",
       "      <td>124.98</td>\n",
       "      <td>123.09</td>\n",
       "      <td>124.37</td>\n",
       "      <td>124.38</td>\n",
       "      <td>82225500.0</td>\n",
       "      <td>124.38</td>\n",
       "    </tr>\n",
       "    <tr>\n",
       "      <th>2020-12-09</th>\n",
       "      <td>125.95</td>\n",
       "      <td>121.00</td>\n",
       "      <td>124.53</td>\n",
       "      <td>121.78</td>\n",
       "      <td>115089200.0</td>\n",
       "      <td>121.78</td>\n",
       "    </tr>\n",
       "    <tr>\n",
       "      <th>2020-12-10</th>\n",
       "      <td>123.87</td>\n",
       "      <td>120.15</td>\n",
       "      <td>120.50</td>\n",
       "      <td>123.24</td>\n",
       "      <td>81312200.0</td>\n",
       "      <td>123.24</td>\n",
       "    </tr>\n",
       "    <tr>\n",
       "      <th>2020-12-11</th>\n",
       "      <td>122.76</td>\n",
       "      <td>120.55</td>\n",
       "      <td>122.43</td>\n",
       "      <td>122.41</td>\n",
       "      <td>86860000.0</td>\n",
       "      <td>122.41</td>\n",
       "    </tr>\n",
       "  </tbody>\n",
       "</table>\n",
       "</div>"
      ],
      "text/plain": [
       "              High     Low    Open   Close       Volume  Adj Close\n",
       "Date                                                              \n",
       "2020-12-07  124.57  122.25  122.31  123.75   86712000.0     123.75\n",
       "2020-12-08  124.98  123.09  124.37  124.38   82225500.0     124.38\n",
       "2020-12-09  125.95  121.00  124.53  121.78  115089200.0     121.78\n",
       "2020-12-10  123.87  120.15  120.50  123.24   81312200.0     123.24\n",
       "2020-12-11  122.76  120.55  122.43  122.41   86860000.0     122.41"
      ]
     },
     "execution_count": 7,
     "metadata": {},
     "output_type": "execute_result"
    }
   ],
   "source": [
    "apple.tail()"
   ]
  },
  {
   "cell_type": "markdown",
   "metadata": {},
   "source": [
    "## What are the metadata and basic statistics for our DataFrame?\n",
    ">- Note: metadata is data about data (e.g., number of records and fields, data types, primary/foreign keys, etc)\n",
    "\n",
    "### Some Metadata and Descriptive Questions to Answer\n",
    "1. How many days of stock prices do we have in our DataFrame? \n",
    "2. How many fields do we have to work with? \n",
    "3. What kind of data do we have to work with? \n",
    "4. What are the descriptive statistics for all the fields in the DataFrame?\n",
    "5. Then, we will answer some other descriptive analytics questions. "
   ]
  },
  {
   "cell_type": "markdown",
   "metadata": {},
   "source": [
    "##### How many records and fields do we have to work with?\n",
    ">- Note: records in this example represent the number of days of stock data we have"
   ]
  },
  {
   "cell_type": "code",
   "execution_count": 8,
   "metadata": {},
   "outputs": [
    {
     "data": {
      "text/plain": [
       "(2756, 6)"
      ]
     },
     "execution_count": 8,
     "metadata": {},
     "output_type": "execute_result"
    }
   ],
   "source": [
    "apple.shape"
   ]
  },
  {
   "cell_type": "markdown",
   "metadata": {},
   "source": [
    "##### What kind of data do we have to work with?"
   ]
  },
  {
   "cell_type": "code",
   "execution_count": 9,
   "metadata": {},
   "outputs": [
    {
     "data": {
      "text/plain": [
       "High         float64\n",
       "Low          float64\n",
       "Open         float64\n",
       "Close        float64\n",
       "Volume       float64\n",
       "Adj Close    float64\n",
       "dtype: object"
      ]
     },
     "execution_count": 9,
     "metadata": {},
     "output_type": "execute_result"
    }
   ],
   "source": [
    "apple.dtypes"
   ]
  },
  {
   "cell_type": "markdown",
   "metadata": {},
   "source": [
    "##### What are the descriptive statistics on Apple's stock?"
   ]
  },
  {
   "cell_type": "code",
   "execution_count": 10,
   "metadata": {},
   "outputs": [
    {
     "data": {
      "text/html": [
       "<div>\n",
       "<style scoped>\n",
       "    .dataframe tbody tr th:only-of-type {\n",
       "        vertical-align: middle;\n",
       "    }\n",
       "\n",
       "    .dataframe tbody tr th {\n",
       "        vertical-align: top;\n",
       "    }\n",
       "\n",
       "    .dataframe thead th {\n",
       "        text-align: right;\n",
       "    }\n",
       "</style>\n",
       "<table border=\"1\" class=\"dataframe\">\n",
       "  <thead>\n",
       "    <tr style=\"text-align: right;\">\n",
       "      <th></th>\n",
       "      <th>High</th>\n",
       "      <th>Low</th>\n",
       "      <th>Open</th>\n",
       "      <th>Close</th>\n",
       "      <th>Volume</th>\n",
       "      <th>Adj Close</th>\n",
       "    </tr>\n",
       "  </thead>\n",
       "  <tbody>\n",
       "    <tr>\n",
       "      <th>count</th>\n",
       "      <td>2756.00</td>\n",
       "      <td>2756.00</td>\n",
       "      <td>2756.00</td>\n",
       "      <td>2756.00</td>\n",
       "      <td>2.756000e+03</td>\n",
       "      <td>2756.00</td>\n",
       "    </tr>\n",
       "    <tr>\n",
       "      <th>mean</th>\n",
       "      <td>33.65</td>\n",
       "      <td>32.96</td>\n",
       "      <td>33.31</td>\n",
       "      <td>33.32</td>\n",
       "      <td>2.863065e+08</td>\n",
       "      <td>31.45</td>\n",
       "    </tr>\n",
       "    <tr>\n",
       "      <th>std</th>\n",
       "      <td>24.03</td>\n",
       "      <td>23.37</td>\n",
       "      <td>23.70</td>\n",
       "      <td>23.72</td>\n",
       "      <td>2.301148e+08</td>\n",
       "      <td>24.13</td>\n",
       "    </tr>\n",
       "    <tr>\n",
       "      <th>min</th>\n",
       "      <td>7.00</td>\n",
       "      <td>6.79</td>\n",
       "      <td>6.87</td>\n",
       "      <td>6.86</td>\n",
       "      <td>2.019780e+07</td>\n",
       "      <td>5.87</td>\n",
       "    </tr>\n",
       "    <tr>\n",
       "      <th>25%</th>\n",
       "      <td>17.60</td>\n",
       "      <td>17.28</td>\n",
       "      <td>17.45</td>\n",
       "      <td>17.44</td>\n",
       "      <td>1.190794e+08</td>\n",
       "      <td>15.30</td>\n",
       "    </tr>\n",
       "    <tr>\n",
       "      <th>50%</th>\n",
       "      <td>27.19</td>\n",
       "      <td>26.63</td>\n",
       "      <td>26.91</td>\n",
       "      <td>26.92</td>\n",
       "      <td>2.039756e+08</td>\n",
       "      <td>24.70</td>\n",
       "    </tr>\n",
       "    <tr>\n",
       "      <th>75%</th>\n",
       "      <td>43.18</td>\n",
       "      <td>42.43</td>\n",
       "      <td>42.80</td>\n",
       "      <td>42.78</td>\n",
       "      <td>3.903438e+08</td>\n",
       "      <td>41.11</td>\n",
       "    </tr>\n",
       "    <tr>\n",
       "      <th>max</th>\n",
       "      <td>137.98</td>\n",
       "      <td>130.53</td>\n",
       "      <td>137.59</td>\n",
       "      <td>134.18</td>\n",
       "      <td>1.880998e+09</td>\n",
       "      <td>133.95</td>\n",
       "    </tr>\n",
       "  </tbody>\n",
       "</table>\n",
       "</div>"
      ],
      "text/plain": [
       "          High      Low     Open    Close        Volume  Adj Close\n",
       "count  2756.00  2756.00  2756.00  2756.00  2.756000e+03    2756.00\n",
       "mean     33.65    32.96    33.31    33.32  2.863065e+08      31.45\n",
       "std      24.03    23.37    23.70    23.72  2.301148e+08      24.13\n",
       "min       7.00     6.79     6.87     6.86  2.019780e+07       5.87\n",
       "25%      17.60    17.28    17.45    17.44  1.190794e+08      15.30\n",
       "50%      27.19    26.63    26.91    26.92  2.039756e+08      24.70\n",
       "75%      43.18    42.43    42.80    42.78  3.903438e+08      41.11\n",
       "max     137.98   130.53   137.59   134.18  1.880998e+09     133.95"
      ]
     },
     "execution_count": 10,
     "metadata": {},
     "output_type": "execute_result"
    }
   ],
   "source": [
    "round(apple.describe(),2)"
   ]
  },
  {
   "cell_type": "markdown",
   "metadata": {},
   "source": [
    "## Prepare Data: Define New Variables and Create Common Financial Variables"
   ]
  },
  {
   "cell_type": "markdown",
   "metadata": {},
   "source": [
    "### Question: How has Apple's adjusted closing price performed over the last 10 years? \n",
    ">- We have already calculated descriptive statistics for all fields but let's do it just for 'Adj Close'"
   ]
  },
  {
   "cell_type": "markdown",
   "metadata": {},
   "source": [
    "#### Define a variable for adjusted close and run some descriptive stats on it"
   ]
  },
  {
   "cell_type": "code",
   "execution_count": 11,
   "metadata": {},
   "outputs": [],
   "source": [
    "aClose = apple['Adj Close']"
   ]
  },
  {
   "cell_type": "code",
   "execution_count": 12,
   "metadata": {},
   "outputs": [
    {
     "data": {
      "text/plain": [
       "Date\n",
       "2010-01-04    6.54\n",
       "2010-01-05    6.55\n",
       "2010-01-06    6.45\n",
       "2010-01-07    6.44\n",
       "2010-01-08    6.48\n",
       "Name: Adj Close, dtype: float64"
      ]
     },
     "execution_count": 12,
     "metadata": {},
     "output_type": "execute_result"
    }
   ],
   "source": [
    "aClose.head()"
   ]
  },
  {
   "cell_type": "code",
   "execution_count": 13,
   "metadata": {},
   "outputs": [
    {
     "data": {
      "text/plain": [
       "Date\n",
       "2020-12-07    123.75\n",
       "2020-12-08    124.38\n",
       "2020-12-09    121.78\n",
       "2020-12-10    123.24\n",
       "2020-12-11    122.41\n",
       "Name: Adj Close, dtype: float64"
      ]
     },
     "execution_count": 13,
     "metadata": {},
     "output_type": "execute_result"
    }
   ],
   "source": [
    "aClose.tail()"
   ]
  },
  {
   "cell_type": "code",
   "execution_count": 14,
   "metadata": {},
   "outputs": [
    {
     "data": {
      "text/plain": [
       "count    2756.000000\n",
       "mean       31.447097\n",
       "std        24.132862\n",
       "min         5.870000\n",
       "25%        15.305000\n",
       "50%        24.695000\n",
       "75%        41.110000\n",
       "max       133.950000\n",
       "Name: Adj Close, dtype: float64"
      ]
     },
     "execution_count": 14,
     "metadata": {},
     "output_type": "execute_result"
    }
   ],
   "source": [
    "aClose.describe()"
   ]
  },
  {
   "cell_type": "markdown",
   "metadata": {},
   "source": [
    "## Create Variables for Common Financial Metrics"
   ]
  },
  {
   "cell_type": "markdown",
   "metadata": {},
   "source": [
    "### An Important Financial Metric:  Returns\n",
    "\n",
    "Returns: $R_t = (P_t/P_{t-1}) - 1$\n",
    "\n",
    ">- Where, \n",
    ">>- $R_t$ = return at time, t\n",
    ">>- $P_t$ = the price at time, t\n",
    ">>- $P_{t-1}$ is the price at time, t- 1 (the day before in our example)\n"
   ]
  },
  {
   "cell_type": "markdown",
   "metadata": {},
   "source": [
    "#### To calculate daily returns..."
   ]
  },
  {
   "cell_type": "code",
   "execution_count": 15,
   "metadata": {},
   "outputs": [],
   "source": [
    "dayRet = (aClose/aClose.shift(1))-1"
   ]
  },
  {
   "cell_type": "markdown",
   "metadata": {},
   "source": [
    "#### Note: The `shift()` function essentially takes all the data in the original column and moves/shifts it by the number passed to it\n",
    ">- In our example, we used `shift(1)` which takes aclose and shifts all the values 1 day\n",
    "\n",
    "#### To see how `shift()` is working, we can create a DataFrame to store the current day price and a lag (prior day) price"
   ]
  },
  {
   "cell_type": "code",
   "execution_count": 16,
   "metadata": {
    "scrolled": false
   },
   "outputs": [
    {
     "data": {
      "text/html": [
       "<div>\n",
       "<style scoped>\n",
       "    .dataframe tbody tr th:only-of-type {\n",
       "        vertical-align: middle;\n",
       "    }\n",
       "\n",
       "    .dataframe tbody tr th {\n",
       "        vertical-align: top;\n",
       "    }\n",
       "\n",
       "    .dataframe thead th {\n",
       "        text-align: right;\n",
       "    }\n",
       "</style>\n",
       "<table border=\"1\" class=\"dataframe\">\n",
       "  <thead>\n",
       "    <tr style=\"text-align: right;\">\n",
       "      <th></th>\n",
       "      <th>DayPrice</th>\n",
       "      <th>PriorDayPrice</th>\n",
       "      <th>DayRet</th>\n",
       "    </tr>\n",
       "    <tr>\n",
       "      <th>Date</th>\n",
       "      <th></th>\n",
       "      <th></th>\n",
       "      <th></th>\n",
       "    </tr>\n",
       "  </thead>\n",
       "  <tbody>\n",
       "    <tr>\n",
       "      <th>2010-01-04</th>\n",
       "      <td>6.54</td>\n",
       "      <td>NaN</td>\n",
       "      <td>NaN</td>\n",
       "    </tr>\n",
       "    <tr>\n",
       "      <th>2010-01-05</th>\n",
       "      <td>6.55</td>\n",
       "      <td>6.54</td>\n",
       "      <td>0.002</td>\n",
       "    </tr>\n",
       "    <tr>\n",
       "      <th>2010-01-06</th>\n",
       "      <td>6.45</td>\n",
       "      <td>6.55</td>\n",
       "      <td>-0.015</td>\n",
       "    </tr>\n",
       "    <tr>\n",
       "      <th>2010-01-07</th>\n",
       "      <td>6.44</td>\n",
       "      <td>6.45</td>\n",
       "      <td>-0.002</td>\n",
       "    </tr>\n",
       "    <tr>\n",
       "      <th>2010-01-08</th>\n",
       "      <td>6.48</td>\n",
       "      <td>6.44</td>\n",
       "      <td>0.006</td>\n",
       "    </tr>\n",
       "    <tr>\n",
       "      <th>...</th>\n",
       "      <td>...</td>\n",
       "      <td>...</td>\n",
       "      <td>...</td>\n",
       "    </tr>\n",
       "    <tr>\n",
       "      <th>2020-12-07</th>\n",
       "      <td>123.75</td>\n",
       "      <td>122.25</td>\n",
       "      <td>0.012</td>\n",
       "    </tr>\n",
       "    <tr>\n",
       "      <th>2020-12-08</th>\n",
       "      <td>124.38</td>\n",
       "      <td>123.75</td>\n",
       "      <td>0.005</td>\n",
       "    </tr>\n",
       "    <tr>\n",
       "      <th>2020-12-09</th>\n",
       "      <td>121.78</td>\n",
       "      <td>124.38</td>\n",
       "      <td>-0.021</td>\n",
       "    </tr>\n",
       "    <tr>\n",
       "      <th>2020-12-10</th>\n",
       "      <td>123.24</td>\n",
       "      <td>121.78</td>\n",
       "      <td>0.012</td>\n",
       "    </tr>\n",
       "    <tr>\n",
       "      <th>2020-12-11</th>\n",
       "      <td>122.41</td>\n",
       "      <td>123.24</td>\n",
       "      <td>-0.007</td>\n",
       "    </tr>\n",
       "  </tbody>\n",
       "</table>\n",
       "<p>2756 rows × 3 columns</p>\n",
       "</div>"
      ],
      "text/plain": [
       "            DayPrice  PriorDayPrice  DayRet\n",
       "Date                                       \n",
       "2010-01-04      6.54            NaN     NaN\n",
       "2010-01-05      6.55           6.54   0.002\n",
       "2010-01-06      6.45           6.55  -0.015\n",
       "2010-01-07      6.44           6.45  -0.002\n",
       "2010-01-08      6.48           6.44   0.006\n",
       "...              ...            ...     ...\n",
       "2020-12-07    123.75         122.25   0.012\n",
       "2020-12-08    124.38         123.75   0.005\n",
       "2020-12-09    121.78         124.38  -0.021\n",
       "2020-12-10    123.24         121.78   0.012\n",
       "2020-12-11    122.41         123.24  -0.007\n",
       "\n",
       "[2756 rows x 3 columns]"
      ]
     },
     "execution_count": 16,
     "metadata": {},
     "output_type": "execute_result"
    }
   ],
   "source": [
    "aClose_lag1 = pd.DataFrame({'DayPrice':aClose,\n",
    "                           'PriorDayPrice':aClose.shift(1),\n",
    "                           'DayRet':round(dayRet,3),\n",
    "                           },\n",
    "                          index=aClose.index)\n",
    "\n",
    "aClose_lag1"
   ]
  },
  {
   "cell_type": "markdown",
   "metadata": {},
   "source": [
    "#### Note: To get annualized returns you could use `shift(252)` or `shift(253)`\n",
    ">- Most years have 252 or 253 trading days: https://en.wikipedia.org/wiki/Trading_day "
   ]
  },
  {
   "cell_type": "markdown",
   "metadata": {},
   "source": [
    "### Moving average (aka rolling average)\n",
    "\n",
    ">- A moving average is a constantly updated average based on the 'n' past observations where 'n' is user specified. For example if we want the moving average for the past 10 days we would set n=10\n",
    ">- Stock analysts will use moving averages for the past 50, 100, 200, etc\n",
    ">>- We will look at moving averages for 50 and 100 days in this lesson\n",
    ">>- We can use `field.rolling(window='n').mean()` syntax to define moving averages for the past 'n' observations\n",
    ">>- Where:\n",
    ">>>- `field` is a numeric value you want to calculate a rolling mean for\n",
    ">>>- `n` is the number of periods you want to use to calculate the rolling mean"
   ]
  },
  {
   "cell_type": "markdown",
   "metadata": {},
   "source": [
    "#### Define closing price moving averages for `50` and `100` days"
   ]
  },
  {
   "cell_type": "code",
   "execution_count": 17,
   "metadata": {},
   "outputs": [],
   "source": [
    "mAvg50 = aClose.rolling(window=50).mean()\n",
    "\n",
    "mAvg100 = aClose.rolling(window=100).mean()"
   ]
  },
  {
   "cell_type": "code",
   "execution_count": 18,
   "metadata": {},
   "outputs": [
    {
     "data": {
      "text/plain": [
       "Date\n",
       "2020-12-07    117.0284\n",
       "2020-12-08    117.2208\n",
       "2020-12-09    117.3786\n",
       "2020-12-10    117.5312\n",
       "2020-12-11    117.6476\n",
       "Name: Adj Close, dtype: float64"
      ]
     },
     "execution_count": 18,
     "metadata": {},
     "output_type": "execute_result"
    }
   ],
   "source": [
    "mAvg50.tail()"
   ]
  },
  {
   "cell_type": "markdown",
   "metadata": {},
   "source": [
    "### Now, let's answer some descriptive analytics questions"
   ]
  },
  {
   "cell_type": "markdown",
   "metadata": {},
   "source": [
    "##### What was the adjusted closing price one year ago (Nov 12th, 2019)?\n",
    ">- Note: If you are getting these notes at a different time update the date accordingly"
   ]
  },
  {
   "cell_type": "code",
   "execution_count": 19,
   "metadata": {},
   "outputs": [
    {
     "data": {
      "text/plain": [
       "65.47"
      ]
     },
     "execution_count": 19,
     "metadata": {},
     "output_type": "execute_result"
    }
   ],
   "source": [
    "aClose['11-19-2019']\n",
    "# aClose[aClose.index=='11-19-2019']"
   ]
  },
  {
   "cell_type": "code",
   "execution_count": 20,
   "metadata": {},
   "outputs": [
    {
     "data": {
      "text/plain": [
       "Date\n",
       "2019-11-19    65.47\n",
       "Name: Adj Close, dtype: float64"
      ]
     },
     "execution_count": 20,
     "metadata": {},
     "output_type": "execute_result"
    }
   ],
   "source": [
    "# Another way...\n",
    "\n",
    "aClose.loc[aClose.index=='11-19-2019']"
   ]
  },
  {
   "cell_type": "markdown",
   "metadata": {},
   "source": [
    "##### On what date(s) did the maximum adjusted price occur? \n",
    ">- What was the price?"
   ]
  },
  {
   "cell_type": "code",
   "execution_count": 21,
   "metadata": {},
   "outputs": [
    {
     "data": {
      "text/plain": [
       "Date\n",
       "2020-09-01    133.95\n",
       "Name: Adj Close, dtype: float64"
      ]
     },
     "execution_count": 21,
     "metadata": {},
     "output_type": "execute_result"
    }
   ],
   "source": [
    "# aClose.loc[aClose == max(aClose)]\n",
    "aClose[aClose == max(aClose)]"
   ]
  },
  {
   "cell_type": "markdown",
   "metadata": {},
   "source": [
    "##### On what date(s) did the minimum price occur? \n",
    ">- What was the price?"
   ]
  },
  {
   "cell_type": "code",
   "execution_count": 22,
   "metadata": {},
   "outputs": [
    {
     "data": {
      "text/plain": [
       "Date\n",
       "2010-01-29    5.87\n",
       "2010-02-04    5.87\n",
       "Name: Adj Close, dtype: float64"
      ]
     },
     "execution_count": 22,
     "metadata": {},
     "output_type": "execute_result"
    }
   ],
   "source": [
    "aClose.loc[aClose == min(aClose)]"
   ]
  },
  {
   "cell_type": "markdown",
   "metadata": {},
   "source": [
    "##### How many days was the closing price above a $50?\n",
    ">- Several ways to get this answer"
   ]
  },
  {
   "cell_type": "code",
   "execution_count": 23,
   "metadata": {},
   "outputs": [
    {
     "data": {
      "text/plain": [
       "417"
      ]
     },
     "execution_count": 23,
     "metadata": {},
     "output_type": "execute_result"
    }
   ],
   "source": [
    "# aClose[aClose > 50].count()\n",
    "aClose.loc[aClose>50].count()"
   ]
  },
  {
   "cell_type": "code",
   "execution_count": 24,
   "metadata": {},
   "outputs": [
    {
     "data": {
      "text/plain": [
       "417"
      ]
     },
     "execution_count": 24,
     "metadata": {},
     "output_type": "execute_result"
    }
   ],
   "source": [
    "aClose.where(aClose>50).dropna().count()"
   ]
  },
  {
   "cell_type": "markdown",
   "metadata": {},
   "source": [
    "##### What were the 2020 daily adjusted closing prices in the month of October (usually around the time Apple releases a new iPhone)? \n",
    ">- Several ways to do this. We will look at a couple."
   ]
  },
  {
   "cell_type": "markdown",
   "metadata": {},
   "source": [
    "#### First, using date methods on the index (date)"
   ]
  },
  {
   "cell_type": "code",
   "execution_count": 25,
   "metadata": {},
   "outputs": [
    {
     "data": {
      "text/plain": [
       "Date\n",
       "2010-10-01      8.63\n",
       "2010-10-04      8.51\n",
       "2010-10-05      8.83\n",
       "2010-10-06      8.84\n",
       "2010-10-07      8.84\n",
       "               ...  \n",
       "2020-10-26    114.85\n",
       "2020-10-27    116.40\n",
       "2020-10-28    111.01\n",
       "2020-10-29    115.12\n",
       "2020-10-30    108.67\n",
       "Name: Adj Close, Length: 242, dtype: float64"
      ]
     },
     "execution_count": 25,
     "metadata": {},
     "output_type": "execute_result"
    }
   ],
   "source": [
    "# This will give all Octobers in the dataframe\n",
    "\n",
    "aClose.loc[aClose.index.month==10]"
   ]
  },
  {
   "cell_type": "code",
   "execution_count": 26,
   "metadata": {},
   "outputs": [
    {
     "data": {
      "text/plain": [
       "Date\n",
       "2020-10-01    116.59\n",
       "2020-10-02    112.83\n",
       "2020-10-05    116.30\n",
       "2020-10-06    112.97\n",
       "2020-10-07    114.88\n",
       "2020-10-08    114.77\n",
       "2020-10-09    116.77\n",
       "2020-10-12    124.19\n",
       "2020-10-13    120.89\n",
       "2020-10-14    120.98\n",
       "2020-10-15    120.50\n",
       "2020-10-16    118.82\n",
       "2020-10-19    115.78\n",
       "2020-10-20    117.31\n",
       "2020-10-21    116.67\n",
       "2020-10-22    115.55\n",
       "2020-10-23    114.84\n",
       "2020-10-26    114.85\n",
       "2020-10-27    116.40\n",
       "2020-10-28    111.01\n",
       "2020-10-29    115.12\n",
       "2020-10-30    108.67\n",
       "Name: Adj Close, dtype: float64"
      ]
     },
     "execution_count": 26,
     "metadata": {},
     "output_type": "execute_result"
    }
   ],
   "source": [
    "# This will give oct 2020\n",
    "\n",
    "\n",
    "aClose.loc[(aClose.index.month==10) & (aClose.index.year==2020)]\n",
    "\n",
    "# aClose[(aClose.index.month==10) & (aClose.index.year==2020)]"
   ]
  },
  {
   "cell_type": "markdown",
   "metadata": {},
   "source": [
    "#### Using a slice on the index"
   ]
  },
  {
   "cell_type": "code",
   "execution_count": 27,
   "metadata": {},
   "outputs": [
    {
     "data": {
      "text/plain": [
       "Date\n",
       "2020-10-01    116.59\n",
       "2020-10-02    112.83\n",
       "2020-10-05    116.30\n",
       "2020-10-06    112.97\n",
       "2020-10-07    114.88\n",
       "2020-10-08    114.77\n",
       "2020-10-09    116.77\n",
       "2020-10-12    124.19\n",
       "2020-10-13    120.89\n",
       "2020-10-14    120.98\n",
       "2020-10-15    120.50\n",
       "2020-10-16    118.82\n",
       "2020-10-19    115.78\n",
       "2020-10-20    117.31\n",
       "2020-10-21    116.67\n",
       "2020-10-22    115.55\n",
       "2020-10-23    114.84\n",
       "2020-10-26    114.85\n",
       "2020-10-27    116.40\n",
       "2020-10-28    111.01\n",
       "2020-10-29    115.12\n",
       "2020-10-30    108.67\n",
       "Name: Adj Close, dtype: float64"
      ]
     },
     "execution_count": 27,
     "metadata": {},
     "output_type": "execute_result"
    }
   ],
   "source": [
    "aClose['10-1-20':'10-31-20']"
   ]
  },
  {
   "cell_type": "markdown",
   "metadata": {},
   "source": [
    "## Pandas Part(b): Visualize\n",
    ">- Visualizing data is a fundamental part of any analytics project\n",
    ">- Data visualization can provide support for both descriptive and predictive analytics\n",
    ">- Graphs can \"speak a thousand words\" and can be effectively used on Executive Summaries to convey powerful information to decision makers"
   ]
  },
  {
   "cell_type": "markdown",
   "metadata": {},
   "source": [
    "### Plot a time series chart of the `close` price over the last 10 years\n",
    ">- We will be using the `plot()` function from `matplotlib`. More info can be found at the below link:\n",
    ">>- https://matplotlib.org/3.1.1/api/_as_gen/matplotlib.pyplot.plot.html\n",
    ">- We will also use a popular graphical styling module called `ggplot` = \"grammer of graphics\"\n",
    ">>- ggplot reference:  https://github.com/yhat/ggpy"
   ]
  },
  {
   "cell_type": "code",
   "execution_count": 28,
   "metadata": {},
   "outputs": [
    {
     "data": {
      "image/png": "[encoded data removed]",
      "text/plain": [
       "<Figure size 576x504 with 1 Axes>"
      ]
     },
     "metadata": {},
     "output_type": "display_data"
    }
   ],
   "source": [
    "style.use('ggplot')\n",
    "\n",
    "# The following sets the size of the figure\n",
    "\n",
    "mpl.rc('figure',figsize=(8,7))\n",
    "\n",
    "# Then the next line uses plot to produce a line plot\n",
    "\n",
    "aClose.plot(label='aapl')\n",
    "\n",
    "# Then the next line shows the legend on the chart\n",
    "\n",
    "plt.legend()\n",
    "plt.show()"
   ]
  },
  {
   "cell_type": "markdown",
   "metadata": {},
   "source": [
    "#### Let's adjust some features of our graph\n",
    ">- With `figsize(width,height)` we can adjust the width and height of our chart\n",
    ">- With `plt.style.use(['dark_background`]) we can make the background black instead of the default white.\n",
    ">- The link below provides more documentation on the different ways you can customize your charts:\n",
    ">>- https://matplotlib.org/3.1.1/tutorials/introductory/customizing.html"
   ]
  },
  {
   "cell_type": "code",
   "execution_count": 29,
   "metadata": {},
   "outputs": [
    {
     "data": {
      "image/png": "[encoded data removed]",
      "text/plain": [
       "<Figure size 1080x360 with 1 Axes>"
      ]
     },
     "metadata": {},
     "output_type": "display_data"
    }
   ],
   "source": [
    "style.use('ggplot')\n",
    "\n",
    "plt.style.use(['dark_background'])\n",
    "\n",
    "mpl.rc('figure',figsize=(15,5))\n",
    "\n",
    "aClose.plot(label='aapl',color='b')\n",
    "\n",
    "plt.show()"
   ]
  },
  {
   "cell_type": "markdown",
   "metadata": {},
   "source": [
    "### Now, plot the moving averages with the close price\n",
    ">- Stock analysts look at charts like this to help them decide when to buy and sell"
   ]
  },
  {
   "cell_type": "code",
   "execution_count": 30,
   "metadata": {
    "scrolled": true
   },
   "outputs": [
    {
     "data": {
      "image/png": "[encoded data removed]",
      "text/plain": [
       "<Figure size 1080x360 with 1 Axes>"
      ]
     },
     "metadata": {},
     "output_type": "display_data"
    }
   ],
   "source": [
    "# Set plot options\n",
    "\n",
    "style.use('ggplot')\n",
    "\n",
    "plt.style.use(['dark_background'])\n",
    "\n",
    "mpl.rc('figure',figsize=(15,5))\n",
    "\n",
    "mpl.rc('lines',linewidth=2)\n",
    "\n",
    "# Now each call to the plot method plots a series on the same chart\n",
    "\n",
    "aClose.plot(label='appl',color='w')\n",
    "\n",
    "mAvg50.plot(label='mAvg50',color='y')\n",
    "\n",
    "mAvg100.plot(label='mAvg100',color='r')\n",
    "\n",
    "plt.legend()\n",
    "\n",
    "plt.show()"
   ]
  },
  {
   "cell_type": "markdown",
   "metadata": {},
   "source": [
    "## Plotting Returns with the default `plot()` which is a line plot"
   ]
  },
  {
   "cell_type": "code",
   "execution_count": 31,
   "metadata": {},
   "outputs": [
    {
     "data": {
      "image/png": "[encoded data removed]",
      "text/plain": [
       "<Figure size 1080x720 with 1 Axes>"
      ]
     },
     "metadata": {},
     "output_type": "display_data"
    }
   ],
   "source": [
    "# Set the plot options\n",
    "\n",
    "style.use('ggplot')\n",
    "mpl.rc('figure',figsize=(15,10))\n",
    "mpl.rc('lines',linewidth=1)\n",
    "\n",
    "# Call the plot method on your series\n",
    "\n",
    "dayRet.plot(label='Daily Returns')\n",
    "plt.show()"
   ]
  },
  {
   "cell_type": "markdown",
   "metadata": {},
   "source": [
    "## Plotting a boxplot for a summary chart on returns\n",
    "### Boxplots show us:\n",
    ">- Mean, Median, 1st and 3rd quartiles, minimum and maximum values\n",
    ">>- Reference: https://matplotlib.org/api/_as_gen/matplotlib.pyplot.boxplot.html#matplotlib.pyplot.boxplot"
   ]
  },
  {
   "cell_type": "code",
   "execution_count": 32,
   "metadata": {},
   "outputs": [
    {
     "data": {
      "image/png": "[encoded data removed]",
      "text/plain": [
       "<Figure size 1440x720 with 1 Axes>"
      ]
     },
     "metadata": {},
     "output_type": "display_data"
    }
   ],
   "source": [
    "# Set your options\n",
    "\n",
    "style.use('ggplot')\n",
    "mpl.rc('figure',figsize=(20,10))\n",
    "mpl.rc('lines',linewidth=2)\n",
    "\n",
    "# Call the plot method on the series\n",
    "# Passing kind='box' will create a boxplot\n",
    "\n",
    "dayRet.plot(kind='box', showmeans=True, vert=False, label='Returns')\n",
    "plt.show()"
   ]
  }
 ],
 "metadata": {
  "kernelspec": {
   "display_name": "Python 3",
   "language": "python",
   "name": "python3"
  },
  "language_info": {
   "codemirror_mode": {
    "name": "ipython",
    "version": 3
   },
   "file_extension": ".py",
   "mimetype": "text/x-python",
   "name": "python",
   "nbconvert_exporter": "python",
   "pygments_lexer": "ipython3",
   "version": "3.8.3"
  },
  "latex_envs": {
   "LaTeX_envs_menu_present": true,
   "autoclose": false,
   "autocomplete": true,
   "bibliofile": "biblio.bib",
   "cite_by": "apalike",
   "current_citInitial": 1,
   "eqLabelWithNumbers": true,
   "eqNumInitial": 1,
   "hotkeys": {
    "equation": "Ctrl-E",
    "itemize": "Ctrl-I"
   },
   "labels_anchors": false,
   "latex_user_defs": false,
   "report_style_numbering": false,
   "user_envs_cfg": false
  }
 },
 "nbformat": 4,
 "nbformat_minor": 2
}
