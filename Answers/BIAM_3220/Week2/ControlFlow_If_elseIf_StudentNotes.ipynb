{
 "cells": [
  {
   "cell_type": "markdown",
   "metadata": {},
   "source": [
    "# Python Flow Control 1: `if`, `elif`, `else`\n",
    "## Student Notes\n",
    "***\n",
    "## Learning Objectives\n",
    "In this lesson you will learn: \n",
    "        1. Understand elements of flow control\n",
    "        2. Apply the: if, else , and elif statements in Python code \n",
    "               \n",
    "## Modules covered in this lesson: \n",
    ">- none\n",
    "## Links to topics and functions:\n",
    ">- <a id='ContFlow'></a>[Flow Control Statements](#Flow-Control-Statements)\n",
    ">- <a id='CompOps'></a>[if statement](#if-statement)\n",
    ">- <a id='else'></a>[else statement](#else-statement)\n",
    ">- <a id='elif'></a>[elif statement](#elif-statement)\n",
    ">- <a id='Homework'></a> [Homework](#Exercises-to-complete-on-your-own:) \n",
    "\n",
    "### References: Sweigart(2015, pp. 37-43)\n",
    "\n",
    "### Handy Tool: pythontutor Visualize: http://pythontutor.com/visualize.html#mode=edit"
   ]
  },
  {
   "cell_type": "markdown",
   "metadata": {
    "slideshow": {
     "slide_type": "slide"
    }
   },
   "source": [
    "# Flow Control Statements\n",
    "\n",
    ">- Flow control statements allow us to tell our program how to make decisions\n",
    ">- Flow control statements usually start with a *condition* and are followed by a block of code known as the *clause*.\n",
    "\n",
    "Some notes on *conditions*: \n",
    "\n",
    "1. *Conditions* are a specific name for expressions in a flow control statment\n",
    "2. *Conditions* will always evaluate down to a Boolean value, `True` or `False`\n",
    "3. The flow control statement makes decisions based on the value of the *condition*\n",
    "\n",
    "Some notes on *Blocks* of code in Python\n",
    "\n",
    "1. Blocks begin when the indention increases\n",
    "2. Blocks can contain other blocks (blocks nested within blocks)\n",
    "3. Blocks end when the indention decreases to zero or to a containing block's indention\n",
    "\n",
    "Let's work through some examples to get familiar with flow control statements."
   ]
  },
  {
   "cell_type": "code",
   "execution_count": 3,
   "metadata": {
    "slideshow": {
     "slide_type": "slide"
    }
   },
   "outputs": [
    {
     "name": "stdout",
     "output_type": "stream",
     "text": [
      "Hi Ralphie\n",
      "Go Buffs\n"
     ]
    }
   ],
   "source": [
    "name = 'Ralphie'\n",
    "\n",
    "password = 'Buffs'\n",
    "\n",
    "if name == 'Ralphie':\n",
    "    \n",
    "    print('Hi Ralphie') #this block 1, 1 tab over\n",
    "    \n",
    "    if password == 'Buffs': #still in block 1\n",
    "        \n",
    "        print('Go Buffs')  # this is block 2, two tabs over\n",
    "        \n",
    "    else:                 #This is block 1, block 2 has ended\n",
    "        \n",
    "        print('You are not a Buff!') #Block 3"
   ]
  },
  {
   "cell_type": "markdown",
   "metadata": {},
   "source": [
    "#### What are the blocks of code in the previous cell?\n",
    " 1. The first block starts at print('Hi Ralphie') and includes all the lines after it. \n",
    "     >- Why all the lines after? Because the indention never goes back to zero. Just follow the vertical line down from it. \n",
    " 2. The second block starts at print('Go Buffs!') and only has this line because the next line goes back to the indention of the first block\n",
    " 3. The third block starts and ends with print('You are not a Buff!')\n",
    " \n",
    "Note: Blocks 2 and 3 are contained within block 1 so they end when the indention aligns back with the first line in block 1. "
   ]
  },
  {
   "cell_type": "markdown",
   "metadata": {},
   "source": [
    "# `if` statement\n",
    ">- Most common type of flow control statement\n",
    ">- The block of code following the `if` statement will execute if the statement's condition is True\n",
    ">- The block of code following the `if` statement will be skipped if the statement's condition is False\n",
    "\n",
    "## The components of an `if` statement\n",
    "1. The `if` keyword\n",
    "2. A condition that evaluates to one of the two Boolean data values: True or False\n",
    "3. A colon `:`\n",
    "4. After 1-3 and starting on a new line, an indented block of code\n",
    "    >-Note: this block of code is known as the *if clause*\n",
    "    "
   ]
  },
  {
   "cell_type": "markdown",
   "metadata": {},
   "source": [
    "## Example 1: basic `if` statement \n",
    "### Task: create a program to ask a user for their age and if their age is less than or equal to 50 print \"You aren't that old yet\" to the screen."
   ]
  },
  {
   "cell_type": "code",
   "execution_count": 7,
   "metadata": {},
   "outputs": [
    {
     "name": "stdout",
     "output_type": "stream",
     "text": [
      "What is your age? 20\n",
      "You aren't that old yet\n"
     ]
    }
   ],
   "source": [
    "age = int(input('What is your age? '))\n",
    "if age <= 50:\n",
    "    print(\"You aren't that old yet\")\n",
    "    "
   ]
  },
  {
   "cell_type": "markdown",
   "metadata": {},
   "source": [
    "## But what if they are older than 50? Should we just not print anything? \n",
    "### We need another statement here to keep building our age program. "
   ]
  },
  {
   "cell_type": "markdown",
   "metadata": {},
   "source": [
    "# `else` statement\n",
    ">- The `else` clause will only execute if the `if` statement's condition is False. \n",
    ">- The `else` statement will always consist of:\n",
    "1. The `else` keyword\n",
    "2. A colon\n",
    "3. After 1-2, starting on the next line, an indented block of code."
   ]
  },
  {
   "cell_type": "markdown",
   "metadata": {},
   "source": [
    "## Ex1 Continued with the `else` statement: \n",
    "\n",
    "### Task: build off the age program and add a print statement for people over 50 that will print \"You are starting to get up there...yikes\""
   ]
  },
  {
   "cell_type": "code",
   "execution_count": 14,
   "metadata": {},
   "outputs": [
    {
     "name": "stdout",
     "output_type": "stream",
     "text": [
      "What is your age? 55\n",
      "You are starting to get up there... yikes\n"
     ]
    }
   ],
   "source": [
    "age = int(input('What is your age? '))\n",
    "if age <= 50:\n",
    "    print(\"You aren't that old yet\")\n",
    "else:\n",
    "    print('You are starting to get up there... yikes')"
   ]
  },
  {
   "cell_type": "markdown",
   "metadata": {},
   "source": [
    "## What if we want to check more than one condition? "
   ]
  },
  {
   "cell_type": "markdown",
   "metadata": {},
   "source": [
    "# `elif` statement\n",
    ">- Use the `elif` (else if) statement when we want one of many possible clauses to execute. \n",
    ">- The `elif` will always follow an `if` or another `elif` statement\n",
    ">- The `elif` statements in your program will only execute if all the preceding conditions were False. \n",
    ">- The `elif` statement always consists of:\n",
    "\n",
    "1. The `elif` keyword\n",
    "2. A condition that evaluates to one of the two Boolean values, True or False\n",
    "3. A colon\n",
    "4. After 1-3, starting on the next line, an indented block of code\n"
   ]
  },
  {
   "cell_type": "markdown",
   "metadata": {},
   "source": [
    "## Ex1 continued with the `elif` statement: \n",
    "\n",
    "### Task: build off of the initial age program but add new age conditions that will print \"You are starting to get up there\" if a person enters an age between 50 and 75 and will print \"Don't worry, people are living longer these days if they input an age 75 or older. "
   ]
  },
  {
   "cell_type": "code",
   "execution_count": null,
   "metadata": {},
   "outputs": [],
   "source": [
    "age = int(input('What is your age? '))\n",
    "if age <= 50:\n",
    "    print(\"You aren't that old yet\")\n",
    "elif age > 50 and age <75:\n",
    "    print('You are starting to get up there')\n",
    "elif age >= 75:\n",
    "    print(\"Don't worry, people are living longer these days\")"
   ]
  },
  {
   "cell_type": "markdown",
   "metadata": {},
   "source": [
    "# Understanding the Code\n",
    ">- Let's add some new conditions using the `elif` to our age program\n",
    ">- Use Python Tutor - visualize to see how the code executes: http://pythontutor.com/visualize.html#mode=edit"
   ]
  },
  {
   "cell_type": "code",
   "execution_count": 12,
   "metadata": {},
   "outputs": [
    {
     "name": "stdout",
     "output_type": "stream",
     "text": [
      "What is your age? 100\n",
      "Don't worry, people are living longer these days\n"
     ]
    }
   ],
   "source": [
    "# In this ex, rerun code using these ages; 50, 40, 55, 105, 20\n",
    "age = int(input('What is your age? '))\n",
    "if age <= 50 and age > 21:\n",
    "    print(\"You aren't that old yet\")\n",
    "elif age > 50 and age < 75:\n",
    "    print(\"You are starting to get up there\")\n",
    "elif age >= 75 and age <= 100:\n",
    "    print(\"Don't worry, people are living longer these days\")\n",
    "elif age < 21:\n",
    "    print(\"You can't legally drink alcohol yet\")\n",
    "elif age > 100:\n",
    "    print(\"Wow, you must have some good genes!\")"
   ]
  },
  {
   "cell_type": "markdown",
   "metadata": {},
   "source": [
    "### Understanding the code in the previous cell\n",
    ">- Q: What was printed for each of the possible ages? \n",
    ">>- 50: \"You aren't that old yet\"\n",
    ">>- 40: \"You aren't that old yet\"\n",
    ">>- 55: \"You are starting to get up there\"\n",
    ">>- 105: \"Don't worry, people are living longer these days\"\n",
    ">>- 20: \"You aren't that old yet\"\n",
    ">- Q: Why didn't the last two `elif` statements ever execute? \n",
    "  >- A: because in our code, the last two `elif` statements would never execute because a True value would have occured prior to them"
   ]
  },
  {
   "cell_type": "markdown",
   "metadata": {},
   "source": [
    "### Notes on `if`, `elif`, `else` \n",
    ">- Say what is going on out loud (or in your head)\n",
    ">>- \"If the first condition is true, do this. Else, if the second condition is true, do that. etc, etc\n",
    ">- There will be exactly one `if` statement\n",
    ">- Any `elif` statements you need should follow the `if` statement\n",
    ">- The order matters. Be careful how you set up your conditions. \n",
    ">>- The other `elif` clauses are skipped as soon as a `True` condition has been found.\n",
    ">- If you want to guarantee at least one of your clauses will execute include the `else` statement"
   ]
  },
  {
   "cell_type": "markdown",
   "metadata": {},
   "source": [
    "# Exercises to complete on your own:\n",
    "1.  Rewrite the last version of our age program so that a different message will be printed for each of the age inputs we tried. "
   ]
  },
  {
   "cell_type": "code",
   "execution_count": null,
   "metadata": {},
   "outputs": [],
   "source": []
  },
  {
   "cell_type": "code",
   "execution_count": null,
   "metadata": {},
   "outputs": [],
   "source": []
  }
 ],
 "metadata": {
  "kernelspec": {
   "display_name": "Python 3",
   "language": "python",
   "name": "python3"
  },
  "language_info": {
   "codemirror_mode": {
    "name": "ipython",
    "version": 3
   },
   "file_extension": ".py",
   "mimetype": "text/x-python",
   "name": "python",
   "nbconvert_exporter": "python",
   "pygments_lexer": "ipython3",
   "version": "3.8.3"
  }
 },
 "nbformat": 4,
 "nbformat_minor": 4
}
