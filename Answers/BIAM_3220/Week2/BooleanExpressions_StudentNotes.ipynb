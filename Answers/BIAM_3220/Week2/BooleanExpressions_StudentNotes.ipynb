{
 "cells": [
  {
   "cell_type": "markdown",
   "metadata": {},
   "source": [
    "# Python Boolean Expressions\n",
    "## Student Notes\n",
    "***\n",
    "## Learning Objectives\n",
    ">- In this lesson, we will learn:\n",
    "        1. Define the Boolean data type\n",
    "        2. Apply and define comparison opperatorss \n",
    "        3. Apply and define Boolean operators \n",
    "      \n",
    "## Modules covered in this lesson: \n",
    ">- none\n",
    "\n",
    "## Links to topics and functions:\n",
    ">- `Boolean Values` <a id='BooleanValues'></a>\n",
    "[Boolean Values](#Boolean-Values)\n",
    "\n",
    ">- `Comparison Operators` <a id='CompOps'></a>\n",
    "[Comparison Operators](#Comparison-Operators)\n",
    "\n",
    ">- `Boolean Operators` <a id='BoolOps'></a> [Boolean_Operators](#Boolean-Operators)\n",
    "\n",
    ">- `Homework` <a id='Homework'></a> [Homework](#Exercises-to-complete-on-your-own:) \n",
    "\n",
    "### Path to main python folder: C:\\\\Users\\\\mimc2537\\OneDrive - UCB-O365\\python\\week3\n",
    "#### References: Sweigart(2015, pp. 31-36)"
   ]
  },
  {
   "cell_type": "markdown",
   "metadata": {},
   "source": [
    "# Boolean Values\n",
    "\n",
    ">- The Boolean data type has two possible values intended to to represent the two truth values of logic and Boolean Algebra.\n",
    ">- The Boolean data type has the values `True` and `False`\n",
    "\n",
    "Some notes on Boolean values: \n",
    "\n",
    "1. `True` and `False` will have capitals to start the values (`T` or `F`)\n",
    "2. When typed as Python code, the Boolean values will not have quotes around them\n",
    "3. We cannot name a variable using one of the two values of a Boolean data type\n",
    "\n",
    "Let's work through some examples to get familiar with the Boolean data type\n",
    "\n",
    "<a id='Top'></a>[Top of Page](#Python-Boolean-Expressions)"
   ]
  },
  {
   "cell_type": "code",
   "execution_count": 2,
   "metadata": {},
   "outputs": [],
   "source": [
    "var1 = True"
   ]
  },
  {
   "cell_type": "code",
   "execution_count": 3,
   "metadata": {},
   "outputs": [
    {
     "data": {
      "text/plain": [
       "True"
      ]
     },
     "execution_count": 3,
     "metadata": {},
     "output_type": "execute_result"
    }
   ],
   "source": [
    "var1"
   ]
  },
  {
   "cell_type": "code",
   "execution_count": 4,
   "metadata": {},
   "outputs": [
    {
     "data": {
      "text/plain": [
       "True"
      ]
     },
     "execution_count": 4,
     "metadata": {},
     "output_type": "execute_result"
    }
   ],
   "source": [
    "True"
   ]
  },
  {
   "cell_type": "code",
   "execution_count": 5,
   "metadata": {},
   "outputs": [
    {
     "data": {
      "text/plain": [
       "False"
      ]
     },
     "execution_count": 5,
     "metadata": {},
     "output_type": "execute_result"
    }
   ],
   "source": [
    "False"
   ]
  },
  {
   "cell_type": "code",
   "execution_count": 6,
   "metadata": {},
   "outputs": [
    {
     "ename": "NameError",
     "evalue": "name 'true' is not defined",
     "output_type": "error",
     "traceback": [
      "\u001b[1;31m---------------------------------------------------------------------------\u001b[0m",
      "\u001b[1;31mNameError\u001b[0m                                 Traceback (most recent call last)",
      "\u001b[1;32m<ipython-input-6-724ba28f4a9a>\u001b[0m in \u001b[0;36m<module>\u001b[1;34m\u001b[0m\n\u001b[1;32m----> 1\u001b[1;33m \u001b[0mtrue\u001b[0m\u001b[1;33m\u001b[0m\u001b[1;33m\u001b[0m\u001b[0m\n\u001b[0m",
      "\u001b[1;31mNameError\u001b[0m: name 'true' is not defined"
     ]
    }
   ],
   "source": [
    "true"
   ]
  },
  {
   "cell_type": "code",
   "execution_count": 7,
   "metadata": {},
   "outputs": [
    {
     "ename": "SyntaxError",
     "evalue": "cannot assign to True (<ipython-input-7-a221ff774361>, line 3)",
     "output_type": "error",
     "traceback": [
      "\u001b[1;36m  File \u001b[1;32m\"<ipython-input-7-a221ff774361>\"\u001b[1;36m, line \u001b[1;32m3\u001b[0m\n\u001b[1;33m    True = 10 + 5\u001b[0m\n\u001b[1;37m    ^\u001b[0m\n\u001b[1;31mSyntaxError\u001b[0m\u001b[1;31m:\u001b[0m cannot assign to True\n"
     ]
    }
   ],
   "source": [
    "# Can we assign the variable name using one of the two boolean values?\n",
    "\n",
    "True = 10 + 5"
   ]
  },
  {
   "cell_type": "markdown",
   "metadata": {},
   "source": [
    "# Comparison Operators\n",
    "We use comparison operators to peform logical operations so that our code can make decisions.\n",
    "\n",
    "*Comparison operators* compare two values and evaluate down to a single value.\n",
    "\n",
    "This table lists the comparison operators:\n",
    "\n",
    "|Operator | Comparison              | Example | Evaluates to...|  Appropriate Data Types |\n",
    "|:-------:|:---------:              |:-------:|:--------------:|:-----------------------:|\n",
    "|==       |Equal to                 | 2 == 3  |  False          | Any                    |\n",
    "|!=       |Not equal to             | 2 !=3   |  True           | Any                    |\n",
    "|<        |Less than                | 2 < 3   |  True           | Int and Float          |\n",
    "|>        |Greater than             | 2 > 3   |  False          | Int and Float          |\n",
    "|<=       |Less than or equal to    | 5 <= 5  |  True           | Int and Float          |\n",
    "|>=       |Greater than or equal to | 5 >= 10 |  False          | Int and Float          |"
   ]
  },
  {
   "cell_type": "code",
   "execution_count": 8,
   "metadata": {},
   "outputs": [
    {
     "data": {
      "text/plain": [
       "False"
      ]
     },
     "execution_count": 8,
     "metadata": {},
     "output_type": "execute_result"
    }
   ],
   "source": [
    "2 == 5"
   ]
  },
  {
   "cell_type": "code",
   "execution_count": 9,
   "metadata": {},
   "outputs": [
    {
     "data": {
      "text/plain": [
       "True"
      ]
     },
     "execution_count": 9,
     "metadata": {},
     "output_type": "execute_result"
    }
   ],
   "source": [
    "100 == 100"
   ]
  },
  {
   "cell_type": "code",
   "execution_count": 10,
   "metadata": {},
   "outputs": [
    {
     "data": {
      "text/plain": [
       "False"
      ]
     },
     "execution_count": 10,
     "metadata": {},
     "output_type": "execute_result"
    }
   ],
   "source": [
    "55 != 55"
   ]
  },
  {
   "cell_type": "code",
   "execution_count": 11,
   "metadata": {},
   "outputs": [
    {
     "data": {
      "text/plain": [
       "True"
      ]
     },
     "execution_count": 11,
     "metadata": {},
     "output_type": "execute_result"
    }
   ],
   "source": [
    "55 != 60"
   ]
  },
  {
   "cell_type": "code",
   "execution_count": 12,
   "metadata": {},
   "outputs": [
    {
     "data": {
      "text/plain": [
       "False"
      ]
     },
     "execution_count": 12,
     "metadata": {},
     "output_type": "execute_result"
    }
   ],
   "source": [
    "'boy' == 'girl'"
   ]
  },
  {
   "cell_type": "code",
   "execution_count": 13,
   "metadata": {},
   "outputs": [
    {
     "data": {
      "text/plain": [
       "True"
      ]
     },
     "execution_count": 13,
     "metadata": {},
     "output_type": "execute_result"
    }
   ],
   "source": [
    "'boy' == 'boy'"
   ]
  },
  {
   "cell_type": "code",
   "execution_count": 14,
   "metadata": {},
   "outputs": [
    {
     "data": {
      "text/plain": [
       "True"
      ]
     },
     "execution_count": 14,
     "metadata": {},
     "output_type": "execute_result"
    }
   ],
   "source": [
    "'boy' != 'girl'"
   ]
  },
  {
   "cell_type": "code",
   "execution_count": 15,
   "metadata": {},
   "outputs": [
    {
     "data": {
      "text/plain": [
       "True"
      ]
     },
     "execution_count": 15,
     "metadata": {},
     "output_type": "execute_result"
    }
   ],
   "source": [
    "'boy' < 'girl'"
   ]
  },
  {
   "cell_type": "code",
   "execution_count": 16,
   "metadata": {},
   "outputs": [
    {
     "data": {
      "text/plain": [
       "False"
      ]
     },
     "execution_count": 16,
     "metadata": {},
     "output_type": "execute_result"
    }
   ],
   "source": [
    "'boy' > 'girl'"
   ]
  },
  {
   "cell_type": "code",
   "execution_count": 23,
   "metadata": {},
   "outputs": [
    {
     "data": {
      "text/plain": [
       "True"
      ]
     },
     "execution_count": 23,
     "metadata": {},
     "output_type": "execute_result"
    }
   ],
   "source": [
    "42 == int('42')"
   ]
  },
  {
   "cell_type": "code",
   "execution_count": 22,
   "metadata": {},
   "outputs": [
    {
     "data": {
      "text/plain": [
       "True"
      ]
     },
     "execution_count": 22,
     "metadata": {},
     "output_type": "execute_result"
    }
   ],
   "source": [
    "42 == 42.00"
   ]
  },
  {
   "cell_type": "markdown",
   "metadata": {},
   "source": [
    "## Ex1: Boolean example combining what we learned in prior lessons\n",
    "### Task: create a program to ask a user for their age and check if their age is less than or equal to 50."
   ]
  },
  {
   "cell_type": "code",
   "execution_count": 26,
   "metadata": {},
   "outputs": [
    {
     "name": "stdout",
     "output_type": "stream",
     "text": [
      "What is your age: 21\n"
     ]
    }
   ],
   "source": [
    "myAge = input('What is your age: ')"
   ]
  },
  {
   "cell_type": "code",
   "execution_count": 27,
   "metadata": {},
   "outputs": [
    {
     "data": {
      "text/plain": [
       "'21'"
      ]
     },
     "execution_count": 27,
     "metadata": {},
     "output_type": "execute_result"
    }
   ],
   "source": [
    "myAge"
   ]
  },
  {
   "cell_type": "code",
   "execution_count": 29,
   "metadata": {},
   "outputs": [
    {
     "ename": "TypeError",
     "evalue": "'<=' not supported between instances of 'str' and 'int'",
     "output_type": "error",
     "traceback": [
      "\u001b[1;31m---------------------------------------------------------------------------\u001b[0m",
      "\u001b[1;31mTypeError\u001b[0m                                 Traceback (most recent call last)",
      "\u001b[1;32m<ipython-input-29-e5155f7a592a>\u001b[0m in \u001b[0;36m<module>\u001b[1;34m\u001b[0m\n\u001b[1;32m----> 1\u001b[1;33m \u001b[0mmyAge\u001b[0m \u001b[1;33m<=\u001b[0m \u001b[1;36m50\u001b[0m\u001b[1;33m\u001b[0m\u001b[1;33m\u001b[0m\u001b[0m\n\u001b[0m",
      "\u001b[1;31mTypeError\u001b[0m: '<=' not supported between instances of 'str' and 'int'"
     ]
    }
   ],
   "source": [
    "myAge <= 50"
   ]
  },
  {
   "cell_type": "code",
   "execution_count": 30,
   "metadata": {},
   "outputs": [
    {
     "data": {
      "text/plain": [
       "str"
      ]
     },
     "execution_count": 30,
     "metadata": {},
     "output_type": "execute_result"
    }
   ],
   "source": [
    "type(myAge)"
   ]
  },
  {
   "cell_type": "code",
   "execution_count": 31,
   "metadata": {},
   "outputs": [
    {
     "data": {
      "text/plain": [
       "True"
      ]
     },
     "execution_count": 31,
     "metadata": {},
     "output_type": "execute_result"
    }
   ],
   "source": [
    "int(myAge) <= 50"
   ]
  },
  {
   "cell_type": "markdown",
   "metadata": {},
   "source": [
    "## Ex1a: Is there a \"better\" way to write this program? "
   ]
  },
  {
   "cell_type": "code",
   "execution_count": 32,
   "metadata": {},
   "outputs": [
    {
     "name": "stdout",
     "output_type": "stream",
     "text": [
      "What is your age: 21\n"
     ]
    }
   ],
   "source": [
    "myAge = int(input('What is your age: '))"
   ]
  },
  {
   "cell_type": "code",
   "execution_count": 33,
   "metadata": {},
   "outputs": [
    {
     "data": {
      "text/plain": [
       "21"
      ]
     },
     "execution_count": 33,
     "metadata": {},
     "output_type": "execute_result"
    }
   ],
   "source": [
    "myAge"
   ]
  },
  {
   "cell_type": "code",
   "execution_count": 34,
   "metadata": {},
   "outputs": [
    {
     "data": {
      "text/plain": [
       "int"
      ]
     },
     "execution_count": 34,
     "metadata": {},
     "output_type": "execute_result"
    }
   ],
   "source": [
    "type(myAge)"
   ]
  },
  {
   "cell_type": "code",
   "execution_count": 35,
   "metadata": {},
   "outputs": [
    {
     "data": {
      "text/plain": [
       "True"
      ]
     },
     "execution_count": 35,
     "metadata": {},
     "output_type": "execute_result"
    }
   ],
   "source": [
    "myAge <= 50"
   ]
  },
  {
   "cell_type": "code",
   "execution_count": null,
   "metadata": {},
   "outputs": [],
   "source": []
  },
  {
   "cell_type": "markdown",
   "metadata": {},
   "source": [
    "# Boolean Operators\n",
    "<a id='Top'></a>[Top of Page](#Python-Boolean-Expressions)\n",
    "\n",
    "Boolean operators are used to compare Boolean values. The Boolean operators are:\n",
    "\n",
    ">- `and`\n",
    ">- `or`\n",
    ">- `not`\n",
    "    \n",
    "## Truth tables can be used to show us every possible for a Boolean operator\n",
    "\n",
    "### `and` operator Truth Table\n",
    "\n",
    "\n",
    "|Expression      | Evaluates to:    \n",
    "|:-------:       |:---------:  | \n",
    "|True and True   | True        | \n",
    "|True and False  | False       | \n",
    "|False and True  | False       | \n",
    "|False and False | False       | \n",
    "\n",
    "\n",
    "### The `or` operator Truth Table\n",
    "\n",
    "|Expression      | Evaluates to:    \n",
    "|:-------:       |:---------:  | \n",
    "|True or True    | True        | \n",
    "|True or False   | True        | \n",
    "|False or True   | True        | \n",
    "|False or False  | False       | \n",
    "\n",
    "### The `not` operator Truth Table\n",
    "\n",
    "|Expression      | Evaluates to:    \n",
    "|:-------:       |:---------:  | \n",
    "|not True        | False       | \n",
    "|not False       | True        | \n",
    "\n",
    "Note: the `not` operator only operaters on one Boolean value\n",
    "\n",
    "#### Boolean operator order of operations\n",
    "1. not\n",
    "2. and\n",
    "3. or\n",
    "\n",
    "Lets work through some examples. "
   ]
  },
  {
   "cell_type": "code",
   "execution_count": 36,
   "metadata": {},
   "outputs": [
    {
     "data": {
      "text/plain": [
       "True"
      ]
     },
     "execution_count": 36,
     "metadata": {},
     "output_type": "execute_result"
    }
   ],
   "source": [
    "True and True"
   ]
  },
  {
   "cell_type": "code",
   "execution_count": 37,
   "metadata": {},
   "outputs": [
    {
     "data": {
      "text/plain": [
       "False"
      ]
     },
     "execution_count": 37,
     "metadata": {},
     "output_type": "execute_result"
    }
   ],
   "source": [
    "False and True"
   ]
  },
  {
   "cell_type": "code",
   "execution_count": 39,
   "metadata": {},
   "outputs": [
    {
     "name": "stdout",
     "output_type": "stream",
     "text": [
      "True and False evaluates to: False\n"
     ]
    }
   ],
   "source": [
    "# It can be helpful when testing logical and control flow statments to use the print function\n",
    "\n",
    "print('True and False evaluates to: ' + str(True and False))"
   ]
  },
  {
   "cell_type": "markdown",
   "metadata": {},
   "source": [
    "# Combining Comparison Operators with Boolean Operators\n",
    "<a id='Top'></a>[Top of Page](#Python-Boolean-Expressions)"
   ]
  },
  {
   "cell_type": "code",
   "execution_count": 40,
   "metadata": {},
   "outputs": [
    {
     "data": {
      "text/plain": [
       "True"
      ]
     },
     "execution_count": 40,
     "metadata": {},
     "output_type": "execute_result"
    }
   ],
   "source": [
    "(4 < 5) and (5 < 6)"
   ]
  },
  {
   "cell_type": "code",
   "execution_count": 41,
   "metadata": {},
   "outputs": [
    {
     "data": {
      "text/plain": [
       "False"
      ]
     },
     "execution_count": 41,
     "metadata": {},
     "output_type": "execute_result"
    }
   ],
   "source": [
    "(4 < 5) and (9 < 6)"
   ]
  },
  {
   "cell_type": "code",
   "execution_count": 42,
   "metadata": {},
   "outputs": [
    {
     "data": {
      "text/plain": [
       "True"
      ]
     },
     "execution_count": 42,
     "metadata": {},
     "output_type": "execute_result"
    }
   ],
   "source": [
    "(1 == 2) or (2 == 2)"
   ]
  },
  {
   "cell_type": "code",
   "execution_count": 43,
   "metadata": {},
   "outputs": [
    {
     "data": {
      "text/plain": [
       "False"
      ]
     },
     "execution_count": 43,
     "metadata": {},
     "output_type": "execute_result"
    }
   ],
   "source": [
    "2 + 2 == 4 and not 2 + 2 == 5 and 2 * 2 == 2 + 4"
   ]
  },
  {
   "cell_type": "code",
   "execution_count": 46,
   "metadata": {},
   "outputs": [
    {
     "name": "stdout",
     "output_type": "stream",
     "text": [
      "True and not False and False evaltuates to: \n"
     ]
    },
    {
     "data": {
      "text/plain": [
       "False"
      ]
     },
     "execution_count": 46,
     "metadata": {},
     "output_type": "execute_result"
    }
   ],
   "source": [
    "print(str(2 + 2 == 4) + ' and not ' + str(2 + 2 == 5) + ' and ' + str(2 * 2 == 2 + 4) + ' evaltuates to: ')\n",
    "\n",
    "2 + 2 == 4 and not 2 + 2 == 5 and 2 * 2 == 2 + 4"
   ]
  },
  {
   "cell_type": "markdown",
   "metadata": {},
   "source": [
    "### Understanding the Code Tips\n",
    ">- To help see what Boolean values are being returned use the print and str() functions to print out the resulting Boolean values from expressions within your code\n",
    ">- Then refer to truth tables to understand why Python returned the given Boolean value\n",
    ">- This becomes more valuable the more complex your code becomes "
   ]
  },
  {
   "cell_type": "code",
   "execution_count": 47,
   "metadata": {},
   "outputs": [
    {
     "name": "stdout",
     "output_type": "stream",
     "text": [
      "(4 < 5) and (6 < 5)\n",
      "True and False evaluates to: False\n"
     ]
    },
    {
     "data": {
      "text/plain": [
       "False"
      ]
     },
     "execution_count": 47,
     "metadata": {},
     "output_type": "execute_result"
    }
   ],
   "source": [
    "print('(4 < 5)' + ' and ' + '(6 < 5)')\n",
    "\n",
    "print(str(4 < 5) + ' and ' + str(6 < 5) + ' evaluates to: ' + str((4 < 5) and (6 < 5)))\n",
    "\n",
    "(4 < 5) and (6 < 5)"
   ]
  },
  {
   "cell_type": "code",
   "execution_count": null,
   "metadata": {},
   "outputs": [],
   "source": []
  },
  {
   "cell_type": "markdown",
   "metadata": {},
   "source": [
    "# Exercises to complete on your own:\n",
    "\n",
    "1. Write out 5-10 more Boolean expresions with increasing complexity.\n",
    "2. Use the print() and str() functions to show the Boolean values being calculated throughout the expressions.\n",
    "3. In your final line of code, write the expression so the output will be a Boolean value.\n",
    "\n",
    "<a id='Top'></a>[Top of Page](#Python-Boolean-Expressions)"
   ]
  },
  {
   "cell_type": "code",
   "execution_count": 52,
   "metadata": {},
   "outputs": [
    {
     "name": "stdout",
     "output_type": "stream",
     "text": [
      "False\n"
     ]
    }
   ],
   "source": [
    "not(4==4)\n",
    "print(str(not(4==4)))"
   ]
  },
  {
   "cell_type": "code",
   "execution_count": 56,
   "metadata": {},
   "outputs": [
    {
     "name": "stdout",
     "output_type": "stream",
     "text": [
      "(4 == 4) or not (4 <= 3)\n",
      "True or not True evaluates to: True\n"
     ]
    }
   ],
   "source": [
    "(4 == 4) or not (4 <= 3)\n",
    "print('(4 == 4) or not (4 <= 3)')\n",
    "print(str(4 == 4) + ' or not ' + str(not(4 <= 3)) + ' evaluates to: ' + (str(4 == 4) or not (4 <= 3)))"
   ]
  },
  {
   "cell_type": "code",
   "execution_count": null,
   "metadata": {},
   "outputs": [],
   "source": []
  },
  {
   "cell_type": "code",
   "execution_count": null,
   "metadata": {},
   "outputs": [],
   "source": []
  },
  {
   "cell_type": "code",
   "execution_count": null,
   "metadata": {},
   "outputs": [],
   "source": []
  }
 ],
 "metadata": {
  "kernelspec": {
   "display_name": "Python 3",
   "language": "python",
   "name": "python3"
  },
  "language_info": {
   "codemirror_mode": {
    "name": "ipython",
    "version": 3
   },
   "file_extension": ".py",
   "mimetype": "text/x-python",
   "name": "python",
   "nbconvert_exporter": "python",
   "pygments_lexer": "ipython3",
   "version": "3.8.3"
  }
 },
 "nbformat": 4,
 "nbformat_minor": 2
}
