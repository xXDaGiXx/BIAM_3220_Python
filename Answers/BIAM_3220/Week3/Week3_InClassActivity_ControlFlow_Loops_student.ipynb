{
 "cells": [
  {
   "cell_type": "markdown",
   "metadata": {},
   "source": [
    "# Week 3 Homework and/or In-Class Activity\n",
    "\n",
    "## Learning Objectives \n",
    "### In this notebook you will learn about and practice:\n",
    "1. Section 1: `for` loops\n",
    "<a id='Section 1'></a>[Section 1: for loops](#Section-1)\n",
    "2. Section 2: `while` loops\n",
    "<a id='Section 2'></a>[Section 2: while loops](#Section-2)\n",
    "3. Section 3: Nested Loops <a id='Section 3'></a>[Section 3: nested loops](#Section-3)\n",
    "4. Section 4: Looping Through Lists <a id='Section 4'></a>[Section 4: Looping through lists](#Section-4)\n",
    "\n",
    "<a id='Top Page'></a>[Back to Top](#Week-3-Homework-and/or-In-Class-Activity)"
   ]
  },
  {
   "cell_type": "markdown",
   "metadata": {},
   "source": [
    "# Section 1\n",
    "## `for` loops"
   ]
  },
  {
   "cell_type": "markdown",
   "metadata": {},
   "source": [
    "### In the next cell, do the following:\n",
    "1. Create a `for` loop that will print out the numbers 0-4\n",
    ">- Include f-string formatting to print out a statement: \"Value: {num}\""
   ]
  },
  {
   "cell_type": "code",
   "execution_count": 8,
   "metadata": {
    "scrolled": true
   },
   "outputs": [
    {
     "name": "stdout",
     "output_type": "stream",
     "text": [
      "Value: 0\n",
      "Value: 1\n",
      "Value: 2\n",
      "Value: 3\n",
      "Value: 4\n"
     ]
    }
   ],
   "source": [
    "for num in range(5):\n",
    "    print(f'Value: {num}')"
   ]
  },
  {
   "cell_type": "markdown",
   "metadata": {},
   "source": [
    "### In the next cell, do the following:\n",
    "1. Create a `for` loop that will print out all the characters in variable, `name` = \"John Smith\"\n",
    ">- Include f-string formatting to print out a statement: \"Value: {char}\""
   ]
  },
  {
   "cell_type": "code",
   "execution_count": 10,
   "metadata": {},
   "outputs": [
    {
     "name": "stdout",
     "output_type": "stream",
     "text": [
      "Value: J\n",
      "Value: o\n",
      "Value: h\n",
      "Value: n\n",
      "Value:  \n",
      "Value: S\n",
      "Value: m\n",
      "Value: i\n",
      "Value: t\n",
      "Value: h\n"
     ]
    }
   ],
   "source": [
    "name = 'John Smith'\n",
    "for char in name:\n",
    "    print(f'Value: {char}')"
   ]
  },
  {
   "cell_type": "markdown",
   "metadata": {},
   "source": [
    "### In the next cell, do the following:\n",
    "1. Create a for loop using the `range()` function that will display the numbers from 0-4 but exclude the number 3\n",
    ">- Hint: To do this use control flow and the continue statement\n",
    ">>- The `continue` statement will stop the current iteration and go back to the top of the loop for the next iteration\n",
    ">>- Once you write your code copy it to the python tutor visualizer tool to see how the continue statement works\n",
    ">>>- http://pythontutor.com/visualize.html#mode=edit"
   ]
  },
  {
   "cell_type": "code",
   "execution_count": 13,
   "metadata": {},
   "outputs": [
    {
     "name": "stdout",
     "output_type": "stream",
     "text": [
      "0\n",
      "1\n",
      "2\n",
      "4\n"
     ]
    }
   ],
   "source": [
    "for i in range(5):\n",
    "    if i == 3:\n",
    "        continue\n",
    "    print(i)"
   ]
  },
  {
   "cell_type": "markdown",
   "metadata": {},
   "source": [
    "### In the next cell, do the following:\n",
    "1. Create a for loop that uses `range(5)` as the function in the for loop header (exactly as the prior example header was written)\n",
    ">- Write control flow that will exit the loop as soon as the loop when the number is equal to 3\n",
    ">>- Use the `break` statement to exit the loop once your control statement evaluates to True\n",
    ">- Show the numbers printed by your loop all on one line separated by a space\n",
    ">- Copy your code in the python tutor visualizer tool to see how the `break` statement works\n",
    "\n",
    "Your output should look like:\n",
    "\n",
    "`0 1 2`\n",
    "\n"
   ]
  },
  {
   "cell_type": "code",
   "execution_count": 16,
   "metadata": {},
   "outputs": [
    {
     "name": "stdout",
     "output_type": "stream",
     "text": [
      "0 1 2 "
     ]
    }
   ],
   "source": [
    "for i in range(5):\n",
    "    if i == 3:\n",
    "        break\n",
    "    print(i, end = \" \")"
   ]
  },
  {
   "cell_type": "markdown",
   "metadata": {},
   "source": [
    "### In the next cell:\n",
    "1. Write a `for` loop that prints out all the numbers from 1 to 100 that are divisible by three\n",
    ">- print the numbers so that they are on one line separated by a space"
   ]
  },
  {
   "cell_type": "code",
   "execution_count": 21,
   "metadata": {},
   "outputs": [
    {
     "name": "stdout",
     "output_type": "stream",
     "text": [
      "0 3 6 9 12 15 18 21 24 27 30 33 36 39 42 45 48 51 54 57 60 63 66 69 72 75 78 81 84 87 90 93 96 99 "
     ]
    }
   ],
   "source": [
    "for i in range(101):\n",
    "    if i % 3 != 0:\n",
    "        continue\n",
    "    print(i, end = \" \")"
   ]
  },
  {
   "cell_type": "markdown",
   "metadata": {},
   "source": [
    "### In the next cell:\n",
    "1. Write a program that asks a user to type how they are felling today and then prints out all vowels in their statement\n",
    ">- Use a `for` loop and control flow to output the vowels\n",
    ">- Print the vowels on the same line separated by a space\n",
    ">- Make sure that you include upper and lower case vowels if a user enters a variety\n",
    "\n",
    ">>- Test your code by entering \"I'm feeling really good today\"\n",
    ">>>- The output should be: `I e e i e a o o o a`"
   ]
  },
  {
   "cell_type": "code",
   "execution_count": 42,
   "metadata": {
    "scrolled": true
   },
   "outputs": [
    {
     "name": "stdout",
     "output_type": "stream",
     "text": [
      "How are you feeling today? I'm feeling really good today\n",
      "I e e i e a o o o a "
     ]
    }
   ],
   "source": [
    "feel = input(\"How are you feeling today? \")\n",
    "vowel = ['A','E','I','O','U','a','e','i','o','u']\n",
    "\n",
    "for char in feel:\n",
    "    if char in vowel:\n",
    "        print(char, end = \" \")"
   ]
  },
  {
   "cell_type": "markdown",
   "metadata": {},
   "source": [
    "# Section 2\n",
    "## `while` loops"
   ]
  },
  {
   "cell_type": "markdown",
   "metadata": {},
   "source": [
    "### In the next cell:\n",
    "1. Create a variable, `health` and assign it the value 10\n",
    "2. Create a `while` loop that reduces health by one on each iteration and prints the value of health\n",
    ">- Continue printing the value of `health` as long as it is above 0\n",
    ">- Don't forget to make sure your loop header will eventually evaluate to False or you will create an infinite loop\n",
    ">- If you do create an infinite loop try hitting `CTRL + C` or `Command + C`\n",
    ">>- If this doesn't work then clear and restart your kernel\n",
    "\n",
    "#### Put your code in the python visualizer tool to see how the `while` loop is working"
   ]
  },
  {
   "cell_type": "code",
   "execution_count": null,
   "metadata": {},
   "outputs": [],
   "source": []
  },
  {
   "cell_type": "markdown",
   "metadata": {},
   "source": [
    "##### An example of an infinite loop:\n",
    "\n",
    "game_over = False\n",
    "\n",
    "while not game_over:\n",
    "\n",
    "    print(game_over)\n",
    "\n",
    ">- if you run this code in a code cell in your notebook be ready to shut down your kernel or try `CTRL C` or Jupyter will eventually crash and you will have to restart"
   ]
  },
  {
   "cell_type": "markdown",
   "metadata": {},
   "source": [
    "### In the next cell:\n",
    "1. Write a `while` loop that continues to ask a user for input and prints their input\n",
    ">- Continue prompting the user until the user types \"quit\"\n",
    ">- Print a statement out letting the user know how to exit"
   ]
  },
  {
   "cell_type": "code",
   "execution_count": null,
   "metadata": {},
   "outputs": [],
   "source": []
  },
  {
   "cell_type": "markdown",
   "metadata": {},
   "source": [
    "<a id='Top Page'></a>[Back to Top](#Week-3-Homework-and/or-In-Class-Activity)"
   ]
  },
  {
   "cell_type": "markdown",
   "metadata": {},
   "source": [
    "# Section 3\n",
    "## `Nested` Loops"
   ]
  },
  {
   "cell_type": "markdown",
   "metadata": {},
   "source": [
    "### In the next cell:\n",
    "1. Copy the code from the next cell into the Python Tutor visualizer tool\n",
    ">- http://pythontutor.com/visualize.html#mode=edit\n",
    "2. Take notes on how the program is running the outer and inner loops"
   ]
  },
  {
   "cell_type": "code",
   "execution_count": null,
   "metadata": {},
   "outputs": [],
   "source": []
  },
  {
   "cell_type": "markdown",
   "metadata": {},
   "source": [
    "### In the next cell:\n",
    "1. Write a `for` loop nested within a `while` loop\n",
    "2. The `for` loop should be designed to count from 0 to 5\n",
    ">- But when the `for` loop reaches 3 set a game_over variable to True and break out of the loop\n",
    "3. The `while` loop should continue until the game_over variable is True.\n",
    ">- the final output should be `0 1 2`"
   ]
  },
  {
   "cell_type": "code",
   "execution_count": 27,
   "metadata": {},
   "outputs": [
    {
     "name": "stdout",
     "output_type": "stream",
     "text": [
      "0 1 2 "
     ]
    }
   ],
   "source": [
    "game_over = True\n",
    "while game_over:\n",
    "    for i in range(6):\n",
    "        if i == 3:\n",
    "            game_over = False\n",
    "            break\n",
    "        print(i, end = \" \")"
   ]
  },
  {
   "cell_type": "markdown",
   "metadata": {},
   "source": [
    "# Section 4\n",
    "##  Looping through lists"
   ]
  },
  {
   "cell_type": "markdown",
   "metadata": {},
   "source": [
    "### In the next cell:\n",
    "1. Create a list variable `sports = ['Baseball','Hockey','Football','Basketball']`\n",
    "2. Write a `for` loop that will print out all the items in `sports`"
   ]
  },
  {
   "cell_type": "code",
   "execution_count": 28,
   "metadata": {},
   "outputs": [
    {
     "name": "stdout",
     "output_type": "stream",
     "text": [
      "['Baseball', 'Hockey', 'Football', 'Basketball']\n",
      "['Baseball', 'Hockey', 'Football', 'Basketball']\n",
      "['Baseball', 'Hockey', 'Football', 'Basketball']\n",
      "['Baseball', 'Hockey', 'Football', 'Basketball']\n"
     ]
    }
   ],
   "source": [
    "sports = ['Baseball', 'Hockey', 'Football', 'Basketball']\n",
    "for name in sports:\n",
    "    print(sports)"
   ]
  },
  {
   "cell_type": "markdown",
   "metadata": {},
   "source": [
    "### In the next cell:\n",
    "1. Create a list variable `names = [ \"Bob\", \"Jack\", \"Rob\", \"Bob\", \"Robert\" ]`\n",
    "2. Write a `while` loop that traverses through the `names` list and remove all instances of \"Bob\"\n",
    ">- At each iteration of the loop, print the current value of the `names` list\n",
    ">>- You should see see the loop change at each iteration of the loop\n",
    ">>>- First you should see the complete list, then the first \"Bob\" removed, finally the last \"Bob\" Removed\n",
    ">- Hint: look up the `remove()` list method\n",
    ">>- Heres a good source: https://www.w3schools.com/python/ref_list_remove.asp"
   ]
  },
  {
   "cell_type": "code",
   "execution_count": null,
   "metadata": {},
   "outputs": [],
   "source": []
  },
  {
   "cell_type": "markdown",
   "metadata": {},
   "source": [
    "### Repeat the previous problem using a `for` loop"
   ]
  },
  {
   "cell_type": "code",
   "execution_count": null,
   "metadata": {},
   "outputs": [],
   "source": []
  },
  {
   "cell_type": "markdown",
   "metadata": {},
   "source": [
    "<a id='Top Page'></a>[Back to Top](#Week-3-Homework-and/or-In-Class-Activity)"
   ]
  }
 ],
 "metadata": {
  "kernelspec": {
   "display_name": "Python 3",
   "language": "python",
   "name": "python3"
  },
  "language_info": {
   "codemirror_mode": {
    "name": "ipython",
    "version": 3
   },
   "file_extension": ".py",
   "mimetype": "text/x-python",
   "name": "python",
   "nbconvert_exporter": "python",
   "pygments_lexer": "ipython3",
   "version": "3.8.3"
  }
 },
 "nbformat": 4,
 "nbformat_minor": 2
}
