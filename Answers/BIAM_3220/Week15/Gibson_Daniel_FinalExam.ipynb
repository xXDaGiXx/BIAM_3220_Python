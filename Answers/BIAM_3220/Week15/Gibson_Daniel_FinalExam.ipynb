{
 "cells": [
  {
   "cell_type": "markdown",
   "metadata": {},
   "source": [
    "# BAIM 3220: Introduction to Python\n",
    "## Final Exam Practice: `pandas`\n",
    "\n",
    "## After downloading this .ipynb file from Canvas, resave with the following naming format:\n",
    ">- LastName_FirstName_FinalExam.ipynb\n",
    "\n",
    "## When you are ready to submit your quiz, upload your .ipynb file to Canvas in Final Exam"
   ]
  },
  {
   "cell_type": "markdown",
   "metadata": {},
   "source": [
    "## The next set of questions use the `Departments.csv`, `Employees.csv` and  `Salaries.csv` files\n",
    ">- You can find and download these csv files under the Canvas module: `Week 16 - Final Preparation Material`"
   ]
  },
  {
   "cell_type": "markdown",
   "metadata": {},
   "source": [
    "## Import the pandas module and give it a alias as pd"
   ]
  },
  {
   "cell_type": "code",
   "execution_count": 1,
   "metadata": {},
   "outputs": [],
   "source": [
    "import pandas as pd, "
   ]
  },
  {
   "cell_type": "markdown",
   "metadata": {},
   "source": [
    "## Check your working directory"
   ]
  },
  {
   "cell_type": "code",
   "execution_count": 6,
   "metadata": {
    "scrolled": true
   },
   "outputs": [
    {
     "data": {
      "text/plain": [
       "['.ipynb_checkpoints',\n",
       " 'Cars.csv',\n",
       " 'carsSellerERD.png',\n",
       " 'Departments.csv',\n",
       " 'Employees.csv',\n",
       " 'Gibson_Daniel_FinalExam.ipynb',\n",
       " 'Pandas_DataReader_ETF_PortfolioAnalysis_Student.ipynb',\n",
       " 'Salaries.csv',\n",
       " 'SalaryDeptERD.PNG',\n",
       " 'SalEmpERD.PNG',\n",
       " 'Sellers.csv',\n",
       " 'sqChart.png']"
      ]
     },
     "execution_count": 6,
     "metadata": {},
     "output_type": "execute_result"
    }
   ],
   "source": [
    "import os\n",
    "os.listdir()"
   ]
  },
  {
   "cell_type": "markdown",
   "metadata": {},
   "source": [
    "### Import the Departments file and alias it as `dept`\n",
    ">- Set the index to `emp_no`\n",
    ">- Show the first 10 records of `dept`"
   ]
  },
  {
   "cell_type": "code",
   "execution_count": 8,
   "metadata": {},
   "outputs": [
    {
     "data": {
      "text/html": [
       "<div>\n",
       "<style scoped>\n",
       "    .dataframe tbody tr th:only-of-type {\n",
       "        vertical-align: middle;\n",
       "    }\n",
       "\n",
       "    .dataframe tbody tr th {\n",
       "        vertical-align: top;\n",
       "    }\n",
       "\n",
       "    .dataframe thead th {\n",
       "        text-align: right;\n",
       "    }\n",
       "</style>\n",
       "<table border=\"1\" class=\"dataframe\">\n",
       "  <thead>\n",
       "    <tr style=\"text-align: right;\">\n",
       "      <th></th>\n",
       "      <th>dept_name</th>\n",
       "    </tr>\n",
       "    <tr>\n",
       "      <th>emp_no</th>\n",
       "      <th></th>\n",
       "    </tr>\n",
       "  </thead>\n",
       "  <tbody>\n",
       "    <tr>\n",
       "      <th>10001</th>\n",
       "      <td>Development</td>\n",
       "    </tr>\n",
       "    <tr>\n",
       "      <th>10002</th>\n",
       "      <td>Sales</td>\n",
       "    </tr>\n",
       "    <tr>\n",
       "      <th>10003</th>\n",
       "      <td>Production</td>\n",
       "    </tr>\n",
       "    <tr>\n",
       "      <th>10004</th>\n",
       "      <td>Production</td>\n",
       "    </tr>\n",
       "    <tr>\n",
       "      <th>10005</th>\n",
       "      <td>Human Resources</td>\n",
       "    </tr>\n",
       "    <tr>\n",
       "      <th>10006</th>\n",
       "      <td>Development</td>\n",
       "    </tr>\n",
       "    <tr>\n",
       "      <th>10007</th>\n",
       "      <td>Research</td>\n",
       "    </tr>\n",
       "    <tr>\n",
       "      <th>10009</th>\n",
       "      <td>Quality Management</td>\n",
       "    </tr>\n",
       "    <tr>\n",
       "      <th>10010</th>\n",
       "      <td>Quality Management</td>\n",
       "    </tr>\n",
       "    <tr>\n",
       "      <th>10012</th>\n",
       "      <td>Development</td>\n",
       "    </tr>\n",
       "  </tbody>\n",
       "</table>\n",
       "</div>"
      ],
      "text/plain": [
       "                 dept_name\n",
       "emp_no                    \n",
       "10001          Development\n",
       "10002                Sales\n",
       "10003           Production\n",
       "10004           Production\n",
       "10005      Human Resources\n",
       "10006          Development\n",
       "10007             Research\n",
       "10009   Quality Management\n",
       "10010   Quality Management\n",
       "10012          Development"
      ]
     },
     "execution_count": 8,
     "metadata": {},
     "output_type": "execute_result"
    }
   ],
   "source": [
    "dept = pd.read_csv('Departments.csv', index_col='emp_no')\n",
    "\n",
    "dept.head(10)"
   ]
  },
  {
   "cell_type": "markdown",
   "metadata": {},
   "source": [
    "#### How many records and fields are in the `dept` DataFrame? "
   ]
  },
  {
   "cell_type": "code",
   "execution_count": 9,
   "metadata": {},
   "outputs": [
    {
     "data": {
      "text/plain": [
       "(80, 1)"
      ]
     },
     "execution_count": 9,
     "metadata": {},
     "output_type": "execute_result"
    }
   ],
   "source": [
    "dept.shape"
   ]
  },
  {
   "cell_type": "markdown",
   "metadata": {},
   "source": [
    "#### What are the fields and their datatypes in `dept`? "
   ]
  },
  {
   "cell_type": "code",
   "execution_count": 11,
   "metadata": {
    "scrolled": true
   },
   "outputs": [
    {
     "data": {
      "text/plain": [
       "dept_name    object\n",
       "dtype: object"
      ]
     },
     "execution_count": 11,
     "metadata": {},
     "output_type": "execute_result"
    }
   ],
   "source": [
    "dept.dtypes"
   ]
  },
  {
   "cell_type": "markdown",
   "metadata": {},
   "source": [
    "### Import the Employees file and alias it as `emp`\n",
    ">- Set the index to `emp_no`\n",
    ">- Show the last 10 records of `emp`"
   ]
  },
  {
   "cell_type": "code",
   "execution_count": 12,
   "metadata": {},
   "outputs": [
    {
     "data": {
      "text/html": [
       "<div>\n",
       "<style scoped>\n",
       "    .dataframe tbody tr th:only-of-type {\n",
       "        vertical-align: middle;\n",
       "    }\n",
       "\n",
       "    .dataframe tbody tr th {\n",
       "        vertical-align: top;\n",
       "    }\n",
       "\n",
       "    .dataframe thead th {\n",
       "        text-align: right;\n",
       "    }\n",
       "</style>\n",
       "<table border=\"1\" class=\"dataframe\">\n",
       "  <thead>\n",
       "    <tr style=\"text-align: right;\">\n",
       "      <th></th>\n",
       "      <th>birth_date</th>\n",
       "      <th>first_name</th>\n",
       "      <th>last_name</th>\n",
       "      <th>gender</th>\n",
       "      <th>hire_date</th>\n",
       "    </tr>\n",
       "    <tr>\n",
       "      <th>emp_no</th>\n",
       "      <th></th>\n",
       "      <th></th>\n",
       "      <th></th>\n",
       "      <th></th>\n",
       "      <th></th>\n",
       "    </tr>\n",
       "  </thead>\n",
       "  <tbody>\n",
       "    <tr>\n",
       "      <th>10090</th>\n",
       "      <td>5/30/61</td>\n",
       "      <td>Kendra</td>\n",
       "      <td>Hofting</td>\n",
       "      <td>M</td>\n",
       "      <td>3/14/86</td>\n",
       "    </tr>\n",
       "    <tr>\n",
       "      <th>10091</th>\n",
       "      <td>10/4/55</td>\n",
       "      <td>Amabile</td>\n",
       "      <td>Gomatam</td>\n",
       "      <td>M</td>\n",
       "      <td>11/18/92</td>\n",
       "    </tr>\n",
       "    <tr>\n",
       "      <th>10092</th>\n",
       "      <td>10/18/64</td>\n",
       "      <td>Valdiodio</td>\n",
       "      <td>Niizuma</td>\n",
       "      <td>F</td>\n",
       "      <td>9/22/89</td>\n",
       "    </tr>\n",
       "    <tr>\n",
       "      <th>10093</th>\n",
       "      <td>6/11/64</td>\n",
       "      <td>Sailaja</td>\n",
       "      <td>Desikan</td>\n",
       "      <td>M</td>\n",
       "      <td>11/5/96</td>\n",
       "    </tr>\n",
       "    <tr>\n",
       "      <th>10094</th>\n",
       "      <td>5/25/57</td>\n",
       "      <td>Arumugam</td>\n",
       "      <td>Ossenbruggen</td>\n",
       "      <td>F</td>\n",
       "      <td>4/18/87</td>\n",
       "    </tr>\n",
       "    <tr>\n",
       "      <th>10095</th>\n",
       "      <td>1/3/65</td>\n",
       "      <td>Hilari</td>\n",
       "      <td>Morton</td>\n",
       "      <td>M</td>\n",
       "      <td>7/15/86</td>\n",
       "    </tr>\n",
       "    <tr>\n",
       "      <th>10096</th>\n",
       "      <td>9/16/54</td>\n",
       "      <td>Jayson</td>\n",
       "      <td>Mandell</td>\n",
       "      <td>M</td>\n",
       "      <td>1/14/90</td>\n",
       "    </tr>\n",
       "    <tr>\n",
       "      <th>10097</th>\n",
       "      <td>2/27/52</td>\n",
       "      <td>Remzi</td>\n",
       "      <td>Waschkowski</td>\n",
       "      <td>M</td>\n",
       "      <td>9/15/90</td>\n",
       "    </tr>\n",
       "    <tr>\n",
       "      <th>10098</th>\n",
       "      <td>9/23/61</td>\n",
       "      <td>Sreekrishna</td>\n",
       "      <td>Servieres</td>\n",
       "      <td>F</td>\n",
       "      <td>5/13/85</td>\n",
       "    </tr>\n",
       "    <tr>\n",
       "      <th>10099</th>\n",
       "      <td>5/25/56</td>\n",
       "      <td>Valter</td>\n",
       "      <td>Sullins</td>\n",
       "      <td>F</td>\n",
       "      <td>10/18/88</td>\n",
       "    </tr>\n",
       "  </tbody>\n",
       "</table>\n",
       "</div>"
      ],
      "text/plain": [
       "       birth_date   first_name     last_name gender hire_date\n",
       "emp_no                                                       \n",
       "10090     5/30/61       Kendra       Hofting      M   3/14/86\n",
       "10091     10/4/55      Amabile       Gomatam      M  11/18/92\n",
       "10092    10/18/64    Valdiodio       Niizuma      F   9/22/89\n",
       "10093     6/11/64      Sailaja       Desikan      M   11/5/96\n",
       "10094     5/25/57     Arumugam  Ossenbruggen      F   4/18/87\n",
       "10095      1/3/65       Hilari        Morton      M   7/15/86\n",
       "10096     9/16/54       Jayson       Mandell      M   1/14/90\n",
       "10097     2/27/52        Remzi   Waschkowski      M   9/15/90\n",
       "10098     9/23/61  Sreekrishna     Servieres      F   5/13/85\n",
       "10099     5/25/56       Valter       Sullins      F  10/18/88"
      ]
     },
     "execution_count": 12,
     "metadata": {},
     "output_type": "execute_result"
    }
   ],
   "source": [
    "emp = pd.read_csv('Employees.csv', index_col='emp_no')\n",
    "\n",
    "emp.tail(10)"
   ]
  },
  {
   "cell_type": "markdown",
   "metadata": {},
   "source": [
    "#### How many records and fields are in the `emp` DataFrame? "
   ]
  },
  {
   "cell_type": "code",
   "execution_count": 13,
   "metadata": {},
   "outputs": [
    {
     "data": {
      "text/plain": [
       "(99, 5)"
      ]
     },
     "execution_count": 13,
     "metadata": {},
     "output_type": "execute_result"
    }
   ],
   "source": [
    "emp.shape"
   ]
  },
  {
   "cell_type": "markdown",
   "metadata": {},
   "source": [
    "#### What are the fields and their datatypes in `emp`? "
   ]
  },
  {
   "cell_type": "code",
   "execution_count": 14,
   "metadata": {},
   "outputs": [
    {
     "data": {
      "text/plain": [
       "birth_date    object\n",
       "first_name    object\n",
       "last_name     object\n",
       "gender        object\n",
       "hire_date     object\n",
       "dtype: object"
      ]
     },
     "execution_count": 14,
     "metadata": {},
     "output_type": "execute_result"
    }
   ],
   "source": [
    "emp.dtypes"
   ]
  },
  {
   "cell_type": "markdown",
   "metadata": {},
   "source": [
    "### Import the Salaries file and alias it as `sal`\n",
    ">- Set the index to `emp_no`\n",
    ">- Show the first 5 records of `sal`"
   ]
  },
  {
   "cell_type": "code",
   "execution_count": 15,
   "metadata": {},
   "outputs": [
    {
     "data": {
      "text/html": [
       "<div>\n",
       "<style scoped>\n",
       "    .dataframe tbody tr th:only-of-type {\n",
       "        vertical-align: middle;\n",
       "    }\n",
       "\n",
       "    .dataframe tbody tr th {\n",
       "        vertical-align: top;\n",
       "    }\n",
       "\n",
       "    .dataframe thead th {\n",
       "        text-align: right;\n",
       "    }\n",
       "</style>\n",
       "<table border=\"1\" class=\"dataframe\">\n",
       "  <thead>\n",
       "    <tr style=\"text-align: right;\">\n",
       "      <th></th>\n",
       "      <th>salary</th>\n",
       "      <th>from_date</th>\n",
       "      <th>to_date</th>\n",
       "    </tr>\n",
       "    <tr>\n",
       "      <th>emp_no</th>\n",
       "      <th></th>\n",
       "      <th></th>\n",
       "      <th></th>\n",
       "    </tr>\n",
       "  </thead>\n",
       "  <tbody>\n",
       "    <tr>\n",
       "      <th>10001</th>\n",
       "      <td>80013</td>\n",
       "      <td>6/23/10</td>\n",
       "      <td>6/23/11</td>\n",
       "    </tr>\n",
       "    <tr>\n",
       "      <th>10001</th>\n",
       "      <td>81025</td>\n",
       "      <td>6/23/11</td>\n",
       "      <td>6/23/12</td>\n",
       "    </tr>\n",
       "    <tr>\n",
       "      <th>10001</th>\n",
       "      <td>81097</td>\n",
       "      <td>6/23/12</td>\n",
       "      <td>6/23/13</td>\n",
       "    </tr>\n",
       "    <tr>\n",
       "      <th>10001</th>\n",
       "      <td>84917</td>\n",
       "      <td>6/23/13</td>\n",
       "      <td>6/22/14</td>\n",
       "    </tr>\n",
       "    <tr>\n",
       "      <th>10001</th>\n",
       "      <td>85112</td>\n",
       "      <td>6/22/14</td>\n",
       "      <td>6/22/15</td>\n",
       "    </tr>\n",
       "  </tbody>\n",
       "</table>\n",
       "</div>"
      ],
      "text/plain": [
       "        salary from_date  to_date\n",
       "emp_no                           \n",
       "10001    80013   6/23/10  6/23/11\n",
       "10001    81025   6/23/11  6/23/12\n",
       "10001    81097   6/23/12  6/23/13\n",
       "10001    84917   6/23/13  6/22/14\n",
       "10001    85112   6/22/14  6/22/15"
      ]
     },
     "execution_count": 15,
     "metadata": {},
     "output_type": "execute_result"
    }
   ],
   "source": [
    "sal = pd.read_csv('Salaries.csv', index_col='emp_no')\n",
    "\n",
    "sal.head()"
   ]
  },
  {
   "cell_type": "markdown",
   "metadata": {},
   "source": [
    "#### How many records and fields are in the `sal` DataFrame? "
   ]
  },
  {
   "cell_type": "code",
   "execution_count": 16,
   "metadata": {},
   "outputs": [
    {
     "data": {
      "text/plain": [
       "(540, 3)"
      ]
     },
     "execution_count": 16,
     "metadata": {},
     "output_type": "execute_result"
    }
   ],
   "source": [
    "sal.shape"
   ]
  },
  {
   "cell_type": "markdown",
   "metadata": {},
   "source": [
    "#### What are the fields and their datatypes in `sal`? "
   ]
  },
  {
   "cell_type": "code",
   "execution_count": 17,
   "metadata": {},
   "outputs": [
    {
     "data": {
      "text/plain": [
       "salary        int64\n",
       "from_date    object\n",
       "to_date      object\n",
       "dtype: object"
      ]
     },
     "execution_count": 17,
     "metadata": {},
     "output_type": "execute_result"
    }
   ],
   "source": [
    "sal.dtypes"
   ]
  },
  {
   "cell_type": "markdown",
   "metadata": {},
   "source": [
    "# Join Salaries and Employees"
   ]
  },
  {
   "attachments": {
    "SalEmpERD.PNG": {
     "image/png": "[encoded data removed]"
    }
   },
   "cell_type": "markdown",
   "metadata": {},
   "source": [
    "### The following ERD shows the relationship between the `sal` and `emp` DataFrames:\n",
    "\n",
    "![SalEmpERD.PNG](attachment:SalEmpERD.PNG)"
   ]
  },
  {
   "cell_type": "markdown",
   "metadata": {},
   "source": [
    "## Join these two tables together with a left Join\n",
    ">- Name this join, `leftJoin`\n",
    ">- How many records do you get? "
   ]
  },
  {
   "cell_type": "code",
   "execution_count": 19,
   "metadata": {
    "scrolled": true
   },
   "outputs": [],
   "source": [
    "leftJoin = pd.merge(sal, emp, on = 'emp_no', how = 'left', indicator = True).sort_values(by='_merge')"
   ]
  },
  {
   "cell_type": "code",
   "execution_count": 20,
   "metadata": {},
   "outputs": [
    {
     "data": {
      "text/html": [
       "<div>\n",
       "<style scoped>\n",
       "    .dataframe tbody tr th:only-of-type {\n",
       "        vertical-align: middle;\n",
       "    }\n",
       "\n",
       "    .dataframe tbody tr th {\n",
       "        vertical-align: top;\n",
       "    }\n",
       "\n",
       "    .dataframe thead th {\n",
       "        text-align: right;\n",
       "    }\n",
       "</style>\n",
       "<table border=\"1\" class=\"dataframe\">\n",
       "  <thead>\n",
       "    <tr style=\"text-align: right;\">\n",
       "      <th></th>\n",
       "      <th>salary</th>\n",
       "      <th>from_date</th>\n",
       "      <th>to_date</th>\n",
       "      <th>birth_date</th>\n",
       "      <th>first_name</th>\n",
       "      <th>last_name</th>\n",
       "      <th>gender</th>\n",
       "      <th>hire_date</th>\n",
       "      <th>_merge</th>\n",
       "    </tr>\n",
       "    <tr>\n",
       "      <th>emp_no</th>\n",
       "      <th></th>\n",
       "      <th></th>\n",
       "      <th></th>\n",
       "      <th></th>\n",
       "      <th></th>\n",
       "      <th></th>\n",
       "      <th></th>\n",
       "      <th></th>\n",
       "      <th></th>\n",
       "    </tr>\n",
       "  </thead>\n",
       "  <tbody>\n",
       "    <tr>\n",
       "      <th>10001</th>\n",
       "      <td>80013</td>\n",
       "      <td>6/23/10</td>\n",
       "      <td>6/23/11</td>\n",
       "      <td>9/2/53</td>\n",
       "      <td>Georgi</td>\n",
       "      <td>Facello</td>\n",
       "      <td>M</td>\n",
       "      <td>6/26/86</td>\n",
       "      <td>both</td>\n",
       "    </tr>\n",
       "    <tr>\n",
       "      <th>10068</th>\n",
       "      <td>106204</td>\n",
       "      <td>8/4/11</td>\n",
       "      <td>8/4/12</td>\n",
       "      <td>11/26/62</td>\n",
       "      <td>Charlene</td>\n",
       "      <td>Brattka</td>\n",
       "      <td>M</td>\n",
       "      <td>8/7/87</td>\n",
       "      <td>both</td>\n",
       "    </tr>\n",
       "    <tr>\n",
       "      <th>10068</th>\n",
       "      <td>105533</td>\n",
       "      <td>8/4/10</td>\n",
       "      <td>8/4/11</td>\n",
       "      <td>11/26/62</td>\n",
       "      <td>Charlene</td>\n",
       "      <td>Brattka</td>\n",
       "      <td>M</td>\n",
       "      <td>8/7/87</td>\n",
       "      <td>both</td>\n",
       "    </tr>\n",
       "    <tr>\n",
       "      <th>10067</th>\n",
       "      <td>83254</td>\n",
       "      <td>2/28/16</td>\n",
       "      <td>1/1/99</td>\n",
       "      <td>1/7/53</td>\n",
       "      <td>Claudi</td>\n",
       "      <td>Stavenow</td>\n",
       "      <td>M</td>\n",
       "      <td>3/4/87</td>\n",
       "      <td>both</td>\n",
       "    </tr>\n",
       "    <tr>\n",
       "      <th>10067</th>\n",
       "      <td>81784</td>\n",
       "      <td>2/28/15</td>\n",
       "      <td>2/28/16</td>\n",
       "      <td>1/7/53</td>\n",
       "      <td>Claudi</td>\n",
       "      <td>Stavenow</td>\n",
       "      <td>M</td>\n",
       "      <td>3/4/87</td>\n",
       "      <td>both</td>\n",
       "    </tr>\n",
       "  </tbody>\n",
       "</table>\n",
       "</div>"
      ],
      "text/plain": [
       "        salary from_date  to_date birth_date first_name last_name gender  \\\n",
       "emp_no                                                                     \n",
       "10001    80013   6/23/10  6/23/11     9/2/53     Georgi   Facello      M   \n",
       "10068   106204    8/4/11   8/4/12   11/26/62   Charlene   Brattka      M   \n",
       "10068   105533    8/4/10   8/4/11   11/26/62   Charlene   Brattka      M   \n",
       "10067    83254   2/28/16   1/1/99     1/7/53     Claudi  Stavenow      M   \n",
       "10067    81784   2/28/15  2/28/16     1/7/53     Claudi  Stavenow      M   \n",
       "\n",
       "       hire_date _merge  \n",
       "emp_no                   \n",
       "10001    6/26/86   both  \n",
       "10068     8/7/87   both  \n",
       "10068     8/7/87   both  \n",
       "10067     3/4/87   both  \n",
       "10067     3/4/87   both  "
      ]
     },
     "execution_count": 20,
     "metadata": {},
     "output_type": "execute_result"
    }
   ],
   "source": [
    "leftJoin.head()"
   ]
  },
  {
   "cell_type": "code",
   "execution_count": 21,
   "metadata": {},
   "outputs": [
    {
     "data": {
      "text/plain": [
       "(540, 9)"
      ]
     },
     "execution_count": 21,
     "metadata": {},
     "output_type": "execute_result"
    }
   ],
   "source": [
    "leftJoin.shape"
   ]
  },
  {
   "cell_type": "markdown",
   "metadata": {},
   "source": [
    "## Join these two tables together with an inner join\n",
    ">- Name this join, `innerJoin`\n",
    ">- How many records do you get? "
   ]
  },
  {
   "cell_type": "code",
   "execution_count": 22,
   "metadata": {
    "scrolled": false
   },
   "outputs": [
    {
     "data": {
      "text/html": [
       "<div>\n",
       "<style scoped>\n",
       "    .dataframe tbody tr th:only-of-type {\n",
       "        vertical-align: middle;\n",
       "    }\n",
       "\n",
       "    .dataframe tbody tr th {\n",
       "        vertical-align: top;\n",
       "    }\n",
       "\n",
       "    .dataframe thead th {\n",
       "        text-align: right;\n",
       "    }\n",
       "</style>\n",
       "<table border=\"1\" class=\"dataframe\">\n",
       "  <thead>\n",
       "    <tr style=\"text-align: right;\">\n",
       "      <th></th>\n",
       "      <th>salary</th>\n",
       "      <th>from_date</th>\n",
       "      <th>to_date</th>\n",
       "      <th>birth_date</th>\n",
       "      <th>first_name</th>\n",
       "      <th>last_name</th>\n",
       "      <th>gender</th>\n",
       "      <th>hire_date</th>\n",
       "    </tr>\n",
       "    <tr>\n",
       "      <th>emp_no</th>\n",
       "      <th></th>\n",
       "      <th></th>\n",
       "      <th></th>\n",
       "      <th></th>\n",
       "      <th></th>\n",
       "      <th></th>\n",
       "      <th></th>\n",
       "      <th></th>\n",
       "    </tr>\n",
       "  </thead>\n",
       "  <tbody>\n",
       "    <tr>\n",
       "      <th>10001</th>\n",
       "      <td>80013</td>\n",
       "      <td>6/23/10</td>\n",
       "      <td>6/23/11</td>\n",
       "      <td>9/2/53</td>\n",
       "      <td>Georgi</td>\n",
       "      <td>Facello</td>\n",
       "      <td>M</td>\n",
       "      <td>6/26/86</td>\n",
       "    </tr>\n",
       "    <tr>\n",
       "      <th>10001</th>\n",
       "      <td>81025</td>\n",
       "      <td>6/23/11</td>\n",
       "      <td>6/23/12</td>\n",
       "      <td>9/2/53</td>\n",
       "      <td>Georgi</td>\n",
       "      <td>Facello</td>\n",
       "      <td>M</td>\n",
       "      <td>6/26/86</td>\n",
       "    </tr>\n",
       "    <tr>\n",
       "      <th>10001</th>\n",
       "      <td>81097</td>\n",
       "      <td>6/23/12</td>\n",
       "      <td>6/23/13</td>\n",
       "      <td>9/2/53</td>\n",
       "      <td>Georgi</td>\n",
       "      <td>Facello</td>\n",
       "      <td>M</td>\n",
       "      <td>6/26/86</td>\n",
       "    </tr>\n",
       "    <tr>\n",
       "      <th>10001</th>\n",
       "      <td>84917</td>\n",
       "      <td>6/23/13</td>\n",
       "      <td>6/22/14</td>\n",
       "      <td>9/2/53</td>\n",
       "      <td>Georgi</td>\n",
       "      <td>Facello</td>\n",
       "      <td>M</td>\n",
       "      <td>6/26/86</td>\n",
       "    </tr>\n",
       "    <tr>\n",
       "      <th>10001</th>\n",
       "      <td>85112</td>\n",
       "      <td>6/22/14</td>\n",
       "      <td>6/22/15</td>\n",
       "      <td>9/2/53</td>\n",
       "      <td>Georgi</td>\n",
       "      <td>Facello</td>\n",
       "      <td>M</td>\n",
       "      <td>6/26/86</td>\n",
       "    </tr>\n",
       "    <tr>\n",
       "      <th>...</th>\n",
       "      <td>...</td>\n",
       "      <td>...</td>\n",
       "      <td>...</td>\n",
       "      <td>...</td>\n",
       "      <td>...</td>\n",
       "      <td>...</td>\n",
       "      <td>...</td>\n",
       "      <td>...</td>\n",
       "    </tr>\n",
       "    <tr>\n",
       "      <th>10099</th>\n",
       "      <td>86212</td>\n",
       "      <td>10/16/11</td>\n",
       "      <td>10/16/12</td>\n",
       "      <td>5/25/56</td>\n",
       "      <td>Valter</td>\n",
       "      <td>Sullins</td>\n",
       "      <td>F</td>\n",
       "      <td>10/18/88</td>\n",
       "    </tr>\n",
       "    <tr>\n",
       "      <th>10099</th>\n",
       "      <td>89257</td>\n",
       "      <td>10/16/12</td>\n",
       "      <td>10/16/13</td>\n",
       "      <td>5/25/56</td>\n",
       "      <td>Valter</td>\n",
       "      <td>Sullins</td>\n",
       "      <td>F</td>\n",
       "      <td>10/18/88</td>\n",
       "    </tr>\n",
       "    <tr>\n",
       "      <th>10099</th>\n",
       "      <td>93297</td>\n",
       "      <td>10/16/13</td>\n",
       "      <td>10/15/14</td>\n",
       "      <td>5/25/56</td>\n",
       "      <td>Valter</td>\n",
       "      <td>Sullins</td>\n",
       "      <td>F</td>\n",
       "      <td>10/18/88</td>\n",
       "    </tr>\n",
       "    <tr>\n",
       "      <th>10099</th>\n",
       "      <td>95842</td>\n",
       "      <td>10/15/14</td>\n",
       "      <td>10/15/15</td>\n",
       "      <td>5/25/56</td>\n",
       "      <td>Valter</td>\n",
       "      <td>Sullins</td>\n",
       "      <td>F</td>\n",
       "      <td>10/18/88</td>\n",
       "    </tr>\n",
       "    <tr>\n",
       "      <th>10099</th>\n",
       "      <td>98538</td>\n",
       "      <td>10/15/15</td>\n",
       "      <td>1/1/99</td>\n",
       "      <td>5/25/56</td>\n",
       "      <td>Valter</td>\n",
       "      <td>Sullins</td>\n",
       "      <td>F</td>\n",
       "      <td>10/18/88</td>\n",
       "    </tr>\n",
       "  </tbody>\n",
       "</table>\n",
       "<p>540 rows × 8 columns</p>\n",
       "</div>"
      ],
      "text/plain": [
       "        salary from_date   to_date birth_date first_name last_name gender  \\\n",
       "emp_no                                                                      \n",
       "10001    80013   6/23/10   6/23/11     9/2/53     Georgi   Facello      M   \n",
       "10001    81025   6/23/11   6/23/12     9/2/53     Georgi   Facello      M   \n",
       "10001    81097   6/23/12   6/23/13     9/2/53     Georgi   Facello      M   \n",
       "10001    84917   6/23/13   6/22/14     9/2/53     Georgi   Facello      M   \n",
       "10001    85112   6/22/14   6/22/15     9/2/53     Georgi   Facello      M   \n",
       "...        ...       ...       ...        ...        ...       ...    ...   \n",
       "10099    86212  10/16/11  10/16/12    5/25/56     Valter   Sullins      F   \n",
       "10099    89257  10/16/12  10/16/13    5/25/56     Valter   Sullins      F   \n",
       "10099    93297  10/16/13  10/15/14    5/25/56     Valter   Sullins      F   \n",
       "10099    95842  10/15/14  10/15/15    5/25/56     Valter   Sullins      F   \n",
       "10099    98538  10/15/15    1/1/99    5/25/56     Valter   Sullins      F   \n",
       "\n",
       "       hire_date  \n",
       "emp_no            \n",
       "10001    6/26/86  \n",
       "10001    6/26/86  \n",
       "10001    6/26/86  \n",
       "10001    6/26/86  \n",
       "10001    6/26/86  \n",
       "...          ...  \n",
       "10099   10/18/88  \n",
       "10099   10/18/88  \n",
       "10099   10/18/88  \n",
       "10099   10/18/88  \n",
       "10099   10/18/88  \n",
       "\n",
       "[540 rows x 8 columns]"
      ]
     },
     "execution_count": 22,
     "metadata": {},
     "output_type": "execute_result"
    }
   ],
   "source": [
    "innerJoin = pd.merge(sal, emp, on = 'emp_no',how='inner')\n",
    "\n",
    "innerJoin"
   ]
  },
  {
   "cell_type": "code",
   "execution_count": 23,
   "metadata": {},
   "outputs": [
    {
     "data": {
      "text/plain": [
       "(540, 8)"
      ]
     },
     "execution_count": 23,
     "metadata": {},
     "output_type": "execute_result"
    }
   ],
   "source": [
    "innerJoin.shape"
   ]
  },
  {
   "cell_type": "markdown",
   "metadata": {},
   "source": [
    "##  Show the number of records/rows in the `innerJoin` dataset\n",
    ">- Only output the number of records, nothing else"
   ]
  },
  {
   "cell_type": "code",
   "execution_count": 30,
   "metadata": {},
   "outputs": [
    {
     "data": {
      "text/plain": [
       "540"
      ]
     },
     "execution_count": 30,
     "metadata": {},
     "output_type": "execute_result"
    }
   ],
   "source": [
    "len(innerJoin)"
   ]
  },
  {
   "cell_type": "markdown",
   "metadata": {},
   "source": [
    "##  Show the number of fields/columns in the `innerJoin` dataset\n",
    ">- Only output the number of fields, nothing else"
   ]
  },
  {
   "cell_type": "code",
   "execution_count": 31,
   "metadata": {},
   "outputs": [
    {
     "data": {
      "text/plain": [
       "8"
      ]
     },
     "execution_count": 31,
     "metadata": {},
     "output_type": "execute_result"
    }
   ],
   "source": [
    "innerJoin.shape[1]"
   ]
  },
  {
   "cell_type": "markdown",
   "metadata": {},
   "source": [
    "## Show what datatypes are in the `innerJoin` dataframe"
   ]
  },
  {
   "cell_type": "code",
   "execution_count": 32,
   "metadata": {
    "scrolled": true
   },
   "outputs": [
    {
     "data": {
      "text/plain": [
       "salary         int64\n",
       "from_date     object\n",
       "to_date       object\n",
       "birth_date    object\n",
       "first_name    object\n",
       "last_name     object\n",
       "gender        object\n",
       "hire_date     object\n",
       "dtype: object"
      ]
     },
     "execution_count": 32,
     "metadata": {},
     "output_type": "execute_result"
    }
   ],
   "source": [
    "innerJoin.dtypes"
   ]
  },
  {
   "cell_type": "markdown",
   "metadata": {},
   "source": [
    "## Show the gender of the employee with the emp_no of 10080"
   ]
  },
  {
   "cell_type": "code",
   "execution_count": 39,
   "metadata": {},
   "outputs": [
    {
     "data": {
      "text/plain": [
       "emp_no\n",
       "10001    M\n",
       "Name: gender, dtype: object"
      ]
     },
     "execution_count": 39,
     "metadata": {},
     "output_type": "execute_result"
    }
   ],
   "source": [
    "innerJoin.iloc[[0],6]"
   ]
  },
  {
   "cell_type": "code",
   "execution_count": 45,
   "metadata": {},
   "outputs": [
    {
     "data": {
      "text/plain": [
       "emp_no\n",
       "10080    M\n",
       "10080    M\n",
       "10080    M\n",
       "10080    M\n",
       "10080    M\n",
       "10080    M\n",
       "Name: gender, dtype: object"
      ]
     },
     "execution_count": 45,
     "metadata": {},
     "output_type": "execute_result"
    }
   ],
   "source": [
    "innerJoin.loc[innerJoin.index==10080]['gender']"
   ]
  },
  {
   "cell_type": "markdown",
   "metadata": {},
   "source": [
    "### Show all records for columns `first_name` to `gender`"
   ]
  },
  {
   "cell_type": "code",
   "execution_count": 58,
   "metadata": {
    "scrolled": false
   },
   "outputs": [
    {
     "data": {
      "text/html": [
       "<div>\n",
       "<style scoped>\n",
       "    .dataframe tbody tr th:only-of-type {\n",
       "        vertical-align: middle;\n",
       "    }\n",
       "\n",
       "    .dataframe tbody tr th {\n",
       "        vertical-align: top;\n",
       "    }\n",
       "\n",
       "    .dataframe thead th {\n",
       "        text-align: right;\n",
       "    }\n",
       "</style>\n",
       "<table border=\"1\" class=\"dataframe\">\n",
       "  <thead>\n",
       "    <tr style=\"text-align: right;\">\n",
       "      <th></th>\n",
       "      <th>first_name</th>\n",
       "      <th>last_name</th>\n",
       "      <th>gender</th>\n",
       "    </tr>\n",
       "    <tr>\n",
       "      <th>emp_no</th>\n",
       "      <th></th>\n",
       "      <th></th>\n",
       "      <th></th>\n",
       "    </tr>\n",
       "  </thead>\n",
       "  <tbody>\n",
       "    <tr>\n",
       "      <th>10001</th>\n",
       "      <td>Georgi</td>\n",
       "      <td>Facello</td>\n",
       "      <td>M</td>\n",
       "    </tr>\n",
       "    <tr>\n",
       "      <th>10001</th>\n",
       "      <td>Georgi</td>\n",
       "      <td>Facello</td>\n",
       "      <td>M</td>\n",
       "    </tr>\n",
       "    <tr>\n",
       "      <th>10001</th>\n",
       "      <td>Georgi</td>\n",
       "      <td>Facello</td>\n",
       "      <td>M</td>\n",
       "    </tr>\n",
       "    <tr>\n",
       "      <th>10001</th>\n",
       "      <td>Georgi</td>\n",
       "      <td>Facello</td>\n",
       "      <td>M</td>\n",
       "    </tr>\n",
       "    <tr>\n",
       "      <th>10001</th>\n",
       "      <td>Georgi</td>\n",
       "      <td>Facello</td>\n",
       "      <td>M</td>\n",
       "    </tr>\n",
       "    <tr>\n",
       "      <th>...</th>\n",
       "      <td>...</td>\n",
       "      <td>...</td>\n",
       "      <td>...</td>\n",
       "    </tr>\n",
       "    <tr>\n",
       "      <th>10099</th>\n",
       "      <td>Valter</td>\n",
       "      <td>Sullins</td>\n",
       "      <td>F</td>\n",
       "    </tr>\n",
       "    <tr>\n",
       "      <th>10099</th>\n",
       "      <td>Valter</td>\n",
       "      <td>Sullins</td>\n",
       "      <td>F</td>\n",
       "    </tr>\n",
       "    <tr>\n",
       "      <th>10099</th>\n",
       "      <td>Valter</td>\n",
       "      <td>Sullins</td>\n",
       "      <td>F</td>\n",
       "    </tr>\n",
       "    <tr>\n",
       "      <th>10099</th>\n",
       "      <td>Valter</td>\n",
       "      <td>Sullins</td>\n",
       "      <td>F</td>\n",
       "    </tr>\n",
       "    <tr>\n",
       "      <th>10099</th>\n",
       "      <td>Valter</td>\n",
       "      <td>Sullins</td>\n",
       "      <td>F</td>\n",
       "    </tr>\n",
       "  </tbody>\n",
       "</table>\n",
       "<p>540 rows × 3 columns</p>\n",
       "</div>"
      ],
      "text/plain": [
       "       first_name last_name gender\n",
       "emp_no                            \n",
       "10001      Georgi   Facello      M\n",
       "10001      Georgi   Facello      M\n",
       "10001      Georgi   Facello      M\n",
       "10001      Georgi   Facello      M\n",
       "10001      Georgi   Facello      M\n",
       "...           ...       ...    ...\n",
       "10099      Valter   Sullins      F\n",
       "10099      Valter   Sullins      F\n",
       "10099      Valter   Sullins      F\n",
       "10099      Valter   Sullins      F\n",
       "10099      Valter   Sullins      F\n",
       "\n",
       "[540 rows x 3 columns]"
      ]
     },
     "execution_count": 58,
     "metadata": {},
     "output_type": "execute_result"
    }
   ],
   "source": [
    "innerJoin.iloc[0:,4:7]"
   ]
  },
  {
   "cell_type": "code",
   "execution_count": 63,
   "metadata": {},
   "outputs": [
    {
     "data": {
      "text/html": [
       "<div>\n",
       "<style scoped>\n",
       "    .dataframe tbody tr th:only-of-type {\n",
       "        vertical-align: middle;\n",
       "    }\n",
       "\n",
       "    .dataframe tbody tr th {\n",
       "        vertical-align: top;\n",
       "    }\n",
       "\n",
       "    .dataframe thead th {\n",
       "        text-align: right;\n",
       "    }\n",
       "</style>\n",
       "<table border=\"1\" class=\"dataframe\">\n",
       "  <thead>\n",
       "    <tr style=\"text-align: right;\">\n",
       "      <th></th>\n",
       "      <th>first_name</th>\n",
       "      <th>last_name</th>\n",
       "      <th>gender</th>\n",
       "    </tr>\n",
       "    <tr>\n",
       "      <th>emp_no</th>\n",
       "      <th></th>\n",
       "      <th></th>\n",
       "      <th></th>\n",
       "    </tr>\n",
       "  </thead>\n",
       "  <tbody>\n",
       "    <tr>\n",
       "      <th>10001</th>\n",
       "      <td>Georgi</td>\n",
       "      <td>Facello</td>\n",
       "      <td>M</td>\n",
       "    </tr>\n",
       "    <tr>\n",
       "      <th>10001</th>\n",
       "      <td>Georgi</td>\n",
       "      <td>Facello</td>\n",
       "      <td>M</td>\n",
       "    </tr>\n",
       "    <tr>\n",
       "      <th>10001</th>\n",
       "      <td>Georgi</td>\n",
       "      <td>Facello</td>\n",
       "      <td>M</td>\n",
       "    </tr>\n",
       "    <tr>\n",
       "      <th>10001</th>\n",
       "      <td>Georgi</td>\n",
       "      <td>Facello</td>\n",
       "      <td>M</td>\n",
       "    </tr>\n",
       "    <tr>\n",
       "      <th>10001</th>\n",
       "      <td>Georgi</td>\n",
       "      <td>Facello</td>\n",
       "      <td>M</td>\n",
       "    </tr>\n",
       "    <tr>\n",
       "      <th>...</th>\n",
       "      <td>...</td>\n",
       "      <td>...</td>\n",
       "      <td>...</td>\n",
       "    </tr>\n",
       "    <tr>\n",
       "      <th>10099</th>\n",
       "      <td>Valter</td>\n",
       "      <td>Sullins</td>\n",
       "      <td>F</td>\n",
       "    </tr>\n",
       "    <tr>\n",
       "      <th>10099</th>\n",
       "      <td>Valter</td>\n",
       "      <td>Sullins</td>\n",
       "      <td>F</td>\n",
       "    </tr>\n",
       "    <tr>\n",
       "      <th>10099</th>\n",
       "      <td>Valter</td>\n",
       "      <td>Sullins</td>\n",
       "      <td>F</td>\n",
       "    </tr>\n",
       "    <tr>\n",
       "      <th>10099</th>\n",
       "      <td>Valter</td>\n",
       "      <td>Sullins</td>\n",
       "      <td>F</td>\n",
       "    </tr>\n",
       "    <tr>\n",
       "      <th>10099</th>\n",
       "      <td>Valter</td>\n",
       "      <td>Sullins</td>\n",
       "      <td>F</td>\n",
       "    </tr>\n",
       "  </tbody>\n",
       "</table>\n",
       "<p>540 rows × 3 columns</p>\n",
       "</div>"
      ],
      "text/plain": [
       "       first_name last_name gender\n",
       "emp_no                            \n",
       "10001      Georgi   Facello      M\n",
       "10001      Georgi   Facello      M\n",
       "10001      Georgi   Facello      M\n",
       "10001      Georgi   Facello      M\n",
       "10001      Georgi   Facello      M\n",
       "...           ...       ...    ...\n",
       "10099      Valter   Sullins      F\n",
       "10099      Valter   Sullins      F\n",
       "10099      Valter   Sullins      F\n",
       "10099      Valter   Sullins      F\n",
       "10099      Valter   Sullins      F\n",
       "\n",
       "[540 rows x 3 columns]"
      ]
     },
     "execution_count": 63,
     "metadata": {},
     "output_type": "execute_result"
    }
   ],
   "source": [
    "innerJoin[['first_name','last_name','gender']]"
   ]
  },
  {
   "cell_type": "markdown",
   "metadata": {},
   "source": [
    "### Show employee numbers from 10080-10083"
   ]
  },
  {
   "cell_type": "code",
   "execution_count": 82,
   "metadata": {
    "scrolled": true
   },
   "outputs": [
    {
     "data": {
      "text/html": [
       "<div>\n",
       "<style scoped>\n",
       "    .dataframe tbody tr th:only-of-type {\n",
       "        vertical-align: middle;\n",
       "    }\n",
       "\n",
       "    .dataframe tbody tr th {\n",
       "        vertical-align: top;\n",
       "    }\n",
       "\n",
       "    .dataframe thead th {\n",
       "        text-align: right;\n",
       "    }\n",
       "</style>\n",
       "<table border=\"1\" class=\"dataframe\">\n",
       "  <thead>\n",
       "    <tr style=\"text-align: right;\">\n",
       "      <th></th>\n",
       "      <th>salary</th>\n",
       "      <th>from_date</th>\n",
       "      <th>to_date</th>\n",
       "      <th>birth_date</th>\n",
       "      <th>first_name</th>\n",
       "      <th>last_name</th>\n",
       "      <th>gender</th>\n",
       "      <th>hire_date</th>\n",
       "    </tr>\n",
       "    <tr>\n",
       "      <th>emp_no</th>\n",
       "      <th></th>\n",
       "      <th></th>\n",
       "      <th></th>\n",
       "      <th></th>\n",
       "      <th></th>\n",
       "      <th></th>\n",
       "      <th></th>\n",
       "      <th></th>\n",
       "    </tr>\n",
       "  </thead>\n",
       "  <tbody>\n",
       "    <tr>\n",
       "      <th>10080</th>\n",
       "      <td>60742</td>\n",
       "      <td>9/27/10</td>\n",
       "      <td>9/27/11</td>\n",
       "      <td>12/3/57</td>\n",
       "      <td>Premal</td>\n",
       "      <td>Baek</td>\n",
       "      <td>M</td>\n",
       "      <td>11/19/85</td>\n",
       "    </tr>\n",
       "    <tr>\n",
       "      <th>10080</th>\n",
       "      <td>62087</td>\n",
       "      <td>9/27/11</td>\n",
       "      <td>9/27/12</td>\n",
       "      <td>12/3/57</td>\n",
       "      <td>Premal</td>\n",
       "      <td>Baek</td>\n",
       "      <td>M</td>\n",
       "      <td>11/19/85</td>\n",
       "    </tr>\n",
       "    <tr>\n",
       "      <th>10080</th>\n",
       "      <td>65129</td>\n",
       "      <td>9/27/12</td>\n",
       "      <td>9/27/13</td>\n",
       "      <td>12/3/57</td>\n",
       "      <td>Premal</td>\n",
       "      <td>Baek</td>\n",
       "      <td>M</td>\n",
       "      <td>11/19/85</td>\n",
       "    </tr>\n",
       "    <tr>\n",
       "      <th>10080</th>\n",
       "      <td>68691</td>\n",
       "      <td>9/27/13</td>\n",
       "      <td>9/26/14</td>\n",
       "      <td>12/3/57</td>\n",
       "      <td>Premal</td>\n",
       "      <td>Baek</td>\n",
       "      <td>M</td>\n",
       "      <td>11/19/85</td>\n",
       "    </tr>\n",
       "    <tr>\n",
       "      <th>10080</th>\n",
       "      <td>71986</td>\n",
       "      <td>9/26/14</td>\n",
       "      <td>9/26/15</td>\n",
       "      <td>12/3/57</td>\n",
       "      <td>Premal</td>\n",
       "      <td>Baek</td>\n",
       "      <td>M</td>\n",
       "      <td>11/19/85</td>\n",
       "    </tr>\n",
       "    <tr>\n",
       "      <th>10080</th>\n",
       "      <td>72729</td>\n",
       "      <td>9/26/15</td>\n",
       "      <td>1/1/99</td>\n",
       "      <td>12/3/57</td>\n",
       "      <td>Premal</td>\n",
       "      <td>Baek</td>\n",
       "      <td>M</td>\n",
       "      <td>11/19/85</td>\n",
       "    </tr>\n",
       "    <tr>\n",
       "      <th>10081</th>\n",
       "      <td>69882</td>\n",
       "      <td>10/27/10</td>\n",
       "      <td>10/27/11</td>\n",
       "      <td>12/17/60</td>\n",
       "      <td>Zhongwei</td>\n",
       "      <td>Rosen</td>\n",
       "      <td>M</td>\n",
       "      <td>10/30/86</td>\n",
       "    </tr>\n",
       "    <tr>\n",
       "      <th>10081</th>\n",
       "      <td>73516</td>\n",
       "      <td>10/27/11</td>\n",
       "      <td>10/27/12</td>\n",
       "      <td>12/17/60</td>\n",
       "      <td>Zhongwei</td>\n",
       "      <td>Rosen</td>\n",
       "      <td>M</td>\n",
       "      <td>10/30/86</td>\n",
       "    </tr>\n",
       "    <tr>\n",
       "      <th>10081</th>\n",
       "      <td>74714</td>\n",
       "      <td>10/27/12</td>\n",
       "      <td>10/27/13</td>\n",
       "      <td>12/17/60</td>\n",
       "      <td>Zhongwei</td>\n",
       "      <td>Rosen</td>\n",
       "      <td>M</td>\n",
       "      <td>10/30/86</td>\n",
       "    </tr>\n",
       "    <tr>\n",
       "      <th>10081</th>\n",
       "      <td>74734</td>\n",
       "      <td>10/27/13</td>\n",
       "      <td>10/26/14</td>\n",
       "      <td>12/17/60</td>\n",
       "      <td>Zhongwei</td>\n",
       "      <td>Rosen</td>\n",
       "      <td>M</td>\n",
       "      <td>10/30/86</td>\n",
       "    </tr>\n",
       "    <tr>\n",
       "      <th>10081</th>\n",
       "      <td>75683</td>\n",
       "      <td>10/26/14</td>\n",
       "      <td>10/26/15</td>\n",
       "      <td>12/17/60</td>\n",
       "      <td>Zhongwei</td>\n",
       "      <td>Rosen</td>\n",
       "      <td>M</td>\n",
       "      <td>10/30/86</td>\n",
       "    </tr>\n",
       "    <tr>\n",
       "      <th>10081</th>\n",
       "      <td>79351</td>\n",
       "      <td>10/26/15</td>\n",
       "      <td>1/1/99</td>\n",
       "      <td>12/17/60</td>\n",
       "      <td>Zhongwei</td>\n",
       "      <td>Rosen</td>\n",
       "      <td>M</td>\n",
       "      <td>10/30/86</td>\n",
       "    </tr>\n",
       "    <tr>\n",
       "      <th>10083</th>\n",
       "      <td>62727</td>\n",
       "      <td>3/28/10</td>\n",
       "      <td>3/28/11</td>\n",
       "      <td>7/23/59</td>\n",
       "      <td>Vishv</td>\n",
       "      <td>Zockler</td>\n",
       "      <td>M</td>\n",
       "      <td>3/31/87</td>\n",
       "    </tr>\n",
       "    <tr>\n",
       "      <th>10083</th>\n",
       "      <td>65435</td>\n",
       "      <td>3/28/11</td>\n",
       "      <td>3/28/12</td>\n",
       "      <td>7/23/59</td>\n",
       "      <td>Vishv</td>\n",
       "      <td>Zockler</td>\n",
       "      <td>M</td>\n",
       "      <td>3/31/87</td>\n",
       "    </tr>\n",
       "    <tr>\n",
       "      <th>10083</th>\n",
       "      <td>67142</td>\n",
       "      <td>3/28/12</td>\n",
       "      <td>3/28/13</td>\n",
       "      <td>7/23/59</td>\n",
       "      <td>Vishv</td>\n",
       "      <td>Zockler</td>\n",
       "      <td>M</td>\n",
       "      <td>3/31/87</td>\n",
       "    </tr>\n",
       "    <tr>\n",
       "      <th>10083</th>\n",
       "      <td>70495</td>\n",
       "      <td>3/28/13</td>\n",
       "      <td>3/27/14</td>\n",
       "      <td>7/23/59</td>\n",
       "      <td>Vishv</td>\n",
       "      <td>Zockler</td>\n",
       "      <td>M</td>\n",
       "      <td>3/31/87</td>\n",
       "    </tr>\n",
       "    <tr>\n",
       "      <th>10083</th>\n",
       "      <td>73060</td>\n",
       "      <td>3/27/14</td>\n",
       "      <td>3/27/15</td>\n",
       "      <td>7/23/59</td>\n",
       "      <td>Vishv</td>\n",
       "      <td>Zockler</td>\n",
       "      <td>M</td>\n",
       "      <td>3/31/87</td>\n",
       "    </tr>\n",
       "    <tr>\n",
       "      <th>10083</th>\n",
       "      <td>73756</td>\n",
       "      <td>3/27/15</td>\n",
       "      <td>3/27/16</td>\n",
       "      <td>7/23/59</td>\n",
       "      <td>Vishv</td>\n",
       "      <td>Zockler</td>\n",
       "      <td>M</td>\n",
       "      <td>3/31/87</td>\n",
       "    </tr>\n",
       "    <tr>\n",
       "      <th>10083</th>\n",
       "      <td>77186</td>\n",
       "      <td>3/27/16</td>\n",
       "      <td>1/1/99</td>\n",
       "      <td>7/23/59</td>\n",
       "      <td>Vishv</td>\n",
       "      <td>Zockler</td>\n",
       "      <td>M</td>\n",
       "      <td>3/31/87</td>\n",
       "    </tr>\n",
       "  </tbody>\n",
       "</table>\n",
       "</div>"
      ],
      "text/plain": [
       "        salary from_date   to_date birth_date first_name last_name gender  \\\n",
       "emp_no                                                                      \n",
       "10080    60742   9/27/10   9/27/11    12/3/57     Premal      Baek      M   \n",
       "10080    62087   9/27/11   9/27/12    12/3/57     Premal      Baek      M   \n",
       "10080    65129   9/27/12   9/27/13    12/3/57     Premal      Baek      M   \n",
       "10080    68691   9/27/13   9/26/14    12/3/57     Premal      Baek      M   \n",
       "10080    71986   9/26/14   9/26/15    12/3/57     Premal      Baek      M   \n",
       "10080    72729   9/26/15    1/1/99    12/3/57     Premal      Baek      M   \n",
       "10081    69882  10/27/10  10/27/11   12/17/60   Zhongwei     Rosen      M   \n",
       "10081    73516  10/27/11  10/27/12   12/17/60   Zhongwei     Rosen      M   \n",
       "10081    74714  10/27/12  10/27/13   12/17/60   Zhongwei     Rosen      M   \n",
       "10081    74734  10/27/13  10/26/14   12/17/60   Zhongwei     Rosen      M   \n",
       "10081    75683  10/26/14  10/26/15   12/17/60   Zhongwei     Rosen      M   \n",
       "10081    79351  10/26/15    1/1/99   12/17/60   Zhongwei     Rosen      M   \n",
       "10083    62727   3/28/10   3/28/11    7/23/59      Vishv   Zockler      M   \n",
       "10083    65435   3/28/11   3/28/12    7/23/59      Vishv   Zockler      M   \n",
       "10083    67142   3/28/12   3/28/13    7/23/59      Vishv   Zockler      M   \n",
       "10083    70495   3/28/13   3/27/14    7/23/59      Vishv   Zockler      M   \n",
       "10083    73060   3/27/14   3/27/15    7/23/59      Vishv   Zockler      M   \n",
       "10083    73756   3/27/15   3/27/16    7/23/59      Vishv   Zockler      M   \n",
       "10083    77186   3/27/16    1/1/99    7/23/59      Vishv   Zockler      M   \n",
       "\n",
       "       hire_date  \n",
       "emp_no            \n",
       "10080   11/19/85  \n",
       "10080   11/19/85  \n",
       "10080   11/19/85  \n",
       "10080   11/19/85  \n",
       "10080   11/19/85  \n",
       "10080   11/19/85  \n",
       "10081   10/30/86  \n",
       "10081   10/30/86  \n",
       "10081   10/30/86  \n",
       "10081   10/30/86  \n",
       "10081   10/30/86  \n",
       "10081   10/30/86  \n",
       "10083    3/31/87  \n",
       "10083    3/31/87  \n",
       "10083    3/31/87  \n",
       "10083    3/31/87  \n",
       "10083    3/31/87  \n",
       "10083    3/31/87  \n",
       "10083    3/31/87  "
      ]
     },
     "execution_count": 82,
     "metadata": {},
     "output_type": "execute_result"
    }
   ],
   "source": [
    "innerJoin.loc[10080:10083]"
   ]
  },
  {
   "cell_type": "markdown",
   "metadata": {},
   "source": [
    "## Show all the information for the employees that have salaries over 100,000"
   ]
  },
  {
   "cell_type": "code",
   "execution_count": 83,
   "metadata": {},
   "outputs": [
    {
     "data": {
      "text/html": [
       "<div>\n",
       "<style scoped>\n",
       "    .dataframe tbody tr th:only-of-type {\n",
       "        vertical-align: middle;\n",
       "    }\n",
       "\n",
       "    .dataframe tbody tr th {\n",
       "        vertical-align: top;\n",
       "    }\n",
       "\n",
       "    .dataframe thead th {\n",
       "        text-align: right;\n",
       "    }\n",
       "</style>\n",
       "<table border=\"1\" class=\"dataframe\">\n",
       "  <thead>\n",
       "    <tr style=\"text-align: right;\">\n",
       "      <th></th>\n",
       "      <th>salary</th>\n",
       "      <th>from_date</th>\n",
       "      <th>to_date</th>\n",
       "      <th>birth_date</th>\n",
       "      <th>first_name</th>\n",
       "      <th>last_name</th>\n",
       "      <th>gender</th>\n",
       "      <th>hire_date</th>\n",
       "    </tr>\n",
       "    <tr>\n",
       "      <th>emp_no</th>\n",
       "      <th></th>\n",
       "      <th></th>\n",
       "      <th></th>\n",
       "      <th></th>\n",
       "      <th></th>\n",
       "      <th></th>\n",
       "      <th></th>\n",
       "      <th></th>\n",
       "    </tr>\n",
       "  </thead>\n",
       "  <tbody>\n",
       "    <tr>\n",
       "      <th>10066</th>\n",
       "      <td>102425</td>\n",
       "      <td>2/23/14</td>\n",
       "      <td>2/22/15</td>\n",
       "      <td>11/13/52</td>\n",
       "      <td>Kwee</td>\n",
       "      <td>Schusler</td>\n",
       "      <td>M</td>\n",
       "      <td>2/26/86</td>\n",
       "    </tr>\n",
       "    <tr>\n",
       "      <th>10066</th>\n",
       "      <td>102674</td>\n",
       "      <td>2/22/15</td>\n",
       "      <td>2/22/16</td>\n",
       "      <td>11/13/52</td>\n",
       "      <td>Kwee</td>\n",
       "      <td>Schusler</td>\n",
       "      <td>M</td>\n",
       "      <td>2/26/86</td>\n",
       "    </tr>\n",
       "    <tr>\n",
       "      <th>10066</th>\n",
       "      <td>103672</td>\n",
       "      <td>2/22/16</td>\n",
       "      <td>1/1/99</td>\n",
       "      <td>11/13/52</td>\n",
       "      <td>Kwee</td>\n",
       "      <td>Schusler</td>\n",
       "      <td>M</td>\n",
       "      <td>2/26/86</td>\n",
       "    </tr>\n",
       "    <tr>\n",
       "      <th>10068</th>\n",
       "      <td>105533</td>\n",
       "      <td>8/4/10</td>\n",
       "      <td>8/4/11</td>\n",
       "      <td>11/26/62</td>\n",
       "      <td>Charlene</td>\n",
       "      <td>Brattka</td>\n",
       "      <td>M</td>\n",
       "      <td>8/7/87</td>\n",
       "    </tr>\n",
       "    <tr>\n",
       "      <th>10068</th>\n",
       "      <td>106204</td>\n",
       "      <td>8/4/11</td>\n",
       "      <td>8/4/12</td>\n",
       "      <td>11/26/62</td>\n",
       "      <td>Charlene</td>\n",
       "      <td>Brattka</td>\n",
       "      <td>M</td>\n",
       "      <td>8/7/87</td>\n",
       "    </tr>\n",
       "    <tr>\n",
       "      <th>10068</th>\n",
       "      <td>108345</td>\n",
       "      <td>8/4/12</td>\n",
       "      <td>8/4/13</td>\n",
       "      <td>11/26/62</td>\n",
       "      <td>Charlene</td>\n",
       "      <td>Brattka</td>\n",
       "      <td>M</td>\n",
       "      <td>8/7/87</td>\n",
       "    </tr>\n",
       "    <tr>\n",
       "      <th>10068</th>\n",
       "      <td>111623</td>\n",
       "      <td>8/4/13</td>\n",
       "      <td>8/3/14</td>\n",
       "      <td>11/26/62</td>\n",
       "      <td>Charlene</td>\n",
       "      <td>Brattka</td>\n",
       "      <td>M</td>\n",
       "      <td>8/7/87</td>\n",
       "    </tr>\n",
       "    <tr>\n",
       "      <th>10068</th>\n",
       "      <td>112470</td>\n",
       "      <td>8/3/14</td>\n",
       "      <td>8/3/15</td>\n",
       "      <td>11/26/62</td>\n",
       "      <td>Charlene</td>\n",
       "      <td>Brattka</td>\n",
       "      <td>M</td>\n",
       "      <td>8/7/87</td>\n",
       "    </tr>\n",
       "    <tr>\n",
       "      <th>10068</th>\n",
       "      <td>113229</td>\n",
       "      <td>8/3/15</td>\n",
       "      <td>1/1/99</td>\n",
       "      <td>11/26/62</td>\n",
       "      <td>Charlene</td>\n",
       "      <td>Brattka</td>\n",
       "      <td>M</td>\n",
       "      <td>8/7/87</td>\n",
       "    </tr>\n",
       "    <tr>\n",
       "      <th>10087</th>\n",
       "      <td>102651</td>\n",
       "      <td>5/7/14</td>\n",
       "      <td>1/9/15</td>\n",
       "      <td>7/23/59</td>\n",
       "      <td>Xinglin</td>\n",
       "      <td>Eugenio</td>\n",
       "      <td>F</td>\n",
       "      <td>9/8/86</td>\n",
       "    </tr>\n",
       "  </tbody>\n",
       "</table>\n",
       "</div>"
      ],
      "text/plain": [
       "        salary from_date  to_date birth_date first_name last_name gender  \\\n",
       "emp_no                                                                     \n",
       "10066   102425   2/23/14  2/22/15   11/13/52       Kwee  Schusler      M   \n",
       "10066   102674   2/22/15  2/22/16   11/13/52       Kwee  Schusler      M   \n",
       "10066   103672   2/22/16   1/1/99   11/13/52       Kwee  Schusler      M   \n",
       "10068   105533    8/4/10   8/4/11   11/26/62   Charlene   Brattka      M   \n",
       "10068   106204    8/4/11   8/4/12   11/26/62   Charlene   Brattka      M   \n",
       "10068   108345    8/4/12   8/4/13   11/26/62   Charlene   Brattka      M   \n",
       "10068   111623    8/4/13   8/3/14   11/26/62   Charlene   Brattka      M   \n",
       "10068   112470    8/3/14   8/3/15   11/26/62   Charlene   Brattka      M   \n",
       "10068   113229    8/3/15   1/1/99   11/26/62   Charlene   Brattka      M   \n",
       "10087   102651    5/7/14   1/9/15    7/23/59    Xinglin   Eugenio      F   \n",
       "\n",
       "       hire_date  \n",
       "emp_no            \n",
       "10066    2/26/86  \n",
       "10066    2/26/86  \n",
       "10066    2/26/86  \n",
       "10068     8/7/87  \n",
       "10068     8/7/87  \n",
       "10068     8/7/87  \n",
       "10068     8/7/87  \n",
       "10068     8/7/87  \n",
       "10068     8/7/87  \n",
       "10087     9/8/86  "
      ]
     },
     "execution_count": 83,
     "metadata": {},
     "output_type": "execute_result"
    }
   ],
   "source": [
    "innerJoin.loc[innerJoin['salary']>100000]"
   ]
  },
  {
   "cell_type": "markdown",
   "metadata": {},
   "source": [
    "### Show the descriptive stats by gender\n",
    ">- Is there room for improvement for how we code gender in this dataset?"
   ]
  },
  {
   "cell_type": "code",
   "execution_count": 89,
   "metadata": {},
   "outputs": [
    {
     "data": {
      "text/plain": [
       "count     540\n",
       "unique      4\n",
       "top         M\n",
       "freq      311\n",
       "Name: gender, dtype: object"
      ]
     },
     "execution_count": 89,
     "metadata": {},
     "output_type": "execute_result"
    }
   ],
   "source": [
    "innerJoin.gender.describe()"
   ]
  },
  {
   "cell_type": "markdown",
   "metadata": {},
   "source": [
    "### Update all the lowercase codings for male and female to the uppercase\n",
    ">- I.e., change the 'f's to 'F's and the 'm's to 'M's"
   ]
  },
  {
   "cell_type": "code",
   "execution_count": 90,
   "metadata": {},
   "outputs": [],
   "source": [
    "innerJoin['gender'] = innerJoin['gender'].str.upper()"
   ]
  },
  {
   "cell_type": "markdown",
   "metadata": {},
   "source": [
    "### Now run the descriptive stats for salary by gender"
   ]
  },
  {
   "cell_type": "code",
   "execution_count": 91,
   "metadata": {},
   "outputs": [
    {
     "data": {
      "text/plain": [
       "count     540\n",
       "unique      2\n",
       "top         M\n",
       "freq      329\n",
       "Name: gender, dtype: object"
      ]
     },
     "execution_count": 91,
     "metadata": {},
     "output_type": "execute_result"
    }
   ],
   "source": [
    "innerJoin.gender.describe()"
   ]
  },
  {
   "cell_type": "markdown",
   "metadata": {},
   "source": [
    "### Calculate the descriptive statistics for male salaries only\n",
    ">- Round to two decimal places"
   ]
  },
  {
   "cell_type": "code",
   "execution_count": 92,
   "metadata": {},
   "outputs": [
    {
     "data": {
      "text/html": [
       "<div>\n",
       "<style scoped>\n",
       "    .dataframe tbody tr th:only-of-type {\n",
       "        vertical-align: middle;\n",
       "    }\n",
       "\n",
       "    .dataframe tbody tr th {\n",
       "        vertical-align: top;\n",
       "    }\n",
       "\n",
       "    .dataframe thead th {\n",
       "        text-align: right;\n",
       "    }\n",
       "</style>\n",
       "<table border=\"1\" class=\"dataframe\">\n",
       "  <thead>\n",
       "    <tr style=\"text-align: right;\">\n",
       "      <th></th>\n",
       "      <th>salary</th>\n",
       "    </tr>\n",
       "  </thead>\n",
       "  <tbody>\n",
       "    <tr>\n",
       "      <th>count</th>\n",
       "      <td>329.000000</td>\n",
       "    </tr>\n",
       "    <tr>\n",
       "      <th>mean</th>\n",
       "      <td>67303.528875</td>\n",
       "    </tr>\n",
       "    <tr>\n",
       "      <th>std</th>\n",
       "      <td>16473.053768</td>\n",
       "    </tr>\n",
       "    <tr>\n",
       "      <th>min</th>\n",
       "      <td>39935.000000</td>\n",
       "    </tr>\n",
       "    <tr>\n",
       "      <th>25%</th>\n",
       "      <td>53962.000000</td>\n",
       "    </tr>\n",
       "    <tr>\n",
       "      <th>50%</th>\n",
       "      <td>65841.000000</td>\n",
       "    </tr>\n",
       "    <tr>\n",
       "      <th>75%</th>\n",
       "      <td>77659.000000</td>\n",
       "    </tr>\n",
       "    <tr>\n",
       "      <th>max</th>\n",
       "      <td>113229.000000</td>\n",
       "    </tr>\n",
       "  </tbody>\n",
       "</table>\n",
       "</div>"
      ],
      "text/plain": [
       "              salary\n",
       "count     329.000000\n",
       "mean    67303.528875\n",
       "std     16473.053768\n",
       "min     39935.000000\n",
       "25%     53962.000000\n",
       "50%     65841.000000\n",
       "75%     77659.000000\n",
       "max    113229.000000"
      ]
     },
     "execution_count": 92,
     "metadata": {},
     "output_type": "execute_result"
    }
   ],
   "source": [
    "innerJoin.loc[innerJoin['gender']=='M'].describe()"
   ]
  },
  {
   "cell_type": "markdown",
   "metadata": {},
   "source": [
    "### Calculate the descriptive statistics for female salaries only\n",
    ">- Round to two decimal places"
   ]
  },
  {
   "cell_type": "code",
   "execution_count": 93,
   "metadata": {},
   "outputs": [
    {
     "data": {
      "text/html": [
       "<div>\n",
       "<style scoped>\n",
       "    .dataframe tbody tr th:only-of-type {\n",
       "        vertical-align: middle;\n",
       "    }\n",
       "\n",
       "    .dataframe tbody tr th {\n",
       "        vertical-align: top;\n",
       "    }\n",
       "\n",
       "    .dataframe thead th {\n",
       "        text-align: right;\n",
       "    }\n",
       "</style>\n",
       "<table border=\"1\" class=\"dataframe\">\n",
       "  <thead>\n",
       "    <tr style=\"text-align: right;\">\n",
       "      <th></th>\n",
       "      <th>salary</th>\n",
       "    </tr>\n",
       "  </thead>\n",
       "  <tbody>\n",
       "    <tr>\n",
       "      <th>count</th>\n",
       "      <td>211.000000</td>\n",
       "    </tr>\n",
       "    <tr>\n",
       "      <th>mean</th>\n",
       "      <td>70643.208531</td>\n",
       "    </tr>\n",
       "    <tr>\n",
       "      <th>std</th>\n",
       "      <td>15220.944199</td>\n",
       "    </tr>\n",
       "    <tr>\n",
       "      <th>min</th>\n",
       "      <td>39520.000000</td>\n",
       "    </tr>\n",
       "    <tr>\n",
       "      <th>25%</th>\n",
       "      <td>58901.500000</td>\n",
       "    </tr>\n",
       "    <tr>\n",
       "      <th>50%</th>\n",
       "      <td>70220.000000</td>\n",
       "    </tr>\n",
       "    <tr>\n",
       "      <th>75%</th>\n",
       "      <td>82619.000000</td>\n",
       "    </tr>\n",
       "    <tr>\n",
       "      <th>max</th>\n",
       "      <td>102651.000000</td>\n",
       "    </tr>\n",
       "  </tbody>\n",
       "</table>\n",
       "</div>"
      ],
      "text/plain": [
       "              salary\n",
       "count     211.000000\n",
       "mean    70643.208531\n",
       "std     15220.944199\n",
       "min     39520.000000\n",
       "25%     58901.500000\n",
       "50%     70220.000000\n",
       "75%     82619.000000\n",
       "max    102651.000000"
      ]
     },
     "execution_count": 93,
     "metadata": {},
     "output_type": "execute_result"
    }
   ],
   "source": [
    "innerJoin.loc[innerJoin['gender']=='F'].describe()"
   ]
  },
  {
   "cell_type": "markdown",
   "metadata": {},
   "source": [
    "## Which employee has the highest `current` salary? "
   ]
  },
  {
   "cell_type": "code",
   "execution_count": 99,
   "metadata": {},
   "outputs": [
    {
     "data": {
      "text/html": [
       "<div>\n",
       "<style scoped>\n",
       "    .dataframe tbody tr th:only-of-type {\n",
       "        vertical-align: middle;\n",
       "    }\n",
       "\n",
       "    .dataframe tbody tr th {\n",
       "        vertical-align: top;\n",
       "    }\n",
       "\n",
       "    .dataframe thead th {\n",
       "        text-align: right;\n",
       "    }\n",
       "</style>\n",
       "<table border=\"1\" class=\"dataframe\">\n",
       "  <thead>\n",
       "    <tr style=\"text-align: right;\">\n",
       "      <th></th>\n",
       "      <th>salary</th>\n",
       "      <th>from_date</th>\n",
       "      <th>to_date</th>\n",
       "      <th>birth_date</th>\n",
       "      <th>first_name</th>\n",
       "      <th>last_name</th>\n",
       "      <th>gender</th>\n",
       "      <th>hire_date</th>\n",
       "    </tr>\n",
       "    <tr>\n",
       "      <th>emp_no</th>\n",
       "      <th></th>\n",
       "      <th></th>\n",
       "      <th></th>\n",
       "      <th></th>\n",
       "      <th></th>\n",
       "      <th></th>\n",
       "      <th></th>\n",
       "      <th></th>\n",
       "    </tr>\n",
       "  </thead>\n",
       "  <tbody>\n",
       "    <tr>\n",
       "      <th>10068</th>\n",
       "      <td>113229</td>\n",
       "      <td>8/3/15</td>\n",
       "      <td>1/1/99</td>\n",
       "      <td>11/26/62</td>\n",
       "      <td>Charlene</td>\n",
       "      <td>Brattka</td>\n",
       "      <td>M</td>\n",
       "      <td>8/7/87</td>\n",
       "    </tr>\n",
       "    <tr>\n",
       "      <th>10068</th>\n",
       "      <td>112470</td>\n",
       "      <td>8/3/14</td>\n",
       "      <td>8/3/15</td>\n",
       "      <td>11/26/62</td>\n",
       "      <td>Charlene</td>\n",
       "      <td>Brattka</td>\n",
       "      <td>M</td>\n",
       "      <td>8/7/87</td>\n",
       "    </tr>\n",
       "    <tr>\n",
       "      <th>10068</th>\n",
       "      <td>111623</td>\n",
       "      <td>8/4/13</td>\n",
       "      <td>8/3/14</td>\n",
       "      <td>11/26/62</td>\n",
       "      <td>Charlene</td>\n",
       "      <td>Brattka</td>\n",
       "      <td>M</td>\n",
       "      <td>8/7/87</td>\n",
       "    </tr>\n",
       "    <tr>\n",
       "      <th>10068</th>\n",
       "      <td>108345</td>\n",
       "      <td>8/4/12</td>\n",
       "      <td>8/4/13</td>\n",
       "      <td>11/26/62</td>\n",
       "      <td>Charlene</td>\n",
       "      <td>Brattka</td>\n",
       "      <td>M</td>\n",
       "      <td>8/7/87</td>\n",
       "    </tr>\n",
       "    <tr>\n",
       "      <th>10068</th>\n",
       "      <td>106204</td>\n",
       "      <td>8/4/11</td>\n",
       "      <td>8/4/12</td>\n",
       "      <td>11/26/62</td>\n",
       "      <td>Charlene</td>\n",
       "      <td>Brattka</td>\n",
       "      <td>M</td>\n",
       "      <td>8/7/87</td>\n",
       "    </tr>\n",
       "    <tr>\n",
       "      <th>...</th>\n",
       "      <td>...</td>\n",
       "      <td>...</td>\n",
       "      <td>...</td>\n",
       "      <td>...</td>\n",
       "      <td>...</td>\n",
       "      <td>...</td>\n",
       "      <td>...</td>\n",
       "      <td>...</td>\n",
       "    </tr>\n",
       "    <tr>\n",
       "      <th>10065</th>\n",
       "      <td>40000</td>\n",
       "      <td>5/24/12</td>\n",
       "      <td>5/24/13</td>\n",
       "      <td>4/14/63</td>\n",
       "      <td>Satosi</td>\n",
       "      <td>Awdeh</td>\n",
       "      <td>M</td>\n",
       "      <td>5/18/88</td>\n",
       "    </tr>\n",
       "    <tr>\n",
       "      <th>10022</th>\n",
       "      <td>40000</td>\n",
       "      <td>9/3/13</td>\n",
       "      <td>9/2/14</td>\n",
       "      <td>7/8/52</td>\n",
       "      <td>Shahaf</td>\n",
       "      <td>Famili</td>\n",
       "      <td>M</td>\n",
       "      <td>8/22/95</td>\n",
       "    </tr>\n",
       "    <tr>\n",
       "      <th>10020</th>\n",
       "      <td>40000</td>\n",
       "      <td>12/30/11</td>\n",
       "      <td>12/30/12</td>\n",
       "      <td>12/24/52</td>\n",
       "      <td>Mayuko</td>\n",
       "      <td>Warwick</td>\n",
       "      <td>M</td>\n",
       "      <td>1/26/91</td>\n",
       "    </tr>\n",
       "    <tr>\n",
       "      <th>10022</th>\n",
       "      <td>39935</td>\n",
       "      <td>9/2/14</td>\n",
       "      <td>9/2/15</td>\n",
       "      <td>7/8/52</td>\n",
       "      <td>Shahaf</td>\n",
       "      <td>Famili</td>\n",
       "      <td>M</td>\n",
       "      <td>8/22/95</td>\n",
       "    </tr>\n",
       "    <tr>\n",
       "      <th>10027</th>\n",
       "      <td>39520</td>\n",
       "      <td>4/1/10</td>\n",
       "      <td>4/1/11</td>\n",
       "      <td>7/10/62</td>\n",
       "      <td>Divier</td>\n",
       "      <td>Reistad</td>\n",
       "      <td>F</td>\n",
       "      <td>7/7/89</td>\n",
       "    </tr>\n",
       "  </tbody>\n",
       "</table>\n",
       "<p>540 rows × 8 columns</p>\n",
       "</div>"
      ],
      "text/plain": [
       "        salary from_date   to_date birth_date first_name last_name gender  \\\n",
       "emp_no                                                                      \n",
       "10068   113229    8/3/15    1/1/99   11/26/62   Charlene   Brattka      M   \n",
       "10068   112470    8/3/14    8/3/15   11/26/62   Charlene   Brattka      M   \n",
       "10068   111623    8/4/13    8/3/14   11/26/62   Charlene   Brattka      M   \n",
       "10068   108345    8/4/12    8/4/13   11/26/62   Charlene   Brattka      M   \n",
       "10068   106204    8/4/11    8/4/12   11/26/62   Charlene   Brattka      M   \n",
       "...        ...       ...       ...        ...        ...       ...    ...   \n",
       "10065    40000   5/24/12   5/24/13    4/14/63     Satosi     Awdeh      M   \n",
       "10022    40000    9/3/13    9/2/14     7/8/52     Shahaf    Famili      M   \n",
       "10020    40000  12/30/11  12/30/12   12/24/52     Mayuko   Warwick      M   \n",
       "10022    39935    9/2/14    9/2/15     7/8/52     Shahaf    Famili      M   \n",
       "10027    39520    4/1/10    4/1/11    7/10/62     Divier   Reistad      F   \n",
       "\n",
       "       hire_date  \n",
       "emp_no            \n",
       "10068     8/7/87  \n",
       "10068     8/7/87  \n",
       "10068     8/7/87  \n",
       "10068     8/7/87  \n",
       "10068     8/7/87  \n",
       "...          ...  \n",
       "10065    5/18/88  \n",
       "10022    8/22/95  \n",
       "10020    1/26/91  \n",
       "10022    8/22/95  \n",
       "10027     7/7/89  \n",
       "\n",
       "[540 rows x 8 columns]"
      ]
     },
     "execution_count": 99,
     "metadata": {},
     "output_type": "execute_result"
    }
   ],
   "source": [
    "innerJoin.sort_values(by='salary',ascending=False)"
   ]
  },
  {
   "attachments": {
    "SalaryDeptERD.PNG": {
     "image/png": "[encoded data removed]"
    }
   },
   "cell_type": "markdown",
   "metadata": {},
   "source": [
    "### The following ERD shows the relationship between the `sal` and `dept` DataFrames:\n",
    "\n",
    "![SalaryDeptERD.PNG](attachment:SalaryDeptERD.PNG)"
   ]
  },
  {
   "cell_type": "markdown",
   "metadata": {},
   "source": [
    "## Join the two tables together with an inner join\n",
    ">- Call the joined dataset `salDept`\n",
    ">- Show the 'total' salary cost for each department. Order from highest salary cost to lowest. \n",
    ">- Note some data cleaning may be necessary"
   ]
  },
  {
   "cell_type": "code",
   "execution_count": null,
   "metadata": {},
   "outputs": [],
   "source": [
    "salDept = pd.merge(sal,dept,on='emp_no',)"
   ]
  },
  {
   "cell_type": "code",
   "execution_count": null,
   "metadata": {
    "scrolled": true
   },
   "outputs": [],
   "source": []
  },
  {
   "cell_type": "markdown",
   "metadata": {},
   "source": [
    "### Group by `dept_name` and see if you can find a potential data entry errors we need to clean up"
   ]
  },
  {
   "cell_type": "code",
   "execution_count": null,
   "metadata": {},
   "outputs": [],
   "source": []
  },
  {
   "cell_type": "markdown",
   "metadata": {},
   "source": [
    "### Update any potential data entry errors for department"
   ]
  },
  {
   "cell_type": "code",
   "execution_count": null,
   "metadata": {},
   "outputs": [],
   "source": []
  },
  {
   "cell_type": "markdown",
   "metadata": {},
   "source": [
    "#### Group by `dept_name` again and check for potential data entry errors"
   ]
  },
  {
   "cell_type": "code",
   "execution_count": null,
   "metadata": {},
   "outputs": [],
   "source": []
  },
  {
   "cell_type": "markdown",
   "metadata": {},
   "source": [
    "### Calculate the average salary by department\n",
    ">- Sort the results by average salary\n",
    ">- Round the results to two decimal places"
   ]
  },
  {
   "cell_type": "code",
   "execution_count": null,
   "metadata": {},
   "outputs": [],
   "source": []
  }
 ],
 "metadata": {
  "kernelspec": {
   "display_name": "Python 3",
   "language": "python",
   "name": "python3"
  },
  "language_info": {
   "codemirror_mode": {
    "name": "ipython",
    "version": 3
   },
   "file_extension": ".py",
   "mimetype": "text/x-python",
   "name": "python",
   "nbconvert_exporter": "python",
   "pygments_lexer": "ipython3",
   "version": "3.8.5"
  }
 },
 "nbformat": 4,
 "nbformat_minor": 2
}
