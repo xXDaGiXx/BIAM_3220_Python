{
 "cells": [
  {
   "cell_type": "markdown",
   "metadata": {},
   "source": [
    "# BAIM 3220: Introduction to Python\n",
    "## Quiz #7: Intro to Pandas\n",
    "### The goal of this quiz is to show your understanding of the following concepts:\n",
    "1. Use preliminary steps to understand your data: importing the pandas module and checking directory\n",
    "2. Read data into a DataFrame or Series\n",
    "3. Examine a DataFrame's basic structure\n",
    "4. Extract specific data from a pandas DataFrame\n",
    "\n",
    "## After downloading this .ipynb file from Canvas, resave with the following naming format:\n",
    ">- LastName_FirstName_Quiz7.ipynb\n",
    "\n",
    "## When you are ready to submit your quiz, upload your .ipynb file to Canvas in Quiz#7  \n",
    "\n",
    "### Note: For all questions you must use python code to get the answers. Looking at the file to get the answers and manually entering answers into this notebook will not earn you credit on this quiz. "
   ]
  },
  {
   "cell_type": "markdown",
   "metadata": {},
   "source": [
    "# Question Set 1: (Q1-Q20, 96 points)\n",
    "## The next set of questions use the `students100.xlsx` file"
   ]
  },
  {
   "cell_type": "markdown",
   "metadata": {},
   "source": [
    "## Q1 (3 Points): Import Pandas and give it a alias as pd"
   ]
  },
  {
   "cell_type": "code",
   "execution_count": 8,
   "metadata": {},
   "outputs": [],
   "source": [
    "import pandas as pd"
   ]
  },
  {
   "cell_type": "markdown",
   "metadata": {},
   "source": [
    "## Q2: (3 points): Check your working directory"
   ]
  },
  {
   "cell_type": "code",
   "execution_count": 109,
   "metadata": {
    "scrolled": true
   },
   "outputs": [
    {
     "name": "stdout",
     "output_type": "stream",
     "text": [
      "C:\\Users\\Cupcake\\Python\\students.csv\n",
      "C:\\Users\\Cupcake\\Python\\students100.xlsx\n"
     ]
    }
   ],
   "source": [
    "import os\n",
    "for root, dirs, files in os.walk(\"C:\\\\Users\\\\Cupcake\\\\Python\", topdown=False):\n",
    "    for name in files:\n",
    "        if name.find('student') == 0:\n",
    "            print(os.path.join(root, name))"
   ]
  },
  {
   "cell_type": "code",
   "execution_count": 110,
   "metadata": {},
   "outputs": [
    {
     "data": {
      "text/plain": [
       "['.ipynb_checkpoints',\n",
       " 'BooleanExpressions_StudentNotes.ipynb',\n",
       " 'ControlFlow_If_elseIf_StudentNotes.ipynb',\n",
       " 'ControlFlow_Loops_Student.ipynb',\n",
       " 'Dictionaries_Type-Along_student.ipynb',\n",
       " 'Functions_Student.ipynb',\n",
       " 'Gibson_Daniel_Midterm.ipynb',\n",
       " 'Gibson_Daniel_Quiz2.ipynb',\n",
       " 'Gibson_Daniel_Quiz3.ipynb',\n",
       " 'Gibson_Daniel_Quiz4Backup.ipynb',\n",
       " 'Gibson_Daniel_Quiz5.ipynb',\n",
       " 'Gibson_Daniel_Quiz6.ipynb',\n",
       " 'Gibson_Daniel_Quiz7.ipynb',\n",
       " 'Gibson_Daniel_W5D1Warmup.ipynb',\n",
       " 'Gibson_Daniel_W7D1-InClass-Dict&List_Review.ipynb',\n",
       " 'Gibson_Daniel_W7D1-InClass-ListReview.ipynb',\n",
       " 'Lists_Student_type-along.ipynb',\n",
       " 'ManipulatingStrings_Student.ipynb',\n",
       " 'Midterm Review Lab Questions_Student.ipynb',\n",
       " 'pandas1&2_Read_Index_Select_Activity_student.ipynb',\n",
       " 'Pandas_Part1_Student.ipynb',\n",
       " 'Pandas_Part2_Indexing-Selecting-Assigning_STUDENT.ipynb',\n",
       " 'Python_Functions_Homework.ipynb',\n",
       " 'Quiz#3 - Intro Flow Control - Student.ipynb',\n",
       " 'Quiz3DG.ipynb',\n",
       " 'Quiz4.ipynb',\n",
       " 'Quiz5.ipynb',\n",
       " 'students.csv',\n",
       " 'students100.xlsx',\n",
       " 'Untitled.ipynb',\n",
       " 'W3D1_Warmup.ipynb',\n",
       " 'W6D1-Warmup.ipynb',\n",
       " 'WaarmupPractice1.ipynb',\n",
       " 'Week2_HW_Exercises.ipynb',\n",
       " 'Week2_InClassActivity_JupyterPythonBasics_Student.ipynb',\n",
       " 'Week3_InClassActivity_ControlFlow_ifelifelse_Student.ipynb',\n",
       " 'Week3_InClassActivity_ControlFlow_Loops_student.ipynb',\n",
       " 'Week4_InClassActivity_Functions_student.ipynb',\n",
       " 'Week5_InClassActivity_Lists_student.ipynb',\n",
       " 'Week5_Lists_HW_student.ipynb',\n",
       " 'Week6_InClassActivity_Dictionaries_student.ipynb',\n",
       " 'Week7_ManipulatingStrings_studentHW.ipynb',\n",
       " 'winemag-data-130k-v2.csv']"
      ]
     },
     "execution_count": 110,
     "metadata": {},
     "output_type": "execute_result"
    }
   ],
   "source": [
    "os.listdir()"
   ]
  },
  {
   "cell_type": "markdown",
   "metadata": {},
   "source": [
    "## Q3 (3 Points) \n",
    ">- (1) Assign the `student100.xlsx` data to a DataFrame object named, `student`\n",
    ">- (1) Read the `students100.xlsx` \n",
    ">- (1) Set the index for the `student` DataFrame to the 'studentID' column"
   ]
  },
  {
   "cell_type": "code",
   "execution_count": 14,
   "metadata": {},
   "outputs": [],
   "source": [
    "student = pd.read_excel('students100.xlsx',index_col=0)"
   ]
  },
  {
   "cell_type": "markdown",
   "metadata": {},
   "source": [
    "## Q4 (3 points)\n",
    ">- Show the first 7 rows of the `student` dataframe"
   ]
  },
  {
   "cell_type": "code",
   "execution_count": 24,
   "metadata": {
    "scrolled": true
   },
   "outputs": [
    {
     "data": {
      "text/html": [
       "<div>\n",
       "<style scoped>\n",
       "    .dataframe tbody tr th:only-of-type {\n",
       "        vertical-align: middle;\n",
       "    }\n",
       "\n",
       "    .dataframe tbody tr th {\n",
       "        vertical-align: top;\n",
       "    }\n",
       "\n",
       "    .dataframe thead th {\n",
       "        text-align: right;\n",
       "    }\n",
       "</style>\n",
       "<table border=\"1\" class=\"dataframe\">\n",
       "  <thead>\n",
       "    <tr style=\"text-align: right;\">\n",
       "      <th></th>\n",
       "      <th>firstName</th>\n",
       "      <th>lastName</th>\n",
       "      <th>birthdate</th>\n",
       "      <th>Quiz1</th>\n",
       "      <th>Quiz2</th>\n",
       "    </tr>\n",
       "    <tr>\n",
       "      <th>studentID</th>\n",
       "      <th></th>\n",
       "      <th></th>\n",
       "      <th></th>\n",
       "      <th></th>\n",
       "      <th></th>\n",
       "    </tr>\n",
       "  </thead>\n",
       "  <tbody>\n",
       "    <tr>\n",
       "      <th>1001</th>\n",
       "      <td>Amy</td>\n",
       "      <td>Willis</td>\n",
       "      <td>1991-10-23</td>\n",
       "      <td>4.140812</td>\n",
       "      <td>91</td>\n",
       "    </tr>\n",
       "    <tr>\n",
       "      <th>1002</th>\n",
       "      <td>Donald</td>\n",
       "      <td>Pierce</td>\n",
       "      <td>1990-04-07</td>\n",
       "      <td>61.519937</td>\n",
       "      <td>100</td>\n",
       "    </tr>\n",
       "    <tr>\n",
       "      <th>1003</th>\n",
       "      <td>Adam</td>\n",
       "      <td>Holmes</td>\n",
       "      <td>1991-05-16</td>\n",
       "      <td>9.836241</td>\n",
       "      <td>67</td>\n",
       "    </tr>\n",
       "    <tr>\n",
       "      <th>1004</th>\n",
       "      <td>Patrick</td>\n",
       "      <td>Payne</td>\n",
       "      <td>1990-12-29</td>\n",
       "      <td>66.732694</td>\n",
       "      <td>73</td>\n",
       "    </tr>\n",
       "    <tr>\n",
       "      <th>1005</th>\n",
       "      <td>Chris</td>\n",
       "      <td>Lynch</td>\n",
       "      <td>1990-10-03</td>\n",
       "      <td>31.576606</td>\n",
       "      <td>85</td>\n",
       "    </tr>\n",
       "    <tr>\n",
       "      <th>1006</th>\n",
       "      <td>Clarence</td>\n",
       "      <td>George</td>\n",
       "      <td>1988-04-29</td>\n",
       "      <td>62.222653</td>\n",
       "      <td>97</td>\n",
       "    </tr>\n",
       "    <tr>\n",
       "      <th>1007</th>\n",
       "      <td>James</td>\n",
       "      <td>Lawson</td>\n",
       "      <td>1989-10-17</td>\n",
       "      <td>42.533444</td>\n",
       "      <td>54</td>\n",
       "    </tr>\n",
       "  </tbody>\n",
       "</table>\n",
       "</div>"
      ],
      "text/plain": [
       "          firstName lastName  birthdate      Quiz1  Quiz2\n",
       "studentID                                                \n",
       "1001            Amy   Willis 1991-10-23   4.140812     91\n",
       "1002         Donald   Pierce 1990-04-07  61.519937    100\n",
       "1003           Adam   Holmes 1991-05-16   9.836241     67\n",
       "1004        Patrick    Payne 1990-12-29  66.732694     73\n",
       "1005          Chris    Lynch 1990-10-03  31.576606     85\n",
       "1006       Clarence   George 1988-04-29  62.222653     97\n",
       "1007          James   Lawson 1989-10-17  42.533444     54"
      ]
     },
     "execution_count": 24,
     "metadata": {},
     "output_type": "execute_result"
    }
   ],
   "source": [
    "student.head(7)"
   ]
  },
  {
   "cell_type": "markdown",
   "metadata": {},
   "source": [
    "## Q5 (3 Points) Show what datatypes are in the dataframe"
   ]
  },
  {
   "cell_type": "code",
   "execution_count": 19,
   "metadata": {},
   "outputs": [
    {
     "data": {
      "text/plain": [
       "firstName            object\n",
       "lastName             object\n",
       "birthdate    datetime64[ns]\n",
       "Quiz1               float64\n",
       "Quiz2                 int64\n",
       "dtype: object"
      ]
     },
     "execution_count": 19,
     "metadata": {},
     "output_type": "execute_result"
    }
   ],
   "source": [
    "student.dtypes"
   ]
  },
  {
   "cell_type": "markdown",
   "metadata": {},
   "source": [
    "## Q6 (3 Points) Show the number of records/rows in the dataset\n",
    ">- Just the number of rows, nothing else\n",
    ">- Assign a variable to this called, `totRecords`"
   ]
  },
  {
   "cell_type": "code",
   "execution_count": 21,
   "metadata": {},
   "outputs": [
    {
     "name": "stdout",
     "output_type": "stream",
     "text": [
      "100\n"
     ]
    }
   ],
   "source": [
    "totRecords = len(student)\n",
    "print(totRecords)"
   ]
  },
  {
   "cell_type": "markdown",
   "metadata": {},
   "source": [
    "## Q7 (3 Points) Show the number of columns/fields in the dataset\n",
    ">- Just the number of columns, nothing else"
   ]
  },
  {
   "cell_type": "code",
   "execution_count": 23,
   "metadata": {
    "scrolled": true
   },
   "outputs": [
    {
     "data": {
      "text/plain": [
       "5"
      ]
     },
     "execution_count": 23,
     "metadata": {},
     "output_type": "execute_result"
    }
   ],
   "source": [
    "len(student.columns)"
   ]
  },
  {
   "cell_type": "markdown",
   "metadata": {},
   "source": [
    "## Q8 (3 Points) Show the `Quiz2` score of the student with the ID `1046`"
   ]
  },
  {
   "cell_type": "code",
   "execution_count": 33,
   "metadata": {},
   "outputs": [
    {
     "data": {
      "text/plain": [
       "96"
      ]
     },
     "execution_count": 33,
     "metadata": {},
     "output_type": "execute_result"
    }
   ],
   "source": [
    "student.loc[1046,'Quiz2']"
   ]
  },
  {
   "cell_type": "markdown",
   "metadata": {},
   "source": [
    "## Q9 (3 points) Show the `birthdate` of the student with the ID `1077`"
   ]
  },
  {
   "cell_type": "code",
   "execution_count": 35,
   "metadata": {},
   "outputs": [
    {
     "data": {
      "text/plain": [
       "Timestamp('1991-03-15 00:00:00')"
      ]
     },
     "execution_count": 35,
     "metadata": {},
     "output_type": "execute_result"
    }
   ],
   "source": [
    "student.loc[1077,'birthdate']"
   ]
  },
  {
   "cell_type": "markdown",
   "metadata": {},
   "source": [
    "## Q10 (3 Points) Show the third through the 10th records\n",
    ">- Show all the fields/columns related to these records"
   ]
  },
  {
   "cell_type": "code",
   "execution_count": 111,
   "metadata": {},
   "outputs": [
    {
     "data": {
      "text/html": [
       "<div>\n",
       "<style scoped>\n",
       "    .dataframe tbody tr th:only-of-type {\n",
       "        vertical-align: middle;\n",
       "    }\n",
       "\n",
       "    .dataframe tbody tr th {\n",
       "        vertical-align: top;\n",
       "    }\n",
       "\n",
       "    .dataframe thead th {\n",
       "        text-align: right;\n",
       "    }\n",
       "</style>\n",
       "<table border=\"1\" class=\"dataframe\">\n",
       "  <thead>\n",
       "    <tr style=\"text-align: right;\">\n",
       "      <th></th>\n",
       "      <th>firstName</th>\n",
       "      <th>lastName</th>\n",
       "      <th>birthdate</th>\n",
       "      <th>Quiz1</th>\n",
       "      <th>Quiz2</th>\n",
       "    </tr>\n",
       "    <tr>\n",
       "      <th>studentID</th>\n",
       "      <th></th>\n",
       "      <th></th>\n",
       "      <th></th>\n",
       "      <th></th>\n",
       "      <th></th>\n",
       "    </tr>\n",
       "  </thead>\n",
       "  <tbody>\n",
       "    <tr>\n",
       "      <th>1003</th>\n",
       "      <td>Adam</td>\n",
       "      <td>Holmes</td>\n",
       "      <td>1991-05-16</td>\n",
       "      <td>9.836241</td>\n",
       "      <td>67</td>\n",
       "    </tr>\n",
       "    <tr>\n",
       "      <th>1004</th>\n",
       "      <td>Patrick</td>\n",
       "      <td>Payne</td>\n",
       "      <td>1990-12-29</td>\n",
       "      <td>66.732694</td>\n",
       "      <td>73</td>\n",
       "    </tr>\n",
       "    <tr>\n",
       "      <th>1005</th>\n",
       "      <td>Chris</td>\n",
       "      <td>Lynch</td>\n",
       "      <td>1990-10-03</td>\n",
       "      <td>31.576606</td>\n",
       "      <td>85</td>\n",
       "    </tr>\n",
       "    <tr>\n",
       "      <th>1006</th>\n",
       "      <td>Clarence</td>\n",
       "      <td>George</td>\n",
       "      <td>1988-04-29</td>\n",
       "      <td>62.222653</td>\n",
       "      <td>97</td>\n",
       "    </tr>\n",
       "    <tr>\n",
       "      <th>1007</th>\n",
       "      <td>James</td>\n",
       "      <td>Lawson</td>\n",
       "      <td>1989-10-17</td>\n",
       "      <td>42.533444</td>\n",
       "      <td>54</td>\n",
       "    </tr>\n",
       "    <tr>\n",
       "      <th>1008</th>\n",
       "      <td>Barbara</td>\n",
       "      <td>Robertson</td>\n",
       "      <td>1991-12-05</td>\n",
       "      <td>42.743908</td>\n",
       "      <td>64</td>\n",
       "    </tr>\n",
       "    <tr>\n",
       "      <th>1009</th>\n",
       "      <td>Louis</td>\n",
       "      <td>Simpson</td>\n",
       "      <td>1990-12-13</td>\n",
       "      <td>42.614158</td>\n",
       "      <td>77</td>\n",
       "    </tr>\n",
       "    <tr>\n",
       "      <th>1010</th>\n",
       "      <td>Dennis</td>\n",
       "      <td>Gilbert</td>\n",
       "      <td>1990-12-07</td>\n",
       "      <td>25.074897</td>\n",
       "      <td>74</td>\n",
       "    </tr>\n",
       "  </tbody>\n",
       "</table>\n",
       "</div>"
      ],
      "text/plain": [
       "          firstName   lastName  birthdate      Quiz1  Quiz2\n",
       "studentID                                                  \n",
       "1003           Adam     Holmes 1991-05-16   9.836241     67\n",
       "1004        Patrick      Payne 1990-12-29  66.732694     73\n",
       "1005          Chris      Lynch 1990-10-03  31.576606     85\n",
       "1006       Clarence     George 1988-04-29  62.222653     97\n",
       "1007          James     Lawson 1989-10-17  42.533444     54\n",
       "1008        Barbara  Robertson 1991-12-05  42.743908     64\n",
       "1009          Louis    Simpson 1990-12-13  42.614158     77\n",
       "1010         Dennis    Gilbert 1990-12-07  25.074897     74"
      ]
     },
     "execution_count": 111,
     "metadata": {},
     "output_type": "execute_result"
    }
   ],
   "source": [
    "student.iloc[2:10]"
   ]
  },
  {
   "cell_type": "markdown",
   "metadata": {},
   "source": [
    "## Q11 (3 Points) Show all rows for the 2nd to the 4th columns (birthday-Quiz1)"
   ]
  },
  {
   "cell_type": "code",
   "execution_count": 112,
   "metadata": {
    "scrolled": true
   },
   "outputs": [
    {
     "data": {
      "text/html": [
       "<div>\n",
       "<style scoped>\n",
       "    .dataframe tbody tr th:only-of-type {\n",
       "        vertical-align: middle;\n",
       "    }\n",
       "\n",
       "    .dataframe tbody tr th {\n",
       "        vertical-align: top;\n",
       "    }\n",
       "\n",
       "    .dataframe thead th {\n",
       "        text-align: right;\n",
       "    }\n",
       "</style>\n",
       "<table border=\"1\" class=\"dataframe\">\n",
       "  <thead>\n",
       "    <tr style=\"text-align: right;\">\n",
       "      <th></th>\n",
       "      <th>birthdate</th>\n",
       "      <th>Quiz1</th>\n",
       "    </tr>\n",
       "    <tr>\n",
       "      <th>studentID</th>\n",
       "      <th></th>\n",
       "      <th></th>\n",
       "    </tr>\n",
       "  </thead>\n",
       "  <tbody>\n",
       "    <tr>\n",
       "      <th>1001</th>\n",
       "      <td>1991-10-23</td>\n",
       "      <td>4.140812</td>\n",
       "    </tr>\n",
       "    <tr>\n",
       "      <th>1002</th>\n",
       "      <td>1990-04-07</td>\n",
       "      <td>61.519937</td>\n",
       "    </tr>\n",
       "    <tr>\n",
       "      <th>1003</th>\n",
       "      <td>1991-05-16</td>\n",
       "      <td>9.836241</td>\n",
       "    </tr>\n",
       "    <tr>\n",
       "      <th>1004</th>\n",
       "      <td>1990-12-29</td>\n",
       "      <td>66.732694</td>\n",
       "    </tr>\n",
       "    <tr>\n",
       "      <th>1005</th>\n",
       "      <td>1990-10-03</td>\n",
       "      <td>31.576606</td>\n",
       "    </tr>\n",
       "    <tr>\n",
       "      <th>...</th>\n",
       "      <td>...</td>\n",
       "      <td>...</td>\n",
       "    </tr>\n",
       "    <tr>\n",
       "      <th>1096</th>\n",
       "      <td>1991-11-05</td>\n",
       "      <td>81.978636</td>\n",
       "    </tr>\n",
       "    <tr>\n",
       "      <th>1097</th>\n",
       "      <td>1990-03-18</td>\n",
       "      <td>96.395876</td>\n",
       "    </tr>\n",
       "    <tr>\n",
       "      <th>1098</th>\n",
       "      <td>1988-12-23</td>\n",
       "      <td>91.205344</td>\n",
       "    </tr>\n",
       "    <tr>\n",
       "      <th>1099</th>\n",
       "      <td>1989-12-06</td>\n",
       "      <td>62.268194</td>\n",
       "    </tr>\n",
       "    <tr>\n",
       "      <th>1100</th>\n",
       "      <td>1990-11-17</td>\n",
       "      <td>17.970791</td>\n",
       "    </tr>\n",
       "  </tbody>\n",
       "</table>\n",
       "<p>100 rows × 2 columns</p>\n",
       "</div>"
      ],
      "text/plain": [
       "           birthdate      Quiz1\n",
       "studentID                      \n",
       "1001      1991-10-23   4.140812\n",
       "1002      1990-04-07  61.519937\n",
       "1003      1991-05-16   9.836241\n",
       "1004      1990-12-29  66.732694\n",
       "1005      1990-10-03  31.576606\n",
       "...              ...        ...\n",
       "1096      1991-11-05  81.978636\n",
       "1097      1990-03-18  96.395876\n",
       "1098      1988-12-23  91.205344\n",
       "1099      1989-12-06  62.268194\n",
       "1100      1990-11-17  17.970791\n",
       "\n",
       "[100 rows x 2 columns]"
      ]
     },
     "execution_count": 112,
     "metadata": {},
     "output_type": "execute_result"
    }
   ],
   "source": [
    "student.iloc[:,2:4]"
   ]
  },
  {
   "cell_type": "markdown",
   "metadata": {},
   "source": [
    "## Q12 (3 Points) Show all data for studentID's from 1071-1076"
   ]
  },
  {
   "cell_type": "code",
   "execution_count": 114,
   "metadata": {
    "scrolled": false
   },
   "outputs": [
    {
     "data": {
      "text/html": [
       "<div>\n",
       "<style scoped>\n",
       "    .dataframe tbody tr th:only-of-type {\n",
       "        vertical-align: middle;\n",
       "    }\n",
       "\n",
       "    .dataframe tbody tr th {\n",
       "        vertical-align: top;\n",
       "    }\n",
       "\n",
       "    .dataframe thead th {\n",
       "        text-align: right;\n",
       "    }\n",
       "</style>\n",
       "<table border=\"1\" class=\"dataframe\">\n",
       "  <thead>\n",
       "    <tr style=\"text-align: right;\">\n",
       "      <th></th>\n",
       "      <th>firstName</th>\n",
       "      <th>lastName</th>\n",
       "      <th>birthdate</th>\n",
       "      <th>Quiz1</th>\n",
       "      <th>Quiz2</th>\n",
       "    </tr>\n",
       "    <tr>\n",
       "      <th>studentID</th>\n",
       "      <th></th>\n",
       "      <th></th>\n",
       "      <th></th>\n",
       "      <th></th>\n",
       "      <th></th>\n",
       "    </tr>\n",
       "  </thead>\n",
       "  <tbody>\n",
       "    <tr>\n",
       "      <th>1071</th>\n",
       "      <td>Kevin</td>\n",
       "      <td>Campbell</td>\n",
       "      <td>1991-09-28</td>\n",
       "      <td>85.034625</td>\n",
       "      <td>94</td>\n",
       "    </tr>\n",
       "    <tr>\n",
       "      <th>1072</th>\n",
       "      <td>Samuel</td>\n",
       "      <td>Elliott</td>\n",
       "      <td>1990-11-22</td>\n",
       "      <td>80.385630</td>\n",
       "      <td>59</td>\n",
       "    </tr>\n",
       "    <tr>\n",
       "      <th>1073</th>\n",
       "      <td>Annie</td>\n",
       "      <td>Hernandez</td>\n",
       "      <td>1989-11-15</td>\n",
       "      <td>83.166151</td>\n",
       "      <td>93</td>\n",
       "    </tr>\n",
       "    <tr>\n",
       "      <th>1074</th>\n",
       "      <td>Willie</td>\n",
       "      <td>Evans</td>\n",
       "      <td>1991-09-04</td>\n",
       "      <td>74.886973</td>\n",
       "      <td>98</td>\n",
       "    </tr>\n",
       "    <tr>\n",
       "      <th>1075</th>\n",
       "      <td>Norma</td>\n",
       "      <td>Lynch</td>\n",
       "      <td>1991-12-02</td>\n",
       "      <td>89.951541</td>\n",
       "      <td>98</td>\n",
       "    </tr>\n",
       "    <tr>\n",
       "      <th>1076</th>\n",
       "      <td>Jason</td>\n",
       "      <td>Freeman</td>\n",
       "      <td>1989-06-01</td>\n",
       "      <td>27.757535</td>\n",
       "      <td>82</td>\n",
       "    </tr>\n",
       "  </tbody>\n",
       "</table>\n",
       "</div>"
      ],
      "text/plain": [
       "          firstName   lastName  birthdate      Quiz1  Quiz2\n",
       "studentID                                                  \n",
       "1071          Kevin   Campbell 1991-09-28  85.034625     94\n",
       "1072         Samuel    Elliott 1990-11-22  80.385630     59\n",
       "1073          Annie  Hernandez 1989-11-15  83.166151     93\n",
       "1074         Willie      Evans 1991-09-04  74.886973     98\n",
       "1075          Norma      Lynch 1991-12-02  89.951541     98\n",
       "1076          Jason    Freeman 1989-06-01  27.757535     82"
      ]
     },
     "execution_count": 114,
     "metadata": {},
     "output_type": "execute_result"
    }
   ],
   "source": [
    "student.loc[1071:1076]"
   ]
  },
  {
   "cell_type": "markdown",
   "metadata": {},
   "source": [
    "## Q13 (3 points) Show the `Quiz1` and `Quiz2` scores for student ID of: 1002, 1006, 1010, 1030 "
   ]
  },
  {
   "cell_type": "code",
   "execution_count": 52,
   "metadata": {},
   "outputs": [
    {
     "data": {
      "text/html": [
       "<div>\n",
       "<style scoped>\n",
       "    .dataframe tbody tr th:only-of-type {\n",
       "        vertical-align: middle;\n",
       "    }\n",
       "\n",
       "    .dataframe tbody tr th {\n",
       "        vertical-align: top;\n",
       "    }\n",
       "\n",
       "    .dataframe thead th {\n",
       "        text-align: right;\n",
       "    }\n",
       "</style>\n",
       "<table border=\"1\" class=\"dataframe\">\n",
       "  <thead>\n",
       "    <tr style=\"text-align: right;\">\n",
       "      <th></th>\n",
       "      <th>Quiz1</th>\n",
       "      <th>Quiz2</th>\n",
       "    </tr>\n",
       "    <tr>\n",
       "      <th>studentID</th>\n",
       "      <th></th>\n",
       "      <th></th>\n",
       "    </tr>\n",
       "  </thead>\n",
       "  <tbody>\n",
       "    <tr>\n",
       "      <th>1002</th>\n",
       "      <td>61.519937</td>\n",
       "      <td>100</td>\n",
       "    </tr>\n",
       "    <tr>\n",
       "      <th>1006</th>\n",
       "      <td>62.222653</td>\n",
       "      <td>97</td>\n",
       "    </tr>\n",
       "    <tr>\n",
       "      <th>1010</th>\n",
       "      <td>25.074897</td>\n",
       "      <td>74</td>\n",
       "    </tr>\n",
       "  </tbody>\n",
       "</table>\n",
       "</div>"
      ],
      "text/plain": [
       "               Quiz1  Quiz2\n",
       "studentID                  \n",
       "1002       61.519937    100\n",
       "1006       62.222653     97\n",
       "1010       25.074897     74"
      ]
     },
     "execution_count": 52,
     "metadata": {},
     "output_type": "execute_result"
    }
   ],
   "source": [
    "student.loc[[1002,1006,1010],['Quiz1','Quiz2']]"
   ]
  },
  {
   "cell_type": "markdown",
   "metadata": {},
   "source": [
    "## Q14 (6 points) Show the `Quiz1` and `Quiz2` scores for students that scored an 80 or above on `Quiz1`"
   ]
  },
  {
   "cell_type": "code",
   "execution_count": 56,
   "metadata": {},
   "outputs": [
    {
     "data": {
      "text/html": [
       "<div>\n",
       "<style scoped>\n",
       "    .dataframe tbody tr th:only-of-type {\n",
       "        vertical-align: middle;\n",
       "    }\n",
       "\n",
       "    .dataframe tbody tr th {\n",
       "        vertical-align: top;\n",
       "    }\n",
       "\n",
       "    .dataframe thead th {\n",
       "        text-align: right;\n",
       "    }\n",
       "</style>\n",
       "<table border=\"1\" class=\"dataframe\">\n",
       "  <thead>\n",
       "    <tr style=\"text-align: right;\">\n",
       "      <th></th>\n",
       "      <th>Quiz1</th>\n",
       "      <th>Quiz2</th>\n",
       "    </tr>\n",
       "    <tr>\n",
       "      <th>studentID</th>\n",
       "      <th></th>\n",
       "      <th></th>\n",
       "    </tr>\n",
       "  </thead>\n",
       "  <tbody>\n",
       "    <tr>\n",
       "      <th>1014</th>\n",
       "      <td>80.042038</td>\n",
       "      <td>65</td>\n",
       "    </tr>\n",
       "    <tr>\n",
       "      <th>1020</th>\n",
       "      <td>82.309589</td>\n",
       "      <td>92</td>\n",
       "    </tr>\n",
       "    <tr>\n",
       "      <th>1021</th>\n",
       "      <td>90.470554</td>\n",
       "      <td>70</td>\n",
       "    </tr>\n",
       "    <tr>\n",
       "      <th>1026</th>\n",
       "      <td>84.668032</td>\n",
       "      <td>71</td>\n",
       "    </tr>\n",
       "    <tr>\n",
       "      <th>1027</th>\n",
       "      <td>94.658199</td>\n",
       "      <td>100</td>\n",
       "    </tr>\n",
       "    <tr>\n",
       "      <th>1032</th>\n",
       "      <td>81.698243</td>\n",
       "      <td>66</td>\n",
       "    </tr>\n",
       "    <tr>\n",
       "      <th>1036</th>\n",
       "      <td>80.622846</td>\n",
       "      <td>89</td>\n",
       "    </tr>\n",
       "    <tr>\n",
       "      <th>1045</th>\n",
       "      <td>89.127340</td>\n",
       "      <td>63</td>\n",
       "    </tr>\n",
       "    <tr>\n",
       "      <th>1049</th>\n",
       "      <td>95.793698</td>\n",
       "      <td>89</td>\n",
       "    </tr>\n",
       "    <tr>\n",
       "      <th>1051</th>\n",
       "      <td>87.214523</td>\n",
       "      <td>88</td>\n",
       "    </tr>\n",
       "    <tr>\n",
       "      <th>1057</th>\n",
       "      <td>94.480397</td>\n",
       "      <td>58</td>\n",
       "    </tr>\n",
       "    <tr>\n",
       "      <th>1061</th>\n",
       "      <td>87.602611</td>\n",
       "      <td>73</td>\n",
       "    </tr>\n",
       "    <tr>\n",
       "      <th>1068</th>\n",
       "      <td>91.667014</td>\n",
       "      <td>57</td>\n",
       "    </tr>\n",
       "    <tr>\n",
       "      <th>1071</th>\n",
       "      <td>85.034625</td>\n",
       "      <td>94</td>\n",
       "    </tr>\n",
       "    <tr>\n",
       "      <th>1072</th>\n",
       "      <td>80.385630</td>\n",
       "      <td>59</td>\n",
       "    </tr>\n",
       "    <tr>\n",
       "      <th>1073</th>\n",
       "      <td>83.166151</td>\n",
       "      <td>93</td>\n",
       "    </tr>\n",
       "    <tr>\n",
       "      <th>1075</th>\n",
       "      <td>89.951541</td>\n",
       "      <td>98</td>\n",
       "    </tr>\n",
       "    <tr>\n",
       "      <th>1081</th>\n",
       "      <td>86.335373</td>\n",
       "      <td>51</td>\n",
       "    </tr>\n",
       "    <tr>\n",
       "      <th>1096</th>\n",
       "      <td>81.978636</td>\n",
       "      <td>90</td>\n",
       "    </tr>\n",
       "    <tr>\n",
       "      <th>1097</th>\n",
       "      <td>96.395876</td>\n",
       "      <td>76</td>\n",
       "    </tr>\n",
       "    <tr>\n",
       "      <th>1098</th>\n",
       "      <td>91.205344</td>\n",
       "      <td>93</td>\n",
       "    </tr>\n",
       "  </tbody>\n",
       "</table>\n",
       "</div>"
      ],
      "text/plain": [
       "               Quiz1  Quiz2\n",
       "studentID                  \n",
       "1014       80.042038     65\n",
       "1020       82.309589     92\n",
       "1021       90.470554     70\n",
       "1026       84.668032     71\n",
       "1027       94.658199    100\n",
       "1032       81.698243     66\n",
       "1036       80.622846     89\n",
       "1045       89.127340     63\n",
       "1049       95.793698     89\n",
       "1051       87.214523     88\n",
       "1057       94.480397     58\n",
       "1061       87.602611     73\n",
       "1068       91.667014     57\n",
       "1071       85.034625     94\n",
       "1072       80.385630     59\n",
       "1073       83.166151     93\n",
       "1075       89.951541     98\n",
       "1081       86.335373     51\n",
       "1096       81.978636     90\n",
       "1097       96.395876     76\n",
       "1098       91.205344     93"
      ]
     },
     "execution_count": 56,
     "metadata": {},
     "output_type": "execute_result"
    }
   ],
   "source": [
    "student.loc[(student.Quiz1 >= 80),['Quiz1','Quiz2']]"
   ]
  },
  {
   "cell_type": "markdown",
   "metadata": {},
   "source": [
    "## Q15 (6 points) Show the `lastName` and `Quiz2` scores for students that scored a 90 or above on `Quiz2`"
   ]
  },
  {
   "cell_type": "code",
   "execution_count": 58,
   "metadata": {},
   "outputs": [
    {
     "data": {
      "text/html": [
       "<div>\n",
       "<style scoped>\n",
       "    .dataframe tbody tr th:only-of-type {\n",
       "        vertical-align: middle;\n",
       "    }\n",
       "\n",
       "    .dataframe tbody tr th {\n",
       "        vertical-align: top;\n",
       "    }\n",
       "\n",
       "    .dataframe thead th {\n",
       "        text-align: right;\n",
       "    }\n",
       "</style>\n",
       "<table border=\"1\" class=\"dataframe\">\n",
       "  <thead>\n",
       "    <tr style=\"text-align: right;\">\n",
       "      <th></th>\n",
       "      <th>lastName</th>\n",
       "      <th>Quiz2</th>\n",
       "    </tr>\n",
       "    <tr>\n",
       "      <th>studentID</th>\n",
       "      <th></th>\n",
       "      <th></th>\n",
       "    </tr>\n",
       "  </thead>\n",
       "  <tbody>\n",
       "    <tr>\n",
       "      <th>1001</th>\n",
       "      <td>Willis</td>\n",
       "      <td>91</td>\n",
       "    </tr>\n",
       "    <tr>\n",
       "      <th>1002</th>\n",
       "      <td>Pierce</td>\n",
       "      <td>100</td>\n",
       "    </tr>\n",
       "    <tr>\n",
       "      <th>1006</th>\n",
       "      <td>George</td>\n",
       "      <td>97</td>\n",
       "    </tr>\n",
       "    <tr>\n",
       "      <th>1018</th>\n",
       "      <td>Ramos</td>\n",
       "      <td>98</td>\n",
       "    </tr>\n",
       "    <tr>\n",
       "      <th>1020</th>\n",
       "      <td>Adams</td>\n",
       "      <td>92</td>\n",
       "    </tr>\n",
       "    <tr>\n",
       "      <th>1022</th>\n",
       "      <td>Little</td>\n",
       "      <td>90</td>\n",
       "    </tr>\n",
       "    <tr>\n",
       "      <th>1027</th>\n",
       "      <td>Evans</td>\n",
       "      <td>100</td>\n",
       "    </tr>\n",
       "    <tr>\n",
       "      <th>1029</th>\n",
       "      <td>Perkins</td>\n",
       "      <td>96</td>\n",
       "    </tr>\n",
       "    <tr>\n",
       "      <th>1030</th>\n",
       "      <td>Boyd</td>\n",
       "      <td>96</td>\n",
       "    </tr>\n",
       "    <tr>\n",
       "      <th>1046</th>\n",
       "      <td>Olson</td>\n",
       "      <td>96</td>\n",
       "    </tr>\n",
       "    <tr>\n",
       "      <th>1056</th>\n",
       "      <td>Morrison</td>\n",
       "      <td>96</td>\n",
       "    </tr>\n",
       "    <tr>\n",
       "      <th>1071</th>\n",
       "      <td>Campbell</td>\n",
       "      <td>94</td>\n",
       "    </tr>\n",
       "    <tr>\n",
       "      <th>1073</th>\n",
       "      <td>Hernandez</td>\n",
       "      <td>93</td>\n",
       "    </tr>\n",
       "    <tr>\n",
       "      <th>1074</th>\n",
       "      <td>Evans</td>\n",
       "      <td>98</td>\n",
       "    </tr>\n",
       "    <tr>\n",
       "      <th>1075</th>\n",
       "      <td>Lynch</td>\n",
       "      <td>98</td>\n",
       "    </tr>\n",
       "    <tr>\n",
       "      <th>1079</th>\n",
       "      <td>Austin</td>\n",
       "      <td>95</td>\n",
       "    </tr>\n",
       "    <tr>\n",
       "      <th>1090</th>\n",
       "      <td>Powell</td>\n",
       "      <td>93</td>\n",
       "    </tr>\n",
       "    <tr>\n",
       "      <th>1091</th>\n",
       "      <td>Robertson</td>\n",
       "      <td>99</td>\n",
       "    </tr>\n",
       "    <tr>\n",
       "      <th>1096</th>\n",
       "      <td>Cunningham</td>\n",
       "      <td>90</td>\n",
       "    </tr>\n",
       "    <tr>\n",
       "      <th>1098</th>\n",
       "      <td>Little</td>\n",
       "      <td>93</td>\n",
       "    </tr>\n",
       "  </tbody>\n",
       "</table>\n",
       "</div>"
      ],
      "text/plain": [
       "             lastName  Quiz2\n",
       "studentID                   \n",
       "1001           Willis     91\n",
       "1002           Pierce    100\n",
       "1006           George     97\n",
       "1018            Ramos     98\n",
       "1020            Adams     92\n",
       "1022           Little     90\n",
       "1027            Evans    100\n",
       "1029          Perkins     96\n",
       "1030             Boyd     96\n",
       "1046            Olson     96\n",
       "1056         Morrison     96\n",
       "1071         Campbell     94\n",
       "1073        Hernandez     93\n",
       "1074            Evans     98\n",
       "1075            Lynch     98\n",
       "1079           Austin     95\n",
       "1090           Powell     93\n",
       "1091        Robertson     99\n",
       "1096       Cunningham     90\n",
       "1098           Little     93"
      ]
     },
     "execution_count": 58,
     "metadata": {},
     "output_type": "execute_result"
    }
   ],
   "source": [
    "student.loc[(student['Quiz2']>=90),['lastName','Quiz2']]"
   ]
  },
  {
   "cell_type": "markdown",
   "metadata": {},
   "source": [
    "## Q16 (6 points) Show the `lastName`, `Quiz1`, and `Quiz2` scores for students that scored an 80 or above on `Quiz2` and a 95 or above on `Quiz1`"
   ]
  },
  {
   "cell_type": "code",
   "execution_count": 60,
   "metadata": {},
   "outputs": [
    {
     "data": {
      "text/html": [
       "<div>\n",
       "<style scoped>\n",
       "    .dataframe tbody tr th:only-of-type {\n",
       "        vertical-align: middle;\n",
       "    }\n",
       "\n",
       "    .dataframe tbody tr th {\n",
       "        vertical-align: top;\n",
       "    }\n",
       "\n",
       "    .dataframe thead th {\n",
       "        text-align: right;\n",
       "    }\n",
       "</style>\n",
       "<table border=\"1\" class=\"dataframe\">\n",
       "  <thead>\n",
       "    <tr style=\"text-align: right;\">\n",
       "      <th></th>\n",
       "      <th>lastName</th>\n",
       "      <th>Quiz1</th>\n",
       "      <th>Quiz2</th>\n",
       "    </tr>\n",
       "    <tr>\n",
       "      <th>studentID</th>\n",
       "      <th></th>\n",
       "      <th></th>\n",
       "      <th></th>\n",
       "    </tr>\n",
       "  </thead>\n",
       "  <tbody>\n",
       "    <tr>\n",
       "      <th>1027</th>\n",
       "      <td>Evans</td>\n",
       "      <td>94.658199</td>\n",
       "      <td>100</td>\n",
       "    </tr>\n",
       "    <tr>\n",
       "      <th>1049</th>\n",
       "      <td>Hayes</td>\n",
       "      <td>95.793698</td>\n",
       "      <td>89</td>\n",
       "    </tr>\n",
       "    <tr>\n",
       "      <th>1098</th>\n",
       "      <td>Little</td>\n",
       "      <td>91.205344</td>\n",
       "      <td>93</td>\n",
       "    </tr>\n",
       "  </tbody>\n",
       "</table>\n",
       "</div>"
      ],
      "text/plain": [
       "          lastName      Quiz1  Quiz2\n",
       "studentID                           \n",
       "1027         Evans  94.658199    100\n",
       "1049         Hayes  95.793698     89\n",
       "1098        Little  91.205344     93"
      ]
     },
     "execution_count": 60,
     "metadata": {},
     "output_type": "execute_result"
    }
   ],
   "source": [
    "student.loc[(student.Quiz2 >= 80)&(student.Quiz1 >= 90),['lastName','Quiz1','Quiz2']]"
   ]
  },
  {
   "cell_type": "markdown",
   "metadata": {},
   "source": [
    "## Q17 (9 points) Show all the information for students that scored an 80 or above on `Quiz1` and `Quiz2` whose first name starts with an 'A'."
   ]
  },
  {
   "cell_type": "code",
   "execution_count": 65,
   "metadata": {},
   "outputs": [
    {
     "data": {
      "text/html": [
       "<div>\n",
       "<style scoped>\n",
       "    .dataframe tbody tr th:only-of-type {\n",
       "        vertical-align: middle;\n",
       "    }\n",
       "\n",
       "    .dataframe tbody tr th {\n",
       "        vertical-align: top;\n",
       "    }\n",
       "\n",
       "    .dataframe thead th {\n",
       "        text-align: right;\n",
       "    }\n",
       "</style>\n",
       "<table border=\"1\" class=\"dataframe\">\n",
       "  <thead>\n",
       "    <tr style=\"text-align: right;\">\n",
       "      <th></th>\n",
       "      <th>firstName</th>\n",
       "      <th>lastName</th>\n",
       "      <th>birthdate</th>\n",
       "      <th>Quiz1</th>\n",
       "      <th>Quiz2</th>\n",
       "    </tr>\n",
       "    <tr>\n",
       "      <th>studentID</th>\n",
       "      <th></th>\n",
       "      <th></th>\n",
       "      <th></th>\n",
       "      <th></th>\n",
       "      <th></th>\n",
       "    </tr>\n",
       "  </thead>\n",
       "  <tbody>\n",
       "    <tr>\n",
       "      <th>1073</th>\n",
       "      <td>Annie</td>\n",
       "      <td>Hernandez</td>\n",
       "      <td>1989-11-15</td>\n",
       "      <td>83.166151</td>\n",
       "      <td>93</td>\n",
       "    </tr>\n",
       "  </tbody>\n",
       "</table>\n",
       "</div>"
      ],
      "text/plain": [
       "          firstName   lastName  birthdate      Quiz1  Quiz2\n",
       "studentID                                                  \n",
       "1073          Annie  Hernandez 1989-11-15  83.166151     93"
      ]
     },
     "execution_count": 65,
     "metadata": {},
     "output_type": "execute_result"
    }
   ],
   "source": [
    "student.loc[(student.Quiz1 >= 80)&(student.Quiz2 >= 80)&(student['firstName'].str.startswith('A'))]"
   ]
  },
  {
   "cell_type": "markdown",
   "metadata": {},
   "source": [
    "## Q18 (9 points) Show all the information for students that scored an 80 or above on `Quiz1` or `Quiz2` whose first name starts with an 'A'."
   ]
  },
  {
   "cell_type": "code",
   "execution_count": 66,
   "metadata": {},
   "outputs": [
    {
     "data": {
      "text/html": [
       "<div>\n",
       "<style scoped>\n",
       "    .dataframe tbody tr th:only-of-type {\n",
       "        vertical-align: middle;\n",
       "    }\n",
       "\n",
       "    .dataframe tbody tr th {\n",
       "        vertical-align: top;\n",
       "    }\n",
       "\n",
       "    .dataframe thead th {\n",
       "        text-align: right;\n",
       "    }\n",
       "</style>\n",
       "<table border=\"1\" class=\"dataframe\">\n",
       "  <thead>\n",
       "    <tr style=\"text-align: right;\">\n",
       "      <th></th>\n",
       "      <th>firstName</th>\n",
       "      <th>lastName</th>\n",
       "      <th>birthdate</th>\n",
       "      <th>Quiz1</th>\n",
       "      <th>Quiz2</th>\n",
       "    </tr>\n",
       "    <tr>\n",
       "      <th>studentID</th>\n",
       "      <th></th>\n",
       "      <th></th>\n",
       "      <th></th>\n",
       "      <th></th>\n",
       "      <th></th>\n",
       "    </tr>\n",
       "  </thead>\n",
       "  <tbody>\n",
       "    <tr>\n",
       "      <th>1001</th>\n",
       "      <td>Amy</td>\n",
       "      <td>Willis</td>\n",
       "      <td>1991-10-23</td>\n",
       "      <td>4.140812</td>\n",
       "      <td>91</td>\n",
       "    </tr>\n",
       "    <tr>\n",
       "      <th>1023</th>\n",
       "      <td>Angela</td>\n",
       "      <td>Ray</td>\n",
       "      <td>1991-03-31</td>\n",
       "      <td>30.014749</td>\n",
       "      <td>81</td>\n",
       "    </tr>\n",
       "    <tr>\n",
       "      <th>1029</th>\n",
       "      <td>Andrea</td>\n",
       "      <td>Perkins</td>\n",
       "      <td>1988-03-26</td>\n",
       "      <td>69.836394</td>\n",
       "      <td>96</td>\n",
       "    </tr>\n",
       "    <tr>\n",
       "      <th>1073</th>\n",
       "      <td>Annie</td>\n",
       "      <td>Hernandez</td>\n",
       "      <td>1989-11-15</td>\n",
       "      <td>83.166151</td>\n",
       "      <td>93</td>\n",
       "    </tr>\n",
       "    <tr>\n",
       "      <th>1090</th>\n",
       "      <td>Ann</td>\n",
       "      <td>Powell</td>\n",
       "      <td>1988-02-27</td>\n",
       "      <td>41.170696</td>\n",
       "      <td>93</td>\n",
       "    </tr>\n",
       "  </tbody>\n",
       "</table>\n",
       "</div>"
      ],
      "text/plain": [
       "          firstName   lastName  birthdate      Quiz1  Quiz2\n",
       "studentID                                                  \n",
       "1001            Amy     Willis 1991-10-23   4.140812     91\n",
       "1023         Angela        Ray 1991-03-31  30.014749     81\n",
       "1029         Andrea    Perkins 1988-03-26  69.836394     96\n",
       "1073          Annie  Hernandez 1989-11-15  83.166151     93\n",
       "1090            Ann     Powell 1988-02-27  41.170696     93"
      ]
     },
     "execution_count": 66,
     "metadata": {},
     "output_type": "execute_result"
    }
   ],
   "source": [
    "student.loc[((student.Quiz1 >= 80)|(student.Quiz2 >= 80))&(student['firstName'].str.startswith('A'))]"
   ]
  },
  {
   "cell_type": "markdown",
   "metadata": {},
   "source": [
    "## Q19 (9 points) Show all the information for students that were born in 1991 who scored a 70 or above on both `Quiz1` and `Quiz2`."
   ]
  },
  {
   "cell_type": "code",
   "execution_count": 94,
   "metadata": {
    "scrolled": true
   },
   "outputs": [
    {
     "data": {
      "text/html": [
       "<div>\n",
       "<style scoped>\n",
       "    .dataframe tbody tr th:only-of-type {\n",
       "        vertical-align: middle;\n",
       "    }\n",
       "\n",
       "    .dataframe tbody tr th {\n",
       "        vertical-align: top;\n",
       "    }\n",
       "\n",
       "    .dataframe thead th {\n",
       "        text-align: right;\n",
       "    }\n",
       "</style>\n",
       "<table border=\"1\" class=\"dataframe\">\n",
       "  <thead>\n",
       "    <tr style=\"text-align: right;\">\n",
       "      <th></th>\n",
       "      <th>firstName</th>\n",
       "      <th>lastName</th>\n",
       "      <th>birthdate</th>\n",
       "      <th>Quiz1</th>\n",
       "      <th>Quiz2</th>\n",
       "    </tr>\n",
       "    <tr>\n",
       "      <th>studentID</th>\n",
       "      <th></th>\n",
       "      <th></th>\n",
       "      <th></th>\n",
       "      <th></th>\n",
       "      <th></th>\n",
       "    </tr>\n",
       "  </thead>\n",
       "  <tbody>\n",
       "    <tr>\n",
       "      <th>1018</th>\n",
       "      <td>Diana</td>\n",
       "      <td>Ramos</td>\n",
       "      <td>1991-03-15</td>\n",
       "      <td>76.486888</td>\n",
       "      <td>98</td>\n",
       "    </tr>\n",
       "    <tr>\n",
       "      <th>1026</th>\n",
       "      <td>Linda</td>\n",
       "      <td>Henry</td>\n",
       "      <td>1991-02-06</td>\n",
       "      <td>84.668032</td>\n",
       "      <td>71</td>\n",
       "    </tr>\n",
       "    <tr>\n",
       "      <th>1051</th>\n",
       "      <td>Scott</td>\n",
       "      <td>Price</td>\n",
       "      <td>1991-10-27</td>\n",
       "      <td>87.214523</td>\n",
       "      <td>88</td>\n",
       "    </tr>\n",
       "    <tr>\n",
       "      <th>1062</th>\n",
       "      <td>Paul</td>\n",
       "      <td>Williamson</td>\n",
       "      <td>1991-05-02</td>\n",
       "      <td>71.344152</td>\n",
       "      <td>77</td>\n",
       "    </tr>\n",
       "    <tr>\n",
       "      <th>1071</th>\n",
       "      <td>Kevin</td>\n",
       "      <td>Campbell</td>\n",
       "      <td>1991-09-28</td>\n",
       "      <td>85.034625</td>\n",
       "      <td>94</td>\n",
       "    </tr>\n",
       "    <tr>\n",
       "      <th>1074</th>\n",
       "      <td>Willie</td>\n",
       "      <td>Evans</td>\n",
       "      <td>1991-09-04</td>\n",
       "      <td>74.886973</td>\n",
       "      <td>98</td>\n",
       "    </tr>\n",
       "    <tr>\n",
       "      <th>1075</th>\n",
       "      <td>Norma</td>\n",
       "      <td>Lynch</td>\n",
       "      <td>1991-12-02</td>\n",
       "      <td>89.951541</td>\n",
       "      <td>98</td>\n",
       "    </tr>\n",
       "    <tr>\n",
       "      <th>1077</th>\n",
       "      <td>Thomas</td>\n",
       "      <td>Lawrence</td>\n",
       "      <td>1991-03-15</td>\n",
       "      <td>79.434426</td>\n",
       "      <td>83</td>\n",
       "    </tr>\n",
       "    <tr>\n",
       "      <th>1085</th>\n",
       "      <td>Deborah</td>\n",
       "      <td>Owens</td>\n",
       "      <td>1991-05-07</td>\n",
       "      <td>76.942818</td>\n",
       "      <td>79</td>\n",
       "    </tr>\n",
       "    <tr>\n",
       "      <th>1096</th>\n",
       "      <td>Matthew</td>\n",
       "      <td>Cunningham</td>\n",
       "      <td>1991-11-05</td>\n",
       "      <td>81.978636</td>\n",
       "      <td>90</td>\n",
       "    </tr>\n",
       "  </tbody>\n",
       "</table>\n",
       "</div>"
      ],
      "text/plain": [
       "          firstName    lastName  birthdate      Quiz1  Quiz2\n",
       "studentID                                                   \n",
       "1018          Diana       Ramos 1991-03-15  76.486888     98\n",
       "1026          Linda       Henry 1991-02-06  84.668032     71\n",
       "1051          Scott       Price 1991-10-27  87.214523     88\n",
       "1062           Paul  Williamson 1991-05-02  71.344152     77\n",
       "1071          Kevin    Campbell 1991-09-28  85.034625     94\n",
       "1074         Willie       Evans 1991-09-04  74.886973     98\n",
       "1075          Norma       Lynch 1991-12-02  89.951541     98\n",
       "1077         Thomas    Lawrence 1991-03-15  79.434426     83\n",
       "1085        Deborah       Owens 1991-05-07  76.942818     79\n",
       "1096        Matthew  Cunningham 1991-11-05  81.978636     90"
      ]
     },
     "execution_count": 94,
     "metadata": {},
     "output_type": "execute_result"
    }
   ],
   "source": [
    "student.loc[(student.Quiz1 >= 70)&(student.Quiz2 >= 70)&(student['birthdate'].dt.year == 1991)]"
   ]
  },
  {
   "cell_type": "markdown",
   "metadata": {},
   "source": [
    "## Q20 (12 points) Show all the information for students that were born in October 1991 who scored between a 70 and 90 (both inclusive) on `Quiz1`."
   ]
  },
  {
   "cell_type": "code",
   "execution_count": 97,
   "metadata": {},
   "outputs": [
    {
     "data": {
      "text/html": [
       "<div>\n",
       "<style scoped>\n",
       "    .dataframe tbody tr th:only-of-type {\n",
       "        vertical-align: middle;\n",
       "    }\n",
       "\n",
       "    .dataframe tbody tr th {\n",
       "        vertical-align: top;\n",
       "    }\n",
       "\n",
       "    .dataframe thead th {\n",
       "        text-align: right;\n",
       "    }\n",
       "</style>\n",
       "<table border=\"1\" class=\"dataframe\">\n",
       "  <thead>\n",
       "    <tr style=\"text-align: right;\">\n",
       "      <th></th>\n",
       "      <th>firstName</th>\n",
       "      <th>lastName</th>\n",
       "      <th>birthdate</th>\n",
       "      <th>Quiz1</th>\n",
       "      <th>Quiz2</th>\n",
       "    </tr>\n",
       "    <tr>\n",
       "      <th>studentID</th>\n",
       "      <th></th>\n",
       "      <th></th>\n",
       "      <th></th>\n",
       "      <th></th>\n",
       "      <th></th>\n",
       "    </tr>\n",
       "  </thead>\n",
       "  <tbody>\n",
       "    <tr>\n",
       "      <th>1051</th>\n",
       "      <td>Scott</td>\n",
       "      <td>Price</td>\n",
       "      <td>1991-10-27</td>\n",
       "      <td>87.214523</td>\n",
       "      <td>88</td>\n",
       "    </tr>\n",
       "  </tbody>\n",
       "</table>\n",
       "</div>"
      ],
      "text/plain": [
       "          firstName lastName  birthdate      Quiz1  Quiz2\n",
       "studentID                                                \n",
       "1051          Scott    Price 1991-10-27  87.214523     88"
      ]
     },
     "execution_count": 97,
     "metadata": {},
     "output_type": "execute_result"
    }
   ],
   "source": [
    "student.loc[(student.Quiz1 >= 70) & (student.Quiz1 <= 90) & (student['birthdate'].dt.year == 1991) & (student['birthdate'].dt.month == 10)]"
   ]
  },
  {
   "cell_type": "markdown",
   "metadata": {},
   "source": [
    "# Question Set 2\n",
    "## Python Fundamentals"
   ]
  },
  {
   "cell_type": "markdown",
   "metadata": {},
   "source": [
    "# Q21 (12 Points)\n",
    "### Write a program that based on the user input either allows or denys access based on a given list of approved users provided in the next code cell\n",
    "\n",
    "## Your program should follow the below specifications\n",
    "\n",
    ">- Your program should prompt the user \"What is your login\"\n",
    ">- If the input is in the allowed users list your program should print \"Access granted\"\n",
    ">- If the input is not in the allowed users list your program should print \"Access denied, try again\"\n",
    ">- Allow the program to continue for up to 5 user attempts at the login\n",
    ">>- After 5 unsuccessful attempts print to the screen: \"Too many attempts, the account is locked.\"\n",
    ">- Your program should be case `insensitive`\n",
    ">- The following line of code gives the allowed user list. "
   ]
  },
  {
   "cell_type": "code",
   "execution_count": 98,
   "metadata": {},
   "outputs": [],
   "source": [
    "# this cell shows your allowed user list\n",
    "allowed_users = ['admin','micah', 'kadence','karina','jack','david']"
   ]
  },
  {
   "cell_type": "code",
   "execution_count": 116,
   "metadata": {},
   "outputs": [
    {
     "name": "stdout",
     "output_type": "stream",
     "text": [
      "What is your login: Micah\n",
      "Access Granted\n"
     ]
    }
   ],
   "source": [
    "attempts = 0\n",
    "while True:\n",
    "    login = input('What is your login: ').lower()\n",
    "    if login in allowed_users:\n",
    "        print('Access Granted')\n",
    "        break\n",
    "    else:\n",
    "        if attempts >= 4:\n",
    "            print('Too many attempts, the account is locked')\n",
    "            break\n",
    "        else:\n",
    "            attempts += 1\n",
    "            print('Access denied, try agian')"
   ]
  }
 ],
 "metadata": {
  "kernelspec": {
   "display_name": "Python 3",
   "language": "python",
   "name": "python3"
  },
  "language_info": {
   "codemirror_mode": {
    "name": "ipython",
    "version": 3
   },
   "file_extension": ".py",
   "mimetype": "text/x-python",
   "name": "python",
   "nbconvert_exporter": "python",
   "pygments_lexer": "ipython3",
   "version": "3.8.3"
  },
  "latex_envs": {
   "LaTeX_envs_menu_present": true,
   "autoclose": false,
   "autocomplete": true,
   "bibliofile": "biblio.bib",
   "cite_by": "apalike",
   "current_citInitial": 1,
   "eqLabelWithNumbers": true,
   "eqNumInitial": 1,
   "hotkeys": {
    "equation": "Ctrl-E",
    "itemize": "Ctrl-I"
   },
   "labels_anchors": false,
   "latex_user_defs": false,
   "report_style_numbering": false,
   "user_envs_cfg": false
  }
 },
 "nbformat": 4,
 "nbformat_minor": 2
}
