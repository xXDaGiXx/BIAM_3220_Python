{
 "cells": [
  {
   "cell_type": "markdown",
   "metadata": {},
   "source": [
    "# Week 9 \n",
    "## In-Class Activity Workbook and Homework\n",
    "\n",
    "## Learning Objectives \n",
    "### In this notebook you will learn about and practice:\n",
    "1. Section 1: <a id='Section 1'></a>[Section 1: Reading and examining files with pandas](#Section-1)\n",
    "2. Section 2: <a id='Section 2'></a>[Section 2: Selecting Data with pandas](#Section-2)\n",
    "3. Section 3: <a id='Section 3'></a>[Section 3: More practice selecting data](#Section-3)\n",
    "4. Section 4: <a id='Section 4'></a>[Section 4: Conditional Selection](#Section-4)\n",
    "\n",
    "### Additional Sources\n",
    ">- Check out the `pandas` cheat sheets provided by Data Camp and posted on Canvas\n",
    ">>- https://www.datacamp.com/community/blog/python-pandas-cheat-sheet"
   ]
  },
  {
   "cell_type": "markdown",
   "metadata": {
    "slideshow": {
     "slide_type": "slide"
    }
   },
   "source": [
    "# Section 1\n",
    "\n",
    "## What is the `pandas` module?\n",
    ">- pandas is a flexible data analysis library built within the C language and is one of the fastest ways of getting from zero to answer\n",
    ">- `pandas` is the go to tool for most business analysts and scientists working in python and learning to proficient in `pandas` will do wonders to your productivity and look great on your resume\n",
    ">- Some say `pandas` is basically Excel on steroids\n",
    "    >- `pandas` can be thought of as a mix of Python and SQL so if you know SQL working with `pandas` may come easier to you but knowing SQL is not a prerequisite for working in `pandas`\n",
    "    \n",
    "### Some of the useful ways in which you can use the `pandas` module include:\n",
    "\n",
    "1. Transforming tabular data into python to work with\n",
    "2. Cleaning and filtering data, whether it's missing or incomplete\n",
    "3. Feature engineer new columns that can be applied in your analysis\n",
    "4. Calculating statistics that answer questions (mean, median, max, min, etc)\n",
    "5. Finding correlations between columns\n",
    "6. Visualizing data with matplotlib\n"
   ]
  },
  {
   "cell_type": "markdown",
   "metadata": {},
   "source": [
    "## Reading and Writing Files with the Python `pandas` Module\n",
    "\n",
    "### Read csv or Excel files\n",
    ">- csv files: `pd.read_csv('fileName.csv')`\n",
    ">- Excel files: `pd.read_excel('fileName.xlsx')`\n",
    ">- Multiple sheets from the same Excel file: \n",
    ">>- `xlsx = pd.ExcelFile('file.xls')` # reads in the entire workbook\n",
    ">>- `df1 = pd.read_excel(xlsx, 'Sheet1')`  # reads in sheet you specify\n",
    ">>- `df2 = pd.read_excel(xlsx, 'Sheet2')`\n",
    "\n",
    "### Write csv or Excel files\n",
    ">- csv files: `pd.to_csv('YourDataFrame.csv')`\n",
    ">- Excel files: `pd.to_excel('YourDataFrame.xlsx')`"
   ]
  },
  {
   "cell_type": "markdown",
   "metadata": {
    "slideshow": {
     "slide_type": "slide"
    }
   },
   "source": [
    "# Section 1\n",
    "## Reading Files and Initial Data Examination with `pandas`"
   ]
  },
  {
   "cell_type": "markdown",
   "metadata": {},
   "source": [
    "## Creating a `stu` DataFrame\n",
    ">- Complete the following steps to practice reading in a csv file\n",
    ">>- Note: You should download the `students.csv` and `students100.xlsx` files from Canvas and save it in the same director/folder that you have this notebook saved in\n",
    "1. Import the pandas module and alias it `pd`"
   ]
  },
  {
   "cell_type": "markdown",
   "metadata": {},
   "source": [
    "### Step 1: Check your working directory and make sure you have the `students.csv` and `students100.xlxs` files there\n",
    ">- Note: There are several ways to do this"
   ]
  },
  {
   "cell_type": "code",
   "execution_count": 2,
   "metadata": {},
   "outputs": [
    {
     "name": "stdout",
     "output_type": "stream",
     "text": [
      "C:\\Users\\Cupcake\\Python\n"
     ]
    },
    {
     "data": {
      "text/plain": [
       "['.ipynb_checkpoints',\n",
       " 'BooleanExpressions_StudentNotes.ipynb',\n",
       " 'ControlFlow_If_elseIf_StudentNotes.ipynb',\n",
       " 'ControlFlow_Loops_Student.ipynb',\n",
       " 'Dictionaries_Type-Along_student.ipynb',\n",
       " 'Functions_Student.ipynb',\n",
       " 'Gibson_Daniel_Midterm.ipynb',\n",
       " 'Gibson_Daniel_Quiz2.ipynb',\n",
       " 'Gibson_Daniel_Quiz3.ipynb',\n",
       " 'Gibson_Daniel_Quiz4Backup.ipynb',\n",
       " 'Gibson_Daniel_Quiz5.ipynb',\n",
       " 'Gibson_Daniel_Quiz6.ipynb',\n",
       " 'Gibson_Daniel_W5D1Warmup.ipynb',\n",
       " 'Gibson_Daniel_W7D1-InClass-Dict&List_Review.ipynb',\n",
       " 'Gibson_Daniel_W7D1-InClass-ListReview.ipynb',\n",
       " 'Lists_Student_type-along.ipynb',\n",
       " 'ManipulatingStrings_Student.ipynb',\n",
       " 'Midterm Review Lab Questions_Student.ipynb',\n",
       " 'pandas1&2_Read_Index_Select_Activity_student.ipynb',\n",
       " 'Pandas_Part1_Student.ipynb',\n",
       " 'Python_Functions_Homework.ipynb',\n",
       " 'Quiz#3 - Intro Flow Control - Student.ipynb',\n",
       " 'Quiz3DG.ipynb',\n",
       " 'Quiz4.ipynb',\n",
       " 'Quiz5.ipynb',\n",
       " 'students.csv',\n",
       " 'students100.xlsx',\n",
       " 'Untitled.ipynb',\n",
       " 'W3D1_Warmup.ipynb',\n",
       " 'W6D1-Warmup.ipynb',\n",
       " 'WaarmupPractice1.ipynb',\n",
       " 'Week2_HW_Exercises.ipynb',\n",
       " 'Week2_InClassActivity_JupyterPythonBasics_Student.ipynb',\n",
       " 'Week3_InClassActivity_ControlFlow_ifelifelse_Student.ipynb',\n",
       " 'Week3_InClassActivity_ControlFlow_Loops_student.ipynb',\n",
       " 'Week4_InClassActivity_Functions_student.ipynb',\n",
       " 'Week5_InClassActivity_Lists_student.ipynb',\n",
       " 'Week5_Lists_HW_student.ipynb',\n",
       " 'Week6_InClassActivity_Dictionaries_student.ipynb',\n",
       " 'Week7_ManipulatingStrings_studentHW.ipynb',\n",
       " 'winemag-data-130k-v2.csv']"
      ]
     },
     "execution_count": 2,
     "metadata": {},
     "output_type": "execute_result"
    }
   ],
   "source": [
    "import os\n",
    "print(os.getcwd())\n",
    "os.listdir()"
   ]
  },
  {
   "cell_type": "code",
   "execution_count": 3,
   "metadata": {},
   "outputs": [
    {
     "name": "stdout",
     "output_type": "stream",
     "text": [
      "C:\\Users\\Cupcake\\Python\\students.csv\n",
      "C:\\Users\\Cupcake\\Python\\students100.xlsx\n"
     ]
    }
   ],
   "source": [
    "for root, dirs, files in os.walk(\"C:\\\\Users\\\\Cupcake\\\\Python\", topdown=False):\n",
    "    for name in files:\n",
    "        if name.find('student') == 0:\n",
    "            print(os.path.join(root, name))"
   ]
  },
  {
   "cell_type": "markdown",
   "metadata": {},
   "source": [
    "### Step 2: import the `pandas` module and alias it `pd`"
   ]
  },
  {
   "cell_type": "code",
   "execution_count": 4,
   "metadata": {},
   "outputs": [],
   "source": [
    "import pandas as pd"
   ]
  },
  {
   "cell_type": "markdown",
   "metadata": {},
   "source": [
    "### Step 3: Read the `students.csv` file into a pandas dataframe named, `stu`\n",
    ">- Look at the first five records to make sure `stu` is imported correctly\n",
    "\n",
    "#### Loading a CSV file\n",
    "function: `pd.read_csv()`\n",
    "\n",
    "[Docu read_csv](https://pandas.pydata.org/pandas-docs/stable/generated/pandas.read_csv.html?highlight=read_excel#pandas.read_excel)"
   ]
  },
  {
   "cell_type": "code",
   "execution_count": 5,
   "metadata": {},
   "outputs": [
    {
     "data": {
      "text/html": [
       "<div>\n",
       "<style scoped>\n",
       "    .dataframe tbody tr th:only-of-type {\n",
       "        vertical-align: middle;\n",
       "    }\n",
       "\n",
       "    .dataframe tbody tr th {\n",
       "        vertical-align: top;\n",
       "    }\n",
       "\n",
       "    .dataframe thead th {\n",
       "        text-align: right;\n",
       "    }\n",
       "</style>\n",
       "<table border=\"1\" class=\"dataframe\">\n",
       "  <thead>\n",
       "    <tr style=\"text-align: right;\">\n",
       "      <th></th>\n",
       "      <th>studentID</th>\n",
       "      <th>firstName</th>\n",
       "      <th>lastName</th>\n",
       "      <th>birthdate</th>\n",
       "      <th>Points</th>\n",
       "    </tr>\n",
       "  </thead>\n",
       "  <tbody>\n",
       "    <tr>\n",
       "      <th>0</th>\n",
       "      <td>1</td>\n",
       "      <td>Amy</td>\n",
       "      <td>Willis</td>\n",
       "      <td>10/23/1991</td>\n",
       "      <td>18.032651</td>\n",
       "    </tr>\n",
       "    <tr>\n",
       "      <th>1</th>\n",
       "      <td>2</td>\n",
       "      <td>Donald</td>\n",
       "      <td>Pierce</td>\n",
       "      <td>4/7/1990</td>\n",
       "      <td>79.671554</td>\n",
       "    </tr>\n",
       "    <tr>\n",
       "      <th>2</th>\n",
       "      <td>3</td>\n",
       "      <td>Adam</td>\n",
       "      <td>Holmes</td>\n",
       "      <td>5/16/1991</td>\n",
       "      <td>10.495381</td>\n",
       "    </tr>\n",
       "    <tr>\n",
       "      <th>3</th>\n",
       "      <td>4</td>\n",
       "      <td>Patrick</td>\n",
       "      <td>Payne</td>\n",
       "      <td>12/29/1990</td>\n",
       "      <td>33.449285</td>\n",
       "    </tr>\n",
       "    <tr>\n",
       "      <th>4</th>\n",
       "      <td>5</td>\n",
       "      <td>Chris</td>\n",
       "      <td>Lynch</td>\n",
       "      <td>10/3/1990</td>\n",
       "      <td>33.654615</td>\n",
       "    </tr>\n",
       "  </tbody>\n",
       "</table>\n",
       "</div>"
      ],
      "text/plain": [
       "   studentID firstName lastName   birthdate     Points\n",
       "0          1       Amy   Willis  10/23/1991  18.032651\n",
       "1          2    Donald   Pierce    4/7/1990  79.671554\n",
       "2          3      Adam   Holmes   5/16/1991  10.495381\n",
       "3          4   Patrick    Payne  12/29/1990  33.449285\n",
       "4          5     Chris    Lynch   10/3/1990  33.654615"
      ]
     },
     "execution_count": 5,
     "metadata": {},
     "output_type": "execute_result"
    }
   ],
   "source": [
    "stu = pd.read_csv('students.csv')\n",
    "stu.head()"
   ]
  },
  {
   "cell_type": "markdown",
   "metadata": {},
   "source": [
    "#### Now, set the index column of `stu` to the studentID column\n",
    ">- Note: make sure to make this change in-place\n",
    ">- There are several ways to do this. Below are couple of options\n",
    "\n",
    "1. Use the `index_col` option when reading in the file\n",
    "2. Look up the `set_index` method and apply it to `stu`"
   ]
  },
  {
   "cell_type": "code",
   "execution_count": 6,
   "metadata": {},
   "outputs": [
    {
     "data": {
      "text/html": [
       "<div>\n",
       "<style scoped>\n",
       "    .dataframe tbody tr th:only-of-type {\n",
       "        vertical-align: middle;\n",
       "    }\n",
       "\n",
       "    .dataframe tbody tr th {\n",
       "        vertical-align: top;\n",
       "    }\n",
       "\n",
       "    .dataframe thead th {\n",
       "        text-align: right;\n",
       "    }\n",
       "</style>\n",
       "<table border=\"1\" class=\"dataframe\">\n",
       "  <thead>\n",
       "    <tr style=\"text-align: right;\">\n",
       "      <th></th>\n",
       "      <th>firstName</th>\n",
       "      <th>lastName</th>\n",
       "      <th>birthdate</th>\n",
       "      <th>Points</th>\n",
       "    </tr>\n",
       "    <tr>\n",
       "      <th>studentID</th>\n",
       "      <th></th>\n",
       "      <th></th>\n",
       "      <th></th>\n",
       "      <th></th>\n",
       "    </tr>\n",
       "  </thead>\n",
       "  <tbody>\n",
       "    <tr>\n",
       "      <th>1</th>\n",
       "      <td>Amy</td>\n",
       "      <td>Willis</td>\n",
       "      <td>10/23/1991</td>\n",
       "      <td>18.032651</td>\n",
       "    </tr>\n",
       "    <tr>\n",
       "      <th>2</th>\n",
       "      <td>Donald</td>\n",
       "      <td>Pierce</td>\n",
       "      <td>4/7/1990</td>\n",
       "      <td>79.671554</td>\n",
       "    </tr>\n",
       "    <tr>\n",
       "      <th>3</th>\n",
       "      <td>Adam</td>\n",
       "      <td>Holmes</td>\n",
       "      <td>5/16/1991</td>\n",
       "      <td>10.495381</td>\n",
       "    </tr>\n",
       "    <tr>\n",
       "      <th>4</th>\n",
       "      <td>Patrick</td>\n",
       "      <td>Payne</td>\n",
       "      <td>12/29/1990</td>\n",
       "      <td>33.449285</td>\n",
       "    </tr>\n",
       "    <tr>\n",
       "      <th>5</th>\n",
       "      <td>Chris</td>\n",
       "      <td>Lynch</td>\n",
       "      <td>10/3/1990</td>\n",
       "      <td>33.654615</td>\n",
       "    </tr>\n",
       "    <tr>\n",
       "      <th>...</th>\n",
       "      <td>...</td>\n",
       "      <td>...</td>\n",
       "      <td>...</td>\n",
       "      <td>...</td>\n",
       "    </tr>\n",
       "    <tr>\n",
       "      <th>96</th>\n",
       "      <td>Matthew</td>\n",
       "      <td>Cunningham</td>\n",
       "      <td>11/5/1991</td>\n",
       "      <td>84.951415</td>\n",
       "    </tr>\n",
       "    <tr>\n",
       "      <th>97</th>\n",
       "      <td>Kelly</td>\n",
       "      <td>Lynch</td>\n",
       "      <td>3/18/1990</td>\n",
       "      <td>4.377005</td>\n",
       "    </tr>\n",
       "    <tr>\n",
       "      <th>98</th>\n",
       "      <td>Ryan</td>\n",
       "      <td>Little</td>\n",
       "      <td>12/23/1988</td>\n",
       "      <td>52.021577</td>\n",
       "    </tr>\n",
       "    <tr>\n",
       "      <th>99</th>\n",
       "      <td>Willie</td>\n",
       "      <td>Taylor</td>\n",
       "      <td>12/6/1989</td>\n",
       "      <td>13.154354</td>\n",
       "    </tr>\n",
       "    <tr>\n",
       "      <th>100</th>\n",
       "      <td>Lisa</td>\n",
       "      <td>Austin</td>\n",
       "      <td>11/17/1990</td>\n",
       "      <td>94.808464</td>\n",
       "    </tr>\n",
       "  </tbody>\n",
       "</table>\n",
       "<p>100 rows × 4 columns</p>\n",
       "</div>"
      ],
      "text/plain": [
       "          firstName    lastName   birthdate     Points\n",
       "studentID                                             \n",
       "1               Amy      Willis  10/23/1991  18.032651\n",
       "2            Donald      Pierce    4/7/1990  79.671554\n",
       "3              Adam      Holmes   5/16/1991  10.495381\n",
       "4           Patrick       Payne  12/29/1990  33.449285\n",
       "5             Chris       Lynch   10/3/1990  33.654615\n",
       "...             ...         ...         ...        ...\n",
       "96          Matthew  Cunningham   11/5/1991  84.951415\n",
       "97            Kelly       Lynch   3/18/1990   4.377005\n",
       "98             Ryan      Little  12/23/1988  52.021577\n",
       "99           Willie      Taylor   12/6/1989  13.154354\n",
       "100            Lisa      Austin  11/17/1990  94.808464\n",
       "\n",
       "[100 rows x 4 columns]"
      ]
     },
     "execution_count": 6,
     "metadata": {},
     "output_type": "execute_result"
    }
   ],
   "source": [
    "pd.read_csv('students.csv', index_col = 0)"
   ]
  },
  {
   "cell_type": "code",
   "execution_count": 7,
   "metadata": {
    "scrolled": true
   },
   "outputs": [
    {
     "data": {
      "text/html": [
       "<div>\n",
       "<style scoped>\n",
       "    .dataframe tbody tr th:only-of-type {\n",
       "        vertical-align: middle;\n",
       "    }\n",
       "\n",
       "    .dataframe tbody tr th {\n",
       "        vertical-align: top;\n",
       "    }\n",
       "\n",
       "    .dataframe thead th {\n",
       "        text-align: right;\n",
       "    }\n",
       "</style>\n",
       "<table border=\"1\" class=\"dataframe\">\n",
       "  <thead>\n",
       "    <tr style=\"text-align: right;\">\n",
       "      <th></th>\n",
       "      <th>studentID</th>\n",
       "      <th>firstName</th>\n",
       "      <th>lastName</th>\n",
       "      <th>birthdate</th>\n",
       "      <th>Points</th>\n",
       "    </tr>\n",
       "  </thead>\n",
       "  <tbody>\n",
       "    <tr>\n",
       "      <th>0</th>\n",
       "      <td>1</td>\n",
       "      <td>Amy</td>\n",
       "      <td>Willis</td>\n",
       "      <td>10/23/1991</td>\n",
       "      <td>18.032651</td>\n",
       "    </tr>\n",
       "    <tr>\n",
       "      <th>1</th>\n",
       "      <td>2</td>\n",
       "      <td>Donald</td>\n",
       "      <td>Pierce</td>\n",
       "      <td>4/7/1990</td>\n",
       "      <td>79.671554</td>\n",
       "    </tr>\n",
       "    <tr>\n",
       "      <th>2</th>\n",
       "      <td>3</td>\n",
       "      <td>Adam</td>\n",
       "      <td>Holmes</td>\n",
       "      <td>5/16/1991</td>\n",
       "      <td>10.495381</td>\n",
       "    </tr>\n",
       "    <tr>\n",
       "      <th>3</th>\n",
       "      <td>4</td>\n",
       "      <td>Patrick</td>\n",
       "      <td>Payne</td>\n",
       "      <td>12/29/1990</td>\n",
       "      <td>33.449285</td>\n",
       "    </tr>\n",
       "    <tr>\n",
       "      <th>4</th>\n",
       "      <td>5</td>\n",
       "      <td>Chris</td>\n",
       "      <td>Lynch</td>\n",
       "      <td>10/3/1990</td>\n",
       "      <td>33.654615</td>\n",
       "    </tr>\n",
       "    <tr>\n",
       "      <th>...</th>\n",
       "      <td>...</td>\n",
       "      <td>...</td>\n",
       "      <td>...</td>\n",
       "      <td>...</td>\n",
       "      <td>...</td>\n",
       "    </tr>\n",
       "    <tr>\n",
       "      <th>95</th>\n",
       "      <td>96</td>\n",
       "      <td>Matthew</td>\n",
       "      <td>Cunningham</td>\n",
       "      <td>11/5/1991</td>\n",
       "      <td>84.951415</td>\n",
       "    </tr>\n",
       "    <tr>\n",
       "      <th>96</th>\n",
       "      <td>97</td>\n",
       "      <td>Kelly</td>\n",
       "      <td>Lynch</td>\n",
       "      <td>3/18/1990</td>\n",
       "      <td>4.377005</td>\n",
       "    </tr>\n",
       "    <tr>\n",
       "      <th>97</th>\n",
       "      <td>98</td>\n",
       "      <td>Ryan</td>\n",
       "      <td>Little</td>\n",
       "      <td>12/23/1988</td>\n",
       "      <td>52.021577</td>\n",
       "    </tr>\n",
       "    <tr>\n",
       "      <th>98</th>\n",
       "      <td>99</td>\n",
       "      <td>Willie</td>\n",
       "      <td>Taylor</td>\n",
       "      <td>12/6/1989</td>\n",
       "      <td>13.154354</td>\n",
       "    </tr>\n",
       "    <tr>\n",
       "      <th>99</th>\n",
       "      <td>100</td>\n",
       "      <td>Lisa</td>\n",
       "      <td>Austin</td>\n",
       "      <td>11/17/1990</td>\n",
       "      <td>94.808464</td>\n",
       "    </tr>\n",
       "  </tbody>\n",
       "</table>\n",
       "<p>100 rows × 5 columns</p>\n",
       "</div>"
      ],
      "text/plain": [
       "    studentID firstName    lastName   birthdate     Points\n",
       "0           1       Amy      Willis  10/23/1991  18.032651\n",
       "1           2    Donald      Pierce    4/7/1990  79.671554\n",
       "2           3      Adam      Holmes   5/16/1991  10.495381\n",
       "3           4   Patrick       Payne  12/29/1990  33.449285\n",
       "4           5     Chris       Lynch   10/3/1990  33.654615\n",
       "..        ...       ...         ...         ...        ...\n",
       "95         96   Matthew  Cunningham   11/5/1991  84.951415\n",
       "96         97     Kelly       Lynch   3/18/1990   4.377005\n",
       "97         98      Ryan      Little  12/23/1988  52.021577\n",
       "98         99    Willie      Taylor   12/6/1989  13.154354\n",
       "99        100      Lisa      Austin  11/17/1990  94.808464\n",
       "\n",
       "[100 rows x 5 columns]"
      ]
     },
     "execution_count": 7,
     "metadata": {},
     "output_type": "execute_result"
    }
   ],
   "source": [
    "pd.read_csv('students.csv', index_col = False)"
   ]
  },
  {
   "cell_type": "code",
   "execution_count": 8,
   "metadata": {},
   "outputs": [],
   "source": [
    "stu = stu.set_index('studentID')"
   ]
  },
  {
   "cell_type": "markdown",
   "metadata": {},
   "source": [
    "#### Look at the first five records after you have set the index"
   ]
  },
  {
   "cell_type": "code",
   "execution_count": 9,
   "metadata": {},
   "outputs": [
    {
     "data": {
      "text/html": [
       "<div>\n",
       "<style scoped>\n",
       "    .dataframe tbody tr th:only-of-type {\n",
       "        vertical-align: middle;\n",
       "    }\n",
       "\n",
       "    .dataframe tbody tr th {\n",
       "        vertical-align: top;\n",
       "    }\n",
       "\n",
       "    .dataframe thead th {\n",
       "        text-align: right;\n",
       "    }\n",
       "</style>\n",
       "<table border=\"1\" class=\"dataframe\">\n",
       "  <thead>\n",
       "    <tr style=\"text-align: right;\">\n",
       "      <th></th>\n",
       "      <th>firstName</th>\n",
       "      <th>lastName</th>\n",
       "      <th>birthdate</th>\n",
       "      <th>Points</th>\n",
       "    </tr>\n",
       "    <tr>\n",
       "      <th>studentID</th>\n",
       "      <th></th>\n",
       "      <th></th>\n",
       "      <th></th>\n",
       "      <th></th>\n",
       "    </tr>\n",
       "  </thead>\n",
       "  <tbody>\n",
       "    <tr>\n",
       "      <th>1</th>\n",
       "      <td>Amy</td>\n",
       "      <td>Willis</td>\n",
       "      <td>10/23/1991</td>\n",
       "      <td>18.032651</td>\n",
       "    </tr>\n",
       "    <tr>\n",
       "      <th>2</th>\n",
       "      <td>Donald</td>\n",
       "      <td>Pierce</td>\n",
       "      <td>4/7/1990</td>\n",
       "      <td>79.671554</td>\n",
       "    </tr>\n",
       "    <tr>\n",
       "      <th>3</th>\n",
       "      <td>Adam</td>\n",
       "      <td>Holmes</td>\n",
       "      <td>5/16/1991</td>\n",
       "      <td>10.495381</td>\n",
       "    </tr>\n",
       "    <tr>\n",
       "      <th>4</th>\n",
       "      <td>Patrick</td>\n",
       "      <td>Payne</td>\n",
       "      <td>12/29/1990</td>\n",
       "      <td>33.449285</td>\n",
       "    </tr>\n",
       "    <tr>\n",
       "      <th>5</th>\n",
       "      <td>Chris</td>\n",
       "      <td>Lynch</td>\n",
       "      <td>10/3/1990</td>\n",
       "      <td>33.654615</td>\n",
       "    </tr>\n",
       "  </tbody>\n",
       "</table>\n",
       "</div>"
      ],
      "text/plain": [
       "          firstName lastName   birthdate     Points\n",
       "studentID                                          \n",
       "1               Amy   Willis  10/23/1991  18.032651\n",
       "2            Donald   Pierce    4/7/1990  79.671554\n",
       "3              Adam   Holmes   5/16/1991  10.495381\n",
       "4           Patrick    Payne  12/29/1990  33.449285\n",
       "5             Chris    Lynch   10/3/1990  33.654615"
      ]
     },
     "execution_count": 9,
     "metadata": {},
     "output_type": "execute_result"
    }
   ],
   "source": [
    "stu.head()"
   ]
  },
  {
   "cell_type": "markdown",
   "metadata": {},
   "source": [
    "#### Show the last five records of `stu`"
   ]
  },
  {
   "cell_type": "code",
   "execution_count": 10,
   "metadata": {},
   "outputs": [
    {
     "data": {
      "text/html": [
       "<div>\n",
       "<style scoped>\n",
       "    .dataframe tbody tr th:only-of-type {\n",
       "        vertical-align: middle;\n",
       "    }\n",
       "\n",
       "    .dataframe tbody tr th {\n",
       "        vertical-align: top;\n",
       "    }\n",
       "\n",
       "    .dataframe thead th {\n",
       "        text-align: right;\n",
       "    }\n",
       "</style>\n",
       "<table border=\"1\" class=\"dataframe\">\n",
       "  <thead>\n",
       "    <tr style=\"text-align: right;\">\n",
       "      <th></th>\n",
       "      <th>firstName</th>\n",
       "      <th>lastName</th>\n",
       "      <th>birthdate</th>\n",
       "      <th>Points</th>\n",
       "    </tr>\n",
       "    <tr>\n",
       "      <th>studentID</th>\n",
       "      <th></th>\n",
       "      <th></th>\n",
       "      <th></th>\n",
       "      <th></th>\n",
       "    </tr>\n",
       "  </thead>\n",
       "  <tbody>\n",
       "    <tr>\n",
       "      <th>96</th>\n",
       "      <td>Matthew</td>\n",
       "      <td>Cunningham</td>\n",
       "      <td>11/5/1991</td>\n",
       "      <td>84.951415</td>\n",
       "    </tr>\n",
       "    <tr>\n",
       "      <th>97</th>\n",
       "      <td>Kelly</td>\n",
       "      <td>Lynch</td>\n",
       "      <td>3/18/1990</td>\n",
       "      <td>4.377005</td>\n",
       "    </tr>\n",
       "    <tr>\n",
       "      <th>98</th>\n",
       "      <td>Ryan</td>\n",
       "      <td>Little</td>\n",
       "      <td>12/23/1988</td>\n",
       "      <td>52.021577</td>\n",
       "    </tr>\n",
       "    <tr>\n",
       "      <th>99</th>\n",
       "      <td>Willie</td>\n",
       "      <td>Taylor</td>\n",
       "      <td>12/6/1989</td>\n",
       "      <td>13.154354</td>\n",
       "    </tr>\n",
       "    <tr>\n",
       "      <th>100</th>\n",
       "      <td>Lisa</td>\n",
       "      <td>Austin</td>\n",
       "      <td>11/17/1990</td>\n",
       "      <td>94.808464</td>\n",
       "    </tr>\n",
       "  </tbody>\n",
       "</table>\n",
       "</div>"
      ],
      "text/plain": [
       "          firstName    lastName   birthdate     Points\n",
       "studentID                                             \n",
       "96          Matthew  Cunningham   11/5/1991  84.951415\n",
       "97            Kelly       Lynch   3/18/1990   4.377005\n",
       "98             Ryan      Little  12/23/1988  52.021577\n",
       "99           Willie      Taylor   12/6/1989  13.154354\n",
       "100            Lisa      Austin  11/17/1990  94.808464"
      ]
     },
     "execution_count": 10,
     "metadata": {},
     "output_type": "execute_result"
    }
   ],
   "source": [
    "stu.tail()"
   ]
  },
  {
   "cell_type": "markdown",
   "metadata": {
    "slideshow": {
     "slide_type": "subslide"
    }
   },
   "source": [
    "#### Show a tuple of the number of columns and rows in `stu`"
   ]
  },
  {
   "cell_type": "code",
   "execution_count": 11,
   "metadata": {},
   "outputs": [
    {
     "data": {
      "text/plain": [
       "(100, 4)"
      ]
     },
     "execution_count": 11,
     "metadata": {},
     "output_type": "execute_result"
    }
   ],
   "source": [
    "stu.shape"
   ]
  },
  {
   "cell_type": "markdown",
   "metadata": {},
   "source": [
    "#### Show the number rows another way"
   ]
  },
  {
   "cell_type": "code",
   "execution_count": 12,
   "metadata": {},
   "outputs": [
    {
     "data": {
      "text/plain": [
       "100"
      ]
     },
     "execution_count": 12,
     "metadata": {},
     "output_type": "execute_result"
    }
   ],
   "source": [
    "len(stu)"
   ]
  },
  {
   "cell_type": "markdown",
   "metadata": {},
   "source": [
    "#### Show the columns in `stu`"
   ]
  },
  {
   "cell_type": "code",
   "execution_count": 13,
   "metadata": {},
   "outputs": [
    {
     "data": {
      "text/plain": [
       "Index(['firstName', 'lastName', 'birthdate', 'Points'], dtype='object')"
      ]
     },
     "execution_count": 13,
     "metadata": {},
     "output_type": "execute_result"
    }
   ],
   "source": [
    "stu.columns"
   ]
  },
  {
   "cell_type": "markdown",
   "metadata": {},
   "source": [
    "#### Show the datatypes that are in `stu`"
   ]
  },
  {
   "cell_type": "code",
   "execution_count": 14,
   "metadata": {},
   "outputs": [
    {
     "data": {
      "text/plain": [
       "firstName     object\n",
       "lastName      object\n",
       "birthdate     object\n",
       "Points       float64\n",
       "dtype: object"
      ]
     },
     "execution_count": 14,
     "metadata": {},
     "output_type": "execute_result"
    }
   ],
   "source": [
    "stu.dtypes"
   ]
  },
  {
   "cell_type": "markdown",
   "metadata": {},
   "source": [
    "# Section 2\n",
    "## Accessing Data using `pandas`"
   ]
  },
  {
   "cell_type": "markdown",
   "metadata": {},
   "source": [
    "#### Access all the records of the `firstName` Column Only\n",
    ">- Try doing this three different ways"
   ]
  },
  {
   "cell_type": "code",
   "execution_count": 15,
   "metadata": {},
   "outputs": [
    {
     "data": {
      "text/plain": [
       "studentID\n",
       "1          Amy\n",
       "2       Donald\n",
       "3         Adam\n",
       "4      Patrick\n",
       "5        Chris\n",
       "        ...   \n",
       "96     Matthew\n",
       "97       Kelly\n",
       "98        Ryan\n",
       "99      Willie\n",
       "100       Lisa\n",
       "Name: firstName, Length: 100, dtype: object"
      ]
     },
     "execution_count": 15,
     "metadata": {},
     "output_type": "execute_result"
    }
   ],
   "source": [
    "stu.loc[:,'firstName']"
   ]
  },
  {
   "cell_type": "code",
   "execution_count": 16,
   "metadata": {},
   "outputs": [
    {
     "data": {
      "text/html": [
       "<div>\n",
       "<style scoped>\n",
       "    .dataframe tbody tr th:only-of-type {\n",
       "        vertical-align: middle;\n",
       "    }\n",
       "\n",
       "    .dataframe tbody tr th {\n",
       "        vertical-align: top;\n",
       "    }\n",
       "\n",
       "    .dataframe thead th {\n",
       "        text-align: right;\n",
       "    }\n",
       "</style>\n",
       "<table border=\"1\" class=\"dataframe\">\n",
       "  <thead>\n",
       "    <tr style=\"text-align: right;\">\n",
       "      <th></th>\n",
       "      <th>firstName</th>\n",
       "    </tr>\n",
       "    <tr>\n",
       "      <th>studentID</th>\n",
       "      <th></th>\n",
       "    </tr>\n",
       "  </thead>\n",
       "  <tbody>\n",
       "    <tr>\n",
       "      <th>1</th>\n",
       "      <td>Amy</td>\n",
       "    </tr>\n",
       "    <tr>\n",
       "      <th>2</th>\n",
       "      <td>Donald</td>\n",
       "    </tr>\n",
       "    <tr>\n",
       "      <th>3</th>\n",
       "      <td>Adam</td>\n",
       "    </tr>\n",
       "    <tr>\n",
       "      <th>4</th>\n",
       "      <td>Patrick</td>\n",
       "    </tr>\n",
       "    <tr>\n",
       "      <th>5</th>\n",
       "      <td>Chris</td>\n",
       "    </tr>\n",
       "  </tbody>\n",
       "</table>\n",
       "</div>"
      ],
      "text/plain": [
       "          firstName\n",
       "studentID          \n",
       "1               Amy\n",
       "2            Donald\n",
       "3              Adam\n",
       "4           Patrick\n",
       "5             Chris"
      ]
     },
     "execution_count": 16,
     "metadata": {},
     "output_type": "execute_result"
    }
   ],
   "source": [
    "stu.iloc[0:5,0:1]"
   ]
  },
  {
   "cell_type": "code",
   "execution_count": 17,
   "metadata": {},
   "outputs": [
    {
     "data": {
      "text/plain": [
       "studentID\n",
       "1          Amy\n",
       "2       Donald\n",
       "3         Adam\n",
       "4      Patrick\n",
       "5        Chris\n",
       "        ...   \n",
       "96     Matthew\n",
       "97       Kelly\n",
       "98        Ryan\n",
       "99      Willie\n",
       "100       Lisa\n",
       "Name: firstName, Length: 100, dtype: object"
      ]
     },
     "execution_count": 17,
     "metadata": {},
     "output_type": "execute_result"
    }
   ],
   "source": [
    "stu.firstName"
   ]
  },
  {
   "cell_type": "code",
   "execution_count": 18,
   "metadata": {},
   "outputs": [
    {
     "data": {
      "text/plain": [
       "studentID\n",
       "1          Amy\n",
       "2       Donald\n",
       "3         Adam\n",
       "4      Patrick\n",
       "5        Chris\n",
       "        ...   \n",
       "96     Matthew\n",
       "97       Kelly\n",
       "98        Ryan\n",
       "99      Willie\n",
       "100       Lisa\n",
       "Name: firstName, Length: 100, dtype: object"
      ]
     },
     "execution_count": 18,
     "metadata": {},
     "output_type": "execute_result"
    }
   ],
   "source": [
    "stu['firstName']"
   ]
  },
  {
   "cell_type": "code",
   "execution_count": 19,
   "metadata": {},
   "outputs": [
    {
     "data": {
      "text/plain": [
       "studentID\n",
       "1          Willis\n",
       "2          Pierce\n",
       "3          Holmes\n",
       "4           Payne\n",
       "5           Lynch\n",
       "          ...    \n",
       "96     Cunningham\n",
       "97          Lynch\n",
       "98         Little\n",
       "99         Taylor\n",
       "100        Austin\n",
       "Name: lastName, Length: 100, dtype: object"
      ]
     },
     "execution_count": 19,
     "metadata": {},
     "output_type": "execute_result"
    }
   ],
   "source": [
    "stu.iloc[:,1]"
   ]
  },
  {
   "cell_type": "markdown",
   "metadata": {
    "slideshow": {
     "slide_type": "subslide"
    }
   },
   "source": [
    "#### Show all the data for rows 3 to 10"
   ]
  },
  {
   "cell_type": "code",
   "execution_count": 20,
   "metadata": {},
   "outputs": [
    {
     "data": {
      "text/html": [
       "<div>\n",
       "<style scoped>\n",
       "    .dataframe tbody tr th:only-of-type {\n",
       "        vertical-align: middle;\n",
       "    }\n",
       "\n",
       "    .dataframe tbody tr th {\n",
       "        vertical-align: top;\n",
       "    }\n",
       "\n",
       "    .dataframe thead th {\n",
       "        text-align: right;\n",
       "    }\n",
       "</style>\n",
       "<table border=\"1\" class=\"dataframe\">\n",
       "  <thead>\n",
       "    <tr style=\"text-align: right;\">\n",
       "      <th></th>\n",
       "      <th>firstName</th>\n",
       "      <th>lastName</th>\n",
       "      <th>birthdate</th>\n",
       "      <th>Points</th>\n",
       "    </tr>\n",
       "    <tr>\n",
       "      <th>studentID</th>\n",
       "      <th></th>\n",
       "      <th></th>\n",
       "      <th></th>\n",
       "      <th></th>\n",
       "    </tr>\n",
       "  </thead>\n",
       "  <tbody>\n",
       "    <tr>\n",
       "      <th>3</th>\n",
       "      <td>Adam</td>\n",
       "      <td>Holmes</td>\n",
       "      <td>5/16/1991</td>\n",
       "      <td>10.495381</td>\n",
       "    </tr>\n",
       "    <tr>\n",
       "      <th>4</th>\n",
       "      <td>Patrick</td>\n",
       "      <td>Payne</td>\n",
       "      <td>12/29/1990</td>\n",
       "      <td>33.449285</td>\n",
       "    </tr>\n",
       "    <tr>\n",
       "      <th>5</th>\n",
       "      <td>Chris</td>\n",
       "      <td>Lynch</td>\n",
       "      <td>10/3/1990</td>\n",
       "      <td>33.654615</td>\n",
       "    </tr>\n",
       "    <tr>\n",
       "      <th>6</th>\n",
       "      <td>Clarence</td>\n",
       "      <td>George</td>\n",
       "      <td>4/29/1988</td>\n",
       "      <td>79.655349</td>\n",
       "    </tr>\n",
       "    <tr>\n",
       "      <th>7</th>\n",
       "      <td>James</td>\n",
       "      <td>Lawson</td>\n",
       "      <td>10/17/1989</td>\n",
       "      <td>8.996545</td>\n",
       "    </tr>\n",
       "    <tr>\n",
       "      <th>8</th>\n",
       "      <td>Barbara</td>\n",
       "      <td>Robertson</td>\n",
       "      <td>12/5/1991</td>\n",
       "      <td>60.141281</td>\n",
       "    </tr>\n",
       "    <tr>\n",
       "      <th>9</th>\n",
       "      <td>Louis</td>\n",
       "      <td>Simpson</td>\n",
       "      <td>12/13/1990</td>\n",
       "      <td>58.775231</td>\n",
       "    </tr>\n",
       "    <tr>\n",
       "      <th>10</th>\n",
       "      <td>Dennis</td>\n",
       "      <td>Gilbert</td>\n",
       "      <td>12/7/1990</td>\n",
       "      <td>29.948968</td>\n",
       "    </tr>\n",
       "  </tbody>\n",
       "</table>\n",
       "</div>"
      ],
      "text/plain": [
       "          firstName   lastName   birthdate     Points\n",
       "studentID                                            \n",
       "3              Adam     Holmes   5/16/1991  10.495381\n",
       "4           Patrick      Payne  12/29/1990  33.449285\n",
       "5             Chris      Lynch   10/3/1990  33.654615\n",
       "6          Clarence     George   4/29/1988  79.655349\n",
       "7             James     Lawson  10/17/1989   8.996545\n",
       "8           Barbara  Robertson   12/5/1991  60.141281\n",
       "9             Louis    Simpson  12/13/1990  58.775231\n",
       "10           Dennis    Gilbert   12/7/1990  29.948968"
      ]
     },
     "execution_count": 20,
     "metadata": {},
     "output_type": "execute_result"
    }
   ],
   "source": [
    "stu.iloc[2:10]"
   ]
  },
  {
   "cell_type": "markdown",
   "metadata": {
    "slideshow": {
     "slide_type": "subslide"
    }
   },
   "source": [
    "#### Show all the data in the last row"
   ]
  },
  {
   "cell_type": "code",
   "execution_count": 21,
   "metadata": {},
   "outputs": [
    {
     "data": {
      "text/plain": [
       "firstName          Lisa\n",
       "lastName         Austin\n",
       "birthdate    11/17/1990\n",
       "Points          94.8085\n",
       "Name: 100, dtype: object"
      ]
     },
     "execution_count": 21,
     "metadata": {},
     "output_type": "execute_result"
    }
   ],
   "source": [
    "stu.iloc[-1]"
   ]
  },
  {
   "cell_type": "code",
   "execution_count": 22,
   "metadata": {},
   "outputs": [
    {
     "data": {
      "text/html": [
       "<div>\n",
       "<style scoped>\n",
       "    .dataframe tbody tr th:only-of-type {\n",
       "        vertical-align: middle;\n",
       "    }\n",
       "\n",
       "    .dataframe tbody tr th {\n",
       "        vertical-align: top;\n",
       "    }\n",
       "\n",
       "    .dataframe thead th {\n",
       "        text-align: right;\n",
       "    }\n",
       "</style>\n",
       "<table border=\"1\" class=\"dataframe\">\n",
       "  <thead>\n",
       "    <tr style=\"text-align: right;\">\n",
       "      <th></th>\n",
       "      <th>firstName</th>\n",
       "      <th>lastName</th>\n",
       "      <th>birthdate</th>\n",
       "      <th>Points</th>\n",
       "    </tr>\n",
       "    <tr>\n",
       "      <th>studentID</th>\n",
       "      <th></th>\n",
       "      <th></th>\n",
       "      <th></th>\n",
       "      <th></th>\n",
       "    </tr>\n",
       "  </thead>\n",
       "  <tbody>\n",
       "    <tr>\n",
       "      <th>100</th>\n",
       "      <td>Lisa</td>\n",
       "      <td>Austin</td>\n",
       "      <td>11/17/1990</td>\n",
       "      <td>94.808464</td>\n",
       "    </tr>\n",
       "  </tbody>\n",
       "</table>\n",
       "</div>"
      ],
      "text/plain": [
       "          firstName lastName   birthdate     Points\n",
       "studentID                                          \n",
       "100            Lisa   Austin  11/17/1990  94.808464"
      ]
     },
     "execution_count": 22,
     "metadata": {},
     "output_type": "execute_result"
    }
   ],
   "source": [
    "stu.iloc[-1:]"
   ]
  },
  {
   "cell_type": "markdown",
   "metadata": {},
   "source": [
    "#### Show the first 3 records of the third column\n",
    ">- Try doing this in three different ways"
   ]
  },
  {
   "cell_type": "code",
   "execution_count": 23,
   "metadata": {},
   "outputs": [
    {
     "data": {
      "text/plain": [
       "studentID\n",
       "1    10/23/1991\n",
       "2      4/7/1990\n",
       "3     5/16/1991\n",
       "Name: birthdate, dtype: object"
      ]
     },
     "execution_count": 23,
     "metadata": {},
     "output_type": "execute_result"
    }
   ],
   "source": [
    "stu.iloc[:3,2]"
   ]
  },
  {
   "cell_type": "code",
   "execution_count": 24,
   "metadata": {},
   "outputs": [
    {
     "data": {
      "text/html": [
       "<div>\n",
       "<style scoped>\n",
       "    .dataframe tbody tr th:only-of-type {\n",
       "        vertical-align: middle;\n",
       "    }\n",
       "\n",
       "    .dataframe tbody tr th {\n",
       "        vertical-align: top;\n",
       "    }\n",
       "\n",
       "    .dataframe thead th {\n",
       "        text-align: right;\n",
       "    }\n",
       "</style>\n",
       "<table border=\"1\" class=\"dataframe\">\n",
       "  <thead>\n",
       "    <tr style=\"text-align: right;\">\n",
       "      <th></th>\n",
       "      <th>birthdate</th>\n",
       "    </tr>\n",
       "    <tr>\n",
       "      <th>studentID</th>\n",
       "      <th></th>\n",
       "    </tr>\n",
       "  </thead>\n",
       "  <tbody>\n",
       "    <tr>\n",
       "      <th>1</th>\n",
       "      <td>10/23/1991</td>\n",
       "    </tr>\n",
       "    <tr>\n",
       "      <th>2</th>\n",
       "      <td>4/7/1990</td>\n",
       "    </tr>\n",
       "    <tr>\n",
       "      <th>3</th>\n",
       "      <td>5/16/1991</td>\n",
       "    </tr>\n",
       "  </tbody>\n",
       "</table>\n",
       "</div>"
      ],
      "text/plain": [
       "            birthdate\n",
       "studentID            \n",
       "1          10/23/1991\n",
       "2            4/7/1990\n",
       "3           5/16/1991"
      ]
     },
     "execution_count": 24,
     "metadata": {},
     "output_type": "execute_result"
    }
   ],
   "source": [
    "stu.iloc[0:3,2:3]"
   ]
  },
  {
   "cell_type": "code",
   "execution_count": 25,
   "metadata": {},
   "outputs": [
    {
     "data": {
      "text/plain": [
       "studentID\n",
       "95     5/17/1988\n",
       "96     11/5/1991\n",
       "97     3/18/1990\n",
       "98    12/23/1988\n",
       "99     12/6/1989\n",
       "Name: birthdate, dtype: object"
      ]
     },
     "execution_count": 25,
     "metadata": {},
     "output_type": "execute_result"
    }
   ],
   "source": [
    "stu.loc[:,'birthdate'][-6:-1]"
   ]
  },
  {
   "cell_type": "markdown",
   "metadata": {},
   "source": [
    "#### Show the last 3 records of the first and last columns\n",
    ">- Try doing this in three different ways"
   ]
  },
  {
   "cell_type": "code",
   "execution_count": 26,
   "metadata": {},
   "outputs": [
    {
     "data": {
      "text/html": [
       "<div>\n",
       "<style scoped>\n",
       "    .dataframe tbody tr th:only-of-type {\n",
       "        vertical-align: middle;\n",
       "    }\n",
       "\n",
       "    .dataframe tbody tr th {\n",
       "        vertical-align: top;\n",
       "    }\n",
       "\n",
       "    .dataframe thead th {\n",
       "        text-align: right;\n",
       "    }\n",
       "</style>\n",
       "<table border=\"1\" class=\"dataframe\">\n",
       "  <thead>\n",
       "    <tr style=\"text-align: right;\">\n",
       "      <th></th>\n",
       "      <th>firstName</th>\n",
       "      <th>Points</th>\n",
       "    </tr>\n",
       "    <tr>\n",
       "      <th>studentID</th>\n",
       "      <th></th>\n",
       "      <th></th>\n",
       "    </tr>\n",
       "  </thead>\n",
       "  <tbody>\n",
       "    <tr>\n",
       "      <th>98</th>\n",
       "      <td>Ryan</td>\n",
       "      <td>52.021577</td>\n",
       "    </tr>\n",
       "    <tr>\n",
       "      <th>99</th>\n",
       "      <td>Willie</td>\n",
       "      <td>13.154354</td>\n",
       "    </tr>\n",
       "    <tr>\n",
       "      <th>100</th>\n",
       "      <td>Lisa</td>\n",
       "      <td>94.808464</td>\n",
       "    </tr>\n",
       "  </tbody>\n",
       "</table>\n",
       "</div>"
      ],
      "text/plain": [
       "          firstName     Points\n",
       "studentID                     \n",
       "98             Ryan  52.021577\n",
       "99           Willie  13.154354\n",
       "100            Lisa  94.808464"
      ]
     },
     "execution_count": 26,
     "metadata": {},
     "output_type": "execute_result"
    }
   ],
   "source": [
    "stu.iloc[-3:,[0,-1]]"
   ]
  },
  {
   "cell_type": "code",
   "execution_count": 27,
   "metadata": {},
   "outputs": [
    {
     "data": {
      "text/html": [
       "<div>\n",
       "<style scoped>\n",
       "    .dataframe tbody tr th:only-of-type {\n",
       "        vertical-align: middle;\n",
       "    }\n",
       "\n",
       "    .dataframe tbody tr th {\n",
       "        vertical-align: top;\n",
       "    }\n",
       "\n",
       "    .dataframe thead th {\n",
       "        text-align: right;\n",
       "    }\n",
       "</style>\n",
       "<table border=\"1\" class=\"dataframe\">\n",
       "  <thead>\n",
       "    <tr style=\"text-align: right;\">\n",
       "      <th></th>\n",
       "      <th>firstName</th>\n",
       "      <th>Points</th>\n",
       "    </tr>\n",
       "    <tr>\n",
       "      <th>studentID</th>\n",
       "      <th></th>\n",
       "      <th></th>\n",
       "    </tr>\n",
       "  </thead>\n",
       "  <tbody>\n",
       "    <tr>\n",
       "      <th>98</th>\n",
       "      <td>Ryan</td>\n",
       "      <td>52.021577</td>\n",
       "    </tr>\n",
       "    <tr>\n",
       "      <th>99</th>\n",
       "      <td>Willie</td>\n",
       "      <td>13.154354</td>\n",
       "    </tr>\n",
       "    <tr>\n",
       "      <th>100</th>\n",
       "      <td>Lisa</td>\n",
       "      <td>94.808464</td>\n",
       "    </tr>\n",
       "  </tbody>\n",
       "</table>\n",
       "</div>"
      ],
      "text/plain": [
       "          firstName     Points\n",
       "studentID                     \n",
       "98             Ryan  52.021577\n",
       "99           Willie  13.154354\n",
       "100            Lisa  94.808464"
      ]
     },
     "execution_count": 27,
     "metadata": {},
     "output_type": "execute_result"
    }
   ],
   "source": [
    "stu.loc[98:101 ,['firstName','Points']]"
   ]
  },
  {
   "cell_type": "markdown",
   "metadata": {},
   "source": [
    "# Section 3\n",
    "## More practice and notes on selecting data\n",
    ">- `iloc` - index based selection\n",
    ">- `loc` - label based selection\n",
    "\n",
    "### Additional Source for DataFrame Methods\n",
    "\n",
    "[Docu DF Methods](https://pandas.pydata.org/pandas-docs/stable/generated/pandas.DataFrame.html)"
   ]
  },
  {
   "cell_type": "markdown",
   "metadata": {
    "slideshow": {
     "slide_type": "subslide"
    }
   },
   "source": [
    "## `.iloc(arg1, arg2)`\n",
    "\n",
    "accesses data by row and column  (i stands for integer)\n",
    "\n",
    "`arg1`: row number\n",
    "\n",
    "`arg2`: column number\n",
    "\n",
    "first row has index 0 <br>\n",
    "first column has index 0 <br>\n",
    "index column is always shown (not included in column count)\n"
   ]
  },
  {
   "cell_type": "markdown",
   "metadata": {},
   "source": [
    "### First, let's remind ourselves what the `stu` DataFrame looks like\n",
    ">- Show the first five records of the `stu` DataFrame"
   ]
  },
  {
   "cell_type": "code",
   "execution_count": 28,
   "metadata": {},
   "outputs": [
    {
     "data": {
      "text/html": [
       "<div>\n",
       "<style scoped>\n",
       "    .dataframe tbody tr th:only-of-type {\n",
       "        vertical-align: middle;\n",
       "    }\n",
       "\n",
       "    .dataframe tbody tr th {\n",
       "        vertical-align: top;\n",
       "    }\n",
       "\n",
       "    .dataframe thead th {\n",
       "        text-align: right;\n",
       "    }\n",
       "</style>\n",
       "<table border=\"1\" class=\"dataframe\">\n",
       "  <thead>\n",
       "    <tr style=\"text-align: right;\">\n",
       "      <th></th>\n",
       "      <th>firstName</th>\n",
       "      <th>lastName</th>\n",
       "      <th>birthdate</th>\n",
       "      <th>Points</th>\n",
       "    </tr>\n",
       "    <tr>\n",
       "      <th>studentID</th>\n",
       "      <th></th>\n",
       "      <th></th>\n",
       "      <th></th>\n",
       "      <th></th>\n",
       "    </tr>\n",
       "  </thead>\n",
       "  <tbody>\n",
       "    <tr>\n",
       "      <th>1</th>\n",
       "      <td>Amy</td>\n",
       "      <td>Willis</td>\n",
       "      <td>10/23/1991</td>\n",
       "      <td>18.032651</td>\n",
       "    </tr>\n",
       "    <tr>\n",
       "      <th>2</th>\n",
       "      <td>Donald</td>\n",
       "      <td>Pierce</td>\n",
       "      <td>4/7/1990</td>\n",
       "      <td>79.671554</td>\n",
       "    </tr>\n",
       "    <tr>\n",
       "      <th>3</th>\n",
       "      <td>Adam</td>\n",
       "      <td>Holmes</td>\n",
       "      <td>5/16/1991</td>\n",
       "      <td>10.495381</td>\n",
       "    </tr>\n",
       "    <tr>\n",
       "      <th>4</th>\n",
       "      <td>Patrick</td>\n",
       "      <td>Payne</td>\n",
       "      <td>12/29/1990</td>\n",
       "      <td>33.449285</td>\n",
       "    </tr>\n",
       "    <tr>\n",
       "      <th>5</th>\n",
       "      <td>Chris</td>\n",
       "      <td>Lynch</td>\n",
       "      <td>10/3/1990</td>\n",
       "      <td>33.654615</td>\n",
       "    </tr>\n",
       "  </tbody>\n",
       "</table>\n",
       "</div>"
      ],
      "text/plain": [
       "          firstName lastName   birthdate     Points\n",
       "studentID                                          \n",
       "1               Amy   Willis  10/23/1991  18.032651\n",
       "2            Donald   Pierce    4/7/1990  79.671554\n",
       "3              Adam   Holmes   5/16/1991  10.495381\n",
       "4           Patrick    Payne  12/29/1990  33.449285\n",
       "5             Chris    Lynch   10/3/1990  33.654615"
      ]
     },
     "execution_count": 28,
     "metadata": {},
     "output_type": "execute_result"
    }
   ],
   "source": [
    "stu.head()"
   ]
  },
  {
   "cell_type": "markdown",
   "metadata": {},
   "source": [
    "### Using `iloc()`, show the first ten records of the first 2 columns of `stu`"
   ]
  },
  {
   "cell_type": "code",
   "execution_count": 29,
   "metadata": {},
   "outputs": [
    {
     "data": {
      "text/html": [
       "<div>\n",
       "<style scoped>\n",
       "    .dataframe tbody tr th:only-of-type {\n",
       "        vertical-align: middle;\n",
       "    }\n",
       "\n",
       "    .dataframe tbody tr th {\n",
       "        vertical-align: top;\n",
       "    }\n",
       "\n",
       "    .dataframe thead th {\n",
       "        text-align: right;\n",
       "    }\n",
       "</style>\n",
       "<table border=\"1\" class=\"dataframe\">\n",
       "  <thead>\n",
       "    <tr style=\"text-align: right;\">\n",
       "      <th></th>\n",
       "      <th>firstName</th>\n",
       "      <th>lastName</th>\n",
       "    </tr>\n",
       "    <tr>\n",
       "      <th>studentID</th>\n",
       "      <th></th>\n",
       "      <th></th>\n",
       "    </tr>\n",
       "  </thead>\n",
       "  <tbody>\n",
       "    <tr>\n",
       "      <th>1</th>\n",
       "      <td>Amy</td>\n",
       "      <td>Willis</td>\n",
       "    </tr>\n",
       "    <tr>\n",
       "      <th>2</th>\n",
       "      <td>Donald</td>\n",
       "      <td>Pierce</td>\n",
       "    </tr>\n",
       "    <tr>\n",
       "      <th>3</th>\n",
       "      <td>Adam</td>\n",
       "      <td>Holmes</td>\n",
       "    </tr>\n",
       "    <tr>\n",
       "      <th>4</th>\n",
       "      <td>Patrick</td>\n",
       "      <td>Payne</td>\n",
       "    </tr>\n",
       "    <tr>\n",
       "      <th>5</th>\n",
       "      <td>Chris</td>\n",
       "      <td>Lynch</td>\n",
       "    </tr>\n",
       "    <tr>\n",
       "      <th>6</th>\n",
       "      <td>Clarence</td>\n",
       "      <td>George</td>\n",
       "    </tr>\n",
       "    <tr>\n",
       "      <th>7</th>\n",
       "      <td>James</td>\n",
       "      <td>Lawson</td>\n",
       "    </tr>\n",
       "    <tr>\n",
       "      <th>8</th>\n",
       "      <td>Barbara</td>\n",
       "      <td>Robertson</td>\n",
       "    </tr>\n",
       "    <tr>\n",
       "      <th>9</th>\n",
       "      <td>Louis</td>\n",
       "      <td>Simpson</td>\n",
       "    </tr>\n",
       "    <tr>\n",
       "      <th>10</th>\n",
       "      <td>Dennis</td>\n",
       "      <td>Gilbert</td>\n",
       "    </tr>\n",
       "  </tbody>\n",
       "</table>\n",
       "</div>"
      ],
      "text/plain": [
       "          firstName   lastName\n",
       "studentID                     \n",
       "1               Amy     Willis\n",
       "2            Donald     Pierce\n",
       "3              Adam     Holmes\n",
       "4           Patrick      Payne\n",
       "5             Chris      Lynch\n",
       "6          Clarence     George\n",
       "7             James     Lawson\n",
       "8           Barbara  Robertson\n",
       "9             Louis    Simpson\n",
       "10           Dennis    Gilbert"
      ]
     },
     "execution_count": 29,
     "metadata": {},
     "output_type": "execute_result"
    }
   ],
   "source": [
    "stu.iloc[:10,[0,1]]"
   ]
  },
  {
   "cell_type": "markdown",
   "metadata": {
    "slideshow": {
     "slide_type": "subslide"
    }
   },
   "source": [
    "### Using `iloc()` show rows 2-10 for the last two columns of `stu`"
   ]
  },
  {
   "cell_type": "code",
   "execution_count": 30,
   "metadata": {},
   "outputs": [
    {
     "data": {
      "text/html": [
       "<div>\n",
       "<style scoped>\n",
       "    .dataframe tbody tr th:only-of-type {\n",
       "        vertical-align: middle;\n",
       "    }\n",
       "\n",
       "    .dataframe tbody tr th {\n",
       "        vertical-align: top;\n",
       "    }\n",
       "\n",
       "    .dataframe thead th {\n",
       "        text-align: right;\n",
       "    }\n",
       "</style>\n",
       "<table border=\"1\" class=\"dataframe\">\n",
       "  <thead>\n",
       "    <tr style=\"text-align: right;\">\n",
       "      <th></th>\n",
       "      <th>birthdate</th>\n",
       "      <th>Points</th>\n",
       "    </tr>\n",
       "    <tr>\n",
       "      <th>studentID</th>\n",
       "      <th></th>\n",
       "      <th></th>\n",
       "    </tr>\n",
       "  </thead>\n",
       "  <tbody>\n",
       "    <tr>\n",
       "      <th>2</th>\n",
       "      <td>4/7/1990</td>\n",
       "      <td>79.671554</td>\n",
       "    </tr>\n",
       "    <tr>\n",
       "      <th>3</th>\n",
       "      <td>5/16/1991</td>\n",
       "      <td>10.495381</td>\n",
       "    </tr>\n",
       "    <tr>\n",
       "      <th>4</th>\n",
       "      <td>12/29/1990</td>\n",
       "      <td>33.449285</td>\n",
       "    </tr>\n",
       "    <tr>\n",
       "      <th>5</th>\n",
       "      <td>10/3/1990</td>\n",
       "      <td>33.654615</td>\n",
       "    </tr>\n",
       "    <tr>\n",
       "      <th>6</th>\n",
       "      <td>4/29/1988</td>\n",
       "      <td>79.655349</td>\n",
       "    </tr>\n",
       "    <tr>\n",
       "      <th>7</th>\n",
       "      <td>10/17/1989</td>\n",
       "      <td>8.996545</td>\n",
       "    </tr>\n",
       "    <tr>\n",
       "      <th>8</th>\n",
       "      <td>12/5/1991</td>\n",
       "      <td>60.141281</td>\n",
       "    </tr>\n",
       "    <tr>\n",
       "      <th>9</th>\n",
       "      <td>12/13/1990</td>\n",
       "      <td>58.775231</td>\n",
       "    </tr>\n",
       "    <tr>\n",
       "      <th>10</th>\n",
       "      <td>12/7/1990</td>\n",
       "      <td>29.948968</td>\n",
       "    </tr>\n",
       "  </tbody>\n",
       "</table>\n",
       "</div>"
      ],
      "text/plain": [
       "            birthdate     Points\n",
       "studentID                       \n",
       "2            4/7/1990  79.671554\n",
       "3           5/16/1991  10.495381\n",
       "4          12/29/1990  33.449285\n",
       "5           10/3/1990  33.654615\n",
       "6           4/29/1988  79.655349\n",
       "7          10/17/1989   8.996545\n",
       "8           12/5/1991  60.141281\n",
       "9          12/13/1990  58.775231\n",
       "10          12/7/1990  29.948968"
      ]
     },
     "execution_count": 30,
     "metadata": {},
     "output_type": "execute_result"
    }
   ],
   "source": [
    "stu.iloc[1:10,[-2,-1]]"
   ]
  },
  {
   "cell_type": "markdown",
   "metadata": {
    "slideshow": {
     "slide_type": "subslide"
    }
   },
   "source": [
    "### Using `iloc()` show rows 85 to the end of the DataFrame for all columns"
   ]
  },
  {
   "cell_type": "code",
   "execution_count": 46,
   "metadata": {},
   "outputs": [
    {
     "data": {
      "text/html": [
       "<div>\n",
       "<style scoped>\n",
       "    .dataframe tbody tr th:only-of-type {\n",
       "        vertical-align: middle;\n",
       "    }\n",
       "\n",
       "    .dataframe tbody tr th {\n",
       "        vertical-align: top;\n",
       "    }\n",
       "\n",
       "    .dataframe thead th {\n",
       "        text-align: right;\n",
       "    }\n",
       "</style>\n",
       "<table border=\"1\" class=\"dataframe\">\n",
       "  <thead>\n",
       "    <tr style=\"text-align: right;\">\n",
       "      <th></th>\n",
       "      <th>firstName</th>\n",
       "      <th>lastName</th>\n",
       "      <th>birthdate</th>\n",
       "      <th>Points</th>\n",
       "    </tr>\n",
       "    <tr>\n",
       "      <th>studentID</th>\n",
       "      <th></th>\n",
       "      <th></th>\n",
       "      <th></th>\n",
       "      <th></th>\n",
       "    </tr>\n",
       "  </thead>\n",
       "  <tbody>\n",
       "    <tr>\n",
       "      <th>85</th>\n",
       "      <td>Deborah</td>\n",
       "      <td>Owens</td>\n",
       "      <td>5/7/1991</td>\n",
       "      <td>49.937980</td>\n",
       "    </tr>\n",
       "    <tr>\n",
       "      <th>86</th>\n",
       "      <td>Charles</td>\n",
       "      <td>Martinez</td>\n",
       "      <td>4/7/1988</td>\n",
       "      <td>83.866490</td>\n",
       "    </tr>\n",
       "    <tr>\n",
       "      <th>87</th>\n",
       "      <td>Anthony</td>\n",
       "      <td>Baker</td>\n",
       "      <td>8/14/1989</td>\n",
       "      <td>68.802021</td>\n",
       "    </tr>\n",
       "    <tr>\n",
       "      <th>88</th>\n",
       "      <td>Matthew</td>\n",
       "      <td>Sims</td>\n",
       "      <td>8/14/1990</td>\n",
       "      <td>78.932542</td>\n",
       "    </tr>\n",
       "    <tr>\n",
       "      <th>89</th>\n",
       "      <td>Robin</td>\n",
       "      <td>Collins</td>\n",
       "      <td>9/9/1991</td>\n",
       "      <td>1.619006</td>\n",
       "    </tr>\n",
       "    <tr>\n",
       "      <th>90</th>\n",
       "      <td>Ann</td>\n",
       "      <td>Powell</td>\n",
       "      <td>2/27/1988</td>\n",
       "      <td>54.369955</td>\n",
       "    </tr>\n",
       "    <tr>\n",
       "      <th>91</th>\n",
       "      <td>Earl</td>\n",
       "      <td>Robertson</td>\n",
       "      <td>1/26/1989</td>\n",
       "      <td>45.399924</td>\n",
       "    </tr>\n",
       "    <tr>\n",
       "      <th>92</th>\n",
       "      <td>Helen</td>\n",
       "      <td>Morrison</td>\n",
       "      <td>5/13/1988</td>\n",
       "      <td>90.407461</td>\n",
       "    </tr>\n",
       "    <tr>\n",
       "      <th>93</th>\n",
       "      <td>David</td>\n",
       "      <td>Dean</td>\n",
       "      <td>9/28/1989</td>\n",
       "      <td>78.979862</td>\n",
       "    </tr>\n",
       "    <tr>\n",
       "      <th>94</th>\n",
       "      <td>Alice</td>\n",
       "      <td>Fox</td>\n",
       "      <td>8/14/1989</td>\n",
       "      <td>27.961554</td>\n",
       "    </tr>\n",
       "    <tr>\n",
       "      <th>95</th>\n",
       "      <td>Donald</td>\n",
       "      <td>Nichols</td>\n",
       "      <td>5/17/1988</td>\n",
       "      <td>71.406950</td>\n",
       "    </tr>\n",
       "    <tr>\n",
       "      <th>96</th>\n",
       "      <td>Matthew</td>\n",
       "      <td>Cunningham</td>\n",
       "      <td>11/5/1991</td>\n",
       "      <td>84.951415</td>\n",
       "    </tr>\n",
       "    <tr>\n",
       "      <th>97</th>\n",
       "      <td>Kelly</td>\n",
       "      <td>Lynch</td>\n",
       "      <td>3/18/1990</td>\n",
       "      <td>4.377005</td>\n",
       "    </tr>\n",
       "    <tr>\n",
       "      <th>98</th>\n",
       "      <td>Ryan</td>\n",
       "      <td>Little</td>\n",
       "      <td>12/23/1988</td>\n",
       "      <td>52.021577</td>\n",
       "    </tr>\n",
       "    <tr>\n",
       "      <th>99</th>\n",
       "      <td>Willie</td>\n",
       "      <td>Taylor</td>\n",
       "      <td>12/6/1989</td>\n",
       "      <td>13.154354</td>\n",
       "    </tr>\n",
       "    <tr>\n",
       "      <th>100</th>\n",
       "      <td>Lisa</td>\n",
       "      <td>Austin</td>\n",
       "      <td>11/17/1990</td>\n",
       "      <td>94.808464</td>\n",
       "    </tr>\n",
       "  </tbody>\n",
       "</table>\n",
       "</div>"
      ],
      "text/plain": [
       "          firstName    lastName   birthdate     Points\n",
       "studentID                                             \n",
       "85          Deborah       Owens    5/7/1991  49.937980\n",
       "86          Charles    Martinez    4/7/1988  83.866490\n",
       "87          Anthony       Baker   8/14/1989  68.802021\n",
       "88          Matthew        Sims   8/14/1990  78.932542\n",
       "89            Robin     Collins    9/9/1991   1.619006\n",
       "90              Ann      Powell   2/27/1988  54.369955\n",
       "91             Earl   Robertson   1/26/1989  45.399924\n",
       "92            Helen    Morrison   5/13/1988  90.407461\n",
       "93            David        Dean   9/28/1989  78.979862\n",
       "94            Alice         Fox   8/14/1989  27.961554\n",
       "95           Donald     Nichols   5/17/1988  71.406950\n",
       "96          Matthew  Cunningham   11/5/1991  84.951415\n",
       "97            Kelly       Lynch   3/18/1990   4.377005\n",
       "98             Ryan      Little  12/23/1988  52.021577\n",
       "99           Willie      Taylor   12/6/1989  13.154354\n",
       "100            Lisa      Austin  11/17/1990  94.808464"
      ]
     },
     "execution_count": 46,
     "metadata": {},
     "output_type": "execute_result"
    }
   ],
   "source": [
    "stu.iloc[84:,]"
   ]
  },
  {
   "cell_type": "markdown",
   "metadata": {
    "slideshow": {
     "slide_type": "subslide"
    }
   },
   "source": [
    "### Using `iloc()`, show columns 2 to 4 (lastName to Points) for all records"
   ]
  },
  {
   "cell_type": "code",
   "execution_count": 70,
   "metadata": {},
   "outputs": [
    {
     "data": {
      "text/html": [
       "<div>\n",
       "<style scoped>\n",
       "    .dataframe tbody tr th:only-of-type {\n",
       "        vertical-align: middle;\n",
       "    }\n",
       "\n",
       "    .dataframe tbody tr th {\n",
       "        vertical-align: top;\n",
       "    }\n",
       "\n",
       "    .dataframe thead th {\n",
       "        text-align: right;\n",
       "    }\n",
       "</style>\n",
       "<table border=\"1\" class=\"dataframe\">\n",
       "  <thead>\n",
       "    <tr style=\"text-align: right;\">\n",
       "      <th></th>\n",
       "      <th>lastName</th>\n",
       "      <th>Points</th>\n",
       "    </tr>\n",
       "    <tr>\n",
       "      <th>studentID</th>\n",
       "      <th></th>\n",
       "      <th></th>\n",
       "    </tr>\n",
       "  </thead>\n",
       "  <tbody>\n",
       "    <tr>\n",
       "      <th>1</th>\n",
       "      <td>Willis</td>\n",
       "      <td>18.032651</td>\n",
       "    </tr>\n",
       "    <tr>\n",
       "      <th>2</th>\n",
       "      <td>Pierce</td>\n",
       "      <td>79.671554</td>\n",
       "    </tr>\n",
       "    <tr>\n",
       "      <th>3</th>\n",
       "      <td>Holmes</td>\n",
       "      <td>10.495381</td>\n",
       "    </tr>\n",
       "    <tr>\n",
       "      <th>4</th>\n",
       "      <td>Payne</td>\n",
       "      <td>33.449285</td>\n",
       "    </tr>\n",
       "    <tr>\n",
       "      <th>5</th>\n",
       "      <td>Lynch</td>\n",
       "      <td>33.654615</td>\n",
       "    </tr>\n",
       "    <tr>\n",
       "      <th>...</th>\n",
       "      <td>...</td>\n",
       "      <td>...</td>\n",
       "    </tr>\n",
       "    <tr>\n",
       "      <th>96</th>\n",
       "      <td>Cunningham</td>\n",
       "      <td>84.951415</td>\n",
       "    </tr>\n",
       "    <tr>\n",
       "      <th>97</th>\n",
       "      <td>Lynch</td>\n",
       "      <td>4.377005</td>\n",
       "    </tr>\n",
       "    <tr>\n",
       "      <th>98</th>\n",
       "      <td>Little</td>\n",
       "      <td>52.021577</td>\n",
       "    </tr>\n",
       "    <tr>\n",
       "      <th>99</th>\n",
       "      <td>Taylor</td>\n",
       "      <td>13.154354</td>\n",
       "    </tr>\n",
       "    <tr>\n",
       "      <th>100</th>\n",
       "      <td>Austin</td>\n",
       "      <td>94.808464</td>\n",
       "    </tr>\n",
       "  </tbody>\n",
       "</table>\n",
       "<p>100 rows × 2 columns</p>\n",
       "</div>"
      ],
      "text/plain": [
       "             lastName     Points\n",
       "studentID                       \n",
       "1              Willis  18.032651\n",
       "2              Pierce  79.671554\n",
       "3              Holmes  10.495381\n",
       "4               Payne  33.449285\n",
       "5               Lynch  33.654615\n",
       "...               ...        ...\n",
       "96         Cunningham  84.951415\n",
       "97              Lynch   4.377005\n",
       "98             Little  52.021577\n",
       "99             Taylor  13.154354\n",
       "100            Austin  94.808464\n",
       "\n",
       "[100 rows x 2 columns]"
      ]
     },
     "execution_count": 70,
     "metadata": {},
     "output_type": "execute_result"
    }
   ],
   "source": [
    "stu.iloc[:,[1,3]]"
   ]
  },
  {
   "cell_type": "markdown",
   "metadata": {
    "slideshow": {
     "slide_type": "subslide"
    }
   },
   "source": [
    "### Using `iloc()`, show rows 20 to 25, columns 1 to 2 (firstname and lastname)"
   ]
  },
  {
   "cell_type": "code",
   "execution_count": 73,
   "metadata": {},
   "outputs": [
    {
     "data": {
      "text/html": [
       "<div>\n",
       "<style scoped>\n",
       "    .dataframe tbody tr th:only-of-type {\n",
       "        vertical-align: middle;\n",
       "    }\n",
       "\n",
       "    .dataframe tbody tr th {\n",
       "        vertical-align: top;\n",
       "    }\n",
       "\n",
       "    .dataframe thead th {\n",
       "        text-align: right;\n",
       "    }\n",
       "</style>\n",
       "<table border=\"1\" class=\"dataframe\">\n",
       "  <thead>\n",
       "    <tr style=\"text-align: right;\">\n",
       "      <th></th>\n",
       "      <th>firstName</th>\n",
       "      <th>lastName</th>\n",
       "    </tr>\n",
       "    <tr>\n",
       "      <th>studentID</th>\n",
       "      <th></th>\n",
       "      <th></th>\n",
       "    </tr>\n",
       "  </thead>\n",
       "  <tbody>\n",
       "    <tr>\n",
       "      <th>20</th>\n",
       "      <td>Eric</td>\n",
       "      <td>Adams</td>\n",
       "    </tr>\n",
       "    <tr>\n",
       "      <th>21</th>\n",
       "      <td>Jose</td>\n",
       "      <td>White</td>\n",
       "    </tr>\n",
       "    <tr>\n",
       "      <th>22</th>\n",
       "      <td>Susan</td>\n",
       "      <td>Little</td>\n",
       "    </tr>\n",
       "    <tr>\n",
       "      <th>23</th>\n",
       "      <td>Angela</td>\n",
       "      <td>Ray</td>\n",
       "    </tr>\n",
       "    <tr>\n",
       "      <th>24</th>\n",
       "      <td>Raymond</td>\n",
       "      <td>Garcia</td>\n",
       "    </tr>\n",
       "    <tr>\n",
       "      <th>25</th>\n",
       "      <td>Emily</td>\n",
       "      <td>Richardson</td>\n",
       "    </tr>\n",
       "  </tbody>\n",
       "</table>\n",
       "</div>"
      ],
      "text/plain": [
       "          firstName    lastName\n",
       "studentID                      \n",
       "20             Eric       Adams\n",
       "21             Jose       White\n",
       "22            Susan      Little\n",
       "23           Angela         Ray\n",
       "24          Raymond      Garcia\n",
       "25            Emily  Richardson"
      ]
     },
     "execution_count": 73,
     "metadata": {},
     "output_type": "execute_result"
    }
   ],
   "source": [
    "stu.iloc[19:25,[0,1]]"
   ]
  },
  {
   "cell_type": "markdown",
   "metadata": {
    "slideshow": {
     "slide_type": "subslide"
    }
   },
   "source": [
    "### Using `iloc()`, show rows 1,5,7 and columns 1,4 (firstName and Points)"
   ]
  },
  {
   "cell_type": "code",
   "execution_count": 98,
   "metadata": {},
   "outputs": [
    {
     "data": {
      "text/html": [
       "<div>\n",
       "<style scoped>\n",
       "    .dataframe tbody tr th:only-of-type {\n",
       "        vertical-align: middle;\n",
       "    }\n",
       "\n",
       "    .dataframe tbody tr th {\n",
       "        vertical-align: top;\n",
       "    }\n",
       "\n",
       "    .dataframe thead th {\n",
       "        text-align: right;\n",
       "    }\n",
       "</style>\n",
       "<table border=\"1\" class=\"dataframe\">\n",
       "  <thead>\n",
       "    <tr style=\"text-align: right;\">\n",
       "      <th></th>\n",
       "      <th>firstName</th>\n",
       "      <th>Points</th>\n",
       "    </tr>\n",
       "  </thead>\n",
       "  <tbody>\n",
       "    <tr>\n",
       "      <th>1</th>\n",
       "      <td>Donald</td>\n",
       "      <td>79.671554</td>\n",
       "    </tr>\n",
       "    <tr>\n",
       "      <th>5</th>\n",
       "      <td>Clarence</td>\n",
       "      <td>79.655349</td>\n",
       "    </tr>\n",
       "    <tr>\n",
       "      <th>7</th>\n",
       "      <td>Barbara</td>\n",
       "      <td>60.141281</td>\n",
       "    </tr>\n",
       "  </tbody>\n",
       "</table>\n",
       "</div>"
      ],
      "text/plain": [
       "  firstName     Points\n",
       "1    Donald  79.671554\n",
       "5  Clarence  79.655349\n",
       "7   Barbara  60.141281"
      ]
     },
     "execution_count": 98,
     "metadata": {},
     "output_type": "execute_result"
    }
   ],
   "source": [
    "stu.iloc[[1,5,7],[1,4]]"
   ]
  },
  {
   "cell_type": "markdown",
   "metadata": {
    "slideshow": {
     "slide_type": "subslide"
    }
   },
   "source": [
    "## `.loc`, label-based selection\n",
    "\n",
    ">- Use index values to show specific rows\n",
    ">- Use column labels to show specific columns"
   ]
  },
  {
   "cell_type": "markdown",
   "metadata": {
    "slideshow": {
     "slide_type": "-"
    }
   },
   "source": [
    "### Using `loc` show students with student number 75-80"
   ]
  },
  {
   "cell_type": "code",
   "execution_count": 78,
   "metadata": {
    "scrolled": true
   },
   "outputs": [
    {
     "data": {
      "text/html": [
       "<div>\n",
       "<style scoped>\n",
       "    .dataframe tbody tr th:only-of-type {\n",
       "        vertical-align: middle;\n",
       "    }\n",
       "\n",
       "    .dataframe tbody tr th {\n",
       "        vertical-align: top;\n",
       "    }\n",
       "\n",
       "    .dataframe thead th {\n",
       "        text-align: right;\n",
       "    }\n",
       "</style>\n",
       "<table border=\"1\" class=\"dataframe\">\n",
       "  <thead>\n",
       "    <tr style=\"text-align: right;\">\n",
       "      <th></th>\n",
       "      <th>firstName</th>\n",
       "      <th>lastName</th>\n",
       "      <th>birthdate</th>\n",
       "      <th>Points</th>\n",
       "    </tr>\n",
       "    <tr>\n",
       "      <th>studentID</th>\n",
       "      <th></th>\n",
       "      <th></th>\n",
       "      <th></th>\n",
       "      <th></th>\n",
       "    </tr>\n",
       "  </thead>\n",
       "  <tbody>\n",
       "    <tr>\n",
       "      <th>75</th>\n",
       "      <td>Norma</td>\n",
       "      <td>Lynch</td>\n",
       "      <td>12/2/1991</td>\n",
       "      <td>46.269019</td>\n",
       "    </tr>\n",
       "    <tr>\n",
       "      <th>76</th>\n",
       "      <td>Jason</td>\n",
       "      <td>Freeman</td>\n",
       "      <td>6/1/1989</td>\n",
       "      <td>34.684327</td>\n",
       "    </tr>\n",
       "    <tr>\n",
       "      <th>77</th>\n",
       "      <td>Thomas</td>\n",
       "      <td>Lawrence</td>\n",
       "      <td>3/15/1991</td>\n",
       "      <td>90.077218</td>\n",
       "    </tr>\n",
       "    <tr>\n",
       "      <th>78</th>\n",
       "      <td>Daniel</td>\n",
       "      <td>Wallace</td>\n",
       "      <td>3/25/1991</td>\n",
       "      <td>82.183959</td>\n",
       "    </tr>\n",
       "    <tr>\n",
       "      <th>79</th>\n",
       "      <td>Charles</td>\n",
       "      <td>Austin</td>\n",
       "      <td>10/6/1990</td>\n",
       "      <td>72.173290</td>\n",
       "    </tr>\n",
       "    <tr>\n",
       "      <th>80</th>\n",
       "      <td>Brandon</td>\n",
       "      <td>Clark</td>\n",
       "      <td>11/8/1990</td>\n",
       "      <td>99.585281</td>\n",
       "    </tr>\n",
       "  </tbody>\n",
       "</table>\n",
       "</div>"
      ],
      "text/plain": [
       "          firstName  lastName  birthdate     Points\n",
       "studentID                                          \n",
       "75            Norma     Lynch  12/2/1991  46.269019\n",
       "76            Jason   Freeman   6/1/1989  34.684327\n",
       "77           Thomas  Lawrence  3/15/1991  90.077218\n",
       "78           Daniel   Wallace  3/25/1991  82.183959\n",
       "79          Charles    Austin  10/6/1990  72.173290\n",
       "80          Brandon     Clark  11/8/1990  99.585281"
      ]
     },
     "execution_count": 78,
     "metadata": {},
     "output_type": "execute_result"
    }
   ],
   "source": [
    "stu.loc[75:80]"
   ]
  },
  {
   "cell_type": "markdown",
   "metadata": {},
   "source": [
    "### Using `loc` show the `birthdate` of studentIds of 10-15"
   ]
  },
  {
   "cell_type": "code",
   "execution_count": 80,
   "metadata": {},
   "outputs": [
    {
     "data": {
      "text/html": [
       "<div>\n",
       "<style scoped>\n",
       "    .dataframe tbody tr th:only-of-type {\n",
       "        vertical-align: middle;\n",
       "    }\n",
       "\n",
       "    .dataframe tbody tr th {\n",
       "        vertical-align: top;\n",
       "    }\n",
       "\n",
       "    .dataframe thead th {\n",
       "        text-align: right;\n",
       "    }\n",
       "</style>\n",
       "<table border=\"1\" class=\"dataframe\">\n",
       "  <thead>\n",
       "    <tr style=\"text-align: right;\">\n",
       "      <th></th>\n",
       "      <th>birthdate</th>\n",
       "    </tr>\n",
       "    <tr>\n",
       "      <th>studentID</th>\n",
       "      <th></th>\n",
       "    </tr>\n",
       "  </thead>\n",
       "  <tbody>\n",
       "    <tr>\n",
       "      <th>10</th>\n",
       "      <td>12/7/1990</td>\n",
       "    </tr>\n",
       "    <tr>\n",
       "      <th>11</th>\n",
       "      <td>6/25/1988</td>\n",
       "    </tr>\n",
       "    <tr>\n",
       "      <th>12</th>\n",
       "      <td>4/29/1990</td>\n",
       "    </tr>\n",
       "    <tr>\n",
       "      <th>13</th>\n",
       "      <td>2/13/1990</td>\n",
       "    </tr>\n",
       "    <tr>\n",
       "      <th>14</th>\n",
       "      <td>2/19/1988</td>\n",
       "    </tr>\n",
       "    <tr>\n",
       "      <th>15</th>\n",
       "      <td>5/14/1989</td>\n",
       "    </tr>\n",
       "  </tbody>\n",
       "</table>\n",
       "</div>"
      ],
      "text/plain": [
       "           birthdate\n",
       "studentID           \n",
       "10         12/7/1990\n",
       "11         6/25/1988\n",
       "12         4/29/1990\n",
       "13         2/13/1990\n",
       "14         2/19/1988\n",
       "15         5/14/1989"
      ]
     },
     "execution_count": 80,
     "metadata": {},
     "output_type": "execute_result"
    }
   ],
   "source": [
    "stu.loc[10:15,['birthdate']]"
   ]
  },
  {
   "cell_type": "markdown",
   "metadata": {},
   "source": [
    "### Using `loc`, show the birthdate and points for student ids between 3 and 8"
   ]
  },
  {
   "cell_type": "code",
   "execution_count": 82,
   "metadata": {},
   "outputs": [
    {
     "data": {
      "text/html": [
       "<div>\n",
       "<style scoped>\n",
       "    .dataframe tbody tr th:only-of-type {\n",
       "        vertical-align: middle;\n",
       "    }\n",
       "\n",
       "    .dataframe tbody tr th {\n",
       "        vertical-align: top;\n",
       "    }\n",
       "\n",
       "    .dataframe thead th {\n",
       "        text-align: right;\n",
       "    }\n",
       "</style>\n",
       "<table border=\"1\" class=\"dataframe\">\n",
       "  <thead>\n",
       "    <tr style=\"text-align: right;\">\n",
       "      <th></th>\n",
       "      <th>birthdate</th>\n",
       "      <th>Points</th>\n",
       "    </tr>\n",
       "    <tr>\n",
       "      <th>studentID</th>\n",
       "      <th></th>\n",
       "      <th></th>\n",
       "    </tr>\n",
       "  </thead>\n",
       "  <tbody>\n",
       "    <tr>\n",
       "      <th>3</th>\n",
       "      <td>5/16/1991</td>\n",
       "      <td>10.495381</td>\n",
       "    </tr>\n",
       "    <tr>\n",
       "      <th>4</th>\n",
       "      <td>12/29/1990</td>\n",
       "      <td>33.449285</td>\n",
       "    </tr>\n",
       "    <tr>\n",
       "      <th>5</th>\n",
       "      <td>10/3/1990</td>\n",
       "      <td>33.654615</td>\n",
       "    </tr>\n",
       "    <tr>\n",
       "      <th>6</th>\n",
       "      <td>4/29/1988</td>\n",
       "      <td>79.655349</td>\n",
       "    </tr>\n",
       "    <tr>\n",
       "      <th>7</th>\n",
       "      <td>10/17/1989</td>\n",
       "      <td>8.996545</td>\n",
       "    </tr>\n",
       "    <tr>\n",
       "      <th>8</th>\n",
       "      <td>12/5/1991</td>\n",
       "      <td>60.141281</td>\n",
       "    </tr>\n",
       "  </tbody>\n",
       "</table>\n",
       "</div>"
      ],
      "text/plain": [
       "            birthdate     Points\n",
       "studentID                       \n",
       "3           5/16/1991  10.495381\n",
       "4          12/29/1990  33.449285\n",
       "5           10/3/1990  33.654615\n",
       "6           4/29/1988  79.655349\n",
       "7          10/17/1989   8.996545\n",
       "8           12/5/1991  60.141281"
      ]
     },
     "execution_count": 82,
     "metadata": {},
     "output_type": "execute_result"
    }
   ],
   "source": [
    "stu.loc[3:8,['birthdate','Points']]"
   ]
  },
  {
   "cell_type": "markdown",
   "metadata": {},
   "source": [
    "### Using `loc`, show the last name and points for student ids of 1, 50, and 100"
   ]
  },
  {
   "cell_type": "code",
   "execution_count": 86,
   "metadata": {},
   "outputs": [
    {
     "data": {
      "text/html": [
       "<div>\n",
       "<style scoped>\n",
       "    .dataframe tbody tr th:only-of-type {\n",
       "        vertical-align: middle;\n",
       "    }\n",
       "\n",
       "    .dataframe tbody tr th {\n",
       "        vertical-align: top;\n",
       "    }\n",
       "\n",
       "    .dataframe thead th {\n",
       "        text-align: right;\n",
       "    }\n",
       "</style>\n",
       "<table border=\"1\" class=\"dataframe\">\n",
       "  <thead>\n",
       "    <tr style=\"text-align: right;\">\n",
       "      <th></th>\n",
       "      <th>lastName</th>\n",
       "      <th>Points</th>\n",
       "    </tr>\n",
       "    <tr>\n",
       "      <th>studentID</th>\n",
       "      <th></th>\n",
       "      <th></th>\n",
       "    </tr>\n",
       "  </thead>\n",
       "  <tbody>\n",
       "    <tr>\n",
       "      <th>1</th>\n",
       "      <td>Willis</td>\n",
       "      <td>18.032651</td>\n",
       "    </tr>\n",
       "    <tr>\n",
       "      <th>50</th>\n",
       "      <td>Gutierrez</td>\n",
       "      <td>76.242660</td>\n",
       "    </tr>\n",
       "    <tr>\n",
       "      <th>100</th>\n",
       "      <td>Austin</td>\n",
       "      <td>94.808464</td>\n",
       "    </tr>\n",
       "  </tbody>\n",
       "</table>\n",
       "</div>"
      ],
      "text/plain": [
       "            lastName     Points\n",
       "studentID                      \n",
       "1             Willis  18.032651\n",
       "50         Gutierrez  76.242660\n",
       "100           Austin  94.808464"
      ]
     },
     "execution_count": 86,
     "metadata": {},
     "output_type": "execute_result"
    }
   ],
   "source": [
    "stu.loc[[1,50,100],['lastName','Points']]"
   ]
  },
  {
   "cell_type": "markdown",
   "metadata": {},
   "source": [
    "# Section 4\n",
    "## Conditional Selection with `loc`"
   ]
  },
  {
   "cell_type": "markdown",
   "metadata": {
    "slideshow": {
     "slide_type": "subslide"
    }
   },
   "source": [
    "### Using `loc` show the students with point values greater than 90"
   ]
  },
  {
   "cell_type": "code",
   "execution_count": 97,
   "metadata": {},
   "outputs": [
    {
     "data": {
      "text/html": [
       "<div>\n",
       "<style scoped>\n",
       "    .dataframe tbody tr th:only-of-type {\n",
       "        vertical-align: middle;\n",
       "    }\n",
       "\n",
       "    .dataframe tbody tr th {\n",
       "        vertical-align: top;\n",
       "    }\n",
       "\n",
       "    .dataframe thead th {\n",
       "        text-align: right;\n",
       "    }\n",
       "</style>\n",
       "<table border=\"1\" class=\"dataframe\">\n",
       "  <thead>\n",
       "    <tr style=\"text-align: right;\">\n",
       "      <th></th>\n",
       "      <th>firstName</th>\n",
       "      <th>lastName</th>\n",
       "      <th>birthdate</th>\n",
       "      <th>Points</th>\n",
       "    </tr>\n",
       "    <tr>\n",
       "      <th>studentID</th>\n",
       "      <th></th>\n",
       "      <th></th>\n",
       "      <th></th>\n",
       "      <th></th>\n",
       "    </tr>\n",
       "  </thead>\n",
       "  <tbody>\n",
       "    <tr>\n",
       "      <th>17</th>\n",
       "      <td>Kevin</td>\n",
       "      <td>Kelley</td>\n",
       "      <td>12/8/1991</td>\n",
       "      <td>94.010548</td>\n",
       "    </tr>\n",
       "    <tr>\n",
       "      <th>33</th>\n",
       "      <td>Paul</td>\n",
       "      <td>Meyer</td>\n",
       "      <td>6/14/1988</td>\n",
       "      <td>98.565056</td>\n",
       "    </tr>\n",
       "    <tr>\n",
       "      <th>53</th>\n",
       "      <td>Eugene</td>\n",
       "      <td>Simpson</td>\n",
       "      <td>10/6/1990</td>\n",
       "      <td>97.350789</td>\n",
       "    </tr>\n",
       "    <tr>\n",
       "      <th>68</th>\n",
       "      <td>Bonnie</td>\n",
       "      <td>Davis</td>\n",
       "      <td>12/29/1990</td>\n",
       "      <td>98.024765</td>\n",
       "    </tr>\n",
       "    <tr>\n",
       "      <th>77</th>\n",
       "      <td>Thomas</td>\n",
       "      <td>Lawrence</td>\n",
       "      <td>3/15/1991</td>\n",
       "      <td>90.077218</td>\n",
       "    </tr>\n",
       "    <tr>\n",
       "      <th>80</th>\n",
       "      <td>Brandon</td>\n",
       "      <td>Clark</td>\n",
       "      <td>11/8/1990</td>\n",
       "      <td>99.585281</td>\n",
       "    </tr>\n",
       "    <tr>\n",
       "      <th>81</th>\n",
       "      <td>Tammy</td>\n",
       "      <td>Andrews</td>\n",
       "      <td>10/10/1989</td>\n",
       "      <td>95.620905</td>\n",
       "    </tr>\n",
       "    <tr>\n",
       "      <th>92</th>\n",
       "      <td>Helen</td>\n",
       "      <td>Morrison</td>\n",
       "      <td>5/13/1988</td>\n",
       "      <td>90.407461</td>\n",
       "    </tr>\n",
       "    <tr>\n",
       "      <th>100</th>\n",
       "      <td>Lisa</td>\n",
       "      <td>Austin</td>\n",
       "      <td>11/17/1990</td>\n",
       "      <td>94.808464</td>\n",
       "    </tr>\n",
       "  </tbody>\n",
       "</table>\n",
       "</div>"
      ],
      "text/plain": [
       "          firstName  lastName   birthdate     Points\n",
       "studentID                                           \n",
       "17            Kevin    Kelley   12/8/1991  94.010548\n",
       "33             Paul     Meyer   6/14/1988  98.565056\n",
       "53           Eugene   Simpson   10/6/1990  97.350789\n",
       "68           Bonnie     Davis  12/29/1990  98.024765\n",
       "77           Thomas  Lawrence   3/15/1991  90.077218\n",
       "80          Brandon     Clark   11/8/1990  99.585281\n",
       "81            Tammy   Andrews  10/10/1989  95.620905\n",
       "92            Helen  Morrison   5/13/1988  90.407461\n",
       "100            Lisa    Austin  11/17/1990  94.808464"
      ]
     },
     "execution_count": 97,
     "metadata": {},
     "output_type": "execute_result"
    }
   ],
   "source": [
    "stu.loc[stu['Points']>90]"
   ]
  },
  {
   "cell_type": "markdown",
   "metadata": {
    "slideshow": {
     "slide_type": "-"
    }
   },
   "source": [
    "### Using `loc` show students with points between 50 and 60"
   ]
  },
  {
   "cell_type": "code",
   "execution_count": 105,
   "metadata": {},
   "outputs": [
    {
     "data": {
      "text/html": [
       "<div>\n",
       "<style scoped>\n",
       "    .dataframe tbody tr th:only-of-type {\n",
       "        vertical-align: middle;\n",
       "    }\n",
       "\n",
       "    .dataframe tbody tr th {\n",
       "        vertical-align: top;\n",
       "    }\n",
       "\n",
       "    .dataframe thead th {\n",
       "        text-align: right;\n",
       "    }\n",
       "</style>\n",
       "<table border=\"1\" class=\"dataframe\">\n",
       "  <thead>\n",
       "    <tr style=\"text-align: right;\">\n",
       "      <th></th>\n",
       "      <th>firstName</th>\n",
       "      <th>lastName</th>\n",
       "      <th>birthdate</th>\n",
       "      <th>Points</th>\n",
       "    </tr>\n",
       "    <tr>\n",
       "      <th>studentID</th>\n",
       "      <th></th>\n",
       "      <th></th>\n",
       "      <th></th>\n",
       "      <th></th>\n",
       "    </tr>\n",
       "  </thead>\n",
       "  <tbody>\n",
       "    <tr>\n",
       "      <th>9</th>\n",
       "      <td>Louis</td>\n",
       "      <td>Simpson</td>\n",
       "      <td>12/13/1990</td>\n",
       "      <td>58.775231</td>\n",
       "    </tr>\n",
       "    <tr>\n",
       "      <th>30</th>\n",
       "      <td>Laura</td>\n",
       "      <td>Boyd</td>\n",
       "      <td>9/11/1989</td>\n",
       "      <td>56.196735</td>\n",
       "    </tr>\n",
       "    <tr>\n",
       "      <th>34</th>\n",
       "      <td>Steve</td>\n",
       "      <td>Arnold</td>\n",
       "      <td>7/19/1991</td>\n",
       "      <td>50.544916</td>\n",
       "    </tr>\n",
       "    <tr>\n",
       "      <th>35</th>\n",
       "      <td>Lori</td>\n",
       "      <td>Ellis</td>\n",
       "      <td>2/9/1991</td>\n",
       "      <td>59.719574</td>\n",
       "    </tr>\n",
       "    <tr>\n",
       "      <th>52</th>\n",
       "      <td>Carol</td>\n",
       "      <td>Chavez</td>\n",
       "      <td>7/12/1989</td>\n",
       "      <td>56.221652</td>\n",
       "    </tr>\n",
       "    <tr>\n",
       "      <th>56</th>\n",
       "      <td>Richard</td>\n",
       "      <td>Morrison</td>\n",
       "      <td>5/25/1991</td>\n",
       "      <td>56.677096</td>\n",
       "    </tr>\n",
       "    <tr>\n",
       "      <th>71</th>\n",
       "      <td>Kevin</td>\n",
       "      <td>Campbell</td>\n",
       "      <td>9/28/1991</td>\n",
       "      <td>52.267152</td>\n",
       "    </tr>\n",
       "    <tr>\n",
       "      <th>90</th>\n",
       "      <td>Ann</td>\n",
       "      <td>Powell</td>\n",
       "      <td>2/27/1988</td>\n",
       "      <td>54.369955</td>\n",
       "    </tr>\n",
       "    <tr>\n",
       "      <th>98</th>\n",
       "      <td>Ryan</td>\n",
       "      <td>Little</td>\n",
       "      <td>12/23/1988</td>\n",
       "      <td>52.021577</td>\n",
       "    </tr>\n",
       "  </tbody>\n",
       "</table>\n",
       "</div>"
      ],
      "text/plain": [
       "          firstName  lastName   birthdate     Points\n",
       "studentID                                           \n",
       "9             Louis   Simpson  12/13/1990  58.775231\n",
       "30            Laura      Boyd   9/11/1989  56.196735\n",
       "34            Steve    Arnold   7/19/1991  50.544916\n",
       "35             Lori     Ellis    2/9/1991  59.719574\n",
       "52            Carol    Chavez   7/12/1989  56.221652\n",
       "56          Richard  Morrison   5/25/1991  56.677096\n",
       "71            Kevin  Campbell   9/28/1991  52.267152\n",
       "90              Ann    Powell   2/27/1988  54.369955\n",
       "98             Ryan    Little  12/23/1988  52.021577"
      ]
     },
     "execution_count": 105,
     "metadata": {},
     "output_type": "execute_result"
    }
   ],
   "source": [
    "stu.loc[(stu['Points']>50)&(stu['Points']<60)]"
   ]
  },
  {
   "cell_type": "markdown",
   "metadata": {
    "slideshow": {
     "slide_type": "subslide"
    }
   },
   "source": [
    "### Show students with points either less than 10 or greater than 90"
   ]
  },
  {
   "cell_type": "code",
   "execution_count": 107,
   "metadata": {},
   "outputs": [
    {
     "data": {
      "text/html": [
       "<div>\n",
       "<style scoped>\n",
       "    .dataframe tbody tr th:only-of-type {\n",
       "        vertical-align: middle;\n",
       "    }\n",
       "\n",
       "    .dataframe tbody tr th {\n",
       "        vertical-align: top;\n",
       "    }\n",
       "\n",
       "    .dataframe thead th {\n",
       "        text-align: right;\n",
       "    }\n",
       "</style>\n",
       "<table border=\"1\" class=\"dataframe\">\n",
       "  <thead>\n",
       "    <tr style=\"text-align: right;\">\n",
       "      <th></th>\n",
       "      <th>firstName</th>\n",
       "      <th>lastName</th>\n",
       "      <th>birthdate</th>\n",
       "      <th>Points</th>\n",
       "    </tr>\n",
       "    <tr>\n",
       "      <th>studentID</th>\n",
       "      <th></th>\n",
       "      <th></th>\n",
       "      <th></th>\n",
       "      <th></th>\n",
       "    </tr>\n",
       "  </thead>\n",
       "  <tbody>\n",
       "    <tr>\n",
       "      <th>7</th>\n",
       "      <td>James</td>\n",
       "      <td>Lawson</td>\n",
       "      <td>10/17/1989</td>\n",
       "      <td>8.996545</td>\n",
       "    </tr>\n",
       "    <tr>\n",
       "      <th>11</th>\n",
       "      <td>Andrew</td>\n",
       "      <td>Thompson</td>\n",
       "      <td>6/25/1988</td>\n",
       "      <td>8.550434</td>\n",
       "    </tr>\n",
       "    <tr>\n",
       "      <th>16</th>\n",
       "      <td>Jeremy</td>\n",
       "      <td>Hamilton</td>\n",
       "      <td>10/12/1991</td>\n",
       "      <td>6.864933</td>\n",
       "    </tr>\n",
       "    <tr>\n",
       "      <th>17</th>\n",
       "      <td>Kevin</td>\n",
       "      <td>Kelley</td>\n",
       "      <td>12/8/1991</td>\n",
       "      <td>94.010548</td>\n",
       "    </tr>\n",
       "    <tr>\n",
       "      <th>24</th>\n",
       "      <td>Raymond</td>\n",
       "      <td>Garcia</td>\n",
       "      <td>12/8/1989</td>\n",
       "      <td>5.904415</td>\n",
       "    </tr>\n",
       "    <tr>\n",
       "      <th>29</th>\n",
       "      <td>Andrea</td>\n",
       "      <td>Perkins</td>\n",
       "      <td>3/26/1988</td>\n",
       "      <td>1.413170</td>\n",
       "    </tr>\n",
       "    <tr>\n",
       "      <th>33</th>\n",
       "      <td>Paul</td>\n",
       "      <td>Meyer</td>\n",
       "      <td>6/14/1988</td>\n",
       "      <td>98.565056</td>\n",
       "    </tr>\n",
       "    <tr>\n",
       "      <th>39</th>\n",
       "      <td>Jose</td>\n",
       "      <td>Rivera</td>\n",
       "      <td>7/5/1991</td>\n",
       "      <td>2.994308</td>\n",
       "    </tr>\n",
       "    <tr>\n",
       "      <th>43</th>\n",
       "      <td>Julie</td>\n",
       "      <td>Smith</td>\n",
       "      <td>8/10/1989</td>\n",
       "      <td>7.022810</td>\n",
       "    </tr>\n",
       "    <tr>\n",
       "      <th>45</th>\n",
       "      <td>Philip</td>\n",
       "      <td>Gibson</td>\n",
       "      <td>8/27/1988</td>\n",
       "      <td>0.691375</td>\n",
       "    </tr>\n",
       "    <tr>\n",
       "      <th>53</th>\n",
       "      <td>Eugene</td>\n",
       "      <td>Simpson</td>\n",
       "      <td>10/6/1990</td>\n",
       "      <td>97.350789</td>\n",
       "    </tr>\n",
       "    <tr>\n",
       "      <th>66</th>\n",
       "      <td>Judy</td>\n",
       "      <td>Green</td>\n",
       "      <td>2/11/1991</td>\n",
       "      <td>8.314689</td>\n",
       "    </tr>\n",
       "    <tr>\n",
       "      <th>68</th>\n",
       "      <td>Bonnie</td>\n",
       "      <td>Davis</td>\n",
       "      <td>12/29/1990</td>\n",
       "      <td>98.024765</td>\n",
       "    </tr>\n",
       "    <tr>\n",
       "      <th>77</th>\n",
       "      <td>Thomas</td>\n",
       "      <td>Lawrence</td>\n",
       "      <td>3/15/1991</td>\n",
       "      <td>90.077218</td>\n",
       "    </tr>\n",
       "    <tr>\n",
       "      <th>80</th>\n",
       "      <td>Brandon</td>\n",
       "      <td>Clark</td>\n",
       "      <td>11/8/1990</td>\n",
       "      <td>99.585281</td>\n",
       "    </tr>\n",
       "    <tr>\n",
       "      <th>81</th>\n",
       "      <td>Tammy</td>\n",
       "      <td>Andrews</td>\n",
       "      <td>10/10/1989</td>\n",
       "      <td>95.620905</td>\n",
       "    </tr>\n",
       "    <tr>\n",
       "      <th>89</th>\n",
       "      <td>Robin</td>\n",
       "      <td>Collins</td>\n",
       "      <td>9/9/1991</td>\n",
       "      <td>1.619006</td>\n",
       "    </tr>\n",
       "    <tr>\n",
       "      <th>92</th>\n",
       "      <td>Helen</td>\n",
       "      <td>Morrison</td>\n",
       "      <td>5/13/1988</td>\n",
       "      <td>90.407461</td>\n",
       "    </tr>\n",
       "    <tr>\n",
       "      <th>97</th>\n",
       "      <td>Kelly</td>\n",
       "      <td>Lynch</td>\n",
       "      <td>3/18/1990</td>\n",
       "      <td>4.377005</td>\n",
       "    </tr>\n",
       "    <tr>\n",
       "      <th>100</th>\n",
       "      <td>Lisa</td>\n",
       "      <td>Austin</td>\n",
       "      <td>11/17/1990</td>\n",
       "      <td>94.808464</td>\n",
       "    </tr>\n",
       "  </tbody>\n",
       "</table>\n",
       "</div>"
      ],
      "text/plain": [
       "          firstName  lastName   birthdate     Points\n",
       "studentID                                           \n",
       "7             James    Lawson  10/17/1989   8.996545\n",
       "11           Andrew  Thompson   6/25/1988   8.550434\n",
       "16           Jeremy  Hamilton  10/12/1991   6.864933\n",
       "17            Kevin    Kelley   12/8/1991  94.010548\n",
       "24          Raymond    Garcia   12/8/1989   5.904415\n",
       "29           Andrea   Perkins   3/26/1988   1.413170\n",
       "33             Paul     Meyer   6/14/1988  98.565056\n",
       "39             Jose    Rivera    7/5/1991   2.994308\n",
       "43            Julie     Smith   8/10/1989   7.022810\n",
       "45           Philip    Gibson   8/27/1988   0.691375\n",
       "53           Eugene   Simpson   10/6/1990  97.350789\n",
       "66             Judy     Green   2/11/1991   8.314689\n",
       "68           Bonnie     Davis  12/29/1990  98.024765\n",
       "77           Thomas  Lawrence   3/15/1991  90.077218\n",
       "80          Brandon     Clark   11/8/1990  99.585281\n",
       "81            Tammy   Andrews  10/10/1989  95.620905\n",
       "89            Robin   Collins    9/9/1991   1.619006\n",
       "92            Helen  Morrison   5/13/1988  90.407461\n",
       "97            Kelly     Lynch   3/18/1990   4.377005\n",
       "100            Lisa    Austin  11/17/1990  94.808464"
      ]
     },
     "execution_count": 107,
     "metadata": {},
     "output_type": "execute_result"
    }
   ],
   "source": [
    "stu.loc[(stu['Points']>90)|(stu['Points']<10)]"
   ]
  },
  {
   "cell_type": "markdown",
   "metadata": {},
   "source": [
    "### Find students with last name 'Holmes'"
   ]
  },
  {
   "cell_type": "code",
   "execution_count": 109,
   "metadata": {},
   "outputs": [
    {
     "data": {
      "text/html": [
       "<div>\n",
       "<style scoped>\n",
       "    .dataframe tbody tr th:only-of-type {\n",
       "        vertical-align: middle;\n",
       "    }\n",
       "\n",
       "    .dataframe tbody tr th {\n",
       "        vertical-align: top;\n",
       "    }\n",
       "\n",
       "    .dataframe thead th {\n",
       "        text-align: right;\n",
       "    }\n",
       "</style>\n",
       "<table border=\"1\" class=\"dataframe\">\n",
       "  <thead>\n",
       "    <tr style=\"text-align: right;\">\n",
       "      <th></th>\n",
       "      <th>firstName</th>\n",
       "      <th>lastName</th>\n",
       "      <th>birthdate</th>\n",
       "      <th>Points</th>\n",
       "    </tr>\n",
       "    <tr>\n",
       "      <th>studentID</th>\n",
       "      <th></th>\n",
       "      <th></th>\n",
       "      <th></th>\n",
       "      <th></th>\n",
       "    </tr>\n",
       "  </thead>\n",
       "  <tbody>\n",
       "    <tr>\n",
       "      <th>3</th>\n",
       "      <td>Adam</td>\n",
       "      <td>Holmes</td>\n",
       "      <td>5/16/1991</td>\n",
       "      <td>10.495381</td>\n",
       "    </tr>\n",
       "  </tbody>\n",
       "</table>\n",
       "</div>"
      ],
      "text/plain": [
       "          firstName lastName  birthdate     Points\n",
       "studentID                                         \n",
       "3              Adam   Holmes  5/16/1991  10.495381"
      ]
     },
     "execution_count": 109,
     "metadata": {},
     "output_type": "execute_result"
    }
   ],
   "source": [
    "stu.loc[stu['lastName']=='Holmes']"
   ]
  },
  {
   "cell_type": "markdown",
   "metadata": {
    "slideshow": {
     "slide_type": "subslide"
    }
   },
   "source": [
    "### Find students whose birth date is in 1989\n",
    ">- Hint: apply `.str.endswith()` when accessing the `birthdate` column\n",
    ">>- Check the data type of the birthdate field to understand why we can use a string method on a date"
   ]
  },
  {
   "cell_type": "code",
   "execution_count": 124,
   "metadata": {},
   "outputs": [
    {
     "data": {
      "text/plain": [
       "studentID\n",
       "1      False\n",
       "2      False\n",
       "3      False\n",
       "4      False\n",
       "5      False\n",
       "       ...  \n",
       "96     False\n",
       "97     False\n",
       "98     False\n",
       "99      True\n",
       "100    False\n",
       "Name: birthdate, Length: 100, dtype: bool"
      ]
     },
     "execution_count": 124,
     "metadata": {},
     "output_type": "execute_result"
    }
   ],
   "source": [
    "stu['birthdate'].str.lower().str.endswith('1989')"
   ]
  },
  {
   "cell_type": "code",
   "execution_count": 125,
   "metadata": {},
   "outputs": [
    {
     "data": {
      "text/html": [
       "<div>\n",
       "<style scoped>\n",
       "    .dataframe tbody tr th:only-of-type {\n",
       "        vertical-align: middle;\n",
       "    }\n",
       "\n",
       "    .dataframe tbody tr th {\n",
       "        vertical-align: top;\n",
       "    }\n",
       "\n",
       "    .dataframe thead th {\n",
       "        text-align: right;\n",
       "    }\n",
       "</style>\n",
       "<table border=\"1\" class=\"dataframe\">\n",
       "  <thead>\n",
       "    <tr style=\"text-align: right;\">\n",
       "      <th></th>\n",
       "      <th>firstName</th>\n",
       "      <th>lastName</th>\n",
       "      <th>birthdate</th>\n",
       "      <th>Points</th>\n",
       "    </tr>\n",
       "    <tr>\n",
       "      <th>studentID</th>\n",
       "      <th></th>\n",
       "      <th></th>\n",
       "      <th></th>\n",
       "      <th></th>\n",
       "    </tr>\n",
       "  </thead>\n",
       "  <tbody>\n",
       "    <tr>\n",
       "      <th>7</th>\n",
       "      <td>James</td>\n",
       "      <td>Lawson</td>\n",
       "      <td>10/17/1989</td>\n",
       "      <td>8.996545</td>\n",
       "    </tr>\n",
       "    <tr>\n",
       "      <th>15</th>\n",
       "      <td>Donald</td>\n",
       "      <td>Brooks</td>\n",
       "      <td>5/14/1989</td>\n",
       "      <td>30.137299</td>\n",
       "    </tr>\n",
       "    <tr>\n",
       "      <th>20</th>\n",
       "      <td>Eric</td>\n",
       "      <td>Adams</td>\n",
       "      <td>10/17/1989</td>\n",
       "      <td>40.671247</td>\n",
       "    </tr>\n",
       "    <tr>\n",
       "      <th>24</th>\n",
       "      <td>Raymond</td>\n",
       "      <td>Garcia</td>\n",
       "      <td>12/8/1989</td>\n",
       "      <td>5.904415</td>\n",
       "    </tr>\n",
       "    <tr>\n",
       "      <th>28</th>\n",
       "      <td>Eugene</td>\n",
       "      <td>Medina</td>\n",
       "      <td>7/18/1989</td>\n",
       "      <td>25.228596</td>\n",
       "    </tr>\n",
       "    <tr>\n",
       "      <th>30</th>\n",
       "      <td>Laura</td>\n",
       "      <td>Boyd</td>\n",
       "      <td>9/11/1989</td>\n",
       "      <td>56.196735</td>\n",
       "    </tr>\n",
       "    <tr>\n",
       "      <th>37</th>\n",
       "      <td>Kimberly</td>\n",
       "      <td>Stevens</td>\n",
       "      <td>11/1/1989</td>\n",
       "      <td>34.823920</td>\n",
       "    </tr>\n",
       "    <tr>\n",
       "      <th>43</th>\n",
       "      <td>Julie</td>\n",
       "      <td>Smith</td>\n",
       "      <td>8/10/1989</td>\n",
       "      <td>7.022810</td>\n",
       "    </tr>\n",
       "    <tr>\n",
       "      <th>48</th>\n",
       "      <td>Anthony</td>\n",
       "      <td>Cooper</td>\n",
       "      <td>2/7/1989</td>\n",
       "      <td>69.204829</td>\n",
       "    </tr>\n",
       "    <tr>\n",
       "      <th>52</th>\n",
       "      <td>Carol</td>\n",
       "      <td>Chavez</td>\n",
       "      <td>7/12/1989</td>\n",
       "      <td>56.221652</td>\n",
       "    </tr>\n",
       "    <tr>\n",
       "      <th>57</th>\n",
       "      <td>Patrick</td>\n",
       "      <td>Garrett</td>\n",
       "      <td>7/18/1989</td>\n",
       "      <td>42.514658</td>\n",
       "    </tr>\n",
       "    <tr>\n",
       "      <th>61</th>\n",
       "      <td>Kevin</td>\n",
       "      <td>West</td>\n",
       "      <td>1/30/1989</td>\n",
       "      <td>13.891525</td>\n",
       "    </tr>\n",
       "    <tr>\n",
       "      <th>69</th>\n",
       "      <td>Diana</td>\n",
       "      <td>Armstrong</td>\n",
       "      <td>5/18/1989</td>\n",
       "      <td>20.902868</td>\n",
       "    </tr>\n",
       "    <tr>\n",
       "      <th>70</th>\n",
       "      <td>Betty</td>\n",
       "      <td>Olson</td>\n",
       "      <td>1/1/1989</td>\n",
       "      <td>73.081122</td>\n",
       "    </tr>\n",
       "    <tr>\n",
       "      <th>73</th>\n",
       "      <td>Annie</td>\n",
       "      <td>Hernandez</td>\n",
       "      <td>11/15/1989</td>\n",
       "      <td>60.804423</td>\n",
       "    </tr>\n",
       "    <tr>\n",
       "      <th>76</th>\n",
       "      <td>Jason</td>\n",
       "      <td>Freeman</td>\n",
       "      <td>6/1/1989</td>\n",
       "      <td>34.684327</td>\n",
       "    </tr>\n",
       "    <tr>\n",
       "      <th>81</th>\n",
       "      <td>Tammy</td>\n",
       "      <td>Andrews</td>\n",
       "      <td>10/10/1989</td>\n",
       "      <td>95.620905</td>\n",
       "    </tr>\n",
       "    <tr>\n",
       "      <th>87</th>\n",
       "      <td>Anthony</td>\n",
       "      <td>Baker</td>\n",
       "      <td>8/14/1989</td>\n",
       "      <td>68.802021</td>\n",
       "    </tr>\n",
       "    <tr>\n",
       "      <th>91</th>\n",
       "      <td>Earl</td>\n",
       "      <td>Robertson</td>\n",
       "      <td>1/26/1989</td>\n",
       "      <td>45.399924</td>\n",
       "    </tr>\n",
       "    <tr>\n",
       "      <th>93</th>\n",
       "      <td>David</td>\n",
       "      <td>Dean</td>\n",
       "      <td>9/28/1989</td>\n",
       "      <td>78.979862</td>\n",
       "    </tr>\n",
       "    <tr>\n",
       "      <th>94</th>\n",
       "      <td>Alice</td>\n",
       "      <td>Fox</td>\n",
       "      <td>8/14/1989</td>\n",
       "      <td>27.961554</td>\n",
       "    </tr>\n",
       "    <tr>\n",
       "      <th>99</th>\n",
       "      <td>Willie</td>\n",
       "      <td>Taylor</td>\n",
       "      <td>12/6/1989</td>\n",
       "      <td>13.154354</td>\n",
       "    </tr>\n",
       "  </tbody>\n",
       "</table>\n",
       "</div>"
      ],
      "text/plain": [
       "          firstName   lastName   birthdate     Points\n",
       "studentID                                            \n",
       "7             James     Lawson  10/17/1989   8.996545\n",
       "15           Donald     Brooks   5/14/1989  30.137299\n",
       "20             Eric      Adams  10/17/1989  40.671247\n",
       "24          Raymond     Garcia   12/8/1989   5.904415\n",
       "28           Eugene     Medina   7/18/1989  25.228596\n",
       "30            Laura       Boyd   9/11/1989  56.196735\n",
       "37         Kimberly    Stevens   11/1/1989  34.823920\n",
       "43            Julie      Smith   8/10/1989   7.022810\n",
       "48          Anthony     Cooper    2/7/1989  69.204829\n",
       "52            Carol     Chavez   7/12/1989  56.221652\n",
       "57          Patrick    Garrett   7/18/1989  42.514658\n",
       "61            Kevin       West   1/30/1989  13.891525\n",
       "69            Diana  Armstrong   5/18/1989  20.902868\n",
       "70            Betty      Olson    1/1/1989  73.081122\n",
       "73            Annie  Hernandez  11/15/1989  60.804423\n",
       "76            Jason    Freeman    6/1/1989  34.684327\n",
       "81            Tammy    Andrews  10/10/1989  95.620905\n",
       "87          Anthony      Baker   8/14/1989  68.802021\n",
       "91             Earl  Robertson   1/26/1989  45.399924\n",
       "93            David       Dean   9/28/1989  78.979862\n",
       "94            Alice        Fox   8/14/1989  27.961554\n",
       "99           Willie     Taylor   12/6/1989  13.154354"
      ]
     },
     "execution_count": 125,
     "metadata": {},
     "output_type": "execute_result"
    }
   ],
   "source": [
    "stu.loc[stu['birthdate'].str.lower().str.endswith('1989')]"
   ]
  },
  {
   "cell_type": "markdown",
   "metadata": {
    "slideshow": {
     "slide_type": "subslide"
    }
   },
   "source": [
    "### Find students whose first name starts with 'A'"
   ]
  },
  {
   "cell_type": "code",
   "execution_count": 126,
   "metadata": {},
   "outputs": [
    {
     "data": {
      "text/html": [
       "<div>\n",
       "<style scoped>\n",
       "    .dataframe tbody tr th:only-of-type {\n",
       "        vertical-align: middle;\n",
       "    }\n",
       "\n",
       "    .dataframe tbody tr th {\n",
       "        vertical-align: top;\n",
       "    }\n",
       "\n",
       "    .dataframe thead th {\n",
       "        text-align: right;\n",
       "    }\n",
       "</style>\n",
       "<table border=\"1\" class=\"dataframe\">\n",
       "  <thead>\n",
       "    <tr style=\"text-align: right;\">\n",
       "      <th></th>\n",
       "      <th>firstName</th>\n",
       "      <th>lastName</th>\n",
       "      <th>birthdate</th>\n",
       "      <th>Points</th>\n",
       "    </tr>\n",
       "    <tr>\n",
       "      <th>studentID</th>\n",
       "      <th></th>\n",
       "      <th></th>\n",
       "      <th></th>\n",
       "      <th></th>\n",
       "    </tr>\n",
       "  </thead>\n",
       "  <tbody>\n",
       "    <tr>\n",
       "      <th>1</th>\n",
       "      <td>Amy</td>\n",
       "      <td>Willis</td>\n",
       "      <td>10/23/1991</td>\n",
       "      <td>18.032651</td>\n",
       "    </tr>\n",
       "    <tr>\n",
       "      <th>3</th>\n",
       "      <td>Adam</td>\n",
       "      <td>Holmes</td>\n",
       "      <td>5/16/1991</td>\n",
       "      <td>10.495381</td>\n",
       "    </tr>\n",
       "    <tr>\n",
       "      <th>11</th>\n",
       "      <td>Andrew</td>\n",
       "      <td>Thompson</td>\n",
       "      <td>6/25/1988</td>\n",
       "      <td>8.550434</td>\n",
       "    </tr>\n",
       "    <tr>\n",
       "      <th>23</th>\n",
       "      <td>Angela</td>\n",
       "      <td>Ray</td>\n",
       "      <td>3/31/1991</td>\n",
       "      <td>36.966729</td>\n",
       "    </tr>\n",
       "    <tr>\n",
       "      <th>29</th>\n",
       "      <td>Andrea</td>\n",
       "      <td>Perkins</td>\n",
       "      <td>3/26/1988</td>\n",
       "      <td>1.413170</td>\n",
       "    </tr>\n",
       "    <tr>\n",
       "      <th>47</th>\n",
       "      <td>Aaron</td>\n",
       "      <td>Hicks</td>\n",
       "      <td>5/25/1990</td>\n",
       "      <td>19.653815</td>\n",
       "    </tr>\n",
       "    <tr>\n",
       "      <th>48</th>\n",
       "      <td>Anthony</td>\n",
       "      <td>Cooper</td>\n",
       "      <td>2/7/1989</td>\n",
       "      <td>69.204829</td>\n",
       "    </tr>\n",
       "    <tr>\n",
       "      <th>67</th>\n",
       "      <td>Adam</td>\n",
       "      <td>Armstrong</td>\n",
       "      <td>1/18/1990</td>\n",
       "      <td>27.772003</td>\n",
       "    </tr>\n",
       "    <tr>\n",
       "      <th>73</th>\n",
       "      <td>Annie</td>\n",
       "      <td>Hernandez</td>\n",
       "      <td>11/15/1989</td>\n",
       "      <td>60.804423</td>\n",
       "    </tr>\n",
       "    <tr>\n",
       "      <th>87</th>\n",
       "      <td>Anthony</td>\n",
       "      <td>Baker</td>\n",
       "      <td>8/14/1989</td>\n",
       "      <td>68.802021</td>\n",
       "    </tr>\n",
       "    <tr>\n",
       "      <th>90</th>\n",
       "      <td>Ann</td>\n",
       "      <td>Powell</td>\n",
       "      <td>2/27/1988</td>\n",
       "      <td>54.369955</td>\n",
       "    </tr>\n",
       "    <tr>\n",
       "      <th>94</th>\n",
       "      <td>Alice</td>\n",
       "      <td>Fox</td>\n",
       "      <td>8/14/1989</td>\n",
       "      <td>27.961554</td>\n",
       "    </tr>\n",
       "  </tbody>\n",
       "</table>\n",
       "</div>"
      ],
      "text/plain": [
       "          firstName   lastName   birthdate     Points\n",
       "studentID                                            \n",
       "1               Amy     Willis  10/23/1991  18.032651\n",
       "3              Adam     Holmes   5/16/1991  10.495381\n",
       "11           Andrew   Thompson   6/25/1988   8.550434\n",
       "23           Angela        Ray   3/31/1991  36.966729\n",
       "29           Andrea    Perkins   3/26/1988   1.413170\n",
       "47            Aaron      Hicks   5/25/1990  19.653815\n",
       "48          Anthony     Cooper    2/7/1989  69.204829\n",
       "67             Adam  Armstrong   1/18/1990  27.772003\n",
       "73            Annie  Hernandez  11/15/1989  60.804423\n",
       "87          Anthony      Baker   8/14/1989  68.802021\n",
       "90              Ann     Powell   2/27/1988  54.369955\n",
       "94            Alice        Fox   8/14/1989  27.961554"
      ]
     },
     "execution_count": 126,
     "metadata": {},
     "output_type": "execute_result"
    }
   ],
   "source": [
    "stu.loc[stu['firstName'].str.startswith('A')]"
   ]
  },
  {
   "cell_type": "markdown",
   "metadata": {
    "slideshow": {
     "slide_type": "subslide"
    }
   },
   "source": [
    "### Find students whose `lastName` starts with 'C' that have 90 or more `Points`"
   ]
  },
  {
   "cell_type": "code",
   "execution_count": 127,
   "metadata": {
    "scrolled": true
   },
   "outputs": [
    {
     "data": {
      "text/html": [
       "<div>\n",
       "<style scoped>\n",
       "    .dataframe tbody tr th:only-of-type {\n",
       "        vertical-align: middle;\n",
       "    }\n",
       "\n",
       "    .dataframe tbody tr th {\n",
       "        vertical-align: top;\n",
       "    }\n",
       "\n",
       "    .dataframe thead th {\n",
       "        text-align: right;\n",
       "    }\n",
       "</style>\n",
       "<table border=\"1\" class=\"dataframe\">\n",
       "  <thead>\n",
       "    <tr style=\"text-align: right;\">\n",
       "      <th></th>\n",
       "      <th>firstName</th>\n",
       "      <th>lastName</th>\n",
       "      <th>birthdate</th>\n",
       "      <th>Points</th>\n",
       "    </tr>\n",
       "    <tr>\n",
       "      <th>studentID</th>\n",
       "      <th></th>\n",
       "      <th></th>\n",
       "      <th></th>\n",
       "      <th></th>\n",
       "    </tr>\n",
       "  </thead>\n",
       "  <tbody>\n",
       "    <tr>\n",
       "      <th>80</th>\n",
       "      <td>Brandon</td>\n",
       "      <td>Clark</td>\n",
       "      <td>11/8/1990</td>\n",
       "      <td>99.585281</td>\n",
       "    </tr>\n",
       "  </tbody>\n",
       "</table>\n",
       "</div>"
      ],
      "text/plain": [
       "          firstName lastName  birthdate     Points\n",
       "studentID                                         \n",
       "80          Brandon    Clark  11/8/1990  99.585281"
      ]
     },
     "execution_count": 127,
     "metadata": {},
     "output_type": "execute_result"
    }
   ],
   "source": [
    "stu.loc[(stu['lastName'].str.startswith('C'))&(stu['Points']>=90)]"
   ]
  },
  {
   "cell_type": "markdown",
   "metadata": {},
   "source": [
    "### Find students whose `lastName` starts with 'C' or 'B' with 80 or more `Points`"
   ]
  },
  {
   "cell_type": "code",
   "execution_count": 129,
   "metadata": {
    "scrolled": true
   },
   "outputs": [
    {
     "data": {
      "text/html": [
       "<div>\n",
       "<style scoped>\n",
       "    .dataframe tbody tr th:only-of-type {\n",
       "        vertical-align: middle;\n",
       "    }\n",
       "\n",
       "    .dataframe tbody tr th {\n",
       "        vertical-align: top;\n",
       "    }\n",
       "\n",
       "    .dataframe thead th {\n",
       "        text-align: right;\n",
       "    }\n",
       "</style>\n",
       "<table border=\"1\" class=\"dataframe\">\n",
       "  <thead>\n",
       "    <tr style=\"text-align: right;\">\n",
       "      <th></th>\n",
       "      <th>firstName</th>\n",
       "      <th>lastName</th>\n",
       "      <th>birthdate</th>\n",
       "      <th>Points</th>\n",
       "    </tr>\n",
       "    <tr>\n",
       "      <th>studentID</th>\n",
       "      <th></th>\n",
       "      <th></th>\n",
       "      <th></th>\n",
       "      <th></th>\n",
       "    </tr>\n",
       "  </thead>\n",
       "  <tbody>\n",
       "    <tr>\n",
       "      <th>80</th>\n",
       "      <td>Brandon</td>\n",
       "      <td>Clark</td>\n",
       "      <td>11/8/1990</td>\n",
       "      <td>99.585281</td>\n",
       "    </tr>\n",
       "    <tr>\n",
       "      <th>96</th>\n",
       "      <td>Matthew</td>\n",
       "      <td>Cunningham</td>\n",
       "      <td>11/5/1991</td>\n",
       "      <td>84.951415</td>\n",
       "    </tr>\n",
       "  </tbody>\n",
       "</table>\n",
       "</div>"
      ],
      "text/plain": [
       "          firstName    lastName  birthdate     Points\n",
       "studentID                                            \n",
       "80          Brandon       Clark  11/8/1990  99.585281\n",
       "96          Matthew  Cunningham  11/5/1991  84.951415"
      ]
     },
     "execution_count": 129,
     "metadata": {},
     "output_type": "execute_result"
    }
   ],
   "source": [
    "stu.loc[((stu['lastName'].str.startswith('C'))|(stu['lastName'].str.startswith('B')))&(stu['Points']>=80)]"
   ]
  }
 ],
 "metadata": {
  "kernelspec": {
   "display_name": "Python 3",
   "language": "python",
   "name": "python3"
  },
  "language_info": {
   "codemirror_mode": {
    "name": "ipython",
    "version": 3
   },
   "file_extension": ".py",
   "mimetype": "text/x-python",
   "name": "python",
   "nbconvert_exporter": "python",
   "pygments_lexer": "ipython3",
   "version": "3.8.3"
  },
  "toc": {
   "nav_menu": {
    "height": "207px",
    "width": "253px"
   },
   "number_sections": true,
   "sideBar": true,
   "skip_h1_title": false,
   "toc_cell": false,
   "toc_position": {
    "height": "600px",
    "left": "0px",
    "right": "831.286px",
    "top": "67px",
    "width": "288px"
   },
   "toc_section_display": "block",
   "toc_window_display": true
  }
 },
 "nbformat": 4,
 "nbformat_minor": 2
}
