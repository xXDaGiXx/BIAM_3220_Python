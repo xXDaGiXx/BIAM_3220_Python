{
 "cells": [
  {
   "cell_type": "markdown",
   "metadata": {},
   "source": [
    "# Homework"
   ]
  },
  {
   "cell_type": "markdown",
   "metadata": {},
   "source": [
    "## Task 1: Write a function that will calculate your final grade in this class.\n",
    "\n",
    "Specifications:\n",
    "1. Name your function, `grade`\n",
    "2. Include 4 parameters in your function for: `practice, quiz, midterm, final`\n",
    "3. Use the weights given in the syllabus to apply to the course component grades.\n",
    "4. Test your function with the following values for your parameters.\n",
    ">- practice = 100\n",
    ">- quiz = 90\n",
    ">- midterm = 70\n",
    ">- final = 85\n",
    ">- The final grade using these parameter values should be: 84.0\n",
    "5. The output of this function should look like:\n",
    ">- Your final course grade is: `{courseGrade}`\n",
    "6. Write a final grade calculator for all your courses this semester.\n",
    ">- You can use these calculators to estimate your grade based on what you input"
   ]
  },
  {
   "cell_type": "code",
   "execution_count": 3,
   "metadata": {},
   "outputs": [],
   "source": [
    "def grade(practice, quiz, midterm, final):\n",
    "    courseGrade = (.05*practice)+(.4*quiz)+(.25*midterm)+(.3*final)\n",
    "    print(f'Your final course grade is: {courseGrade}')"
   ]
  },
  {
   "cell_type": "code",
   "execution_count": 4,
   "metadata": {},
   "outputs": [
    {
     "name": "stdout",
     "output_type": "stream",
     "text": [
      "Your final course grade is: 84.0\n"
     ]
    }
   ],
   "source": [
    "grade(100,90,70,85)"
   ]
  },
  {
   "cell_type": "markdown",
   "metadata": {},
   "source": [
    "## Task 2: Write a function that, when called, will ask a user to take up to 3 guesses at a randomly generated number.\n",
    "\n",
    "Specifications:\n",
    "1. Name your function, `numbersGame`\n",
    "2. Tell the user that the program is thinking of a number between 0 and 10.\n",
    "3. Tell the user they have 3 guesses to guess the correct number and enter a number.\n",
    ">- At each guess, tell the user how many guesses they have left\n",
    "4. Let the user enter up to 3 guesses before exiting the program.\n",
    "5. The number the program is \"thinking\" of must be a randomly generated number that resets every time the function is called\n",
    "6. If the user guesses correctly, tell them how many attempts it took them and a congratulatory note.\n",
    "7. After 3 guesses, if the user doesn't guess correctly, exit the program\n",
    ">- Have the program tell the user a note that they didn't get the correct response and show the correct number\n"
   ]
  },
  {
   "cell_type": "code",
   "execution_count": 11,
   "metadata": {},
   "outputs": [],
   "source": [
    "import random\n",
    "def numbersGame():\n",
    "    print('I am thinking of a number between 0 and 10...')\n",
    "    ans = random.randint(-1,10)\n",
    "    guesses = 1\n",
    "    while True:\n",
    "        guess = int(input(f'Guess #{guesses}: '))\n",
    "        if guess == ans:\n",
    "            print(f'Congratz, it took you {guesses} guesses!')\n",
    "            break\n",
    "        elif guesses == 3:\n",
    "            print(f'You have used up your 3 guesses. The answer was {ans}')\n",
    "            break\n",
    "        else:\n",
    "            print(f'Incorrect guess. You have {3-guesses} guesses left')\n",
    "            guesses += 1\n",
    "            continue"
   ]
  },
  {
   "cell_type": "markdown",
   "metadata": {},
   "source": [
    "### Call your function in the next cell and play your game!"
   ]
  },
  {
   "cell_type": "code",
   "execution_count": 15,
   "metadata": {},
   "outputs": [
    {
     "name": "stdout",
     "output_type": "stream",
     "text": [
      "I am thinking of a number between 0 and 10...\n",
      "Guess #1: 2\n",
      "Incorrect guess. You have 2 guesses left\n",
      "Guess #2: 6\n",
      "Incorrect guess. You have 1 guesses left\n",
      "Guess #3: 7\n",
      "Congratz, it took you 3 guesses!\n"
     ]
    }
   ],
   "source": [
    "numbersGame()"
   ]
  }
 ],
 "metadata": {
  "kernelspec": {
   "display_name": "Python 3",
   "language": "python",
   "name": "python3"
  },
  "language_info": {
   "codemirror_mode": {
    "name": "ipython",
    "version": 3
   },
   "file_extension": ".py",
   "mimetype": "text/x-python",
   "name": "python",
   "nbconvert_exporter": "python",
   "pygments_lexer": "ipython3",
   "version": "3.8.3"
  }
 },
 "nbformat": 4,
 "nbformat_minor": 2
}
