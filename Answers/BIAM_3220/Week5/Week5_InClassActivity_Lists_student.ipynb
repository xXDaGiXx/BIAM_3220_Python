{
 "cells": [
  {
   "cell_type": "markdown",
   "metadata": {},
   "source": [
    "# Week 5 \n",
    "## In-Class Activity Workbook\n",
    "\n",
    "## Learning Objectives \n",
    "### In this notebook you will learn about and practice:\n",
    "1. Section 1: <a id='Section 1'></a>[Section 1: Accessing Elements Within a List](#Section-1)\n",
    "2. Section 2: <a id='Section 2'></a>[Section 2: Nested Lists](#Section-2)\n",
    "3. Section 3: <a id='Section 3'></a>[Section 3: List Methods](#Section-3)\n",
    "4. Section 4: <a id='Section 4'></a>[Section 4: Advanced List Topics ](#Section-4)"
   ]
  },
  {
   "cell_type": "markdown",
   "metadata": {},
   "source": [
    "# Section 1\n",
    "## Accessing Elements Within a List"
   ]
  },
  {
   "cell_type": "markdown",
   "metadata": {},
   "source": [
    "### Problem 1.1 \n",
    "1. Define a list, `nums` and assign in the item values of `5,10,15.2,20]`\n",
    "2. Print the `nums` list"
   ]
  },
  {
   "cell_type": "code",
   "execution_count": 6,
   "metadata": {
    "scrolled": true
   },
   "outputs": [
    {
     "name": "stdout",
     "output_type": "stream",
     "text": [
      "[5, 10, 15.2, 20]\n"
     ]
    }
   ],
   "source": [
    "nums = [5,10,15.2,20]\n",
    "\n",
    "print(nums)"
   ]
  },
  {
   "cell_type": "markdown",
   "metadata": {},
   "source": [
    "### Problem 1.2\n",
    "1. Loop through the `nums` list and print out all its elements on one line separated by a space"
   ]
  },
  {
   "cell_type": "code",
   "execution_count": 7,
   "metadata": {},
   "outputs": [
    {
     "name": "stdout",
     "output_type": "stream",
     "text": [
      "5 10 15.2 20 "
     ]
    }
   ],
   "source": [
    "for i in nums:\n",
    "    print(i, end = ' ')"
   ]
  },
  {
   "cell_type": "markdown",
   "metadata": {},
   "source": [
    "### Problem 1.3\n",
    "1. Print out the first value in the `nums` list\n",
    "2. Print out the last value in the `nums` list"
   ]
  },
  {
   "cell_type": "code",
   "execution_count": 10,
   "metadata": {},
   "outputs": [
    {
     "name": "stdout",
     "output_type": "stream",
     "text": [
      "5\n",
      "20\n",
      "20\n"
     ]
    }
   ],
   "source": [
    "print(nums[0])\n",
    "\n",
    "print(nums[3])\n",
    "\n",
    "print(nums[-1])"
   ]
  },
  {
   "cell_type": "markdown",
   "metadata": {},
   "source": [
    "### Problem 1.4\n",
    "1. Show a sublist of `nums` that is the second to last values in the `nums` list"
   ]
  },
  {
   "cell_type": "code",
   "execution_count": 18,
   "metadata": {},
   "outputs": [
    {
     "name": "stdout",
     "output_type": "stream",
     "text": [
      "[10, 15.2]\n",
      "[10, 15.2]\n"
     ]
    }
   ],
   "source": [
    "print(nums[1:3])\n",
    "\n",
    "print(nums[1:-1])"
   ]
  },
  {
   "cell_type": "markdown",
   "metadata": {},
   "source": [
    "# Section 2\n",
    "## Nested Lists"
   ]
  },
  {
   "cell_type": "markdown",
   "metadata": {},
   "source": [
    "### Problem 2.1\n",
    "1. Create a list, `data` with the following items:\n",
    ">- 5, \"book\", [34, 'hello'], True"
   ]
  },
  {
   "cell_type": "code",
   "execution_count": 2,
   "metadata": {},
   "outputs": [],
   "source": [
    "data = [5,\"book\",[34,'hello'],True]"
   ]
  },
  {
   "cell_type": "markdown",
   "metadata": {},
   "source": [
    "### Problem 2.2\n",
    "1. Print the items in `data` at indexes: 0, 2, 3\n",
    "2. What data type is at index position 2 of the `data` list? Use a function to show the data type."
   ]
  },
  {
   "cell_type": "code",
   "execution_count": 3,
   "metadata": {},
   "outputs": [
    {
     "name": "stdout",
     "output_type": "stream",
     "text": [
      "5\n",
      "[34, 'hello']\n",
      "True\n"
     ]
    }
   ],
   "source": [
    "print(data[0])\n",
    "\n",
    "print(data[2])\n",
    "\n",
    "print(data[3])"
   ]
  },
  {
   "cell_type": "code",
   "execution_count": 4,
   "metadata": {},
   "outputs": [
    {
     "name": "stdout",
     "output_type": "stream",
     "text": [
      "<class 'list'>\n"
     ]
    },
    {
     "data": {
      "text/plain": [
       "list"
      ]
     },
     "execution_count": 4,
     "metadata": {},
     "output_type": "execute_result"
    }
   ],
   "source": [
    "print(type(data[2]))\n",
    "\n",
    "type(data[2])"
   ]
  },
  {
   "cell_type": "markdown",
   "metadata": {},
   "source": [
    "### Problem 2.3\n",
    "1. Show the first item in the nested list within `data`\n",
    "2. Show the last item in the nested list within `data`\n",
    ">- Pretend like the nested list is large and use negative indexes to show the last value"
   ]
  },
  {
   "cell_type": "code",
   "execution_count": 5,
   "metadata": {},
   "outputs": [
    {
     "name": "stdout",
     "output_type": "stream",
     "text": [
      "34\n",
      "hello\n",
      "hello\n"
     ]
    }
   ],
   "source": [
    "print(data[2][0])\n",
    "\n",
    "print(data[2][1])\n",
    "\n",
    "print(data[2][-1])"
   ]
  },
  {
   "cell_type": "markdown",
   "metadata": {},
   "source": [
    "### Problem 2.4\n",
    "1. Create a new variable, `inner_list`, that is the value of the nested list within `data`\n",
    "2. Access the last item within `inner_list`"
   ]
  },
  {
   "cell_type": "code",
   "execution_count": 6,
   "metadata": {},
   "outputs": [
    {
     "data": {
      "text/plain": [
       "'hello'"
      ]
     },
     "execution_count": 6,
     "metadata": {},
     "output_type": "execute_result"
    }
   ],
   "source": [
    "inner_list = data[2]\n",
    "\n",
    "inner_list[-1]"
   ]
  },
  {
   "cell_type": "markdown",
   "metadata": {},
   "source": [
    "### Problem 2.5\n",
    "\n",
    "1. Define a list, `nested` with the following lists as values within `nested`\n",
    ">- First nested list: `['cat','bat']`; second nested list `[10,20,30,40,50]`\n",
    "2. Print out the first element in the first nested list\n",
    "3. Print out the last element of the second nested list\n",
    "4. Print out the slice that is the second to the third element in the second nested list"
   ]
  },
  {
   "cell_type": "code",
   "execution_count": 7,
   "metadata": {},
   "outputs": [],
   "source": [
    "nested = [['cat','bat'],[10,20,30,40,50]]"
   ]
  },
  {
   "cell_type": "code",
   "execution_count": 8,
   "metadata": {},
   "outputs": [
    {
     "name": "stdout",
     "output_type": "stream",
     "text": [
      "cat\n",
      "50\n",
      "[20, 30]\n"
     ]
    }
   ],
   "source": [
    "print(nested[0][0])\n",
    "\n",
    "print(nested[1][-1])\n",
    "\n",
    "print(nested[1][1:3])"
   ]
  },
  {
   "cell_type": "markdown",
   "metadata": {},
   "source": [
    "<a id='Top Page'></a>[Back to Top](#Week-5)"
   ]
  },
  {
   "cell_type": "markdown",
   "metadata": {},
   "source": [
    "# Section 3\n",
    "## `list` methods"
   ]
  },
  {
   "cell_type": "markdown",
   "metadata": {},
   "source": [
    "### Problem 3.1\n",
    "1. Return the index position of 'book' in the `data` list\n",
    "2. Return the index position of 'bat' in the first nested list of the `nested` list\n",
    "3. Return the index position of 50 in the second nested list of the `nested` list"
   ]
  },
  {
   "cell_type": "code",
   "execution_count": 9,
   "metadata": {},
   "outputs": [
    {
     "name": "stdout",
     "output_type": "stream",
     "text": [
      "1\n",
      "1\n",
      "4\n"
     ]
    }
   ],
   "source": [
    "print(data.index('book'))\n",
    "\n",
    "print(nested[0].index('bat'))\n",
    "\n",
    "print(nested[1].index(50))"
   ]
  },
  {
   "cell_type": "markdown",
   "metadata": {},
   "source": [
    "### Problem 3.2\n",
    "1. Add 'rat' to the end of the `data` list\n",
    "2. Print out the list before and after the change"
   ]
  },
  {
   "cell_type": "code",
   "execution_count": 10,
   "metadata": {},
   "outputs": [
    {
     "name": "stdout",
     "output_type": "stream",
     "text": [
      "[5, 'book', [34, 'hello'], True]\n",
      "[5, 'book', [34, 'hello'], True, 'rat']\n"
     ]
    }
   ],
   "source": [
    "print(data)\n",
    "data.append('rat')\n",
    "print(data)"
   ]
  },
  {
   "cell_type": "markdown",
   "metadata": {
    "scrolled": true
   },
   "source": [
    "### Problem 3.3\n",
    "1. Add the list value, `['I','am','learning','lists']` to the second item of the `data` list\n",
    "2. Print out the list before and after the change"
   ]
  },
  {
   "cell_type": "code",
   "execution_count": 11,
   "metadata": {},
   "outputs": [
    {
     "name": "stdout",
     "output_type": "stream",
     "text": [
      "[5, 'book', [34, 'hello'], True, 'rat']\n",
      "[5, ['I', 'am', 'learning', 'lists'], 'book', [34, 'hello'], True, 'rat']\n"
     ]
    }
   ],
   "source": [
    "print(data)\n",
    "data.insert(1,['I','am','learning','lists'])\n",
    "print(data)"
   ]
  },
  {
   "cell_type": "markdown",
   "metadata": {},
   "source": [
    "### Problem 3.4\n",
    "1. Remove 'rat' from the `data` list\n",
    "2. Print out the list before and after the change"
   ]
  },
  {
   "cell_type": "code",
   "execution_count": 12,
   "metadata": {},
   "outputs": [
    {
     "name": "stdout",
     "output_type": "stream",
     "text": [
      "[5, ['I', 'am', 'learning', 'lists'], 'book', [34, 'hello'], True, 'rat']\n",
      "[5, ['I', 'am', 'learning', 'lists'], 'book', [34, 'hello'], True]\n"
     ]
    }
   ],
   "source": [
    "print(data)\n",
    "data.remove('rat')\n",
    "print(data)"
   ]
  },
  {
   "cell_type": "markdown",
   "metadata": {},
   "source": [
    "### Problem 3.5\n",
    "1. Sort the `data` list\n",
    "2. Print out the list before and after the change\n",
    ">- What happens when you run your code?"
   ]
  },
  {
   "cell_type": "code",
   "execution_count": 13,
   "metadata": {
    "scrolled": true
   },
   "outputs": [
    {
     "name": "stdout",
     "output_type": "stream",
     "text": [
      "[5, ['I', 'am', 'learning', 'lists'], 'book', [34, 'hello'], True]\n"
     ]
    },
    {
     "ename": "TypeError",
     "evalue": "'<' not supported between instances of 'list' and 'int'",
     "output_type": "error",
     "traceback": [
      "\u001b[1;31m---------------------------------------------------------------------------\u001b[0m",
      "\u001b[1;31mTypeError\u001b[0m                                 Traceback (most recent call last)",
      "\u001b[1;32m<ipython-input-13-bdc135104def>\u001b[0m in \u001b[0;36m<module>\u001b[1;34m\u001b[0m\n\u001b[0;32m      1\u001b[0m \u001b[0mprint\u001b[0m\u001b[1;33m(\u001b[0m\u001b[0mdata\u001b[0m\u001b[1;33m)\u001b[0m\u001b[1;33m\u001b[0m\u001b[1;33m\u001b[0m\u001b[0m\n\u001b[1;32m----> 2\u001b[1;33m \u001b[0mdata\u001b[0m\u001b[1;33m.\u001b[0m\u001b[0msort\u001b[0m\u001b[1;33m(\u001b[0m\u001b[1;33m)\u001b[0m\u001b[1;33m\u001b[0m\u001b[1;33m\u001b[0m\u001b[0m\n\u001b[0m\u001b[0;32m      3\u001b[0m \u001b[0mprint\u001b[0m\u001b[1;33m(\u001b[0m\u001b[0mdata\u001b[0m\u001b[1;33m)\u001b[0m\u001b[1;33m\u001b[0m\u001b[1;33m\u001b[0m\u001b[0m\n",
      "\u001b[1;31mTypeError\u001b[0m: '<' not supported between instances of 'list' and 'int'"
     ]
    }
   ],
   "source": [
    "print(data)\n",
    "data.sort()\n",
    "print(data)"
   ]
  },
  {
   "cell_type": "markdown",
   "metadata": {},
   "source": [
    "### Problem 3.6\n",
    "1. Sort the first nested list the `data` list \n",
    "2. Print out the list before and after the change\n",
    ">- What happens when you run your code?"
   ]
  },
  {
   "cell_type": "code",
   "execution_count": 14,
   "metadata": {},
   "outputs": [
    {
     "name": "stdout",
     "output_type": "stream",
     "text": [
      "['I', 'am', 'learning', 'lists']\n",
      "['I', 'am', 'learning', 'lists']\n"
     ]
    }
   ],
   "source": [
    "#COME BACK\n",
    "print(data[1])\n",
    "data[1].sort()\n",
    "print(data[1])"
   ]
  },
  {
   "cell_type": "markdown",
   "metadata": {},
   "source": [
    "### Problem 3.7\n",
    "1. Sort the first nested list the `data` list in reverse order\n",
    "2. Print out the `data` list and the inner list before and after the change\n",
    ">- What happens when you run your code?"
   ]
  },
  {
   "cell_type": "code",
   "execution_count": 15,
   "metadata": {},
   "outputs": [
    {
     "name": "stdout",
     "output_type": "stream",
     "text": [
      "Before the reverse sort list = ['I', 'am', 'learning', 'lists']\n",
      "After the reverse sort list = ['lists', 'learning', 'am', 'I']\n"
     ]
    }
   ],
   "source": [
    "print(f'Before the reverse sort list = {data[1]}')\n",
    "\n",
    "data[1].sort(reverse=True)\n",
    "\n",
    "print(f'After the reverse sort list = {data[1]}')"
   ]
  },
  {
   "cell_type": "markdown",
   "metadata": {},
   "source": [
    "### Problem 3.8\n",
    "1. Show the current value of the first nested list from the `data` list"
   ]
  },
  {
   "cell_type": "code",
   "execution_count": 16,
   "metadata": {},
   "outputs": [
    {
     "name": "stdout",
     "output_type": "stream",
     "text": [
      "lists\n"
     ]
    }
   ],
   "source": [
    "print(data[1][0])"
   ]
  },
  {
   "cell_type": "markdown",
   "metadata": {},
   "source": [
    "### Problem 3.8\n",
    "1. Add 'hello' from the [34,'hello'] nested list to the end of the `data` list using bracket notation\n",
    ">- In other words, don't just append the string 'hello' but use indexing to grab 'hello' from the inner list and then append it to the `data` list"
   ]
  },
  {
   "cell_type": "code",
   "execution_count": 17,
   "metadata": {},
   "outputs": [
    {
     "name": "stdout",
     "output_type": "stream",
     "text": [
      "[5, ['lists', 'learning', 'am', 'I'], 'book', [34, 'hello'], True]\n",
      "[5, ['lists', 'learning', 'am', 'I'], 'book', [34, 'hello'], True, 'hello']\n"
     ]
    }
   ],
   "source": [
    "print(data)\n",
    "data.append(data[3][1])\n",
    "print(data)"
   ]
  },
  {
   "cell_type": "code",
   "execution_count": null,
   "metadata": {},
   "outputs": [],
   "source": []
  },
  {
   "cell_type": "markdown",
   "metadata": {},
   "source": [
    "# Section 4\n",
    "##  More `list` problems with some advanced features"
   ]
  },
  {
   "cell_type": "markdown",
   "metadata": {},
   "source": [
    "### Problem 4.1 \n",
    "1. Create a list, `numbers` with these elements: 0, 1, 2, 1, 2, 4, 5, 6, 6, 8, 9, 6, 6 \n",
    "2. Count how many times 6 appears in the `numbers` list "
   ]
  },
  {
   "cell_type": "code",
   "execution_count": 100,
   "metadata": {},
   "outputs": [
    {
     "data": {
      "text/plain": [
       "4"
      ]
     },
     "execution_count": 100,
     "metadata": {},
     "output_type": "execute_result"
    }
   ],
   "source": [
    "numbers = [0, 1, 2, 1, 2, 4, 5, 6, 6, 8, 9, 6, 6]\n",
    "numbers.count(6)"
   ]
  },
  {
   "cell_type": "markdown",
   "metadata": {},
   "source": [
    "### Problem 4.2 \n",
    "1. Remove the last item in the `numbers` list using the `pop()` method\n",
    "2. Print the list before and after applying the method"
   ]
  },
  {
   "cell_type": "code",
   "execution_count": 101,
   "metadata": {},
   "outputs": [
    {
     "name": "stdout",
     "output_type": "stream",
     "text": [
      "[0, 1, 2, 1, 2, 4, 5, 6, 6, 8, 9, 6, 6]\n",
      "[0, 1, 2, 1, 2, 4, 5, 6, 6, 8, 9, 6]\n"
     ]
    }
   ],
   "source": [
    "print(numbers)\n",
    "numbers.pop(-1)\n",
    "print(numbers)"
   ]
  },
  {
   "cell_type": "markdown",
   "metadata": {},
   "source": [
    "### Problem 4.3\n",
    "1. Remove the third item in the `numbers` list using the `pop()` method\n",
    "2. Print the list before and after applying the method"
   ]
  },
  {
   "cell_type": "code",
   "execution_count": 72,
   "metadata": {},
   "outputs": [
    {
     "name": "stdout",
     "output_type": "stream",
     "text": [
      "[0, 1, 2, 1, 2, 4, 5, 6, 6, 8, 9, 6]\n",
      "[0, 1, 1, 2, 4, 5, 6, 6, 8, 9, 6]\n"
     ]
    }
   ],
   "source": [
    "print(numbers)\n",
    "numbers.pop(2)\n",
    "print(numbers)"
   ]
  },
  {
   "cell_type": "markdown",
   "metadata": {},
   "source": [
    "### Problem 4.4\n",
    "1. Count how many times the character `'i'` appears in the first nested list of the `data` list"
   ]
  },
  {
   "cell_type": "code",
   "execution_count": 1,
   "metadata": {},
   "outputs": [
    {
     "ename": "NameError",
     "evalue": "name 'data' is not defined",
     "output_type": "error",
     "traceback": [
      "\u001b[1;31m---------------------------------------------------------------------------\u001b[0m",
      "\u001b[1;31mNameError\u001b[0m                                 Traceback (most recent call last)",
      "\u001b[1;32m<ipython-input-1-ece64d82aaad>\u001b[0m in \u001b[0;36m<module>\u001b[1;34m\u001b[0m\n\u001b[0;32m      1\u001b[0m \u001b[0mtotCount\u001b[0m \u001b[1;33m=\u001b[0m \u001b[1;36m0\u001b[0m\u001b[1;33m\u001b[0m\u001b[1;33m\u001b[0m\u001b[0m\n\u001b[1;32m----> 2\u001b[1;33m \u001b[1;32mfor\u001b[0m \u001b[0mi\u001b[0m \u001b[1;32min\u001b[0m \u001b[0mdata\u001b[0m\u001b[1;33m[\u001b[0m\u001b[1;33m-\u001b[0m\u001b[1;36m1\u001b[0m\u001b[1;33m]\u001b[0m\u001b[1;33m:\u001b[0m\u001b[1;33m\u001b[0m\u001b[1;33m\u001b[0m\u001b[0m\n\u001b[0m\u001b[0;32m      3\u001b[0m     \u001b[0mtotCount\u001b[0m \u001b[1;33m+=\u001b[0m \u001b[0mi\u001b[0m\u001b[1;33m.\u001b[0m\u001b[0mcount\u001b[0m\u001b[1;33m(\u001b[0m\u001b[1;34m'i'\u001b[0m\u001b[1;33m)\u001b[0m\u001b[1;33m\u001b[0m\u001b[1;33m\u001b[0m\u001b[0m\n",
      "\u001b[1;31mNameError\u001b[0m: name 'data' is not defined"
     ]
    }
   ],
   "source": [
    "totCount = 0\n",
    "for i in data[-1]:\n",
    "    totCount += i.count('i')"
   ]
  },
  {
   "cell_type": "code",
   "execution_count": null,
   "metadata": {},
   "outputs": [],
   "source": []
  },
  {
   "cell_type": "markdown",
   "metadata": {},
   "source": [
    "### Problem 4.5\n",
    "#### Introducing list comprehensions\n",
    "\n",
    "An advanced feature if Python lists is called *list comprehension*. \n",
    "<br> List comprehensions allow us to build lists quickly on fewer lines than using a `for` loop and `append()`\n",
    "\n",
    "<br>1. Using list comprehension, create a list, `newlist`, that is a list of numbers from 0-20"
   ]
  },
  {
   "cell_type": "code",
   "execution_count": 122,
   "metadata": {},
   "outputs": [
    {
     "name": "stdout",
     "output_type": "stream",
     "text": [
      "[0, 1, 2, 3, 4, 5, 6, 7, 8, 9, 10, 11, 12, 13, 14, 15, 16, 17, 18, 19, 20]\n"
     ]
    }
   ],
   "source": [
    "newList = []\n",
    "\n",
    "for i in range(21):\n",
    "    newList.append(i)\n",
    "\n",
    "print(newList)"
   ]
  },
  {
   "cell_type": "markdown",
   "metadata": {},
   "source": [
    "### Problem 4.6\n",
    "Using conditional statements in a list comprehension\n",
    "\n",
    "<br> 1. Using list comprehension, create a list, `evens`, that is a list of the even numbers from 0-20"
   ]
  },
  {
   "cell_type": "code",
   "execution_count": 123,
   "metadata": {},
   "outputs": [
    {
     "name": "stdout",
     "output_type": "stream",
     "text": [
      "[0, 2, 4, 6, 8, 10, 12, 14, 16, 18, 20]\n"
     ]
    }
   ],
   "source": [
    "evens = []\n",
    "\n",
    "for i in range(21):\n",
    "    if i % 2 == 0:\n",
    "        evens.append(i)\n",
    "    else:\n",
    "        continue\n",
    "        \n",
    "print(evens)"
   ]
  },
  {
   "cell_type": "markdown",
   "metadata": {},
   "source": [
    "### Problem 4.7\n",
    "Using conditional statements in a list comprehension\n",
    "\n",
    "<br>1. Using list comprehension, create a list, `evenodd`, that is a list that shows which numbers are 'Even' or 'Odd' from 0-20\n",
    ">- The list elements should only be the string values of 'Even' or 'Odd'. For example `['Even','Odd','Even','Odd'...]`"
   ]
  },
  {
   "cell_type": "code",
   "execution_count": 128,
   "metadata": {},
   "outputs": [
    {
     "name": "stdout",
     "output_type": "stream",
     "text": [
      "['Even', 'Odd', 'Even', 'Odd', 'Even', 'Odd', 'Even', 'Odd', 'Even', 'Odd', 'Even', 'Odd', 'Even', 'Odd', 'Even', 'Odd', 'Even', 'Odd', 'Even', 'Odd', 'Even']\n"
     ]
    }
   ],
   "source": [
    "evenodd = []\n",
    "\n",
    "for i in range(21):\n",
    "    if i % 2 == 0:\n",
    "        evenodd.append('Even')\n",
    "    else:\n",
    "        evenodd.append('Odd')\n",
    "\n",
    "print(evenodd)"
   ]
  },
  {
   "cell_type": "markdown",
   "metadata": {},
   "source": [
    "### Problem 4.8\n",
    "1. Write the equivalent `for` loop to create the `evenodd` list from problem `4.7`\n",
    ">- The list elements should only be the string values of 'Even' or 'Odd'. For example `['Even','Odd','Even','Odd'...]`"
   ]
  },
  {
   "cell_type": "code",
   "execution_count": null,
   "metadata": {},
   "outputs": [],
   "source": []
  },
  {
   "cell_type": "markdown",
   "metadata": {},
   "source": [
    "### Problem 4.9\n",
    "\n",
    "1. Using list comprehension, create a list, `numsq` of the squares of a `nums = [2,4,5,6]` list\n"
   ]
  },
  {
   "cell_type": "code",
   "execution_count": 127,
   "metadata": {},
   "outputs": [
    {
     "name": "stdout",
     "output_type": "stream",
     "text": [
      "[4, 16, 25, 36]\n"
     ]
    }
   ],
   "source": [
    "nums = [2,4,5,6]\n",
    "numsq =[]\n",
    "\n",
    "for i in nums:\n",
    "    numsq.append(i**2)\n",
    "\n",
    "print(numsq)"
   ]
  },
  {
   "cell_type": "markdown",
   "metadata": {},
   "source": [
    "<a id='Top Page'></a>[Back to Top](#Week-5)"
   ]
  }
 ],
 "metadata": {
  "kernelspec": {
   "display_name": "Python 3",
   "language": "python",
   "name": "python3"
  },
  "language_info": {
   "codemirror_mode": {
    "name": "ipython",
    "version": 3
   },
   "file_extension": ".py",
   "mimetype": "text/x-python",
   "name": "python",
   "nbconvert_exporter": "python",
   "pygments_lexer": "ipython3",
   "version": "3.8.3"
  }
 },
 "nbformat": 4,
 "nbformat_minor": 2
}
