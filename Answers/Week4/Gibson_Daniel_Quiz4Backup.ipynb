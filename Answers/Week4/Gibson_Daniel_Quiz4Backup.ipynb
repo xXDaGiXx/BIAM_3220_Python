{
 "cells": [
  {
   "cell_type": "markdown",
   "metadata": {
    "azdata_cell_guid": "321fbf52-838c-4cae-9922-bcff34ee4882"
   },
   "source": [
    "# BAIM 3220: Introduction to Python\n",
    "## Quiz #4: Control Flow: Loops and Functions\n",
    "## After downloading this .ipynb file from Canvas, resave with the following naming format:\n",
    ">- LastName_FirstName_Quiz4.ipynb\n",
    "\n",
    "\n",
    "## When you are ready to submit your quiz, upload your .ipynb file to the Quiz#4 dropbox on Canvas\n",
    ">- Note: You need to complete the M/C,T/F, fill in the blank questions on the Canvas quiz AND upload this file before the quiz time is up"
   ]
  },
  {
   "cell_type": "markdown",
   "metadata": {
    "azdata_cell_guid": "121583af-4668-4889-b74c-86f4d006dbf8"
   },
   "source": [
    "# Q1 (3 points)\n",
    "## Task: create a `for` loop that will store the squares of all numbers in a list variable provided. \n",
    "### Specifications:\n",
    "1. The numbers variable is defined as: `numbers = [1,2,4,5,12,25] `\n",
    "2. You must use a `for` loop in this question to iterate through the numbers list to produce the values stored in the sq list. \n",
    "3. Store the squares of all the numbers in, `numbers`, in a new list variable named, `sq`.\n",
    "4. Print what is currently stored in the `sq` variable at each iteration of the loop.\n",
    "\n",
    "#The following should start your code:\n",
    "\n",
    "`numbers = [1, 2, 4, 5, 12, 25] `"
   ]
  },
  {
   "cell_type": "code",
   "execution_count": 194,
   "metadata": {
    "azdata_cell_guid": "a7ba164b-0092-4921-af40-99ab31b13937"
   },
   "outputs": [
    {
     "name": "stdout",
     "output_type": "stream",
     "text": [
      "[1]\n",
      "[1, 4]\n",
      "[1, 4, 16]\n",
      "[1, 4, 16, 25]\n",
      "[1, 4, 16, 25, 144]\n",
      "[1, 4, 16, 25, 144, 625]\n"
     ]
    }
   ],
   "source": [
    "numbers = [1,2,4,5,12,25]\n",
    "sq = []\n",
    "\n",
    "for i in numbers:\n",
    "    sq.append(i ** 2)\n",
    "    print(sq)"
   ]
  },
  {
   "cell_type": "markdown",
   "metadata": {
    "azdata_cell_guid": "470d3874-cd93-4d41-97ea-e3734c95aa33"
   },
   "source": [
    "# Q2 (3 points)\n",
    "## Task: write a `while` loop that will return the following output:\n",
    "\n",
    "\n",
    "The count is 1\n",
    "<br>The count is 2\n",
    "<br>The count is 3\n",
    "<br>The count is 4\n",
    "<br>The count is 5\n",
    "<br>The count is 6\n",
    "<br>The count is 7\n",
    "<br>The count is 8\n",
    "<br>The count is 9\n",
    "<br>Good bye!"
   ]
  },
  {
   "cell_type": "code",
   "execution_count": 195,
   "metadata": {
    "azdata_cell_guid": "547a13d0-1306-41ff-b712-9b08b9dda1f0"
   },
   "outputs": [
    {
     "name": "stdout",
     "output_type": "stream",
     "text": [
      "The count is 1\n",
      "The count is 2\n",
      "The count is 3\n",
      "The count is 4\n",
      "The count is 5\n",
      "The count is 6\n",
      "The count is 7\n",
      "The count is 8\n",
      "The count is 9\n",
      "Good bye!\n"
     ]
    }
   ],
   "source": [
    "count = 0\n",
    "while count < 9:\n",
    "    count += 1\n",
    "    print(f'The count is {count}')\n",
    "    \n",
    "print('Good bye!')"
   ]
  },
  {
   "cell_type": "markdown",
   "metadata": {
    "azdata_cell_guid": "29622bf8-b77d-4825-a4c3-d4cf6a6fce52"
   },
   "source": [
    "# Q3 (6 points)\n",
    "## Task: Create a while loop that checks for a user name and password and never stops asking until the correct password is entered.\n",
    "## Specifications: your program should:\n",
    "1. Ask a user for their name and store the value in a variable labeled, name.\n",
    "2. Print a statement that says:  \"Hi,  {userName}, what is the password?\"\n",
    ">- Note: the print statement should use the value inputted by a user not the literal {userName} given above\n",
    "3. Prompt a user to input a password variable named, password. \n",
    "4. If the password matches the value, 'codingrulz', print 'Access Granted!' and exit the loop\n",
    "5. If the password does not match, 'codingrulz', print 'Access denied, try again' and restart the code.\n",
    "6. Finally, on the last line of output, print: \"Have a good rest of your week, {userName}, see you Monday!\"\n"
   ]
  },
  {
   "cell_type": "code",
   "execution_count": 196,
   "metadata": {
    "azdata_cell_guid": "0eb1b6a8-ada5-412b-a4ba-21914bf949d7"
   },
   "outputs": [
    {
     "name": "stdout",
     "output_type": "stream",
     "text": [
      "What is your user name: Dan\n",
      "Hi, Dan, what is the password? a\n",
      "Access Denied!\n",
      "Hi, Dan, what is the password? f\n",
      "Access Denied!\n",
      "Hi, Dan, what is the password? codingrulz\n",
      "Access Granted!\n",
      "Have a good rest of your week, Dan, see you Monday!\n"
     ]
    }
   ],
   "source": [
    "pass_check = True\n",
    "name = input(\"What is your user name: \")\n",
    "while pass_check:\n",
    "    password = input(f'Hi, {name}, what is the password? ')\n",
    "    if password == 'codingrulz':\n",
    "        print('Access Granted!')\n",
    "        pass_cheack = False\n",
    "        break\n",
    "    else:\n",
    "        print('Access Denied!')\n",
    "print(f'Have a good rest of your week, {name}, see you Monday!')"
   ]
  },
  {
   "cell_type": "markdown",
   "metadata": {
    "azdata_cell_guid": "6c669aea-efba-409f-b1d7-4976540b09e0"
   },
   "source": [
    "# Q4 (9 points)\n",
    "\n",
    "## Create a function to calculate an employees total weekly pay\n",
    "\n",
    "## Specifications: your program should:\n",
    "1. Create a function named, `pay`\n",
    "2. It should prompt the user to input how many regular hours and overtime hours they work\n",
    "3. An employees total weekly pay equals the hourly wage multiplied by the total number of regular hours plus any overtime pay\n",
    " >- Overtime pay equals the total overtime hours multiplied by 1.5 times the hourly wage \n",
    ">-  The hourly wage is $12 a hour\n",
    "4. The function should return the total pay for the employee as a float data type"
   ]
  },
  {
   "cell_type": "code",
   "execution_count": 197,
   "metadata": {
    "azdata_cell_guid": "0e10a2da-ed65-40ec-b1d0-51513a357e07"
   },
   "outputs": [],
   "source": [
    "def pay():\n",
    "    hours = float(input('How many normal hours did you work? '))\n",
    "    ot = float(input('How many overtime hours did you work? '))\n",
    "    weekPay = (hours * 12) + (ot * 18)\n",
    "    return weekPay"
   ]
  },
  {
   "cell_type": "markdown",
   "metadata": {
    "azdata_cell_guid": "8e186637-4f72-4f6c-9127-b5c5e2f82d54"
   },
   "source": [
    "### Call your function below\n",
    ">- Enter 40 hours for regular hours\n",
    ">- Enter 10 hours for overtime hours"
   ]
  },
  {
   "cell_type": "code",
   "execution_count": 198,
   "metadata": {
    "azdata_cell_guid": "515001f3-1e70-4243-b9e0-7efbabdbfe38"
   },
   "outputs": [
    {
     "name": "stdout",
     "output_type": "stream",
     "text": [
      "How many normal hours did you work? 40\n",
      "How many overtime hours did you work? 10\n"
     ]
    },
    {
     "data": {
      "text/plain": [
       "660.0"
      ]
     },
     "execution_count": 198,
     "metadata": {},
     "output_type": "execute_result"
    }
   ],
   "source": [
    "pay()"
   ]
  },
  {
   "cell_type": "markdown",
   "metadata": {
    "azdata_cell_guid": "c3c9ac25-af13-4832-b9bf-665fdbf2010c"
   },
   "source": [
    "# Q5 (12 points)\n",
    "\n",
    "## Create a function to calculate the sum of a sequence of numbers from a lower bound and through a upper bound\n",
    "\n",
    "## Specifications: your program should:\n",
    "1. Create a function named, `summation`\n",
    "2. Prompt the user to enter the lower bound and upper bound of a range of numbers to sum\n",
    "2. Calculate and return the sum of all numbers between the lower and upper bound \n",
    ">- Note: The upper and lower bounds are inclusive"
   ]
  },
  {
   "cell_type": "code",
   "execution_count": 91,
   "metadata": {
    "azdata_cell_guid": "aa0f393d-1baa-4dcd-adce-28d39d1806cc"
   },
   "outputs": [],
   "source": [
    "def summation():\n",
    "    summ = 0\n",
    "    lowB = int(input('What is your lower bound? '))\n",
    "    upperB = int(input('What is your upper bound? '))\n",
    "    return sum(range(lowB,upperB+1))"
   ]
  },
  {
   "cell_type": "markdown",
   "metadata": {
    "azdata_cell_guid": "cae535a3-9630-4e5c-8458-eb2937eb270b"
   },
   "source": [
    "### Call your function below\n",
    ">- Use 1 for your lower bound\n",
    ">- Use 10 for your upper bound\n"
   ]
  },
  {
   "cell_type": "code",
   "execution_count": 200,
   "metadata": {
    "azdata_cell_guid": "9bdad8ab-296f-424b-9638-d94d930b34c8"
   },
   "outputs": [
    {
     "name": "stdout",
     "output_type": "stream",
     "text": [
      "What is your lower bound? 1\n",
      "What is your upper bound? 10\n"
     ]
    },
    {
     "data": {
      "text/plain": [
       "55"
      ]
     },
     "execution_count": 200,
     "metadata": {},
     "output_type": "execute_result"
    }
   ],
   "source": [
    "summation()"
   ]
  },
  {
   "cell_type": "markdown",
   "metadata": {
    "azdata_cell_guid": "265cf521-064d-44d8-ab90-74f4fa7b1604"
   },
   "source": [
    "# Q6 (12 points)\n",
    "# List Append Square Function\n",
    ">- Write a function named, `square`, that when passed a list of numbers as the parameter will return a list of squares of the integers stored in the original list. \n",
    ">- For example, your function when passed the list [1,2,3,4] would return the list [1,4,9,16]."
   ]
  },
  {
   "cell_type": "code",
   "execution_count": 202,
   "metadata": {
    "azdata_cell_guid": "4ad79364-7757-4b3f-9a51-0fad16a42436"
   },
   "outputs": [],
   "source": [
    "def square(aList):\n",
    "    for i in aList:\n",
    "        aList[i-1] = pow(i,2)\n",
    "    return aList"
   ]
  },
  {
   "cell_type": "markdown",
   "metadata": {
    "azdata_cell_guid": "c505eb8b-810b-4e66-9493-498ffb0ea12e"
   },
   "source": [
    "#### In the next cell, pass the list `[1,2,3,4]` to your `square` function and show the output. "
   ]
  },
  {
   "cell_type": "code",
   "execution_count": 203,
   "metadata": {
    "azdata_cell_guid": "726ee1a6-9ce2-4243-9046-32408c5b4794"
   },
   "outputs": [
    {
     "data": {
      "text/plain": [
       "[1, 4, 9, 16]"
      ]
     },
     "execution_count": 203,
     "metadata": {},
     "output_type": "execute_result"
    }
   ],
   "source": [
    "square([1,2,3,4])\n"
   ]
  },
  {
   "cell_type": "markdown",
   "metadata": {
    "azdata_cell_guid": "404088e3-9470-4b92-bf46-f5c29492ce87"
   },
   "source": [
    "# Q7 (12 points)\n",
    "## Task: Create a function to return customer level\n",
    "1. Create a function for returning a customer level based on revenue. The customer levels are:\n",
    ">- Bronze (<250,000 in revenue)\n",
    ">- Silver (>=250,000 but < 500,000 in revenue)\n",
    ">- Gold (>=500,000 but < 750,000 in revenue)\n",
    ">- Platinum (>=750,000 in revenue)\n",
    "\n",
    "2. Call your function 4 times and pass these values to it to check that your function returns the correct output:\n",
    ">- 200,000\n",
    ">- 300,000\n",
    ">- 600,000\n",
    ">- 1,000,000"
   ]
  },
  {
   "cell_type": "code",
   "execution_count": 205,
   "metadata": {
    "azdata_cell_guid": "e596eb80-7891-49fe-a5e6-55230801b7cd"
   },
   "outputs": [],
   "source": [
    "#Write your function in this cell\n",
    "def custLvl(rev):\n",
    "    if rev < 250000:\n",
    "        return('Bronze')\n",
    "    elif rev >= 250000 and rev < 500000:\n",
    "        return('Silver')\n",
    "    elif rev >= 500000 and rev < 750000:\n",
    "        return('Gold')\n",
    "    else:\n",
    "        return('Platinum')\n",
    "        "
   ]
  },
  {
   "cell_type": "markdown",
   "metadata": {
    "azdata_cell_guid": "9d8fe99b-3141-43cb-bd2c-b0457a971d9b"
   },
   "source": [
    "#### Write your calls to the function with the 4 values given in step 2 above in the next cell\n",
    "#### Note: your code here to call all the values should output all 4 customer levels \n",
    ">- That is, print out what is returned for all 4 values in the next cell"
   ]
  },
  {
   "cell_type": "code",
   "execution_count": 206,
   "metadata": {
    "azdata_cell_guid": "2fcf5f6a-fe98-4dd8-b7eb-a899a954b127"
   },
   "outputs": [
    {
     "name": "stdout",
     "output_type": "stream",
     "text": [
      "Bronze\n",
      "Silver\n",
      "Gold\n",
      "Platinum\n"
     ]
    }
   ],
   "source": [
    "print(custLvl(200000))\n",
    "\n",
    "print(custLvl(300000))\n",
    "\n",
    "print(custLvl(600000))\n",
    "\n",
    "print(custLvl(1000000))"
   ]
  },
  {
   "cell_type": "markdown",
   "metadata": {
    "azdata_cell_guid": "df4b9579-1ab6-4eac-8dca-e0c1e91d1124"
   },
   "source": [
    "# Q8 (12 points)\n",
    "## Write Python code to define a function called, `divide`, that will divide two numbers. \n",
    "## Specifications:\n",
    ">- Use two parameters in your function named: a and b\n",
    ">>- a will be the numerator\n",
    ">>- b will be the denominator\n",
    ">- Include code that will handle the possibility that a user will pass a value of 0 to the denominator.\n",
    ">- In your exception handling code, tell the user \"Cannot divide by 0, please enter non-zero denominator for second value\""
   ]
  },
  {
   "cell_type": "code",
   "execution_count": 54,
   "metadata": {},
   "outputs": [],
   "source": [
    "def divide(a,b):\n",
    "    try:\n",
    "        return (a / b)\n",
    "    except ZeroDivisionError:\n",
    "        print('Cannot divide by 0, please enter a non-zero denominator for the second parameter')"
   ]
  },
  {
   "cell_type": "markdown",
   "metadata": {},
   "source": [
    "### Call your `divide` function in the next cell and pass the following values to your function\n",
    ">- a = 10\n",
    ">- b = 2\n",
    "\n",
    "Run the cell to show the output"
   ]
  },
  {
   "cell_type": "code",
   "execution_count": 207,
   "metadata": {},
   "outputs": [
    {
     "data": {
      "text/plain": [
       "5.0"
      ]
     },
     "execution_count": 207,
     "metadata": {},
     "output_type": "execute_result"
    }
   ],
   "source": [
    "divide(10,2)"
   ]
  },
  {
   "cell_type": "markdown",
   "metadata": {},
   "source": [
    "### Call your `divide` function in the next cell and pass the following values to your function\n",
    ">- a = 10\n",
    ">- b = 0\n",
    "\n",
    "Run the cell to show the output"
   ]
  },
  {
   "cell_type": "code",
   "execution_count": 208,
   "metadata": {},
   "outputs": [
    {
     "name": "stdout",
     "output_type": "stream",
     "text": [
      "Cannot divide by 0, please enter a non-zero denominator for the second parameter\n"
     ]
    }
   ],
   "source": [
    "divide(10,0)"
   ]
  }
 ],
 "metadata": {
  "kernelspec": {
   "display_name": "Python 3",
   "language": "python",
   "name": "python3"
  },
  "language_info": {
   "codemirror_mode": {
    "name": "ipython",
    "version": 3
   },
   "file_extension": ".py",
   "mimetype": "text/x-python",
   "name": "python",
   "nbconvert_exporter": "python",
   "pygments_lexer": "ipython3",
   "version": "3.8.3"
  }
 },
 "nbformat": 4,
 "nbformat_minor": 2
}
